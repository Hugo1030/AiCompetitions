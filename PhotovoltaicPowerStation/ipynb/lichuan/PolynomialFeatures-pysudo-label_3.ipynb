{
 "cells": [
  {
   "cell_type": "code",
   "execution_count": 1,
   "metadata": {},
   "outputs": [],
   "source": [
    "import pandas as pd\n",
    "import numpy as np\n",
    "import lightgbm as lgb\n",
    "import scipy as sp\n",
    "from bayes_opt import BayesianOptimization"
   ]
  },
  {
   "cell_type": "code",
   "execution_count": 2,
   "metadata": {},
   "outputs": [],
   "source": [
    "from sklearn.model_selection import train_test_split, cross_val_score, KFold\n",
    "from sklearn.ensemble import GradientBoostingRegressor"
   ]
  },
  {
   "cell_type": "markdown",
   "metadata": {},
   "source": [
    "# PolynomialFeatures"
   ]
  },
  {
   "cell_type": "code",
   "execution_count": 3,
   "metadata": {},
   "outputs": [],
   "source": [
    "train_data=pd.read_csv('train_data_li.csv')\n",
    "test_data=pd.read_csv('test_data_li.csv')"
   ]
  },
  {
   "cell_type": "code",
   "execution_count": 20,
   "metadata": {},
   "outputs": [],
   "source": [
    "def lgb_eval(num_leaves,\n",
    "             min_data,\n",
    "             sub_feature,\n",
    "             eta,\n",
    "             learning_rate\n",
    "            ):\n",
    "\n",
    "    params['num_leaves'] = int(round(num_leaves))\n",
    "    params['min_data'] = int(min_data)\n",
    "    params['sub_feature'] = max(min(sub_feature, 1), 0)\n",
    "    params['eta'] = float(eta)\n",
    "    params['learning_rate'] = float(learning_rate)\n",
    "    \n",
    "    gbm = lgb.train(params, lgb_train, 4000)\n",
    "    \n",
    "    pred = gbm.predict(X_test)\n",
    "    rmsetmp = sp.sqrt(sp.mean((y_test - pred) ** 2))\n",
    "    score = 1 / (1 + rmsetmp)\n",
    "    return score"
   ]
  },
  {
   "cell_type": "code",
   "execution_count": 22,
   "metadata": {},
   "outputs": [],
   "source": [
    "lgbBO = BayesianOptimization(lgb_eval, {'num_leaves': (20, 200),\n",
    "                                        'min_data': (10, 80),\n",
    "                                        'sub_feature': (0.3, 1),\n",
    "                                        'eta':(0.1,0.9),\n",
    "                                        'learning_rate':(0.001,0.1)\n",
    "                                       })"
   ]
  },
  {
   "cell_type": "code",
   "execution_count": 23,
   "metadata": {},
   "outputs": [],
   "source": [
    "if __name__ == '__main__':\n",
    "    num_rounds = 4000\n",
    "    random_state = 42\n",
    "    num_iter = 25\n",
    "    init_points = 5\n",
    "    params = {\n",
    "        'objective': 'regression',\n",
    "        'boosting_type': 'gbdt',\n",
    "        'metric': 'rmse',\n",
    "        'min_hessian': 1,\n",
    "        'verbose': -1\n",
    "    }"
   ]
  },
  {
   "cell_type": "code",
   "execution_count": 15,
   "metadata": {},
   "outputs": [],
   "source": [
    "best_submit=pd.read_csv('submit/result_20180810c_ensemble.csv',header=None)\n",
    "best_submit.columns=['id','power_generation']"
   ]
  },
  {
   "cell_type": "code",
   "execution_count": 17,
   "metadata": {},
   "outputs": [],
   "source": [
    "test_data['power_generation']=best_submit['power_generation']"
   ]
  },
  {
   "cell_type": "code",
   "execution_count": 24,
   "metadata": {},
   "outputs": [],
   "source": [
    "\n",
    "train_test=pd.concat([train_data,test_data],axis=0)"
   ]
  },
  {
   "cell_type": "code",
   "execution_count": 25,
   "metadata": {},
   "outputs": [],
   "source": [
    "train_test.reset_index(inplace=True)\n",
    "del train_test['index']"
   ]
  },
  {
   "cell_type": "code",
   "execution_count": 26,
   "metadata": {},
   "outputs": [],
   "source": [
    "X_train, y_train=train_test[500:].drop(['power_generation','ID'], axis=1),train_test[500:]['power_generation']\n",
    "X_test, y_test=train_test[:500].drop(['power_generation','ID'], axis=1),train_test[:500]['power_generation']                                                                       "
   ]
  },
  {
   "cell_type": "code",
   "execution_count": 27,
   "metadata": {},
   "outputs": [],
   "source": [
    "lgb_train = lgb.Dataset(X_train, y_train)\n",
    "lgb_test = lgb.Dataset(X_test, y_test)"
   ]
  },
  {
   "cell_type": "code",
   "execution_count": null,
   "metadata": {},
   "outputs": [
    {
     "name": "stdout",
     "output_type": "stream",
     "text": [
      "\u001b[31mInitialization\u001b[0m\n",
      "\u001b[94m-------------------------------------------------------------------------------------------------------\u001b[0m\n",
      " Step |   Time |      Value |       eta |   learning_rate |   min_data |   num_leaves |   sub_feature | \n",
      "    1 | 02m38s | \u001b[35m   0.92497\u001b[0m | \u001b[32m   0.3806\u001b[0m | \u001b[32m         0.0614\u001b[0m | \u001b[32m   24.6263\u001b[0m | \u001b[32m    180.4317\u001b[0m | \u001b[32m       0.9474\u001b[0m | \n",
      "    2 | 00m41s | \u001b[35m   0.92822\u001b[0m | \u001b[32m   0.3740\u001b[0m | \u001b[32m         0.0988\u001b[0m | \u001b[32m   70.9536\u001b[0m | \u001b[32m     45.6755\u001b[0m | \u001b[32m       0.3690\u001b[0m | \n",
      "    3 | 02m18s |    0.92399 |    0.5555 |          0.0039 |    56.7573 |     165.2152 |        0.9636 | \n",
      "    4 | 02m33s |    0.92064 |    0.6912 |          0.0434 |    48.5773 |     184.7577 |        0.9840 | \n"
     ]
    }
   ],
   "source": [
    "#再次贝叶斯优化\n",
    "lgbBO.maximize(init_points=init_points, n_iter=num_iter)"
   ]
  },
  {
   "cell_type": "code",
   "execution_count": null,
   "metadata": {},
   "outputs": [],
   "source": [
    "#加上伪标签找到最优参数\n",
    " 2 | 00m41s |    0.92822 |    0.3740 |          0.0988 |    70.9536 |      45.6755 |        0.3690 | "
   ]
  },
  {
   "cell_type": "code",
   "execution_count": 59,
   "metadata": {},
   "outputs": [],
   "source": [
    "X_train, y_train=train_test.drop(['power_generation','ID'],axis=1),train_test['power_generation']\n",
    "subdata=train_test[9000:].drop(['power_generation','ID'],axis=1)#测试数据"
   ]
  },
  {
   "cell_type": "code",
   "execution_count": 63,
   "metadata": {},
   "outputs": [],
   "source": [
    "sub_data=train_test[9000:].drop(['power_generation','ID'],axis=1)"
   ]
  },
  {
   "cell_type": "code",
   "execution_count": 60,
   "metadata": {},
   "outputs": [],
   "source": [
    "lgb_train = lgb.Dataset(X_train, y_train)\n",
    "#subdata = lgb.Dataset(subdata)"
   ]
  },
  {
   "cell_type": "code",
   "execution_count": 61,
   "metadata": {},
   "outputs": [],
   "source": [
    "params = {\n",
    "        'eta':  0.3740,\n",
    "        'learning_rate': 0.0988,\n",
    "        'objective': 'regression',\n",
    "        'boosting_type': 'gbdt',\n",
    "        'metric': 'rmse',\n",
    "        'min_hessian': 1,\n",
    "        'verbose': -1,\n",
    "        'num_leaves':70,\n",
    "        'min_data':45,\n",
    "        'sub_feature': 0.3690 \n",
    "    \n",
    "    }\n",
    "gbm = lgb.train(params, lgb_train, 4000)"
   ]
  },
  {
   "cell_type": "code",
   "execution_count": 64,
   "metadata": {},
   "outputs": [],
   "source": [
    "pred3 = gbm.predict(sub_data)"
   ]
  },
  {
   "cell_type": "code",
   "execution_count": 79,
   "metadata": {},
   "outputs": [],
   "source": [
    "\n",
    "ensem=pd.read_csv('submit/result_20180810c_ensemble.csv',header=None)"
   ]
  },
  {
   "cell_type": "code",
   "execution_count": 81,
   "metadata": {},
   "outputs": [],
   "source": [
    "ensem.columns=['id','power']"
   ]
  },
  {
   "cell_type": "code",
   "execution_count": 84,
   "metadata": {},
   "outputs": [],
   "source": [
    "#对一下和线上最好成绩的差距\n",
    "rmsetmp1 = sp.sqrt(sp.mean((ensem['power'].values - pred3) ** 2))\n",
    "score1 = 1 / (1 + rmsetmp1)"
   ]
  },
  {
   "cell_type": "code",
   "execution_count": 86,
   "metadata": {},
   "outputs": [
    {
     "data": {
      "text/plain": [
       "0.037244933763835655"
      ]
     },
     "execution_count": 86,
     "metadata": {},
     "output_type": "execute_result"
    }
   ],
   "source": [
    "rmsetmp1"
   ]
  },
  {
   "cell_type": "code",
   "execution_count": 87,
   "metadata": {},
   "outputs": [],
   "source": [
    "submit_data=pd.read_csv('submit_example.csv',header=None)\n",
    "submit_data.columns=['ID','power_generation']"
   ]
  },
  {
   "cell_type": "code",
   "execution_count": 88,
   "metadata": {},
   "outputs": [],
   "source": [
    "submit_data['power_generation']=pred3\n",
    "submit_data.to_csv('submit/result_0817_lgbm_pesudo_1.csv',index=False, header=None) "
   ]
  }
 ],
 "metadata": {
  "hide_input": false,
  "kernelspec": {
   "display_name": "Python 3",
   "language": "python",
   "name": "python3"
  },
  "language_info": {
   "codemirror_mode": {
    "name": "ipython",
    "version": 3
   },
   "file_extension": ".py",
   "mimetype": "text/x-python",
   "name": "python",
   "nbconvert_exporter": "python",
   "pygments_lexer": "ipython3",
   "version": "3.6.4"
  },
  "toc": {
   "base_numbering": 1,
   "nav_menu": {},
   "number_sections": true,
   "sideBar": true,
   "skip_h1_title": false,
   "title_cell": "Table of Contents",
   "title_sidebar": "Contents",
   "toc_cell": false,
   "toc_position": {},
   "toc_section_display": true,
   "toc_window_display": false
  },
  "varInspector": {
   "cols": {
    "lenName": 16,
    "lenType": 16,
    "lenVar": 40
   },
   "kernels_config": {
    "python": {
     "delete_cmd_postfix": "",
     "delete_cmd_prefix": "del ",
     "library": "var_list.py",
     "varRefreshCmd": "print(var_dic_list())"
    },
    "r": {
     "delete_cmd_postfix": ") ",
     "delete_cmd_prefix": "rm(",
     "library": "var_list.r",
     "varRefreshCmd": "cat(var_dic_list()) "
    }
   },
   "types_to_exclude": [
    "module",
    "function",
    "builtin_function_or_method",
    "instance",
    "_Feature"
   ],
   "window_display": false
  }
 },
 "nbformat": 4,
 "nbformat_minor": 2
}
