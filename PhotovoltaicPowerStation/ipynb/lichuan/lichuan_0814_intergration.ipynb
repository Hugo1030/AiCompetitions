{
 "cells": [
  {
   "cell_type": "markdown",
   "metadata": {},
   "source": [
    "### 对全部思路和解法进行重构\n",
    "- 读取文件, 并将训练/测试集合并成一个大表来进行处理\n",
    "- 数据清洗\n",
    "    - 先针对离群点进行处理, 将离群点使用上下均值替换\n",
    "    - 找到 0 值\n",
    "- 然后做特征工程\n",
    "    - 过去 10 个月的均值\n",
    "    - 电阻\n",
    "    - 二项式\n",
    "- 使用 cv 划分训练测试集, 求取 cv=5 的平均 mse/score 值\n",
    "- 使用 stacking 来构建模型"
   ]
  },
  {
   "cell_type": "code",
   "execution_count": 1,
   "metadata": {
    "collapsed": true
   },
   "outputs": [],
   "source": [
    "import numpy as np\n",
    "import pandas as pd\n",
    "import matplotlib.pyplot as plt\n",
    "%matplotlib inline"
   ]
  },
  {
   "cell_type": "markdown",
   "metadata": {},
   "source": [
    "## 读取文件并连接"
   ]
  },
  {
   "cell_type": "code",
   "execution_count": 2,
   "metadata": {},
   "outputs": [
    {
     "name": "stdout",
     "output_type": "stream",
     "text": [
      "clean_data.csv     public.test.csv    submit_example.csv train_data.csv\r\n",
      "cleaned_data.csv   public.train.csv   test_data.csv\r\n"
     ]
    }
   ],
   "source": [
    "!ls ../../raw"
   ]
  },
  {
   "cell_type": "code",
   "execution_count": 14,
   "metadata": {
    "collapsed": true
   },
   "outputs": [],
   "source": [
    "# 读取文件并合并\n",
    "def concat_data(train_set, test_set):\n",
    "    df_train = pd.read_csv(train_set)\n",
    "    df_test = pd.read_csv(test_set)\n",
    "    \n",
    "    # 训练测试集合并成一个表进行处理\n",
    "    df_all = pd.concat([df_train, df_test], sort=True).sort_values('ID').reset_index().drop('index', axis=1)\n",
    "    \n",
    "    return df_all"
   ]
  },
  {
   "cell_type": "code",
   "execution_count": 15,
   "metadata": {
    "collapsed": true
   },
   "outputs": [],
   "source": [
    "df_train = '../../raw/public.train.csv'\n",
    "df_test = '../../raw/public.test.csv'"
   ]
  },
  {
   "cell_type": "code",
   "execution_count": 17,
   "metadata": {
    "collapsed": true
   },
   "outputs": [],
   "source": [
    "df_all = concat_data(df_train, df_test)"
   ]
  },
  {
   "cell_type": "code",
   "execution_count": 18,
   "metadata": {},
   "outputs": [
    {
     "data": {
      "text/html": [
       "<div>\n",
       "<style scoped>\n",
       "    .dataframe tbody tr th:only-of-type {\n",
       "        vertical-align: middle;\n",
       "    }\n",
       "\n",
       "    .dataframe tbody tr th {\n",
       "        vertical-align: top;\n",
       "    }\n",
       "\n",
       "    .dataframe thead th {\n",
       "        text-align: right;\n",
       "    }\n",
       "</style>\n",
       "<table border=\"1\" class=\"dataframe\">\n",
       "  <thead>\n",
       "    <tr style=\"text-align: right;\">\n",
       "      <th></th>\n",
       "      <th>ID</th>\n",
       "      <th>光照强度</th>\n",
       "      <th>功率A</th>\n",
       "      <th>功率B</th>\n",
       "      <th>功率C</th>\n",
       "      <th>发电量</th>\n",
       "      <th>平均功率</th>\n",
       "      <th>板温</th>\n",
       "      <th>现场温度</th>\n",
       "      <th>电压A</th>\n",
       "      <th>...</th>\n",
       "      <th>电压C</th>\n",
       "      <th>电流A</th>\n",
       "      <th>电流B</th>\n",
       "      <th>电流C</th>\n",
       "      <th>转换效率</th>\n",
       "      <th>转换效率A</th>\n",
       "      <th>转换效率B</th>\n",
       "      <th>转换效率C</th>\n",
       "      <th>风向</th>\n",
       "      <th>风速</th>\n",
       "    </tr>\n",
       "  </thead>\n",
       "  <tbody>\n",
       "    <tr>\n",
       "      <th>0</th>\n",
       "      <td>1</td>\n",
       "      <td>1</td>\n",
       "      <td>0.00</td>\n",
       "      <td>0.00</td>\n",
       "      <td>0.00</td>\n",
       "      <td>NaN</td>\n",
       "      <td>0.00</td>\n",
       "      <td>0.01</td>\n",
       "      <td>0.1</td>\n",
       "      <td>0</td>\n",
       "      <td>...</td>\n",
       "      <td>0</td>\n",
       "      <td>0.00</td>\n",
       "      <td>0.00</td>\n",
       "      <td>0.00</td>\n",
       "      <td>0.00</td>\n",
       "      <td>0.00</td>\n",
       "      <td>0.00</td>\n",
       "      <td>0.00</td>\n",
       "      <td>1</td>\n",
       "      <td>0.1</td>\n",
       "    </tr>\n",
       "    <tr>\n",
       "      <th>1</th>\n",
       "      <td>9</td>\n",
       "      <td>13</td>\n",
       "      <td>909.72</td>\n",
       "      <td>148.05</td>\n",
       "      <td>1031.03</td>\n",
       "      <td>NaN</td>\n",
       "      <td>696.27</td>\n",
       "      <td>-19.33</td>\n",
       "      <td>-17.5</td>\n",
       "      <td>722</td>\n",
       "      <td>...</td>\n",
       "      <td>721</td>\n",
       "      <td>1.26</td>\n",
       "      <td>0.21</td>\n",
       "      <td>1.43</td>\n",
       "      <td>198.32</td>\n",
       "      <td>259.11</td>\n",
       "      <td>42.17</td>\n",
       "      <td>293.66</td>\n",
       "      <td>273</td>\n",
       "      <td>0.3</td>\n",
       "    </tr>\n",
       "    <tr>\n",
       "      <th>2</th>\n",
       "      <td>10</td>\n",
       "      <td>34</td>\n",
       "      <td>976.86</td>\n",
       "      <td>155.98</td>\n",
       "      <td>1087.50</td>\n",
       "      <td>1.437752</td>\n",
       "      <td>740.11</td>\n",
       "      <td>-19.14</td>\n",
       "      <td>-17.4</td>\n",
       "      <td>729</td>\n",
       "      <td>...</td>\n",
       "      <td>725</td>\n",
       "      <td>1.34</td>\n",
       "      <td>0.22</td>\n",
       "      <td>1.50</td>\n",
       "      <td>80.55</td>\n",
       "      <td>106.32</td>\n",
       "      <td>16.98</td>\n",
       "      <td>118.36</td>\n",
       "      <td>272</td>\n",
       "      <td>0.6</td>\n",
       "    </tr>\n",
       "    <tr>\n",
       "      <th>3</th>\n",
       "      <td>11</td>\n",
       "      <td>30</td>\n",
       "      <td>1128.40</td>\n",
       "      <td>172.08</td>\n",
       "      <td>1132.56</td>\n",
       "      <td>1.692575</td>\n",
       "      <td>811.01</td>\n",
       "      <td>-18.73</td>\n",
       "      <td>-17.3</td>\n",
       "      <td>728</td>\n",
       "      <td>...</td>\n",
       "      <td>726</td>\n",
       "      <td>1.55</td>\n",
       "      <td>0.24</td>\n",
       "      <td>1.56</td>\n",
       "      <td>99.90</td>\n",
       "      <td>139.00</td>\n",
       "      <td>21.20</td>\n",
       "      <td>139.51</td>\n",
       "      <td>275</td>\n",
       "      <td>0.8</td>\n",
       "    </tr>\n",
       "    <tr>\n",
       "      <th>4</th>\n",
       "      <td>12</td>\n",
       "      <td>41</td>\n",
       "      <td>1279.25</td>\n",
       "      <td>166.06</td>\n",
       "      <td>1310.40</td>\n",
       "      <td>1.975787</td>\n",
       "      <td>918.57</td>\n",
       "      <td>-17.54</td>\n",
       "      <td>-17.0</td>\n",
       "      <td>731</td>\n",
       "      <td>...</td>\n",
       "      <td>720</td>\n",
       "      <td>1.75</td>\n",
       "      <td>0.23</td>\n",
       "      <td>1.82</td>\n",
       "      <td>82.48</td>\n",
       "      <td>114.86</td>\n",
       "      <td>14.91</td>\n",
       "      <td>117.66</td>\n",
       "      <td>283</td>\n",
       "      <td>1.1</td>\n",
       "    </tr>\n",
       "  </tbody>\n",
       "</table>\n",
       "<p>5 rows × 21 columns</p>\n",
       "</div>"
      ],
      "text/plain": [
       "   ID  光照强度      功率A     功率B      功率C       发电量    平均功率     板温  现场温度  电压A  \\\n",
       "0   1     1     0.00    0.00     0.00       NaN    0.00   0.01   0.1    0   \n",
       "1   9    13   909.72  148.05  1031.03       NaN  696.27 -19.33 -17.5  722   \n",
       "2  10    34   976.86  155.98  1087.50  1.437752  740.11 -19.14 -17.4  729   \n",
       "3  11    30  1128.40  172.08  1132.56  1.692575  811.01 -18.73 -17.3  728   \n",
       "4  12    41  1279.25  166.06  1310.40  1.975787  918.57 -17.54 -17.0  731   \n",
       "\n",
       "  ...   电压C   电流A   电流B   电流C    转换效率   转换效率A  转换效率B   转换效率C   风向   风速  \n",
       "0 ...     0  0.00  0.00  0.00    0.00    0.00   0.00    0.00    1  0.1  \n",
       "1 ...   721  1.26  0.21  1.43  198.32  259.11  42.17  293.66  273  0.3  \n",
       "2 ...   725  1.34  0.22  1.50   80.55  106.32  16.98  118.36  272  0.6  \n",
       "3 ...   726  1.55  0.24  1.56   99.90  139.00  21.20  139.51  275  0.8  \n",
       "4 ...   720  1.75  0.23  1.82   82.48  114.86  14.91  117.66  283  1.1  \n",
       "\n",
       "[5 rows x 21 columns]"
      ]
     },
     "execution_count": 18,
     "metadata": {},
     "output_type": "execute_result"
    }
   ],
   "source": [
    "df_all.head()"
   ]
  },
  {
   "cell_type": "markdown",
   "metadata": {},
   "source": [
    "## 清洗数据"
   ]
  },
  {
   "cell_type": "code",
   "execution_count": 60,
   "metadata": {
    "collapsed": true
   },
   "outputs": [],
   "source": [
    "# 用上下均值替换, 离群值\n",
    "def clean_outlier(index, feautre):\n",
    "    # 使用上下均值替代离群点\n",
    "    values = []\n",
    "\n",
    "    for idx in index:\n",
    "        head = idx-1\n",
    "        tail = idx+1\n",
    "\n",
    "        while head in index:\n",
    "            head -= 1\n",
    "\n",
    "        while tail in index:\n",
    "            tail += 1\n",
    "\n",
    "        value = round((df_all.loc[head][feautre] + df_all.loc[tail][feautre])/2, 1)\n",
    "        values.append(value)\n",
    "\n",
    "    df_all.loc[index, feautre] = values"
   ]
  },
  {
   "cell_type": "markdown",
   "metadata": {},
   "source": [
    "### 现场温度"
   ]
  },
  {
   "cell_type": "code",
   "execution_count": 20,
   "metadata": {
    "collapsed": true
   },
   "outputs": [],
   "source": [
    "tem_index = df_all[(df_all.现场温度 < -30) | (df_all.现场温度 > 50)][['现场温度']].index"
   ]
  },
  {
   "cell_type": "code",
   "execution_count": 22,
   "metadata": {
    "collapsed": true
   },
   "outputs": [],
   "source": [
    "clean_outlier(tem_index, '现场温度')"
   ]
  },
  {
   "cell_type": "code",
   "execution_count": 24,
   "metadata": {},
   "outputs": [
    {
     "data": {
      "text/plain": [
       "count    17409.000000\n",
       "mean         0.178385\n",
       "std         10.124959\n",
       "min        -21.500000\n",
       "25%         -7.500000\n",
       "50%         -2.400000\n",
       "75%          8.300000\n",
       "max         34.800000\n",
       "Name: 现场温度, dtype: float64"
      ]
     },
     "execution_count": 24,
     "metadata": {},
     "output_type": "execute_result"
    }
   ],
   "source": [
    "df_all.现场温度.describe()"
   ]
  },
  {
   "cell_type": "markdown",
   "metadata": {},
   "source": [
    "### 功率A"
   ]
  },
  {
   "cell_type": "code",
   "execution_count": 25,
   "metadata": {},
   "outputs": [
    {
     "data": {
      "text/plain": [
       "count     17409.000000\n",
       "mean       3008.554699\n",
       "std       11618.226049\n",
       "min           0.000000\n",
       "25%        1189.000000\n",
       "50%        2722.400000\n",
       "75%        4253.850000\n",
       "max      470096.580000\n",
       "Name: 功率A, dtype: float64"
      ]
     },
     "execution_count": 25,
     "metadata": {},
     "output_type": "execute_result"
    }
   ],
   "source": [
    "df_all.功率A.describe()"
   ]
  },
  {
   "cell_type": "code",
   "execution_count": 33,
   "metadata": {
    "collapsed": true
   },
   "outputs": [],
   "source": [
    "def plot_points(feature):\n",
    "    fig, ax = plt.subplots()\n",
    "    ax.scatter(x = df_all[feature], y = df_all['发电量'])\n",
    "    plt.ylabel('发电量', fontsize=13)\n",
    "    plt.xlabel(feature, fontsize=13)\n",
    "    plt.show()"
   ]
  },
  {
   "cell_type": "code",
   "execution_count": 41,
   "metadata": {
    "collapsed": true
   },
   "outputs": [],
   "source": [
    "powerA_index = df_all[df_all.功率A > 30000].index"
   ]
  },
  {
   "cell_type": "code",
   "execution_count": 42,
   "metadata": {
    "collapsed": true
   },
   "outputs": [],
   "source": [
    "clean_outlier(powerA_index, '功率A')"
   ]
  },
  {
   "cell_type": "code",
   "execution_count": 43,
   "metadata": {},
   "outputs": [
    {
     "data": {
      "text/plain": [
       "count    17409.000000\n",
       "mean      2710.780487\n",
       "std       1647.215206\n",
       "min          0.000000\n",
       "25%       1186.780000\n",
       "50%       2718.980000\n",
       "75%       4250.540000\n",
       "max       7263.000000\n",
       "Name: 功率A, dtype: float64"
      ]
     },
     "execution_count": 43,
     "metadata": {},
     "output_type": "execute_result"
    }
   ],
   "source": [
    "df_all.功率A.describe()"
   ]
  },
  {
   "cell_type": "markdown",
   "metadata": {},
   "source": [
    "### 功率B"
   ]
  },
  {
   "cell_type": "code",
   "execution_count": 45,
   "metadata": {
    "collapsed": true
   },
   "outputs": [],
   "source": [
    "powerB_index = df_all[df_all.功率B > 30000].index"
   ]
  },
  {
   "cell_type": "code",
   "execution_count": 46,
   "metadata": {
    "collapsed": true
   },
   "outputs": [],
   "source": [
    "clean_outlier(powerB_index, '功率B')"
   ]
  },
  {
   "cell_type": "code",
   "execution_count": 47,
   "metadata": {},
   "outputs": [
    {
     "data": {
      "text/plain": [
       "count    17409.000000\n",
       "mean      2720.930101\n",
       "std       1677.077137\n",
       "min          0.000000\n",
       "25%       1163.360000\n",
       "50%       2762.540000\n",
       "75%       4257.440000\n",
       "max      26802.110000\n",
       "Name: 功率B, dtype: float64"
      ]
     },
     "execution_count": 47,
     "metadata": {},
     "output_type": "execute_result"
    }
   ],
   "source": [
    "df_all.功率B.describe()"
   ]
  },
  {
   "cell_type": "markdown",
   "metadata": {},
   "source": [
    "### 功率C"
   ]
  },
  {
   "cell_type": "code",
   "execution_count": 48,
   "metadata": {
    "collapsed": true
   },
   "outputs": [],
   "source": [
    "powerC_index = df_all[df_all.功率C > 30000].index"
   ]
  },
  {
   "cell_type": "code",
   "execution_count": 49,
   "metadata": {},
   "outputs": [
    {
     "data": {
      "text/plain": [
       "Int64Index([127, 531, 673, 1178, 1520, 1561, 2214, 3108, 3136, 3253, 3254,\n",
       "            3429, 6976],\n",
       "           dtype='int64')"
      ]
     },
     "execution_count": 49,
     "metadata": {},
     "output_type": "execute_result"
    }
   ],
   "source": [
    "powerC_index"
   ]
  },
  {
   "cell_type": "code",
   "execution_count": 50,
   "metadata": {
    "collapsed": true
   },
   "outputs": [],
   "source": [
    "clean_outlier(powerC_index, '功率C')"
   ]
  },
  {
   "cell_type": "code",
   "execution_count": 51,
   "metadata": {},
   "outputs": [
    {
     "data": {
      "text/plain": [
       "count    17409.000000\n",
       "mean      2764.108406\n",
       "std       1680.279159\n",
       "min          0.000000\n",
       "25%       1226.420000\n",
       "50%       2760.480000\n",
       "75%       4323.880000\n",
       "max      19561.200000\n",
       "Name: 功率C, dtype: float64"
      ]
     },
     "execution_count": 51,
     "metadata": {},
     "output_type": "execute_result"
    }
   ],
   "source": [
    "df_all.功率C.describe()"
   ]
  },
  {
   "cell_type": "markdown",
   "metadata": {},
   "source": [
    "### 平均功率"
   ]
  },
  {
   "cell_type": "code",
   "execution_count": 56,
   "metadata": {
    "collapsed": true
   },
   "outputs": [],
   "source": [
    "df_all.平均功率 = round((df_all.功率A + df_all.功率B + df_all.功率C)/3, 2)"
   ]
  },
  {
   "cell_type": "code",
   "execution_count": 57,
   "metadata": {},
   "outputs": [
    {
     "data": {
      "text/plain": [
       "count    17409.000000\n",
       "mean      2731.939684\n",
       "std       1643.874101\n",
       "min          0.000000\n",
       "25%       1218.160000\n",
       "50%       2739.330000\n",
       "75%       4259.470000\n",
       "max      10900.970000\n",
       "Name: 平均功率, dtype: float64"
      ]
     },
     "execution_count": 57,
     "metadata": {},
     "output_type": "execute_result"
    }
   ],
   "source": [
    "df_all.平均功率.describe()"
   ]
  },
  {
   "cell_type": "markdown",
   "metadata": {},
   "source": [
    "### 电压A"
   ]
  },
  {
   "cell_type": "code",
   "execution_count": 62,
   "metadata": {},
   "outputs": [
    {
     "data": {
      "text/plain": [
       "count    17409.000000\n",
       "mean       705.609570\n",
       "std       1701.092389\n",
       "min          0.000000\n",
       "25%        641.000000\n",
       "50%        669.000000\n",
       "75%        689.000000\n",
       "max      65515.000000\n",
       "Name: 电压A, dtype: float64"
      ]
     },
     "execution_count": 62,
     "metadata": {},
     "output_type": "execute_result"
    }
   ],
   "source": [
    "df_all.电压A.describe()"
   ]
  },
  {
   "cell_type": "code",
   "execution_count": 63,
   "metadata": {},
   "outputs": [
    {
     "data": {
      "image/png": "[encoded data removed]",
      "text/plain": [
       "<matplotlib.figure.Figure at 0x113706198>"
      ]
     },
     "metadata": {},
     "output_type": "display_data"
    }
   ],
   "source": [
    "plot_points('电压A')"
   ]
  },
  {
   "cell_type": "code",
   "execution_count": 74,
   "metadata": {},
   "outputs": [
    {
     "data": {
      "text/html": [
       "<div>\n",
       "<style scoped>\n",
       "    .dataframe tbody tr th:only-of-type {\n",
       "        vertical-align: middle;\n",
       "    }\n",
       "\n",
       "    .dataframe tbody tr th {\n",
       "        vertical-align: top;\n",
       "    }\n",
       "\n",
       "    .dataframe thead th {\n",
       "        text-align: right;\n",
       "    }\n",
       "</style>\n",
       "<table border=\"1\" class=\"dataframe\">\n",
       "  <thead>\n",
       "    <tr style=\"text-align: right;\">\n",
       "      <th></th>\n",
       "      <th>ID</th>\n",
       "      <th>电压A</th>\n",
       "    </tr>\n",
       "  </thead>\n",
       "  <tbody>\n",
       "    <tr>\n",
       "      <th>14</th>\n",
       "      <td>22</td>\n",
       "      <td>65382</td>\n",
       "    </tr>\n",
       "    <tr>\n",
       "      <th>859</th>\n",
       "      <td>948</td>\n",
       "      <td>65394</td>\n",
       "    </tr>\n",
       "    <tr>\n",
       "      <th>981</th>\n",
       "      <td>1070</td>\n",
       "      <td>65477</td>\n",
       "    </tr>\n",
       "    <tr>\n",
       "      <th>1065</th>\n",
       "      <td>1173</td>\n",
       "      <td>65408</td>\n",
       "    </tr>\n",
       "    <tr>\n",
       "      <th>1237</th>\n",
       "      <td>1362</td>\n",
       "      <td>65386</td>\n",
       "    </tr>\n",
       "    <tr>\n",
       "      <th>1419</th>\n",
       "      <td>1565</td>\n",
       "      <td>65420</td>\n",
       "    </tr>\n",
       "    <tr>\n",
       "      <th>2740</th>\n",
       "      <td>2986</td>\n",
       "      <td>65515</td>\n",
       "    </tr>\n",
       "    <tr>\n",
       "      <th>3303</th>\n",
       "      <td>3597</td>\n",
       "      <td>65419</td>\n",
       "    </tr>\n",
       "    <tr>\n",
       "      <th>3305</th>\n",
       "      <td>3599</td>\n",
       "      <td>65419</td>\n",
       "    </tr>\n",
       "    <tr>\n",
       "      <th>3309</th>\n",
       "      <td>3603</td>\n",
       "      <td>65420</td>\n",
       "    </tr>\n",
       "    <tr>\n",
       "      <th>3311</th>\n",
       "      <td>3605</td>\n",
       "      <td>65420</td>\n",
       "    </tr>\n",
       "    <tr>\n",
       "      <th>3313</th>\n",
       "      <td>3607</td>\n",
       "      <td>65420</td>\n",
       "    </tr>\n",
       "  </tbody>\n",
       "</table>\n",
       "</div>"
      ],
      "text/plain": [
       "        ID    电压A\n",
       "14      22  65382\n",
       "859    948  65394\n",
       "981   1070  65477\n",
       "1065  1173  65408\n",
       "1237  1362  65386\n",
       "1419  1565  65420\n",
       "2740  2986  65515\n",
       "3303  3597  65419\n",
       "3305  3599  65419\n",
       "3309  3603  65420\n",
       "3311  3605  65420\n",
       "3313  3607  65420"
      ]
     },
     "execution_count": 74,
     "metadata": {},
     "output_type": "execute_result"
    }
   ],
   "source": [
    "df_all[df_all.电压A > 2000][['ID','电压A']]"
   ]
  },
  {
   "cell_type": "code",
   "execution_count": 75,
   "metadata": {
    "collapsed": true
   },
   "outputs": [],
   "source": [
    "voltageA_index = df_all[df_all.电压A > 2000].index"
   ]
  },
  {
   "cell_type": "code",
   "execution_count": 76,
   "metadata": {},
   "outputs": [
    {
     "data": {
      "text/plain": [
       "Int64Index([14, 859, 981, 1065, 1237, 1419, 2740, 3303, 3305, 3309, 3311,\n",
       "            3313],\n",
       "           dtype='int64')"
      ]
     },
     "execution_count": 76,
     "metadata": {},
     "output_type": "execute_result"
    }
   ],
   "source": [
    "voltageA_index"
   ]
  },
  {
   "cell_type": "code",
   "execution_count": 77,
   "metadata": {
    "collapsed": true
   },
   "outputs": [],
   "source": [
    "clean_outlier(voltageA_index, '电压A')"
   ]
  },
  {
   "cell_type": "code",
   "execution_count": 78,
   "metadata": {},
   "outputs": [
    {
     "data": {
      "text/plain": [
       "count    17409.000000\n",
       "mean       660.995376\n",
       "std         67.163162\n",
       "min          0.000000\n",
       "25%        641.000000\n",
       "50%        669.000000\n",
       "75%        689.000000\n",
       "max        807.000000\n",
       "Name: 电压A, dtype: float64"
      ]
     },
     "execution_count": 78,
     "metadata": {},
     "output_type": "execute_result"
    }
   ],
   "source": [
    "df_all.电压A.describe()"
   ]
  },
  {
   "cell_type": "markdown",
   "metadata": {},
   "source": [
    "### 电压B"
   ]
  },
  {
   "cell_type": "code",
   "execution_count": 79,
   "metadata": {
    "collapsed": true
   },
   "outputs": [],
   "source": [
    "voltageB_index = df_all[df_all.电压B > 2000].index"
   ]
  },
  {
   "cell_type": "code",
   "execution_count": 80,
   "metadata": {
    "collapsed": true
   },
   "outputs": [],
   "source": [
    "clean_outlier(voltageB_index, '电压B')"
   ]
  },
  {
   "cell_type": "code",
   "execution_count": 81,
   "metadata": {},
   "outputs": [
    {
     "data": {
      "text/plain": [
       "count    17409.000000\n",
       "mean       658.116520\n",
       "std         68.108878\n",
       "min          0.000000\n",
       "25%        638.000000\n",
       "50%        666.000000\n",
       "75%        686.000000\n",
       "max        831.000000\n",
       "Name: 电压B, dtype: float64"
      ]
     },
     "execution_count": 81,
     "metadata": {},
     "output_type": "execute_result"
    }
   ],
   "source": [
    "df_all.电压B.describe()"
   ]
  },
  {
   "cell_type": "markdown",
   "metadata": {},
   "source": [
    "### 电压C"
   ]
  },
  {
   "cell_type": "code",
   "execution_count": 82,
   "metadata": {
    "collapsed": true
   },
   "outputs": [],
   "source": [
    "voltageC_index = df_all[df_all.电压C > 2000].index"
   ]
  },
  {
   "cell_type": "code",
   "execution_count": 83,
   "metadata": {
    "collapsed": true
   },
   "outputs": [],
   "source": [
    "clean_outlier(voltageC_index, '电压C')"
   ]
  },
  {
   "cell_type": "code",
   "execution_count": 84,
   "metadata": {},
   "outputs": [
    {
     "data": {
      "text/plain": [
       "count    17409.000000\n",
       "mean       657.582199\n",
       "std         71.696055\n",
       "min          0.000000\n",
       "25%        638.000000\n",
       "50%        666.000000\n",
       "75%        686.000000\n",
       "max        777.000000\n",
       "Name: 电压C, dtype: float64"
      ]
     },
     "execution_count": 84,
     "metadata": {},
     "output_type": "execute_result"
    }
   ],
   "source": [
    "df_all.电压C.describe()"
   ]
  },
  {
   "cell_type": "markdown",
   "metadata": {},
   "source": [
    "### 电流B"
   ]
  },
  {
   "cell_type": "code",
   "execution_count": 90,
   "metadata": {},
   "outputs": [
    {
     "data": {
      "text/plain": [
       "count    17409.000000\n",
       "mean         4.555894\n",
       "std         16.350305\n",
       "min          0.000000\n",
       "25%          1.730000\n",
       "50%          4.120000\n",
       "75%          6.530000\n",
       "max        653.710000\n",
       "Name: 电流B, dtype: float64"
      ]
     },
     "execution_count": 90,
     "metadata": {},
     "output_type": "execute_result"
    }
   ],
   "source": [
    "df_all.电流B.describe()"
   ]
  },
  {
   "cell_type": "code",
   "execution_count": 103,
   "metadata": {},
   "outputs": [
    {
     "data": {
      "image/png": "[encoded data removed]",
      "text/plain": [
       "<matplotlib.figure.Figure at 0x1136e6400>"
      ]
     },
     "metadata": {},
     "output_type": "display_data"
    }
   ],
   "source": [
    "plot_points('电流C')"
   ]
  },
  {
   "cell_type": "code",
   "execution_count": 96,
   "metadata": {
    "collapsed": true
   },
   "outputs": [],
   "source": [
    "currentB_index = df_all[df_all.电流B > 100].index"
   ]
  },
  {
   "cell_type": "code",
   "execution_count": 97,
   "metadata": {
    "collapsed": true
   },
   "outputs": [],
   "source": [
    "clean_outlier(currentB_index, '电流B')"
   ]
  },
  {
   "cell_type": "code",
   "execution_count": 98,
   "metadata": {},
   "outputs": [
    {
     "data": {
      "text/plain": [
       "count    17409.000000\n",
       "mean         4.148926\n",
       "std          2.599035\n",
       "min          0.000000\n",
       "25%          1.730000\n",
       "50%          4.120000\n",
       "75%          6.520000\n",
       "max         10.190000\n",
       "Name: 电流B, dtype: float64"
      ]
     },
     "execution_count": 98,
     "metadata": {},
     "output_type": "execute_result"
    }
   ],
   "source": [
    "df_all.电流B.describe()"
   ]
  },
  {
   "cell_type": "markdown",
   "metadata": {},
   "source": [
    "### 电流C"
   ]
  },
  {
   "cell_type": "code",
   "execution_count": 99,
   "metadata": {
    "collapsed": true
   },
   "outputs": [],
   "source": [
    "currentC_index = df_all[df_all.电流C > 100].index"
   ]
  },
  {
   "cell_type": "code",
   "execution_count": 100,
   "metadata": {
    "collapsed": true
   },
   "outputs": [],
   "source": [
    "clean_outlier(currentC_index, '电流C')"
   ]
  },
  {
   "cell_type": "code",
   "execution_count": 101,
   "metadata": {},
   "outputs": [
    {
     "data": {
      "text/plain": [
       "count    17409.000000\n",
       "mean         4.211352\n",
       "std          2.619048\n",
       "min          0.000000\n",
       "25%          1.800000\n",
       "50%          4.100000\n",
       "75%          6.600000\n",
       "max         32.910000\n",
       "Name: 电流C, dtype: float64"
      ]
     },
     "execution_count": 101,
     "metadata": {},
     "output_type": "execute_result"
    }
   ],
   "source": [
    "df_all.电流C.describe()"
   ]
  },
  {
   "cell_type": "markdown",
   "metadata": {},
   "source": [
    "### 转换效率A"
   ]
  },
  {
   "cell_type": "code",
   "execution_count": 104,
   "metadata": {},
   "outputs": [
    {
     "data": {
      "text/plain": [
       "count     17409.000000\n",
       "mean         57.102183\n",
       "std        1471.721266\n",
       "min           0.000000\n",
       "25%          20.420000\n",
       "50%          24.880000\n",
       "75%          36.290000\n",
       "max      183289.380000\n",
       "Name: 转换效率A, dtype: float64"
      ]
     },
     "execution_count": 104,
     "metadata": {},
     "output_type": "execute_result"
    }
   ],
   "source": [
    "df_all.转换效率A.describe()"
   ]
  },
  {
   "cell_type": "code",
   "execution_count": 105,
   "metadata": {},
   "outputs": [
    {
     "data": {
      "image/png": "[encoded data removed]",
      "text/plain": [
       "<matplotlib.figure.Figure at 0x1143ba710>"
      ]
     },
     "metadata": {},
     "output_type": "display_data"
    }
   ],
   "source": [
    "plot_points('转换效率A')"
   ]
  },
  {
   "cell_type": "code",
   "execution_count": 114,
   "metadata": {
    "collapsed": true
   },
   "outputs": [],
   "source": [
    "efficiencyA_index = df_all[df_all.转换效率A > 800].index"
   ]
  },
  {
   "cell_type": "code",
   "execution_count": 115,
   "metadata": {
    "collapsed": true
   },
   "outputs": [],
   "source": [
    "clean_outlier(efficiencyA_index, '转换效率A')"
   ]
  },
  {
   "cell_type": "code",
   "execution_count": 116,
   "metadata": {},
   "outputs": [
    {
     "data": {
      "text/plain": [
       "count    17409.000000\n",
       "mean        35.145283\n",
       "std         48.459740\n",
       "min          0.000000\n",
       "25%         20.420000\n",
       "50%         24.870000\n",
       "75%         36.270000\n",
       "max        785.260000\n",
       "Name: 转换效率A, dtype: float64"
      ]
     },
     "execution_count": 116,
     "metadata": {},
     "output_type": "execute_result"
    }
   ],
   "source": [
    "df_all.转换效率A.describe()"
   ]
  },
  {
   "cell_type": "markdown",
   "metadata": {},
   "source": [
    "### 转换效率B"
   ]
  },
  {
   "cell_type": "code",
   "execution_count": 117,
   "metadata": {
    "collapsed": true
   },
   "outputs": [],
   "source": [
    "efficiencyB_index = df_all[df_all.转换效率B > 800].index"
   ]
  },
  {
   "cell_type": "code",
   "execution_count": 118,
   "metadata": {
    "collapsed": true
   },
   "outputs": [],
   "source": [
    "clean_outlier(efficiencyB_index, '转换效率B')"
   ]
  },
  {
   "cell_type": "code",
   "execution_count": 119,
   "metadata": {},
   "outputs": [
    {
     "data": {
      "text/plain": [
       "count    17409.000000\n",
       "mean        35.077099\n",
       "std         48.569005\n",
       "min          0.000000\n",
       "25%         20.250000\n",
       "50%         24.880000\n",
       "75%         36.700000\n",
       "max        766.830000\n",
       "Name: 转换效率B, dtype: float64"
      ]
     },
     "execution_count": 119,
     "metadata": {},
     "output_type": "execute_result"
    }
   ],
   "source": [
    "df_all.转换效率B.describe()"
   ]
  },
  {
   "cell_type": "markdown",
   "metadata": {},
   "source": [
    "### 转换效率C"
   ]
  },
  {
   "cell_type": "code",
   "execution_count": 120,
   "metadata": {
    "collapsed": true
   },
   "outputs": [],
   "source": [
    "efficiencyC_index = df_all[df_all.转换效率C > 800].index"
   ]
  },
  {
   "cell_type": "code",
   "execution_count": 121,
   "metadata": {
    "collapsed": true
   },
   "outputs": [],
   "source": [
    "clean_outlier(efficiencyC_index, '转换效率C')"
   ]
  },
  {
   "cell_type": "code",
   "execution_count": 122,
   "metadata": {},
   "outputs": [
    {
     "data": {
      "text/plain": [
       "count    17409.000000\n",
       "mean        36.150962\n",
       "std         50.772028\n",
       "min          0.000000\n",
       "25%         20.560000\n",
       "50%         25.380000\n",
       "75%         36.870000\n",
       "max        785.460000\n",
       "Name: 转换效率C, dtype: float64"
      ]
     },
     "execution_count": 122,
     "metadata": {},
     "output_type": "execute_result"
    }
   ],
   "source": [
    "df_all.转换效率C.describe()"
   ]
  },
  {
   "cell_type": "markdown",
   "metadata": {},
   "source": [
    "### 转换效率"
   ]
  },
  {
   "cell_type": "code",
   "execution_count": 123,
   "metadata": {
    "collapsed": true
   },
   "outputs": [],
   "source": [
    "df_all.转换效率 = round((df_all.转换效率A + df_all.转换效率B + df_all.转换效率C)/3, 2)"
   ]
  },
  {
   "cell_type": "code",
   "execution_count": 124,
   "metadata": {},
   "outputs": [
    {
     "data": {
      "text/plain": [
       "count    17409.000000\n",
       "mean        35.457769\n",
       "std         48.035815\n",
       "min          0.000000\n",
       "25%         20.450000\n",
       "50%         25.120000\n",
       "75%         36.980000\n",
       "max        763.590000\n",
       "Name: 转换效率, dtype: float64"
      ]
     },
     "execution_count": 124,
     "metadata": {},
     "output_type": "execute_result"
    }
   ],
   "source": [
    "df_all.转换效率.describe()"
   ]
  },
  {
   "cell_type": "markdown",
   "metadata": {},
   "source": [
    "### 风速"
   ]
  },
  {
   "cell_type": "code",
   "execution_count": 125,
   "metadata": {},
   "outputs": [
    {
     "data": {
      "text/plain": [
       "count    17409.000000\n",
       "mean         2.373123\n",
       "std          1.637846\n",
       "min          0.000000\n",
       "25%          1.200000\n",
       "50%          2.200000\n",
       "75%          3.300000\n",
       "max         25.200000\n",
       "Name: 风速, dtype: float64"
      ]
     },
     "execution_count": 125,
     "metadata": {},
     "output_type": "execute_result"
    }
   ],
   "source": [
    "df_all.风速.describe()"
   ]
  },
  {
   "cell_type": "code",
   "execution_count": 126,
   "metadata": {},
   "outputs": [
    {
     "data": {
      "image/png": "[encoded data removed]",
      "text/plain": [
       "<matplotlib.figure.Figure at 0x1137063c8>"
      ]
     },
     "metadata": {},
     "output_type": "display_data"
    }
   ],
   "source": [
    "plot_points('风速')"
   ]
  },
  {
   "cell_type": "code",
   "execution_count": 130,
   "metadata": {
    "collapsed": true
   },
   "outputs": [],
   "source": [
    "speed_index = df_all[df_all.风速 > 20].index"
   ]
  },
  {
   "cell_type": "code",
   "execution_count": 131,
   "metadata": {
    "collapsed": true
   },
   "outputs": [],
   "source": [
    "clean_outlier(speed_index, '风速')"
   ]
  },
  {
   "cell_type": "code",
   "execution_count": 132,
   "metadata": {},
   "outputs": [
    {
     "data": {
      "text/plain": [
       "count    17409.000000\n",
       "mean         2.371831\n",
       "std          1.628684\n",
       "min          0.000000\n",
       "25%          1.200000\n",
       "50%          2.200000\n",
       "75%          3.300000\n",
       "max         19.300000\n",
       "Name: 风速, dtype: float64"
      ]
     },
     "execution_count": 132,
     "metadata": {},
     "output_type": "execute_result"
    }
   ],
   "source": [
    "df_all.风速.describe()"
   ]
  },
  {
   "cell_type": "markdown",
   "metadata": {},
   "source": [
    "### 风向"
   ]
  },
  {
   "cell_type": "code",
   "execution_count": 133,
   "metadata": {
    "collapsed": true
   },
   "outputs": [],
   "source": [
    "direction_index = df_all[df_all.风向 > 360].index"
   ]
  },
  {
   "cell_type": "code",
   "execution_count": 134,
   "metadata": {
    "collapsed": true
   },
   "outputs": [],
   "source": [
    "clean_outlier(direction_index, '风向')"
   ]
  },
  {
   "cell_type": "code",
   "execution_count": 135,
   "metadata": {},
   "outputs": [
    {
     "data": {
      "text/plain": [
       "count    17409.000000\n",
       "mean       222.040295\n",
       "std         96.967780\n",
       "min          0.000000\n",
       "25%        161.000000\n",
       "50%        269.000000\n",
       "75%        283.000000\n",
       "max        359.000000\n",
       "Name: 风向, dtype: float64"
      ]
     },
     "execution_count": 135,
     "metadata": {},
     "output_type": "execute_result"
    }
   ],
   "source": [
    "df_all.风向.describe()"
   ]
  },
  {
   "cell_type": "code",
   "execution_count": 138,
   "metadata": {
    "collapsed": true
   },
   "outputs": [],
   "source": [
    "df_all.to_csv('../../raw/cleaned_data.csv')"
   ]
  },
  {
   "cell_type": "markdown",
   "metadata": {},
   "source": [
    "## 特征工程"
   ]
  },
  {
   "cell_type": "code",
   "execution_count": 3,
   "metadata": {
    "collapsed": true
   },
   "outputs": [],
   "source": [
    "df_all = pd.read_csv('../../raw/cleaned_data.csv')"
   ]
  },
  {
   "cell_type": "code",
   "execution_count": 144,
   "metadata": {
    "collapsed": true
   },
   "outputs": [],
   "source": [
    "# # 求取电阻\n",
    "# df_all['电阻A'] = df_all['电压A'] / (df_all['电流A'] + 0.0001)\n",
    "# df_all['电阻B'] = df_all['电压B'] / (df_all['电流B'] + 0.0001)\n",
    "# df_all['电阻C'] = df_all['电压C'] / (df_all['电流C'] + 0.0001)"
   ]
  },
  {
   "cell_type": "code",
   "execution_count": 7,
   "metadata": {
    "collapsed": true
   },
   "outputs": [],
   "source": [
    "df_all.drop('Unnamed: 0', axis=1, inplace=True)"
   ]
  },
  {
   "cell_type": "code",
   "execution_count": 8,
   "metadata": {},
   "outputs": [
    {
     "data": {
      "text/plain": [
       "((9000, 21), (8409, 21))"
      ]
     },
     "execution_count": 8,
     "metadata": {},
     "output_type": "execute_result"
    }
   ],
   "source": [
    "# 切分数据集\n",
    "df_train = df_all[df_all['发电量'] > -1]\n",
    "df_test = df_all.drop(df_train.index, axis=0)\n",
    "\n",
    "df_train.shape, df_test.shape"
   ]
  },
  {
   "cell_type": "code",
   "execution_count": 9,
   "metadata": {
    "collapsed": true
   },
   "outputs": [],
   "source": [
    "# 去除重复值\n",
    "df_train = df_train.drop_duplicates(df_train.columns.drop('ID'), keep='first')"
   ]
  },
  {
   "cell_type": "code",
   "execution_count": 10,
   "metadata": {
    "collapsed": true
   },
   "outputs": [],
   "source": [
    "y = df_train['发电量']\n",
    "X = df_train.drop(['发电量','ID'], axis=1)"
   ]
  },
  {
   "cell_type": "code",
   "execution_count": 11,
   "metadata": {
    "collapsed": true
   },
   "outputs": [],
   "source": [
    "zero_id = df_test[df_test['平均功率'] == 0]['ID']"
   ]
  },
  {
   "cell_type": "code",
   "execution_count": 12,
   "metadata": {
    "collapsed": true
   },
   "outputs": [],
   "source": [
    "# 创建提交表格\n",
    "df_sub = pd.DataFrame()"
   ]
  },
  {
   "cell_type": "code",
   "execution_count": 13,
   "metadata": {
    "collapsed": true
   },
   "outputs": [],
   "source": [
    "df_sub['ID'] = df_test['ID']"
   ]
  },
  {
   "cell_type": "code",
   "execution_count": 14,
   "metadata": {
    "collapsed": true
   },
   "outputs": [],
   "source": [
    "test_X = df_test.drop(['发电量', 'ID'], axis=1)"
   ]
  },
  {
   "cell_type": "code",
   "execution_count": 15,
   "metadata": {
    "collapsed": true
   },
   "outputs": [],
   "source": [
    "# 多项式特征\n",
    "from sklearn.preprocessing import PolynomialFeatures\n",
    "\n",
    "poly = PolynomialFeatures(degree=2, interaction_only=True)\n",
    "X = poly.fit_transform(X)\n",
    "test_X = poly.fit_transform(test_X)"
   ]
  },
  {
   "cell_type": "code",
   "execution_count": 16,
   "metadata": {},
   "outputs": [
    {
     "data": {
      "text/plain": [
       "((8918, 191), (8409, 191))"
      ]
     },
     "execution_count": 16,
     "metadata": {},
     "output_type": "execute_result"
    }
   ],
   "source": [
    "X.shape, test_X.shape"
   ]
  },
  {
   "cell_type": "code",
   "execution_count": 17,
   "metadata": {
    "collapsed": true
   },
   "outputs": [],
   "source": [
    "# 筛选特征\n",
    "from sklearn.feature_selection import SelectFromModel\n",
    "from sklearn.ensemble import GradientBoostingRegressor\n",
    "\n",
    "sm = SelectFromModel(GradientBoostingRegressor(random_state=42))\n",
    "train_X_sm = sm.fit_transform(X, y)\n",
    "test_X_sm = sm.transform(test_X)"
   ]
  },
  {
   "cell_type": "code",
   "execution_count": 18,
   "metadata": {},
   "outputs": [
    {
     "data": {
      "text/plain": [
       "((8918, 52), (8409, 52))"
      ]
     },
     "execution_count": 18,
     "metadata": {},
     "output_type": "execute_result"
    }
   ],
   "source": [
    "train_X_sm.shape, test_X_sm.shape"
   ]
  },
  {
   "cell_type": "markdown",
   "metadata": {},
   "source": [
    "## CV 模型训练"
   ]
  },
  {
   "cell_type": "code",
   "execution_count": 19,
   "metadata": {
    "collapsed": true
   },
   "outputs": [],
   "source": [
    "from sklearn.model_selection import KFold, StratifiedKFold\n",
    "import lightgbm as lgb\n",
    "import scipy as sp"
   ]
  },
  {
   "cell_type": "code",
   "execution_count": 20,
   "metadata": {
    "collapsed": true
   },
   "outputs": [],
   "source": [
    "folds = KFold(n_splits= 5, shuffle=True, random_state=42)"
   ]
  },
  {
   "cell_type": "code",
   "execution_count": 21,
   "metadata": {},
   "outputs": [
    {
     "name": "stdout",
     "output_type": "stream",
     "text": [
      "This 1 score is: 0.8974336694116423\n",
      "This 2 score is: 0.795797725021006\n",
      "This 3 score is: 0.8901571642293844\n",
      "This 4 score is: 0.8874038755919046\n",
      "This 5 score is: 0.8376335130456765\n"
     ]
    }
   ],
   "source": [
    "scores = []\n",
    "\n",
    "for n_fold, (train_idx, valid_idx) in enumerate(folds.split(X, y.values)):\n",
    "    train_x, train_y = X[train_idx], y.values[train_idx]\n",
    "    valid_x, valid_y = X[valid_idx], y.values[valid_idx]\n",
    "    \n",
    "    lgb_train = lgb.Dataset(train_x, train_y)\n",
    "    lgb_test = lgb.Dataset(valid_x, valid_y)\n",
    "\n",
    "    params = {\n",
    "    'learning_rate': 0.002,\n",
    "    'boosting_type': 'gbdt',\n",
    "    'objective': 'regression',\n",
    "    'metric': 'rmse',\n",
    "    'sub_feature': 0.5,\n",
    "    'num_leaves': 90,\n",
    "    'min_data': 55,\n",
    "    'min_hessian': 1,\n",
    "    'verbose': -1,}\n",
    "\n",
    "    gbm = lgb.train(params, lgb_train, 4000)\n",
    "    pred = gbm.predict(valid_x)\n",
    "    rmsetmp = sp.sqrt(sp.mean((valid_y - pred) ** 2))\n",
    "    score = 1 / (1 + rmsetmp)\n",
    "\n",
    "    print('This {} score is: '.format(n_fold+1) + str(score))\n",
    "    scores.append(score)"
   ]
  },
  {
   "cell_type": "markdown",
   "metadata": {},
   "source": [
    "- 电阻\n",
    "```\n",
    "This 0 score is: 0.8846821240584611\n",
    "This 1 score is: 0.8894796734487159\n",
    "This 2 score is: 0.8078416707467048\n",
    "This 3 score is: 0.9026690288925423\n",
    "This 4 score is: 0.8198826259908417\n",
    "```"
   ]
  },
  {
   "cell_type": "markdown",
   "metadata": {},
   "source": [
    "- 去掉电阻\n",
    "```\n",
    "This 1 score is: 0.8974336694116423\n",
    "This 2 score is: 0.795797725021006\n",
    "This 3 score is: 0.8901571642293844\n",
    "This 4 score is: 0.8874038755919046\n",
    "This 5 score is: 0.8376335130456765\n",
    "```\n",
    "The cv score is: 0.8617"
   ]
  },
  {
   "cell_type": "code",
   "execution_count": 22,
   "metadata": {
    "collapsed": true
   },
   "outputs": [],
   "source": [
    "# 计算平均数\n",
    "def avg_score(num):\n",
    "    nsum = 0\n",
    "    for i in range(len(num)):\n",
    "        nsum += num[i]\n",
    "    return round(nsum / len(num), 4)"
   ]
  },
  {
   "cell_type": "code",
   "execution_count": 23,
   "metadata": {
    "scrolled": true
   },
   "outputs": [
    {
     "name": "stdout",
     "output_type": "stream",
     "text": [
      "The cv score is: 0.8617\n"
     ]
    }
   ],
   "source": [
    "print('The cv score is: {}'.format(avg_score(scores)))"
   ]
  },
  {
   "cell_type": "markdown",
   "metadata": {},
   "source": [
    "The cv score is: 0.8609"
   ]
  },
  {
   "cell_type": "code",
   "execution_count": 24,
   "metadata": {
    "collapsed": true
   },
   "outputs": [],
   "source": [
    "# 使用全部数据跑一遍 lightGBM\n",
    "\n",
    "lgb_train = lgb.Dataset(X, y)\n",
    "lgb_test = lgb.Dataset(test_X)\n",
    "\n",
    "params = {\n",
    "'learning_rate': 0.002,\n",
    "'boosting_type': 'gbdt',\n",
    "'objective': 'regression',\n",
    "'metric': 'rmse',\n",
    "'sub_feature': 0.5,\n",
    "'num_leaves': 90,\n",
    "'min_data': 55,\n",
    "'min_hessian': 1,\n",
    "'verbose': -1,}\n",
    "\n",
    "gbm = lgb.train(params, lgb_train, 4000)\n",
    "pred = gbm.predict(test_X)"
   ]
  },
  {
   "cell_type": "code",
   "execution_count": 25,
   "metadata": {
    "collapsed": true
   },
   "outputs": [],
   "source": [
    "df_sub['score'] = pred"
   ]
  },
  {
   "cell_type": "code",
   "execution_count": 26,
   "metadata": {
    "collapsed": true
   },
   "outputs": [],
   "source": [
    "index = df_sub[df_sub['ID'].isin(zero_id)].index\n",
    "df_sub.loc[index, 'score'] = 0.379993053"
   ]
  },
  {
   "cell_type": "code",
   "execution_count": 27,
   "metadata": {
    "collapsed": true
   },
   "outputs": [],
   "source": [
    "df_sub.to_csv('./results/result_20180817b_lightgbm.csv', index=False, header=False)"
   ]
  },
  {
   "cell_type": "code",
   "execution_count": null,
   "metadata": {
    "collapsed": true
   },
   "outputs": [],
   "source": []
  }
 ],
 "metadata": {
  "kernelspec": {
   "display_name": "Python 3",
   "language": "python",
   "name": "python3"
  },
  "language_info": {
   "codemirror_mode": {
    "name": "ipython",
    "version": 3
   },
   "file_extension": ".py",
   "mimetype": "text/x-python",
   "name": "python",
   "nbconvert_exporter": "python",
   "pygments_lexer": "ipython3",
   "version": "3.6.3"
  },
  "toc": {
   "nav_menu": {},
   "number_sections": true,
   "sideBar": true,
   "skip_h1_title": false,
   "toc_cell": false,
   "toc_position": {},
   "toc_section_display": "block",
   "toc_window_display": false
  }
 },
 "nbformat": 4,
 "nbformat_minor": 2
}
