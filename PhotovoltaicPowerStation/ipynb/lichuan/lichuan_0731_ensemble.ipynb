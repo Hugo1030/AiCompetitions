{
 "cells": [
  {
   "cell_type": "code",
   "execution_count": 3,
   "metadata": {
    "collapsed": true
   },
   "outputs": [],
   "source": [
    "import pandas as pd\n",
    "import glob\n",
    "import numpy as np\n",
    "import scipy as sp"
   ]
  },
  {
   "cell_type": "code",
   "execution_count": 4,
   "metadata": {},
   "outputs": [],
   "source": [
    "df_xgboost = pd.read_csv('./results/result_20180805a_xgboost-alldata.csv', names=['ID', 'TARGET'])\n",
    "df_lightgbm = pd.read_csv('./results/result_20180810a_lightgbm_id.csv', names=['ID', 'TARGET'])\n",
    "df_gbrt = pd.read_csv('./results/result_20180805a_GBRT_alldata.csv', names=['ID', 'TARGET'])\n",
    "df_randomforest = pd.read_csv('./results/result_20180806a_randomforest_alldata.csv', names=['ID', 'TARGET'])"
   ]
  },
  {
   "cell_type": "code",
   "execution_count": 22,
   "metadata": {},
   "outputs": [],
   "source": [
    "df_8485 = pd.read_csv('./results/0.8485.csv', names=['ID', 'TARGET'])"
   ]
  },
  {
   "cell_type": "code",
   "execution_count": 7,
   "metadata": {},
   "outputs": [],
   "source": [
    "df_stacking = pd.read_csv('./results/result_20180809b_stacking.csv', names=['ID', 'TARGET'])"
   ]
  },
  {
   "cell_type": "code",
   "execution_count": 8,
   "metadata": {
    "collapsed": true
   },
   "outputs": [],
   "source": [
    "def get_score(pred1, pred2):\n",
    "    rmsetmp = sp.sqrt(sp.mean((pred1 - pred2) ** 2))\n",
    "    print(rmsetmp)\n",
    "    score = 1 / (1 + rmsetmp)\n",
    "    \n",
    "    return score"
   ]
  },
  {
   "cell_type": "code",
   "execution_count": 9,
   "metadata": {},
   "outputs": [
    {
     "name": "stdout",
     "output_type": "stream",
     "text": [
      "0.046682785693931805\n"
     ]
    },
    {
     "data": {
      "text/plain": [
       "0.9553992992604899"
      ]
     },
     "execution_count": 9,
     "metadata": {},
     "output_type": "execute_result"
    }
   ],
   "source": [
    "get_score(df_stacking['TARGET'], df_lightgbm['TARGET'])"
   ]
  },
  {
   "cell_type": "code",
   "execution_count": 10,
   "metadata": {
    "collapsed": true
   },
   "outputs": [],
   "source": [
    "test_data = pd.read_csv('../raw/public.test.csv')"
   ]
  },
  {
   "cell_type": "code",
   "execution_count": 11,
   "metadata": {
    "collapsed": true
   },
   "outputs": [],
   "source": [
    "df_result = pd.DataFrame()\n",
    "df_result['ID'] = test_data['ID']\n",
    "special_missing_ID = test_data[test_data['平均功率'] == 0]['ID'] "
   ]
  },
  {
   "cell_type": "code",
   "execution_count": 27,
   "metadata": {
    "collapsed": true
   },
   "outputs": [],
   "source": [
    "df_result['TARGET'] = df_lightgbm['TARGET']*0.3 + df_8485['TARGET']*0.7"
   ]
  },
  {
   "cell_type": "code",
   "execution_count": 28,
   "metadata": {},
   "outputs": [
    {
     "data": {
      "text/html": [
       "<div>\n",
       "<style scoped>\n",
       "    .dataframe tbody tr th:only-of-type {\n",
       "        vertical-align: middle;\n",
       "    }\n",
       "\n",
       "    .dataframe tbody tr th {\n",
       "        vertical-align: top;\n",
       "    }\n",
       "\n",
       "    .dataframe thead th {\n",
       "        text-align: right;\n",
       "    }\n",
       "</style>\n",
       "<table border=\"1\" class=\"dataframe\">\n",
       "  <thead>\n",
       "    <tr style=\"text-align: right;\">\n",
       "      <th></th>\n",
       "      <th>ID</th>\n",
       "      <th>TARGET</th>\n",
       "    </tr>\n",
       "  </thead>\n",
       "  <tbody>\n",
       "    <tr>\n",
       "      <th>0</th>\n",
       "      <td>1</td>\n",
       "      <td>0.379993</td>\n",
       "    </tr>\n",
       "    <tr>\n",
       "      <th>425</th>\n",
       "      <td>940</td>\n",
       "      <td>0.379993</td>\n",
       "    </tr>\n",
       "    <tr>\n",
       "      <th>754</th>\n",
       "      <td>1694</td>\n",
       "      <td>0.379993</td>\n",
       "    </tr>\n",
       "    <tr>\n",
       "      <th>841</th>\n",
       "      <td>1879</td>\n",
       "      <td>0.379993</td>\n",
       "    </tr>\n",
       "    <tr>\n",
       "      <th>1276</th>\n",
       "      <td>2823</td>\n",
       "      <td>0.379993</td>\n",
       "    </tr>\n",
       "    <tr>\n",
       "      <th>1427</th>\n",
       "      <td>3202</td>\n",
       "      <td>0.379993</td>\n",
       "    </tr>\n",
       "    <tr>\n",
       "      <th>1979</th>\n",
       "      <td>4459</td>\n",
       "      <td>0.379993</td>\n",
       "    </tr>\n",
       "    <tr>\n",
       "      <th>2068</th>\n",
       "      <td>4648</td>\n",
       "      <td>0.379993</td>\n",
       "    </tr>\n",
       "    <tr>\n",
       "      <th>2139</th>\n",
       "      <td>4821</td>\n",
       "      <td>0.379993</td>\n",
       "    </tr>\n",
       "    <tr>\n",
       "      <th>2217</th>\n",
       "      <td>5010</td>\n",
       "      <td>0.379993</td>\n",
       "    </tr>\n",
       "    <tr>\n",
       "      <th>2218</th>\n",
       "      <td>5013</td>\n",
       "      <td>0.379993</td>\n",
       "    </tr>\n",
       "    <tr>\n",
       "      <th>2240</th>\n",
       "      <td>5074</td>\n",
       "      <td>0.379993</td>\n",
       "    </tr>\n",
       "    <tr>\n",
       "      <th>2241</th>\n",
       "      <td>5077</td>\n",
       "      <td>0.379993</td>\n",
       "    </tr>\n",
       "    <tr>\n",
       "      <th>2335</th>\n",
       "      <td>5281</td>\n",
       "      <td>0.379993</td>\n",
       "    </tr>\n",
       "    <tr>\n",
       "      <th>2336</th>\n",
       "      <td>5292</td>\n",
       "      <td>0.379993</td>\n",
       "    </tr>\n",
       "    <tr>\n",
       "      <th>2419</th>\n",
       "      <td>5508</td>\n",
       "      <td>0.379993</td>\n",
       "    </tr>\n",
       "    <tr>\n",
       "      <th>2617</th>\n",
       "      <td>5911</td>\n",
       "      <td>0.379993</td>\n",
       "    </tr>\n",
       "    <tr>\n",
       "      <th>2706</th>\n",
       "      <td>6121</td>\n",
       "      <td>0.379993</td>\n",
       "    </tr>\n",
       "    <tr>\n",
       "      <th>2906</th>\n",
       "      <td>6531</td>\n",
       "      <td>0.379993</td>\n",
       "    </tr>\n",
       "    <tr>\n",
       "      <th>2907</th>\n",
       "      <td>6534</td>\n",
       "      <td>0.379993</td>\n",
       "    </tr>\n",
       "    <tr>\n",
       "      <th>3652</th>\n",
       "      <td>8146</td>\n",
       "      <td>0.379993</td>\n",
       "    </tr>\n",
       "    <tr>\n",
       "      <th>3705</th>\n",
       "      <td>8245</td>\n",
       "      <td>0.379993</td>\n",
       "    </tr>\n",
       "    <tr>\n",
       "      <th>3741</th>\n",
       "      <td>8310</td>\n",
       "      <td>0.379993</td>\n",
       "    </tr>\n",
       "    <tr>\n",
       "      <th>3831</th>\n",
       "      <td>8488</td>\n",
       "      <td>0.379993</td>\n",
       "    </tr>\n",
       "    <tr>\n",
       "      <th>4122</th>\n",
       "      <td>9088</td>\n",
       "      <td>0.379993</td>\n",
       "    </tr>\n",
       "    <tr>\n",
       "      <th>4223</th>\n",
       "      <td>9296</td>\n",
       "      <td>0.379993</td>\n",
       "    </tr>\n",
       "    <tr>\n",
       "      <th>4335</th>\n",
       "      <td>9505</td>\n",
       "      <td>0.379993</td>\n",
       "    </tr>\n",
       "    <tr>\n",
       "      <th>4426</th>\n",
       "      <td>9719</td>\n",
       "      <td>0.379993</td>\n",
       "    </tr>\n",
       "    <tr>\n",
       "      <th>4505</th>\n",
       "      <td>9916</td>\n",
       "      <td>0.379993</td>\n",
       "    </tr>\n",
       "    <tr>\n",
       "      <th>4603</th>\n",
       "      <td>10124</td>\n",
       "      <td>0.379993</td>\n",
       "    </tr>\n",
       "    <tr>\n",
       "      <th>4708</th>\n",
       "      <td>10335</td>\n",
       "      <td>0.379993</td>\n",
       "    </tr>\n",
       "    <tr>\n",
       "      <th>4906</th>\n",
       "      <td>10736</td>\n",
       "      <td>0.379993</td>\n",
       "    </tr>\n",
       "    <tr>\n",
       "      <th>5016</th>\n",
       "      <td>10917</td>\n",
       "      <td>0.379993</td>\n",
       "    </tr>\n",
       "    <tr>\n",
       "      <th>5127</th>\n",
       "      <td>11119</td>\n",
       "      <td>0.379993</td>\n",
       "    </tr>\n",
       "    <tr>\n",
       "      <th>5536</th>\n",
       "      <td>11963</td>\n",
       "      <td>0.379993</td>\n",
       "    </tr>\n",
       "    <tr>\n",
       "      <th>6435</th>\n",
       "      <td>13830</td>\n",
       "      <td>0.379993</td>\n",
       "    </tr>\n",
       "    <tr>\n",
       "      <th>6529</th>\n",
       "      <td>14032</td>\n",
       "      <td>0.379993</td>\n",
       "    </tr>\n",
       "    <tr>\n",
       "      <th>6636</th>\n",
       "      <td>14243</td>\n",
       "      <td>0.379993</td>\n",
       "    </tr>\n",
       "    <tr>\n",
       "      <th>6744</th>\n",
       "      <td>14457</td>\n",
       "      <td>0.379993</td>\n",
       "    </tr>\n",
       "    <tr>\n",
       "      <th>7167</th>\n",
       "      <td>15299</td>\n",
       "      <td>0.379993</td>\n",
       "    </tr>\n",
       "    <tr>\n",
       "      <th>7254</th>\n",
       "      <td>15508</td>\n",
       "      <td>0.379993</td>\n",
       "    </tr>\n",
       "    <tr>\n",
       "      <th>7562</th>\n",
       "      <td>16144</td>\n",
       "      <td>0.379993</td>\n",
       "    </tr>\n",
       "    <tr>\n",
       "      <th>7666</th>\n",
       "      <td>16348</td>\n",
       "      <td>0.379993</td>\n",
       "    </tr>\n",
       "    <tr>\n",
       "      <th>7942</th>\n",
       "      <td>16925</td>\n",
       "      <td>0.379993</td>\n",
       "    </tr>\n",
       "    <tr>\n",
       "      <th>8146</th>\n",
       "      <td>17342</td>\n",
       "      <td>0.379993</td>\n",
       "    </tr>\n",
       "    <tr>\n",
       "      <th>8242</th>\n",
       "      <td>17527</td>\n",
       "      <td>0.379993</td>\n",
       "    </tr>\n",
       "  </tbody>\n",
       "</table>\n",
       "</div>"
      ],
      "text/plain": [
       "         ID    TARGET\n",
       "0         1  0.379993\n",
       "425     940  0.379993\n",
       "754    1694  0.379993\n",
       "841    1879  0.379993\n",
       "1276   2823  0.379993\n",
       "1427   3202  0.379993\n",
       "1979   4459  0.379993\n",
       "2068   4648  0.379993\n",
       "2139   4821  0.379993\n",
       "2217   5010  0.379993\n",
       "2218   5013  0.379993\n",
       "2240   5074  0.379993\n",
       "2241   5077  0.379993\n",
       "2335   5281  0.379993\n",
       "2336   5292  0.379993\n",
       "2419   5508  0.379993\n",
       "2617   5911  0.379993\n",
       "2706   6121  0.379993\n",
       "2906   6531  0.379993\n",
       "2907   6534  0.379993\n",
       "3652   8146  0.379993\n",
       "3705   8245  0.379993\n",
       "3741   8310  0.379993\n",
       "3831   8488  0.379993\n",
       "4122   9088  0.379993\n",
       "4223   9296  0.379993\n",
       "4335   9505  0.379993\n",
       "4426   9719  0.379993\n",
       "4505   9916  0.379993\n",
       "4603  10124  0.379993\n",
       "4708  10335  0.379993\n",
       "4906  10736  0.379993\n",
       "5016  10917  0.379993\n",
       "5127  11119  0.379993\n",
       "5536  11963  0.379993\n",
       "6435  13830  0.379993\n",
       "6529  14032  0.379993\n",
       "6636  14243  0.379993\n",
       "6744  14457  0.379993\n",
       "7167  15299  0.379993\n",
       "7254  15508  0.379993\n",
       "7562  16144  0.379993\n",
       "7666  16348  0.379993\n",
       "7942  16925  0.379993\n",
       "8146  17342  0.379993\n",
       "8242  17527  0.379993"
      ]
     },
     "execution_count": 28,
     "metadata": {},
     "output_type": "execute_result"
    }
   ],
   "source": [
    "index = df_result[df_result['ID'].isin(special_missing_ID)].index\n",
    "df_result.loc[index, 'TARGET'] = 0.379993053\n",
    "df_result.loc[index]"
   ]
  },
  {
   "cell_type": "code",
   "execution_count": 30,
   "metadata": {
    "scrolled": true
   },
   "outputs": [
    {
     "name": "stdout",
     "output_type": "stream",
     "text": [
      "0.015108624416179862\n"
     ]
    },
    {
     "data": {
      "text/plain": [
       "0.9851162485937215"
      ]
     },
     "execution_count": 30,
     "metadata": {},
     "output_type": "execute_result"
    }
   ],
   "source": [
    "get_score(df_result['TARGET'], df_8485['TARGET'])"
   ]
  },
  {
   "cell_type": "code",
   "execution_count": 29,
   "metadata": {},
   "outputs": [
    {
     "name": "stdout",
     "output_type": "stream",
     "text": [
      "0.034986405068159754\n"
     ]
    },
    {
     "data": {
      "text/plain": [
       "0.9661962660602718"
      ]
     },
     "execution_count": 29,
     "metadata": {},
     "output_type": "execute_result"
    }
   ],
   "source": [
    "get_score(df_result['TARGET'], df_lightgbm['TARGET'])"
   ]
  },
  {
   "cell_type": "code",
   "execution_count": 31,
   "metadata": {
    "collapsed": true
   },
   "outputs": [],
   "source": [
    "df_result.to_csv('./results/result_20180810c_ensemble.csv',index=False, header=False)"
   ]
  }
 ],
 "metadata": {
  "kernelspec": {
   "display_name": "Python 3",
   "language": "python",
   "name": "python3"
  },
  "language_info": {
   "codemirror_mode": {
    "name": "ipython",
    "version": 3
   },
   "file_extension": ".py",
   "mimetype": "text/x-python",
   "name": "python",
   "nbconvert_exporter": "python",
   "pygments_lexer": "ipython3",
   "version": "3.6.3"
  },
  "toc": {
   "nav_menu": {},
   "number_sections": true,
   "sideBar": true,
   "skip_h1_title": false,
   "toc_cell": false,
   "toc_position": {},
   "toc_section_display": "block",
   "toc_window_display": false
  }
 },
 "nbformat": 4,
 "nbformat_minor": 2
}
