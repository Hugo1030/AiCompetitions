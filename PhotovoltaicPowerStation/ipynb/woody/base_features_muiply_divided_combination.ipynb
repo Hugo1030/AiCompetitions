{
 "cells": [
  {
   "cell_type": "markdown",
   "metadata": {},
   "source": [
    "思路：  \n",
    "1、使用沥川清理的数据  \n",
    "2、使用板温、场温、光照强度、A/B/C转换效率、A/B/C电压、A/B/C电流、风速、风向这几个基础特征  \n",
    "3、使用基础特征两两相乘、两两相除得到新的特征(相除的过程为了避免分母为0的情况，给分母都加了0.01）"
   ]
  },
  {
   "cell_type": "code",
   "execution_count": 46,
   "metadata": {},
   "outputs": [],
   "source": [
    "import pandas as pd\n",
    "import numpy as np\n",
    "\n",
    "import matplotlib.pyplot as plt\n",
    "plt.style.use('fivethirtyeight')\n",
    "\n",
    "import seaborn as sns\n",
    "color = sns.color_palette()\n",
    "sns.set_style('darkgrid')\n",
    "\n",
    "import warnings\n",
    "warnings.filterwarnings('ignore') \n",
    "from scipy import stats\n",
    "%matplotlib inline"
   ]
  },
  {
   "cell_type": "code",
   "execution_count": 47,
   "metadata": {},
   "outputs": [],
   "source": [
    "data_train=pd.read_csv('train_data_li.csv')\n",
    "data_test=pd.read_csv('test_data_li.csv')"
   ]
  },
  {
   "cell_type": "code",
   "execution_count": 48,
   "metadata": {},
   "outputs": [],
   "source": [
    "base_col=['plate_temperature', 'site_temperature', 'light_intensity',  'A_conversion_efficiency', 'B_conversion_efficiency', 'C_conversion_efficiency', 'A_voltage','B_Voltage', 'C_Voltage', 'A_Current', 'B_Current', 'C_Current','Wind_Speed','wind_direction']"
   ]
  },
  {
   "cell_type": "code",
   "execution_count": 49,
   "metadata": {},
   "outputs": [
    {
     "data": {
      "text/plain": [
       "14"
      ]
     },
     "execution_count": 49,
     "metadata": {},
     "output_type": "execute_result"
    }
   ],
   "source": [
    "len(base_col)"
   ]
  },
  {
   "cell_type": "code",
   "execution_count": 50,
   "metadata": {},
   "outputs": [],
   "source": [
    "data_train_ex=data_train[base_col]"
   ]
  },
  {
   "cell_type": "code",
   "execution_count": 51,
   "metadata": {},
   "outputs": [],
   "source": [
    "data_train_ex['power_generation']=data_train['power_generation']"
   ]
  },
  {
   "cell_type": "code",
   "execution_count": 52,
   "metadata": {},
   "outputs": [],
   "source": [
    "#对于元素组合乘、除（两两之间）\n",
    "for i,j in enumerate(base_col):\n",
    "    for k in range(i+1,len(base_col)):\n",
    "        col_X=j+'_X_'+base_col[k]#字段相乘命名格式：A_X_B(A*B)；\n",
    "        data_train_ex[col_X]=data_train_ex[j]*data_train_ex[base_col[k]]\n",
    "        col_D=j+'_D_'+base_col[k]#字段相除命名格式：A_D_B(A/B)；\n",
    "        data_train_ex[col_D]=data_train_ex[j]/(data_train_ex[base_col[k]]+0.01)\n",
    "        col_D_=base_col[k]+'_D_'+j\n",
    "        data_train_ex[col_D_]=data_train_ex[base_col[k]]/(data_train_ex[j]+0.01)"
   ]
  },
  {
   "cell_type": "code",
   "execution_count": 53,
   "metadata": {},
   "outputs": [],
   "source": [
    "data_test_ex=data_test[base_col]\n",
    "for i,j in enumerate(base_col):\n",
    "    for k in range(i+1,len(base_col)):\n",
    "        col_X=j+'_X_'+base_col[k]\n",
    "        data_test_ex[col_X]=data_test_ex[j]*data_test_ex[base_col[k]]\n",
    "        col_D=j+'_D_'+base_col[k]\n",
    "        data_test_ex[col_D]=data_test_ex[j]/(data_test_ex[base_col[k]]+0.01)\n",
    "        col_D_=base_col[k]+'_D_'+j\n",
    "        data_test_ex[col_D_]=data_test_ex[base_col[k]]/(data_test_ex[j]+0.01)"
   ]
  },
  {
   "cell_type": "code",
   "execution_count": 54,
   "metadata": {},
   "outputs": [],
   "source": [
    "data_train_ex.to_csv('train_data_li_ex.csv',index=None)\n",
    "data_test_ex.to_csv('test_data_li_ex.csv',index=None)"
   ]
  },
  {
   "cell_type": "code",
   "execution_count": null,
   "metadata": {},
   "outputs": [],
   "source": []
  },
  {
   "cell_type": "code",
   "execution_count": null,
   "metadata": {},
   "outputs": [],
   "source": []
  }
 ],
 "metadata": {
  "hide_input": false,
  "kernelspec": {
   "display_name": "Python 3",
   "language": "python",
   "name": "python3"
  },
  "language_info": {
   "codemirror_mode": {
    "name": "ipython",
    "version": 3
   },
   "file_extension": ".py",
   "mimetype": "text/x-python",
   "name": "python",
   "nbconvert_exporter": "python",
   "pygments_lexer": "ipython3",
   "version": "3.6.4"
  },
  "toc": {
   "base_numbering": 1,
   "nav_menu": {},
   "number_sections": true,
   "sideBar": true,
   "skip_h1_title": false,
   "title_cell": "Table of Contents",
   "title_sidebar": "Contents",
   "toc_cell": false,
   "toc_position": {},
   "toc_section_display": true,
   "toc_window_display": false
  },
  "varInspector": {
   "cols": {
    "lenName": 16,
    "lenType": 16,
    "lenVar": 40
   },
   "kernels_config": {
    "python": {
     "delete_cmd_postfix": "",
     "delete_cmd_prefix": "del ",
     "library": "var_list.py",
     "varRefreshCmd": "print(var_dic_list())"
    },
    "r": {
     "delete_cmd_postfix": ") ",
     "delete_cmd_prefix": "rm(",
     "library": "var_list.r",
     "varRefreshCmd": "cat(var_dic_list()) "
    }
   },
   "types_to_exclude": [
    "module",
    "function",
    "builtin_function_or_method",
    "instance",
    "_Feature"
   ],
   "window_display": false
  }
 },
 "nbformat": 4,
 "nbformat_minor": 2
}
