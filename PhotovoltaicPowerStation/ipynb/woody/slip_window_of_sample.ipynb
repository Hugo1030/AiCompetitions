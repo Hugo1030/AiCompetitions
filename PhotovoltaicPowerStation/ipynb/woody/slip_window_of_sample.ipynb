{
 "cells": [
  {
   "cell_type": "markdown",
   "metadata": {},
   "source": [
    " 对于样本进行滑窗：  \n",
    " 窗口径：10、50、100、150、300  \n",
    "统计指标：平均、最大、最小、总和、中位数、方差、最大最小范围  \n",
    "方法：1、test+train；2、train+test的顺序"
   ]
  },
  {
   "cell_type": "code",
   "execution_count": 1,
   "metadata": {},
   "outputs": [],
   "source": [
    "import pandas as pd\n",
    "import numpy as np\n",
    "import scipy as sp"
   ]
  },
  {
   "cell_type": "code",
   "execution_count": 23,
   "metadata": {},
   "outputs": [],
   "source": [
    "train_data=pd.read_csv('train_data_li.csv')\n",
    "test_data=pd.read_csv('test_data_li.csv')"
   ]
  },
  {
   "cell_type": "code",
   "execution_count": 10,
   "metadata": {},
   "outputs": [
    {
     "data": {
      "text/plain": [
       "(17409, 20)"
      ]
     },
     "execution_count": 10,
     "metadata": {},
     "output_type": "execute_result"
    }
   ],
   "source": [
    "train_test_li=pd.concat([train_data,test_data],axis=0).fillna(0)\n",
    "train_test_li.shape"
   ]
  },
  {
   "cell_type": "code",
   "execution_count": 21,
   "metadata": {},
   "outputs": [],
   "source": [
    "train_test_li.reset_index(inplace=True)\n",
    "train_test_li.drop(['index'],axis=1,inplace=True)"
   ]
  },
  {
   "cell_type": "code",
   "execution_count": 27,
   "metadata": {},
   "outputs": [],
   "source": [
    "train_test_li.to_csv('train_test_li.csv')"
   ]
  },
  {
   "cell_type": "code",
   "execution_count": null,
   "metadata": {},
   "outputs": [],
   "source": [
    "test_train_li=pd.concat([train_test_li[9000:],train_test_li[:9000]],axis=0)\n"
   ]
  },
  {
   "cell_type": "code",
   "execution_count": 92,
   "metadata": {},
   "outputs": [],
   "source": [
    "test_train_li.reset_index(inplace=True)\n",
    "test_train_li.drop(['index'],axis=1,inplace=True)"
   ]
  },
  {
   "cell_type": "code",
   "execution_count": 108,
   "metadata": {},
   "outputs": [],
   "source": [
    "#滑窗\n",
    "def get_moving_windows_featues(train_test_select,col):\n",
    "    train_test_select_ = pd.DataFrame({'id':train_test_select.index}) \n",
    "    window_sizes = [10,50,100,150,300 ]   # \n",
    "    for window_size in window_sizes:\n",
    "        print('Window_Size is:', window_size)\n",
    "        len_ = int(train_test_select.shape[0] - window_size)\n",
    "        for i in range(len_): \n",
    "            # Original\n",
    "            tmp = train_test_select.loc[i:i+window_size,col].copy() \n",
    "            \n",
    "            train_test_select_.loc[i,col+'_'+str(window_size)+'_mean'] = tmp.mean(axis=0)\n",
    "            train_test_select_.loc[i,col+'_'+str(window_size)+'_max'] = tmp.max(axis=0)#train.iloc[:,i*window_size:(i+1)*window_size].max(axis=0)\n",
    "            train_test_select_.loc[i,col+'_'+str(window_size)+'_min'] = tmp.min(axis=0)#train.iloc[:,i*window_size:(i+1)*window_size].min(axis=0)\n",
    "            train_test_select_.loc[i,col+'_'+str(window_size)+'_var'] = tmp.var(axis=0) #train.iloc[:,i*window_size:(i+1)*window_size].var(axis=0)\n",
    "            train_test_select_.loc[i,col+'_'+str(window_size)+'_median'] = tmp.median(axis=0)#train.iloc[:,i*window_size:(i+1)*window_size].min(axis=0)\n",
    "            train_test_select_.loc[i,col+'_'+str(window_size)+'_sum'] = tmp.sum(axis=0) #train.iloc[:,i*window_size:(i+1)*window_size].var(axis=0)\n",
    "            ## 1.New Add\n",
    "            train_test_select_.loc[i,col+'_'+str(window_size)+'_range'] = train_test_select_.loc[i,col+'_'+str(window_size)+'_max'] - train_test_select_.loc[i,col+'_'+str(window_size)+'_min']\n",
    "            \n",
    "        tmp_last=train_test_select.loc[len_:i+train_test_select.shape[0],col].copy()\n",
    "        train_test_select_.loc[len_:train_test_select.shape[0],col+'_'+str(window_size)+'_mean'] = tmp_last.mean(axis=0)\n",
    "    train_test_select_.loc[len_:train_test_select.shape[0],col+'_'+str(window_size)+'_max'] = tmp_last.max(axis=0)#train.iloc[:,i*window_size:(i+1)*window_size].max(axis=0)\n",
    "    train_test_select_.loc[len_:train_test_select.shape[0],col+'_'+str(window_size)+'_min'] = tmp_last.min(axis=0)#train.iloc[:,i*window_size:(i+1)*window_size].min(axis=0)\n",
    "    train_test_select_.loc[len_:train_test_select.shape[0],col+'_'+str(window_size)+'_var'] = tmp_last.var(axis=0) #train.iloc[:,i*window_size:(i+1)*window_size].var(axis=0)\n",
    "    train_test_select_.loc[len_:train_test_select.shape[0],col+'_'+str(window_size)+'_median'] = tmp_last.median(axis=0)#train.iloc[:,i*window_size:(i+1)*window_size].min(axis=0)\n",
    "    train_test_select_.loc[len_:train_test_select.shape[0],col+'_'+str(window_size)+'_sum'] = tmp_last.sum(axis=0) #train.iloc[:,i*window_size:(i+1)*window_size].var(axis=0)\n",
    "## 1.New Add\n",
    "    train_test_select_.loc[len_:train_test_select.shape[0],col+'_'+str(window_size)+'_range'] = train_test_select_.loc[len_:train_test_select.shape[0],col+'_'+str(window_size)+'_max'] - train_test_select_.loc[len_:train_test_select.shape[0],col+'_'+str(window_size)+'_min']\n",
    "\n",
    "    return train_test_select_"
   ]
  },
  {
   "cell_type": "code",
   "execution_count": 94,
   "metadata": {},
   "outputs": [],
   "source": [
    "cols=test_train_li.columns\n",
    "cols=list(cols)"
   ]
  },
  {
   "cell_type": "code",
   "execution_count": 100,
   "metadata": {},
   "outputs": [],
   "source": [
    "cols.remove('ID')\n",
    "cols.remove('power_generation')\n"
   ]
  },
  {
   "cell_type": "code",
   "execution_count": 112,
   "metadata": {},
   "outputs": [],
   "source": [
    "test_train_li['id']=test_train_li.index"
   ]
  },
  {
   "cell_type": "code",
   "execution_count": 116,
   "metadata": {},
   "outputs": [],
   "source": [
    "from tqdm import tqdm"
   ]
  },
  {
   "cell_type": "code",
   "execution_count": 117,
   "metadata": {},
   "outputs": [
    {
     "name": "stderr",
     "output_type": "stream",
     "text": [
      "\r",
      "  0%|          | 0/19 [00:00<?, ?it/s]"
     ]
    },
    {
     "name": "stdout",
     "output_type": "stream",
     "text": [
      "Window_Size is: 10\n",
      "Window_Size is: 50\n",
      "Window_Size is: 100\n",
      "Window_Size is: 150\n",
      "Window_Size is: 300\n"
     ]
    },
    {
     "name": "stderr",
     "output_type": "stream",
     "text": [
      "\r",
      "  5%|▌         | 1/19 [06:11<1:51:27, 371.52s/it]"
     ]
    },
    {
     "name": "stdout",
     "output_type": "stream",
     "text": [
      "Window_Size is: 10\n",
      "Window_Size is: 50\n",
      "Window_Size is: 100\n",
      "Window_Size is: 150\n",
      "Window_Size is: 300\n"
     ]
    },
    {
     "name": "stderr",
     "output_type": "stream",
     "text": [
      "\r",
      " 11%|█         | 2/19 [17:26<2:28:16, 523.31s/it]"
     ]
    },
    {
     "name": "stdout",
     "output_type": "stream",
     "text": [
      "Window_Size is: 10\n",
      "Window_Size is: 50\n",
      "Window_Size is: 100\n",
      "Window_Size is: 150\n",
      "Window_Size is: 300\n"
     ]
    },
    {
     "name": "stderr",
     "output_type": "stream",
     "text": [
      "\r",
      " 16%|█▌        | 3/19 [23:41<2:06:22, 473.88s/it]"
     ]
    },
    {
     "name": "stdout",
     "output_type": "stream",
     "text": [
      "Window_Size is: 10\n",
      "Window_Size is: 50\n",
      "Window_Size is: 100\n",
      "Window_Size is: 150\n",
      "Window_Size is: 300\n"
     ]
    },
    {
     "name": "stderr",
     "output_type": "stream",
     "text": [
      "\r",
      " 21%|██        | 4/19 [29:49<1:51:49, 447.29s/it]"
     ]
    },
    {
     "name": "stdout",
     "output_type": "stream",
     "text": [
      "Window_Size is: 10\n",
      "Window_Size is: 50\n",
      "Window_Size is: 100\n",
      "Window_Size is: 150\n",
      "Window_Size is: 300\n"
     ]
    },
    {
     "name": "stderr",
     "output_type": "stream",
     "text": [
      "\r",
      " 26%|██▋       | 5/19 [35:54<1:40:32, 430.93s/it]"
     ]
    },
    {
     "name": "stdout",
     "output_type": "stream",
     "text": [
      "Window_Size is: 10\n",
      "Window_Size is: 50\n",
      "Window_Size is: 100\n",
      "Window_Size is: 150\n",
      "Window_Size is: 300\n"
     ]
    },
    {
     "name": "stderr",
     "output_type": "stream",
     "text": [
      "\r",
      " 32%|███▏      | 6/19 [42:03<1:31:08, 420.63s/it]"
     ]
    },
    {
     "name": "stdout",
     "output_type": "stream",
     "text": [
      "Window_Size is: 10\n",
      "Window_Size is: 50\n",
      "Window_Size is: 100\n",
      "Window_Size is: 150\n",
      "Window_Size is: 300\n"
     ]
    },
    {
     "name": "stderr",
     "output_type": "stream",
     "text": [
      "\r",
      " 37%|███▋      | 7/19 [48:12<1:22:39, 413.26s/it]"
     ]
    },
    {
     "name": "stdout",
     "output_type": "stream",
     "text": [
      "Window_Size is: 10\n",
      "Window_Size is: 50\n",
      "Window_Size is: 100\n",
      "Window_Size is: 150\n",
      "Window_Size is: 300\n"
     ]
    },
    {
     "name": "stderr",
     "output_type": "stream",
     "text": [
      "\r",
      " 42%|████▏     | 8/19 [54:21<1:14:45, 407.75s/it]"
     ]
    },
    {
     "name": "stdout",
     "output_type": "stream",
     "text": [
      "Window_Size is: 10\n",
      "Window_Size is: 50\n",
      "Window_Size is: 100\n",
      "Window_Size is: 150\n",
      "Window_Size is: 300\n"
     ]
    },
    {
     "name": "stderr",
     "output_type": "stream",
     "text": [
      "\r",
      " 47%|████▋     | 9/19 [1:00:28<1:07:12, 403.21s/it]"
     ]
    },
    {
     "name": "stdout",
     "output_type": "stream",
     "text": [
      "Window_Size is: 10\n",
      "Window_Size is: 50\n",
      "Window_Size is: 100\n",
      "Window_Size is: 150\n",
      "Window_Size is: 300\n"
     ]
    },
    {
     "name": "stderr",
     "output_type": "stream",
     "text": [
      "\r",
      " 53%|█████▎    | 10/19 [1:05:39<59:05, 393.98s/it] "
     ]
    },
    {
     "name": "stdout",
     "output_type": "stream",
     "text": [
      "Window_Size is: 10\n",
      "Window_Size is: 50\n",
      "Window_Size is: 100\n",
      "Window_Size is: 150\n",
      "Window_Size is: 300\n"
     ]
    },
    {
     "name": "stderr",
     "output_type": "stream",
     "text": [
      "\r",
      " 58%|█████▊    | 11/19 [1:10:50<51:31, 386.42s/it]"
     ]
    },
    {
     "name": "stdout",
     "output_type": "stream",
     "text": [
      "Window_Size is: 10\n",
      "Window_Size is: 50\n",
      "Window_Size is: 100\n",
      "Window_Size is: 150\n",
      "Window_Size is: 300\n"
     ]
    },
    {
     "name": "stderr",
     "output_type": "stream",
     "text": [
      "\r",
      " 63%|██████▎   | 12/19 [1:16:01<44:21, 380.16s/it]"
     ]
    },
    {
     "name": "stdout",
     "output_type": "stream",
     "text": [
      "Window_Size is: 10\n",
      "Window_Size is: 50\n",
      "Window_Size is: 100\n",
      "Window_Size is: 150\n",
      "Window_Size is: 300\n"
     ]
    },
    {
     "name": "stderr",
     "output_type": "stream",
     "text": [
      "\r",
      " 68%|██████▊   | 13/19 [1:21:13<37:29, 374.92s/it]"
     ]
    },
    {
     "name": "stdout",
     "output_type": "stream",
     "text": [
      "Window_Size is: 10\n",
      "Window_Size is: 50\n",
      "Window_Size is: 100\n",
      "Window_Size is: 150\n",
      "Window_Size is: 300\n"
     ]
    },
    {
     "name": "stderr",
     "output_type": "stream",
     "text": [
      "\r",
      " 74%|███████▎  | 14/19 [1:26:24<30:51, 370.35s/it]"
     ]
    },
    {
     "name": "stdout",
     "output_type": "stream",
     "text": [
      "Window_Size is: 10\n",
      "Window_Size is: 50\n",
      "Window_Size is: 100\n",
      "Window_Size is: 150\n",
      "Window_Size is: 300\n"
     ]
    },
    {
     "name": "stderr",
     "output_type": "stream",
     "text": [
      "\r",
      " 79%|███████▉  | 15/19 [1:31:35<24:25, 366.38s/it]"
     ]
    },
    {
     "name": "stdout",
     "output_type": "stream",
     "text": [
      "Window_Size is: 10\n",
      "Window_Size is: 50\n",
      "Window_Size is: 100\n",
      "Window_Size is: 150\n",
      "Window_Size is: 300\n"
     ]
    },
    {
     "name": "stderr",
     "output_type": "stream",
     "text": [
      "\r",
      " 84%|████████▍ | 16/19 [1:36:46<18:08, 362.92s/it]"
     ]
    },
    {
     "name": "stdout",
     "output_type": "stream",
     "text": [
      "Window_Size is: 10\n",
      "Window_Size is: 50\n",
      "Window_Size is: 100\n",
      "Window_Size is: 150\n",
      "Window_Size is: 300\n"
     ]
    },
    {
     "name": "stderr",
     "output_type": "stream",
     "text": [
      "\r",
      " 89%|████████▉ | 17/19 [1:41:58<11:59, 359.89s/it]"
     ]
    },
    {
     "name": "stdout",
     "output_type": "stream",
     "text": [
      "Window_Size is: 10\n",
      "Window_Size is: 50\n",
      "Window_Size is: 100\n",
      "Window_Size is: 150\n",
      "Window_Size is: 300\n"
     ]
    },
    {
     "name": "stderr",
     "output_type": "stream",
     "text": [
      "\r",
      " 95%|█████████▍| 18/19 [1:47:06<05:57, 357.04s/it]"
     ]
    },
    {
     "name": "stdout",
     "output_type": "stream",
     "text": [
      "Window_Size is: 10\n",
      "Window_Size is: 50\n",
      "Window_Size is: 100\n",
      "Window_Size is: 150\n",
      "Window_Size is: 300\n"
     ]
    },
    {
     "name": "stderr",
     "output_type": "stream",
     "text": [
      "\r",
      "100%|██████████| 19/19 [1:52:05<00:00, 353.95s/it]"
     ]
    },
    {
     "name": "stdout",
     "output_type": "stream",
     "text": [
      "CPU times: user 1h 46min 49s, sys: 1min 45s, total: 1h 48min 34s\n",
      "Wall time: 1h 52min 5s\n"
     ]
    },
    {
     "name": "stderr",
     "output_type": "stream",
     "text": [
      "\n"
     ]
    }
   ],
   "source": [
    "%%time\n",
    "for col in tqdm(cols):\n",
    "    test_train_select_=get_moving_windows_featues(test_train_li,col)\n",
    "    test_train_li=pd.merge(test_train_li,test_train_select_)\n"
   ]
  },
  {
   "cell_type": "code",
   "execution_count": 118,
   "metadata": {},
   "outputs": [],
   "source": [
    "test_train_li.to_csv('test_train_li_all.csv',index=None)"
   ]
  },
  {
   "cell_type": "code",
   "execution_count": 122,
   "metadata": {},
   "outputs": [],
   "source": [
    "#转为上边是train的数据，下面是test的数据\n",
    "test_train_test=pd.concat([test_train_li[8409:],test_train_li[:8409]],axis=0)"
   ]
  },
  {
   "cell_type": "code",
   "execution_count": 128,
   "metadata": {},
   "outputs": [],
   "source": [
    "test_train_test.reset_index(inplace=True)\n"
   ]
  },
  {
   "cell_type": "code",
   "execution_count": 129,
   "metadata": {},
   "outputs": [],
   "source": [
    "test_train_test.rename(columns={'index': 'id' }, inplace=True)"
   ]
  },
  {
   "cell_type": "code",
   "execution_count": 131,
   "metadata": {},
   "outputs": [],
   "source": [
    "test_train_test['id']=test_train_test.index"
   ]
  },
  {
   "cell_type": "code",
   "execution_count": 134,
   "metadata": {},
   "outputs": [],
   "source": [
    "train_ex=pd.read_csv('train_data_li_ex.csv')\n",
    "test_ex=pd.read_csv('test_data_li_ex.csv')"
   ]
  },
  {
   "cell_type": "code",
   "execution_count": 149,
   "metadata": {},
   "outputs": [],
   "source": [
    "train_test_ex=pd.concat([train_ex,test_ex],axis=0).fillna(0).reset_index()"
   ]
  },
  {
   "cell_type": "code",
   "execution_count": 150,
   "metadata": {},
   "outputs": [],
   "source": [
    "del train_test_ex['index']\n",
    "train_test_ex['id']=train_test_ex.index"
   ]
  },
  {
   "cell_type": "code",
   "execution_count": 158,
   "metadata": {},
   "outputs": [],
   "source": [
    "remove_list=['light_intensity','plate_temperature', 'site_temperature', 'A_voltage','B_Voltage', 'C_Voltage', 'A_Current', 'B_Current', 'C_Current','A_conversion_efficiency','B_conversion_efficiency', 'C_conversion_efficiency', 'wind_direction','Wind_Speed']"
   ]
  },
  {
   "cell_type": "code",
   "execution_count": 159,
   "metadata": {},
   "outputs": [],
   "source": [
    "train_test_ex.drop(remove_list,axis=1,inplace=True)#合并之前去掉一些重复的特征"
   ]
  },
  {
   "cell_type": "code",
   "execution_count": 168,
   "metadata": {},
   "outputs": [],
   "source": [
    "train_test_ex.drop(['power_generation'],axis=1,inplace=True)\n",
    "                   "
   ]
  },
  {
   "cell_type": "code",
   "execution_count": 178,
   "metadata": {},
   "outputs": [],
   "source": [
    "test_train_test.drop(['id'],axis=1,inplace=True)"
   ]
  },
  {
   "cell_type": "code",
   "execution_count": 180,
   "metadata": {},
   "outputs": [],
   "source": [
    "test_train_test['id']=test_train_test.index"
   ]
  },
  {
   "cell_type": "code",
   "execution_count": 181,
   "metadata": {},
   "outputs": [],
   "source": [
    "test_train_test_all=pd.merge(test_train_test,train_test_ex)"
   ]
  },
  {
   "cell_type": "code",
   "execution_count": 183,
   "metadata": {},
   "outputs": [
    {
     "data": {
      "text/plain": [
       "(17409, 960)"
      ]
     },
     "execution_count": 183,
     "metadata": {},
     "output_type": "execute_result"
    }
   ],
   "source": [
    "test_train_test_all.shape"
   ]
  },
  {
   "cell_type": "code",
   "execution_count": 184,
   "metadata": {},
   "outputs": [],
   "source": [
    "test_train_test_all.to_csv('test_train_test_all.csv',index=None)"
   ]
  },
  {
   "cell_type": "code",
   "execution_count": 187,
   "metadata": {},
   "outputs": [],
   "source": [
    "train_test_li['id']=train_test_li.index"
   ]
  },
  {
   "cell_type": "code",
   "execution_count": 188,
   "metadata": {},
   "outputs": [
    {
     "name": "stderr",
     "output_type": "stream",
     "text": [
      "\r",
      "  0%|          | 0/19 [00:00<?, ?it/s]"
     ]
    },
    {
     "name": "stdout",
     "output_type": "stream",
     "text": [
      "Window_Size is: 10\n",
      "Window_Size is: 50\n",
      "Window_Size is: 100\n",
      "Window_Size is: 150\n",
      "Window_Size is: 300\n"
     ]
    },
    {
     "name": "stderr",
     "output_type": "stream",
     "text": [
      "\r",
      "  5%|▌         | 1/19 [06:41<2:00:33, 401.84s/it]"
     ]
    },
    {
     "name": "stdout",
     "output_type": "stream",
     "text": [
      "Window_Size is: 10\n",
      "Window_Size is: 50\n",
      "Window_Size is: 100\n",
      "Window_Size is: 150\n",
      "Window_Size is: 300\n"
     ]
    },
    {
     "name": "stderr",
     "output_type": "stream",
     "text": [
      "\r",
      " 11%|█         | 2/19 [13:00<1:50:30, 390.01s/it]"
     ]
    },
    {
     "name": "stdout",
     "output_type": "stream",
     "text": [
      "Window_Size is: 10\n",
      "Window_Size is: 50\n",
      "Window_Size is: 100\n",
      "Window_Size is: 150\n",
      "Window_Size is: 300\n"
     ]
    },
    {
     "name": "stderr",
     "output_type": "stream",
     "text": [
      "\r",
      " 16%|█▌        | 3/19 [18:09<1:36:50, 363.16s/it]"
     ]
    },
    {
     "name": "stdout",
     "output_type": "stream",
     "text": [
      "Window_Size is: 10\n",
      "Window_Size is: 50\n",
      "Window_Size is: 100\n",
      "Window_Size is: 150\n",
      "Window_Size is: 300\n"
     ]
    },
    {
     "name": "stderr",
     "output_type": "stream",
     "text": [
      "\r",
      " 21%|██        | 4/19 [23:26<1:27:55, 351.68s/it]"
     ]
    },
    {
     "name": "stdout",
     "output_type": "stream",
     "text": [
      "Window_Size is: 10\n",
      "Window_Size is: 50\n",
      "Window_Size is: 100\n",
      "Window_Size is: 150\n",
      "Window_Size is: 300\n"
     ]
    },
    {
     "name": "stderr",
     "output_type": "stream",
     "text": [
      "\r",
      " 26%|██▋       | 5/19 [28:44<1:20:28, 344.91s/it]"
     ]
    },
    {
     "name": "stdout",
     "output_type": "stream",
     "text": [
      "Window_Size is: 10\n",
      "Window_Size is: 50\n",
      "Window_Size is: 100\n",
      "Window_Size is: 150\n",
      "Window_Size is: 300\n"
     ]
    },
    {
     "name": "stderr",
     "output_type": "stream",
     "text": [
      "\r",
      " 32%|███▏      | 6/19 [33:53<1:13:26, 339.00s/it]"
     ]
    },
    {
     "name": "stdout",
     "output_type": "stream",
     "text": [
      "Window_Size is: 10\n",
      "Window_Size is: 50\n",
      "Window_Size is: 100\n",
      "Window_Size is: 150\n",
      "Window_Size is: 300\n"
     ]
    },
    {
     "name": "stderr",
     "output_type": "stream",
     "text": [
      "\r",
      " 37%|███▋      | 7/19 [39:02<1:06:55, 334.61s/it]"
     ]
    },
    {
     "name": "stdout",
     "output_type": "stream",
     "text": [
      "Window_Size is: 10\n",
      "Window_Size is: 50\n",
      "Window_Size is: 100\n",
      "Window_Size is: 150\n",
      "Window_Size is: 300\n"
     ]
    },
    {
     "name": "stderr",
     "output_type": "stream",
     "text": [
      "\r",
      " 42%|████▏     | 8/19 [44:10<1:00:44, 331.33s/it]"
     ]
    },
    {
     "name": "stdout",
     "output_type": "stream",
     "text": [
      "Window_Size is: 10\n",
      "Window_Size is: 50\n",
      "Window_Size is: 100\n",
      "Window_Size is: 150\n",
      "Window_Size is: 300\n"
     ]
    },
    {
     "name": "stderr",
     "output_type": "stream",
     "text": [
      "\r",
      " 47%|████▋     | 9/19 [49:42<55:14, 331.42s/it]  "
     ]
    },
    {
     "name": "stdout",
     "output_type": "stream",
     "text": [
      "Window_Size is: 10\n",
      "Window_Size is: 50\n",
      "Window_Size is: 100\n",
      "Window_Size is: 150\n",
      "Window_Size is: 300\n"
     ]
    },
    {
     "name": "stderr",
     "output_type": "stream",
     "text": [
      "\r",
      " 53%|█████▎    | 10/19 [54:58<49:28, 329.88s/it]"
     ]
    },
    {
     "name": "stdout",
     "output_type": "stream",
     "text": [
      "Window_Size is: 10\n",
      "Window_Size is: 50\n",
      "Window_Size is: 100\n",
      "Window_Size is: 150\n",
      "Window_Size is: 300\n"
     ]
    },
    {
     "name": "stderr",
     "output_type": "stream",
     "text": [
      "\r",
      " 58%|█████▊    | 11/19 [1:00:07<43:43, 327.97s/it]"
     ]
    },
    {
     "name": "stdout",
     "output_type": "stream",
     "text": [
      "Window_Size is: 10\n",
      "Window_Size is: 50\n",
      "Window_Size is: 100\n",
      "Window_Size is: 150\n",
      "Window_Size is: 300\n"
     ]
    },
    {
     "name": "stderr",
     "output_type": "stream",
     "text": [
      "\r",
      " 63%|██████▎   | 12/19 [1:05:22<38:08, 326.89s/it]"
     ]
    },
    {
     "name": "stdout",
     "output_type": "stream",
     "text": [
      "Window_Size is: 10\n",
      "Window_Size is: 50\n",
      "Window_Size is: 100\n",
      "Window_Size is: 150\n",
      "Window_Size is: 300\n"
     ]
    },
    {
     "name": "stderr",
     "output_type": "stream",
     "text": [
      "\r",
      " 68%|██████▊   | 13/19 [1:10:36<32:35, 325.90s/it]"
     ]
    },
    {
     "name": "stdout",
     "output_type": "stream",
     "text": [
      "Window_Size is: 10\n",
      "Window_Size is: 50\n",
      "Window_Size is: 100\n",
      "Window_Size is: 150\n",
      "Window_Size is: 300\n"
     ]
    },
    {
     "name": "stderr",
     "output_type": "stream",
     "text": [
      "\r",
      " 74%|███████▎  | 14/19 [1:15:50<27:05, 325.00s/it]"
     ]
    },
    {
     "name": "stdout",
     "output_type": "stream",
     "text": [
      "Window_Size is: 10\n",
      "Window_Size is: 50\n",
      "Window_Size is: 100\n",
      "Window_Size is: 150\n",
      "Window_Size is: 300\n"
     ]
    },
    {
     "name": "stderr",
     "output_type": "stream",
     "text": [
      "\r",
      " 79%|███████▉  | 15/19 [1:21:00<21:36, 324.01s/it]"
     ]
    },
    {
     "name": "stdout",
     "output_type": "stream",
     "text": [
      "Window_Size is: 10\n",
      "Window_Size is: 50\n",
      "Window_Size is: 100\n",
      "Window_Size is: 150\n",
      "Window_Size is: 300\n"
     ]
    },
    {
     "name": "stderr",
     "output_type": "stream",
     "text": [
      "\r",
      " 84%|████████▍ | 16/19 [1:26:09<16:09, 323.12s/it]"
     ]
    },
    {
     "name": "stdout",
     "output_type": "stream",
     "text": [
      "Window_Size is: 10\n",
      "Window_Size is: 50\n",
      "Window_Size is: 100\n",
      "Window_Size is: 150\n",
      "Window_Size is: 300\n"
     ]
    },
    {
     "name": "stderr",
     "output_type": "stream",
     "text": [
      "\r",
      " 89%|████████▉ | 17/19 [1:31:19<10:44, 322.35s/it]"
     ]
    },
    {
     "name": "stdout",
     "output_type": "stream",
     "text": [
      "Window_Size is: 10\n",
      "Window_Size is: 50\n",
      "Window_Size is: 100\n",
      "Window_Size is: 150\n",
      "Window_Size is: 300\n"
     ]
    },
    {
     "name": "stderr",
     "output_type": "stream",
     "text": [
      "\r",
      " 95%|█████████▍| 18/19 [1:36:30<05:21, 321.67s/it]"
     ]
    },
    {
     "name": "stdout",
     "output_type": "stream",
     "text": [
      "Window_Size is: 10\n",
      "Window_Size is: 50\n",
      "Window_Size is: 100\n",
      "Window_Size is: 150\n",
      "Window_Size is: 300\n"
     ]
    },
    {
     "name": "stderr",
     "output_type": "stream",
     "text": [
      "100%|██████████| 19/19 [1:41:40<00:00, 321.08s/it]\n"
     ]
    }
   ],
   "source": [
    "for col in tqdm(cols):\n",
    "    train_test_select_=get_moving_windows_featues(train_test_li,col)\n",
    "    train_test_li=pd.merge(train_test_li,train_test_select_)"
   ]
  },
  {
   "cell_type": "code",
   "execution_count": 189,
   "metadata": {},
   "outputs": [],
   "source": [
    "train_test_train_all=pd.merge(train_test_li,train_test_ex)\n",
    "train_test_train_all.to_csv('train_test_train_all.csv',index=None)"
   ]
  },
  {
   "cell_type": "code",
   "execution_count": 147,
   "metadata": {},
   "outputs": [],
   "source": []
  }
 ],
 "metadata": {
  "hide_input": false,
  "kernelspec": {
   "display_name": "Python 3",
   "language": "python",
   "name": "python3"
  },
  "language_info": {
   "codemirror_mode": {
    "name": "ipython",
    "version": 3
   },
   "file_extension": ".py",
   "mimetype": "text/x-python",
   "name": "python",
   "nbconvert_exporter": "python",
   "pygments_lexer": "ipython3",
   "version": "3.6.4"
  },
  "toc": {
   "base_numbering": 1,
   "nav_menu": {},
   "number_sections": true,
   "sideBar": true,
   "skip_h1_title": false,
   "title_cell": "Table of Contents",
   "title_sidebar": "Contents",
   "toc_cell": false,
   "toc_position": {},
   "toc_section_display": true,
   "toc_window_display": false
  },
  "varInspector": {
   "cols": {
    "lenName": 16,
    "lenType": 16,
    "lenVar": 40
   },
   "kernels_config": {
    "python": {
     "delete_cmd_postfix": "",
     "delete_cmd_prefix": "del ",
     "library": "var_list.py",
     "varRefreshCmd": "print(var_dic_list())"
    },
    "r": {
     "delete_cmd_postfix": ") ",
     "delete_cmd_prefix": "rm(",
     "library": "var_list.r",
     "varRefreshCmd": "cat(var_dic_list()) "
    }
   },
   "types_to_exclude": [
    "module",
    "function",
    "builtin_function_or_method",
    "instance",
    "_Feature"
   ],
   "window_display": false
  }
 },
 "nbformat": 4,
 "nbformat_minor": 2
}
