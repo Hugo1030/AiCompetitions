{
 "cells": [
  {
   "cell_type": "code",
   "execution_count": 1,
   "metadata": {},
   "outputs": [],
   "source": [
    "import pandas as pd\n",
    "import numpy as np\n",
    "import lightgbm as lgb\n",
    "import xgboost as xgb\n",
    "import scipy as sp"
   ]
  },
  {
   "cell_type": "code",
   "execution_count": 2,
   "metadata": {},
   "outputs": [],
   "source": [
    "train_data=pd.read_csv('train_data_li_ex.csv')#沥川清洗数据\n",
    "test_data=pd.read_csv('test_data_li_ex.csv')"
   ]
  },
  {
   "cell_type": "code",
   "execution_count": 3,
   "metadata": {},
   "outputs": [],
   "source": [
    "submit_data=pd.read_csv('submit_example.csv',header=None)\n",
    "submit_data.columns=['ID','发电量']"
   ]
  },
  {
   "cell_type": "code",
   "execution_count": 4,
   "metadata": {},
   "outputs": [],
   "source": [
    "#皮尔森相关系数0.70以上\n",
    "list_att=['B_Voltage_X_A_Current', 'C_Voltage_X_A_Current',\n",
    "       'A_voltage_X_A_Current', 'light_intensity_X_A_conversion_efficiency',\n",
    "       'A_Current', 'B_Voltage_X_C_Current', 'A_voltage_X_C_Current',\n",
    "       'C_Current', 'C_Voltage_X_C_Current',\n",
    "       'light_intensity_X_C_conversion_efficiency', 'A_voltage_X_B_Current',\n",
    "       'B_Current', 'C_Voltage_X_B_Current', 'B_Voltage_X_B_Current',\n",
    "       'light_intensity_X_B_conversion_efficiency', 'A_Current_X_C_Current',\n",
    "       'A_Current_X_B_Current', 'B_Current_X_C_Current',\n",
    "       'light_intensity_X_A_Current', 'light_intensity_X_B_Current',\n",
    "       'light_intensity_X_C_Current', 'light_intensity_X_A_voltage',\n",
    "       'light_intensity_X_B_Voltage', 'light_intensity_X_C_Voltage',\n",
    "       'light_intensity', 'A_Current_X_wind_direction',\n",
    "       'C_Current_X_wind_direction', 'B_Current_X_wind_direction',\n",
    "       'light_intensity_X_wind_direction', 'A_Current_X_Wind_Speed',\n",
    "       'B_Current_X_Wind_Speed', 'C_Current_X_Wind_Speed',\n",
    "       'plate_temperature_X_C_Current', 'plate_temperature_X_A_Current',\n",
    "       'plate_temperature_X_B_Current', 'plate_temperature_X_light_intensity',\n",
    "       'light_intensity_X_Wind_Speed']"
   ]
  },
  {
   "cell_type": "code",
   "execution_count": 26,
   "metadata": {},
   "outputs": [],
   "source": [
    "#train_data_li_ex\n",
    "list_att=['B_Voltage_X_A_Current', 'C_Voltage_X_A_Current',\n",
    "       'A_voltage_X_A_Current', 'light_intensity_X_A_conversion_efficiency',\n",
    "       'A_Current', 'B_Voltage_X_C_Current', 'A_voltage_X_C_Current',\n",
    "       'C_Current', 'C_Voltage_X_C_Current',\n",
    "       'light_intensity_X_C_conversion_efficiency', 'A_voltage_X_B_Current',\n",
    "       'B_Current', 'C_Voltage_X_B_Current', 'B_Voltage_X_B_Current',\n",
    "       'light_intensity_X_B_conversion_efficiency', 'A_Current_X_C_Current',\n",
    "       'A_Current_X_B_Current', 'B_Current_X_C_Current',\n",
    "       'light_intensity_X_A_Current', 'light_intensity_X_B_Current',\n",
    "       'light_intensity_X_C_Current', 'light_intensity_X_A_voltage',\n",
    "       'light_intensity_X_B_Voltage', 'light_intensity_X_C_Voltage',\n",
    "       'light_intensity', 'A_Current_X_wind_direction',\n",
    "       'C_Current_X_wind_direction', 'B_Current_X_wind_direction',\n",
    "       'light_intensity_X_wind_direction', 'A_Current_X_Wind_Speed',\n",
    "       'B_Current_X_Wind_Speed', 'C_Current_X_Wind_Speed',\n",
    "       'plate_temperature_X_C_Current', 'plate_temperature_X_A_Current',\n",
    "       'plate_temperature_X_B_Current', 'plate_temperature_X_light_intensity',\n",
    "       'light_intensity_X_Wind_Speed', 'A_conversion_efficiency_X_B_Current',\n",
    "       'C_conversion_efficiency_X_B_Current',\n",
    "       'B_conversion_efficiency_X_C_Current', 'plate_temperature_X_A_voltage',\n",
    "       'plate_temperature_X_C_Voltage', 'plate_temperature_X_B_Voltage',\n",
    "       'plate_temperature', 'A_conversion_efficiency_X_C_Current',\n",
    "       'A_conversion_efficiency_X_A_Current',\n",
    "       'C_conversion_efficiency_X_A_Current',\n",
    "       'plate_temperature_X_wind_direction',\n",
    "       'B_conversion_efficiency_X_A_Current',\n",
    "       'C_conversion_efficiency_X_C_Current',\n",
    "       'B_conversion_efficiency_X_B_Current',\n",
    "       'plate_temperature_X_B_conversion_efficiency', 'C_Current_D_A_voltage',\n",
    "       'light_intensity_D_A_conversion_efficiency',\n",
    "       'plate_temperature_X_A_conversion_efficiency',\n",
    "       'plate_temperature_X_Wind_Speed',\n",
    "       'plate_temperature_X_C_conversion_efficiency',\n",
    "       'plate_temperature_D_A_Current', 'plate_temperature_D_Wind_Speed',\n",
    "       'plate_temperature_D_C_Current', 'site_temperature_D_A_Current',\n",
    "       'Wind_Speed_X_wind_direction', 'wind_direction',\n",
    "       ]"
   ]
  },
  {
   "cell_type": "code",
   "execution_count": 27,
   "metadata": {},
   "outputs": [],
   "source": [
    "train_x=train_data[list_att][:8500]\n",
    "train_y=train_data['power_generation'][:8500]"
   ]
  },
  {
   "cell_type": "code",
   "execution_count": 28,
   "metadata": {},
   "outputs": [],
   "source": [
    "val_x=train_data[list_att][8500:]\n",
    "val_y=train_data['power_generation'][8500:]"
   ]
  },
  {
   "cell_type": "code",
   "execution_count": 29,
   "metadata": {},
   "outputs": [],
   "source": [
    "test_x=test_data[list_att]"
   ]
  },
  {
   "cell_type": "markdown",
   "metadata": {},
   "source": [
    "## XGboost"
   ]
  },
  {
   "cell_type": "code",
   "execution_count": 9,
   "metadata": {},
   "outputs": [
    {
     "name": "stdout",
     "output_type": "stream",
     "text": [
      "0.853559283957\n"
     ]
    }
   ],
   "source": [
    "trainset = xgb.DMatrix(train_x, label=train_y)\n",
    "valset = xgb.DMatrix(val_x)\n",
    "testset=xgb.DMatrix(test_x)\n",
    "params = {\n",
    "    'booster': 'gbtree', # 基于树的模型进行计算\n",
    "    'objective': 'reg:linear', # 线性回归\n",
    "    'eval_metric': 'rmse', # RMSE 评价函数\n",
    "    'gamma': 0.1, # 在树的叶子节点上进一步划分所需的最小损失减少。算法越大，越保守。\n",
    "    'min_child_weight': 1.1, # 孩子节点中最小的样本权重和。如果一个叶子节点的样本权重和小于min_child_weight则拆分过程结束。\n",
    "    'max_depth': 5, # 树的最大深度。缺省值为6\n",
    "    'lambda': 10, # L3 正则的惩罚系数\n",
    "    'subsample': 0.8, # 用于训练模型的子样本占整个样本集合的比例。\n",
    "    'colsample_bytree':1 , # 在建立树时对特征采样的比例。\n",
    "    'tree_method': 'exact' # 树的构造算法-Exact greedy algorithm(确切贪心算法)\n",
    "    }\n",
    "    \n",
    "model = xgb.train(params, trainset, num_boost_round=2000)\n",
    "predict_xgb = model.predict(valset)\n",
    "score=1/(1+np.sqrt(np.average(np.square(predict_xgb-val_y.values))))\n",
    "print(score)"
   ]
  },
  {
   "cell_type": "code",
   "execution_count": 10,
   "metadata": {},
   "outputs": [],
   "source": [
    "predict_xgb_sub = model.predict(testset)"
   ]
  },
  {
   "cell_type": "code",
   "execution_count": 11,
   "metadata": {},
   "outputs": [],
   "source": [
    "submit_data['发电量']=predict_xgb_sub"
   ]
  },
  {
   "cell_type": "code",
   "execution_count": 12,
   "metadata": {},
   "outputs": [],
   "source": [
    "submit_data.to_csv('submit/result_0805_XGBoost_1.csv',index=False, header=None) "
   ]
  },
  {
   "cell_type": "code",
   "execution_count": null,
   "metadata": {},
   "outputs": [],
   "source": [
    "0.8535"
   ]
  },
  {
   "cell_type": "markdown",
   "metadata": {},
   "source": [
    "## GBDT"
   ]
  },
  {
   "cell_type": "code",
   "execution_count": 9,
   "metadata": {},
   "outputs": [],
   "source": [
    "from sklearn.model_selection import train_test_split, cross_val_score, KFold\n",
    "from sklearn.ensemble import GradientBoostingRegressor, RandomForestRegressor"
   ]
  },
  {
   "cell_type": "code",
   "execution_count": 40,
   "metadata": {},
   "outputs": [
    {
     "name": "stdout",
     "output_type": "stream",
     "text": [
      "0.881421232838\n"
     ]
    }
   ],
   "source": [
    "est = GradientBoostingRegressor(n_estimators=5000, learning_rate=0.01,\n",
    "                                   max_depth=6, max_features='sqrt',\n",
    "                                   min_samples_leaf=1, min_samples_split=10,\n",
    "                                   loss='huber',random_state=42).fit(train_x, train_y)\n",
    "gbdt_pred = est.predict(val_x)\n",
    "score=1/(1+np.sqrt(np.average(np.square(gbdt_pred-val_y.values))))\n",
    "print(score)"
   ]
  },
  {
   "cell_type": "code",
   "execution_count": null,
   "metadata": {},
   "outputs": [],
   "source": [
    "est = GradientBoostingRegressor(n_estimators=5000, learning_rate=0.01,\n",
    "                                   max_depth=5, max_features='sqrt',\n",
    "                                   min_samples_leaf=1, min_samples_split=2,\n",
    "                                   loss='huber',random_state=42).fit(train_x, train_y)\n",
    "gbdt_pred = est.predict(val_x)\n",
    "score=1/(1+np.sqrt(np.average(np.square(gbdt_pred-val_y.values))))\n",
    "print(score)"
   ]
  },
  {
   "cell_type": "markdown",
   "metadata": {},
   "source": [
    "历次线下成绩\n",
    "0.86890016021\n",
    "0.864988414897\n",
    "0.865329251732\n",
    "0.871572079478\n",
    "0.8736 min_samples_split=15\n",
    "0.872679296451\n",
    "0.877096033043/0.83588\n",
    "0.8820/0.8838\n",
    "0.88292312227/\n",
    "0.8555\n",
    "0.879806053751\n",
    "0.8766\n",
    "0.881082405649\n",
    "0.882457554823"
   ]
  },
  {
   "cell_type": "code",
   "execution_count": 16,
   "metadata": {},
   "outputs": [],
   "source": [
    "est = GradientBoostingRegressor(n_estimators=5000, learning_rate=0.01,\n",
    "                                   max_depth=6, max_features='sqrt',\n",
    "                                   min_samples_leaf=13, min_samples_split=15,\n",
    "                                   loss='huber').fit(train_data[list_att], train_data['power_generation'])\n",
    "gbdt_pred = est.predict(test_data[list_att])"
   ]
  },
  {
   "cell_type": "code",
   "execution_count": 17,
   "metadata": {},
   "outputs": [],
   "source": [
    "submit_data['发电量']=gbdt_pred\n",
    "submit_data.to_csv('submit/result_180805_gbdt_1.csv',index=False, header=None) "
   ]
  },
  {
   "cell_type": "markdown",
   "metadata": {},
   "source": [
    "## 线性回归"
   ]
  },
  {
   "cell_type": "code",
   "execution_count": 33,
   "metadata": {},
   "outputs": [
    {
     "name": "stderr",
     "output_type": "stream",
     "text": [
      "/anaconda/envs/py36/lib/python3.6/site-packages/sklearn/cross_validation.py:41: DeprecationWarning: This module was deprecated in version 0.18 in favor of the model_selection module into which all the refactored classes and functions are moved. Also note that the interface of the new CV iterators are different from that of this module. This module will be removed in 0.20.\n",
      "  \"This module will be removed in 0.20.\", DeprecationWarning)\n"
     ]
    }
   ],
   "source": [
    "from sklearn import cross_validation\n",
    "from sklearn import linear_model"
   ]
  },
  {
   "cell_type": "code",
   "execution_count": 34,
   "metadata": {},
   "outputs": [],
   "source": [
    "from sklearn.metrics import mean_squared_error"
   ]
  },
  {
   "cell_type": "code",
   "execution_count": 35,
   "metadata": {},
   "outputs": [
    {
     "name": "stderr",
     "output_type": "stream",
     "text": [
      "/anaconda/envs/py36/lib/python3.6/site-packages/scipy/linalg/basic.py:1226: RuntimeWarning: internal gelsd driver lwork query error, required iwork dimension not returned. This is likely the result of LAPACK bug 0038, fixed in LAPACK 3.2.2 (released July 21, 2010). Falling back to 'gelss' driver.\n",
      "  warnings.warn(mesg, RuntimeWarning)\n"
     ]
    },
    {
     "data": {
      "text/plain": [
       "LinearRegression(copy_X=True, fit_intercept=True, n_jobs=1, normalize=False)"
      ]
     },
     "execution_count": 35,
     "metadata": {},
     "output_type": "execute_result"
    },
    {
     "name": "stdout",
     "output_type": "stream",
     "text": [
      "0.84374382052\n"
     ]
    }
   ],
   "source": [
    "# watch scores\n",
    "clf_ = linear_model.LinearRegression()\n",
    "X_ = train_data[list_att].as_matrix()\n",
    "y_ = train_data['power_generation'].as_matrix()\n",
    "X_1=train_x.as_matrix()\n",
    "y_1=train_y.as_matrix()\n",
    "clf_.fit(X_1,y_1)\n",
    "X_2=val_x.as_matrix()\n",
    "y_pred=clf_.predict(X_2)\n",
    "print(1/(1+np.sqrt(np.average(np.square(y_pred-val_y.values)))))"
   ]
  },
  {
   "cell_type": "markdown",
   "metadata": {},
   "source": [
    "## kfold "
   ]
  },
  {
   "cell_type": "code",
   "execution_count": 53,
   "metadata": {},
   "outputs": [],
   "source": [
    "from sklearn.cross_validation import cross_val_score"
   ]
  },
  {
   "cell_type": "code",
   "execution_count": null,
   "metadata": {},
   "outputs": [],
   "source": [
    "clf_ = linear_model.LinearRegression()\n",
    "X_ = train_data[list_att].as_matrix()\n",
    "y_ = train_data['power_generation'].as_matrix()\n",
    "loss = -cross_val_score(clf_, X_, y_, cv=10, scoring='mean_squared_error')\n",
    "1/(1+np.sqrt(loss))"
   ]
  },
  {
   "cell_type": "markdown",
   "metadata": {},
   "source": [
    "## 深度神经"
   ]
  },
  {
   "cell_type": "code",
   "execution_count": 64,
   "metadata": {},
   "outputs": [
    {
     "name": "stderr",
     "output_type": "stream",
     "text": [
      "Using TensorFlow backend.\n"
     ]
    }
   ],
   "source": [
    "from keras.utils import np_utils\n",
    "from keras.models import Sequential\n",
    "from keras.layers import Dense, Activation\n",
    "from keras.optimizers import SGD"
   ]
  },
  {
   "cell_type": "code",
   "execution_count": 71,
   "metadata": {},
   "outputs": [],
   "source": [
    "sgd = SGD(lr=0.01, decay=1e-6, momentum=0.9, nesterov=True)"
   ]
  },
  {
   "cell_type": "code",
   "execution_count": null,
   "metadata": {},
   "outputs": [],
   "source": [
    "model = Sequential([\n",
    "    Dense(8192, input_dim=train_x.shape[1]),\n",
    "    Activation('relu'),\n",
    "    Dense(4096),\n",
    "    Activation('relu'),\n",
    "    Dense(256),\n",
    "    Activation('relu'),\n",
    "    Dense(1),\n",
    "])\n",
    "model.compile(loss='mse', optimizer='sgd')\n",
    "model.fit(train_x.as_matrix(), train_y.as_matrix(), batch_size=1024, epochs=20, verbose=1,validation_data=(val_x.as_matrix(),val_y.as_matrix()), shuffle=True)"
   ]
  },
  {
   "cell_type": "code",
   "execution_count": null,
   "metadata": {},
   "outputs": [],
   "source": [
    "y_pred=model.predict(val_x.as_matrix())"
   ]
  },
  {
   "cell_type": "markdown",
   "metadata": {},
   "source": [
    "## LightGBM"
   ]
  },
  {
   "cell_type": "code",
   "execution_count": 13,
   "metadata": {},
   "outputs": [],
   "source": [
    "from lightgbm import LGBMRegressor"
   ]
  },
  {
   "cell_type": "code",
   "execution_count": null,
   "metadata": {},
   "outputs": [],
   "source": [
    "model=LGBMRegressor(boosting_type='gbdt', num_leaves=63, max_depth=5, learning_rate=0.1, n_estimators=1000, subsample_for_bin=200000, objective='regression', class_weight=None, min_split_gain=0.0, min_child_weight=0.001, min_child_samples=20, subsample=1.0, subsample_freq=0, colsample_bytree=1.0, reg_alpha=0.0, reg_lambda=0.1, random_state=42, n_jobs=-1, silent=False, importance_type='split')\n",
    "\n",
    "model.fit(train_x, train_y,eval_set=(val_x,val_y))\n",
    "lgb_pred = model.predict(val_x)\n",
    "print(1/(1+np.sqrt(np.average(np.square(lgb_pred-val_y.values)))))\n"
   ]
  },
  {
   "cell_type": "code",
   "execution_count": 14,
   "metadata": {},
   "outputs": [
    {
     "name": "stderr",
     "output_type": "stream",
     "text": [
      "/anaconda/envs/py36/lib/python3.6/site-packages/lightgbm/engine.py:99: UserWarning: Found `n_estimators` in params. Will use it instead of argument\n",
      "  warnings.warn(\"Found `{}` in params. Will use it instead of argument\".format(alias))\n"
     ]
    },
    {
     "name": "stdout",
     "output_type": "stream",
     "text": [
      "0.857011954832\n"
     ]
    }
   ],
   "source": [
    "lgb_train = lgb.Dataset(train_x, train_y)\n",
    "\n",
    "params = {\n",
    "'learning_rate': 0.1,\n",
    "'boosting_type': 'gbdt',\n",
    "'objective': 'regression',\n",
    "'metric': 'rmse',\n",
    "'sub_feature': 1,\n",
    "'num_leaves': 30,\n",
    "'min_data': 20,\n",
    "'min_hessian': 1,\n",
    "'n_estimators':100,\n",
    "'verbose': 1,}\n",
    "\n",
    "model = lgb.train(params, lgb_train, 600)\n",
    "lgb_pred = model.predict(val_x)\n",
    "print(1/(1+np.sqrt(np.average(np.square(lgb_pred-val_y.values)))))"
   ]
  },
  {
   "cell_type": "code",
   "execution_count": 25,
   "metadata": {},
   "outputs": [],
   "source": [
    "submit_data['发电量']=lgb_pred\n",
    "submit_data.to_csv('submit/result_180805_lgb_1.csv',index=False, header=None) "
   ]
  },
  {
   "cell_type": "code",
   "execution_count": null,
   "metadata": {},
   "outputs": [],
   "source": [
    "(不考虑功率情况)0.855112552951/\n",
    "(考虑功率的情况) 0.867786153325/0.833\n",
    "0.850856164589/0.8218"
   ]
  },
  {
   "cell_type": "code",
   "execution_count": 31,
   "metadata": {},
   "outputs": [
    {
     "data": {
      "text/html": [
       "<div>\n",
       "<style scoped>\n",
       "    .dataframe tbody tr th:only-of-type {\n",
       "        vertical-align: middle;\n",
       "    }\n",
       "\n",
       "    .dataframe tbody tr th {\n",
       "        vertical-align: top;\n",
       "    }\n",
       "\n",
       "    .dataframe thead th {\n",
       "        text-align: right;\n",
       "    }\n",
       "</style>\n",
       "<table border=\"1\" class=\"dataframe\">\n",
       "  <thead>\n",
       "    <tr style=\"text-align: right;\">\n",
       "      <th></th>\n",
       "      <th>0</th>\n",
       "      <th>1</th>\n",
       "    </tr>\n",
       "  </thead>\n",
       "  <tbody>\n",
       "    <tr>\n",
       "      <th>0</th>\n",
       "      <td>1</td>\n",
       "      <td>0.379571</td>\n",
       "    </tr>\n",
       "    <tr>\n",
       "      <th>1</th>\n",
       "      <td>9</td>\n",
       "      <td>1.340937</td>\n",
       "    </tr>\n",
       "    <tr>\n",
       "      <th>2</th>\n",
       "      <td>13</td>\n",
       "      <td>2.181017</td>\n",
       "    </tr>\n",
       "    <tr>\n",
       "      <th>3</th>\n",
       "      <td>17</td>\n",
       "      <td>3.390921</td>\n",
       "    </tr>\n",
       "    <tr>\n",
       "      <th>4</th>\n",
       "      <td>18</td>\n",
       "      <td>3.631887</td>\n",
       "    </tr>\n",
       "  </tbody>\n",
       "</table>\n",
       "</div>"
      ],
      "text/plain": [
       "    0         1\n",
       "0   1  0.379571\n",
       "1   9  1.340937\n",
       "2  13  2.181017\n",
       "3  17  3.390921\n",
       "4  18  3.631887"
      ]
     },
     "execution_count": 31,
     "metadata": {},
     "output_type": "execute_result"
    }
   ],
   "source": [
    "merge1=pd.read_csv('submit/result_180731_gbdt_3.csv',header=None)\n",
    "merge1.head()"
   ]
  },
  {
   "cell_type": "code",
   "execution_count": 32,
   "metadata": {},
   "outputs": [
    {
     "data": {
      "text/html": [
       "<div>\n",
       "<style scoped>\n",
       "    .dataframe tbody tr th:only-of-type {\n",
       "        vertical-align: middle;\n",
       "    }\n",
       "\n",
       "    .dataframe tbody tr th {\n",
       "        vertical-align: top;\n",
       "    }\n",
       "\n",
       "    .dataframe thead th {\n",
       "        text-align: right;\n",
       "    }\n",
       "</style>\n",
       "<table border=\"1\" class=\"dataframe\">\n",
       "  <thead>\n",
       "    <tr style=\"text-align: right;\">\n",
       "      <th></th>\n",
       "      <th>0</th>\n",
       "      <th>1</th>\n",
       "    </tr>\n",
       "  </thead>\n",
       "  <tbody>\n",
       "    <tr>\n",
       "      <th>0</th>\n",
       "      <td>1</td>\n",
       "      <td>0.379972</td>\n",
       "    </tr>\n",
       "    <tr>\n",
       "      <th>1</th>\n",
       "      <td>9</td>\n",
       "      <td>1.239851</td>\n",
       "    </tr>\n",
       "    <tr>\n",
       "      <th>2</th>\n",
       "      <td>13</td>\n",
       "      <td>2.208346</td>\n",
       "    </tr>\n",
       "    <tr>\n",
       "      <th>3</th>\n",
       "      <td>17</td>\n",
       "      <td>3.400142</td>\n",
       "    </tr>\n",
       "    <tr>\n",
       "      <th>4</th>\n",
       "      <td>18</td>\n",
       "      <td>3.667668</td>\n",
       "    </tr>\n",
       "  </tbody>\n",
       "</table>\n",
       "</div>"
      ],
      "text/plain": [
       "    0         1\n",
       "0   1  0.379972\n",
       "1   9  1.239851\n",
       "2  13  2.208346\n",
       "3  17  3.400142\n",
       "4  18  3.667668"
      ]
     },
     "execution_count": 32,
     "metadata": {},
     "output_type": "execute_result"
    }
   ],
   "source": [
    "merge2=pd.read_csv('submit/result_180805_gbdt_1.csv',header=None)\n",
    "merge2.head()"
   ]
  },
  {
   "cell_type": "code",
   "execution_count": 35,
   "metadata": {},
   "outputs": [],
   "source": [
    "def merge_fun(merge1,merge2):\n",
    "    merge1[1]=0.5*merge1[1]+0.5*merge2[1]\n",
    "    return merge1"
   ]
  },
  {
   "cell_type": "code",
   "execution_count": 36,
   "metadata": {},
   "outputs": [],
   "source": [
    "merge_result=merge_fun(merge1,merge2)\n",
    "merge_result.to_csv('submit/result_180805_merge1.csv',index=False, header=None) "
   ]
  },
  {
   "cell_type": "code",
   "execution_count": 37,
   "metadata": {},
   "outputs": [
    {
     "data": {
      "text/html": [
       "<div>\n",
       "<style scoped>\n",
       "    .dataframe tbody tr th:only-of-type {\n",
       "        vertical-align: middle;\n",
       "    }\n",
       "\n",
       "    .dataframe tbody tr th {\n",
       "        vertical-align: top;\n",
       "    }\n",
       "\n",
       "    .dataframe thead th {\n",
       "        text-align: right;\n",
       "    }\n",
       "</style>\n",
       "<table border=\"1\" class=\"dataframe\">\n",
       "  <thead>\n",
       "    <tr style=\"text-align: right;\">\n",
       "      <th></th>\n",
       "      <th>0</th>\n",
       "      <th>1</th>\n",
       "    </tr>\n",
       "  </thead>\n",
       "  <tbody>\n",
       "    <tr>\n",
       "      <th>0</th>\n",
       "      <td>1</td>\n",
       "      <td>0.379772</td>\n",
       "    </tr>\n",
       "    <tr>\n",
       "      <th>1</th>\n",
       "      <td>9</td>\n",
       "      <td>1.290394</td>\n",
       "    </tr>\n",
       "    <tr>\n",
       "      <th>2</th>\n",
       "      <td>13</td>\n",
       "      <td>2.194681</td>\n",
       "    </tr>\n",
       "    <tr>\n",
       "      <th>3</th>\n",
       "      <td>17</td>\n",
       "      <td>3.395532</td>\n",
       "    </tr>\n",
       "    <tr>\n",
       "      <th>4</th>\n",
       "      <td>18</td>\n",
       "      <td>3.649777</td>\n",
       "    </tr>\n",
       "  </tbody>\n",
       "</table>\n",
       "</div>"
      ],
      "text/plain": [
       "    0         1\n",
       "0   1  0.379772\n",
       "1   9  1.290394\n",
       "2  13  2.194681\n",
       "3  17  3.395532\n",
       "4  18  3.649777"
      ]
     },
     "execution_count": 37,
     "metadata": {},
     "output_type": "execute_result"
    }
   ],
   "source": [
    "s1=pd.read_csv('submit/result_180805_merge1.csv', header=None)\n",
    "s1.head()"
   ]
  },
  {
   "cell_type": "markdown",
   "metadata": {},
   "source": [
    "## 贝叶斯xgboost"
   ]
  },
  {
   "cell_type": "code",
   "execution_count": 68,
   "metadata": {},
   "outputs": [],
   "source": [
    "import pandas as pd\n",
    "import xgboost as xgb\n",
    "from sklearn.preprocessing import LabelEncoder\n",
    "from sklearn.metrics import mean_absolute_error\n",
    "from bayes_opt import BayesianOptimization\n",
    "from tqdm import tqdm\n"
   ]
  },
  {
   "cell_type": "code",
   "execution_count": null,
   "metadata": {},
   "outputs": [],
   "source": [
    "def xgb_evaluate(min_child_weight,\n",
    "                 colsample_bytree,\n",
    "                 max_depth,\n",
    "                 subsample,\n",
    "                 gamma,\n",
    "                 alpha):\n",
    "\n",
    "    params['min_child_weight'] = int(min_child_weight)\n",
    "    params['cosample_bytree'] = max(min(colsample_bytree, 1), 0)\n",
    "    params['max_depth'] = int(max_depth)\n",
    "    params['subsample'] = max(min(subsample, 1), 0)\n",
    "    params['gamma'] = max(gamma, 0)\n",
    "    params['alpha'] = max(alpha, 0)\n",
    "\n",
    "\n",
    "    cv_result = xgb.cv(params, xgtrain, num_boost_round=num_rounds, nfold=5,\n",
    "             seed=random_state,\n",
    "             callbacks=[xgb.callback.early_stop(50)])\n",
    "\n",
    "    return -cv_result['test-mae-mean'].values[-1]\n",
    "\n",
    "def prepare_data():\n",
    "    \n",
    "    y = train_data['power_generation']\n",
    "\n",
    "    X = train_data[list_att]\n",
    "    xgtrain = xgb.DMatrix(X, label=y)\n",
    "\n",
    "    return xgtrain\n",
    "\n",
    "\n",
    "if __name__ == '__main__':\n",
    "    xgtrain = prepare_data()\n",
    "\n",
    "    num_rounds = 3000\n",
    "    random_state = 2016\n",
    "    num_iter = 25\n",
    "    init_points = 5\n",
    "    params = {\n",
    "        'eta': 0.1,\n",
    "        'silent': 1,\n",
    "        'eval_metric': 'mae',\n",
    "        'verbose_eval': True,\n",
    "        'seed': random_state\n",
    "    }\n",
    "\n",
    "    xgbBO = BayesianOptimization(xgb_evaluate, {'min_child_weight': (1, 20),\n",
    "                                                'colsample_bytree': (0.1, 1),\n",
    "                                                'max_depth': (5, 15),\n",
    "                                                'subsample': (0.5, 1),\n",
    "                                                'gamma': (0, 10),\n",
    "                                                'alpha': (0, 10),\n",
    "                                                })\n",
    "\n",
    "    xgbBO.maximize(init_points=init_points, n_iter=num_iter)\n"
   ]
  },
  {
   "cell_type": "code",
   "execution_count": null,
   "metadata": {},
   "outputs": [],
   "source": []
  }
 ],
 "metadata": {
  "hide_input": false,
  "kernelspec": {
   "display_name": "Python 3",
   "language": "python",
   "name": "python3"
  },
  "language_info": {
   "codemirror_mode": {
    "name": "ipython",
    "version": 3
   },
   "file_extension": ".py",
   "mimetype": "text/x-python",
   "name": "python",
   "nbconvert_exporter": "python",
   "pygments_lexer": "ipython3",
   "version": "3.6.4"
  },
  "toc": {
   "base_numbering": 1,
   "nav_menu": {},
   "number_sections": true,
   "sideBar": true,
   "skip_h1_title": false,
   "title_cell": "Table of Contents",
   "title_sidebar": "Contents",
   "toc_cell": false,
   "toc_position": {},
   "toc_section_display": true,
   "toc_window_display": false
  },
  "varInspector": {
   "cols": {
    "lenName": 16,
    "lenType": 16,
    "lenVar": 40
   },
   "kernels_config": {
    "python": {
     "delete_cmd_postfix": "",
     "delete_cmd_prefix": "del ",
     "library": "var_list.py",
     "varRefreshCmd": "print(var_dic_list())"
    },
    "r": {
     "delete_cmd_postfix": ") ",
     "delete_cmd_prefix": "rm(",
     "library": "var_list.r",
     "varRefreshCmd": "cat(var_dic_list()) "
    }
   },
   "types_to_exclude": [
    "module",
    "function",
    "builtin_function_or_method",
    "instance",
    "_Feature"
   ],
   "window_display": false
  }
 },
 "nbformat": 4,
 "nbformat_minor": 2
}
