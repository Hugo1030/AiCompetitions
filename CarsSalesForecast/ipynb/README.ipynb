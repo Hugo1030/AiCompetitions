{
 "cells": [
  {
   "cell_type": "markdown",
   "metadata": {},
   "source": [
    "# 天池赛事指北\n",
    "\n",
    "为自己以及后来者, 指引 资源/过程/变迁/...\n",
    "\n",
    "## 背景\n",
    "\n",
    "\n",
    "自怼圈, 有一堆刷过大数据/ML 相关课程的怼员,\n",
    "\n",
    "一直想将相关竞赛变成自怼任务, 原先感觉不搭, 经过大妈开导后, 明确, 值得怼...\n",
    "\n",
    "然后就有了 `DU4ai` 团队, 以及宏观策略:\n",
    "\n",
    "    将 Kaggle 的经验\n",
    "    引入到国内同类比赛中\n",
    "\n",
    "\n",
    "进一步的, [可以积累](DU4ai.ipynb):\n",
    "\n",
    "- 数据科学/AI 入门最佳路径\n",
    "- Kaggle 竞赛经验\n",
    "- 天池竞赛经验\n",
    "- 团队组建经验:\n",
    "    - 成员考查\n",
    "    - 任务配合\n",
    "    - 远程协同\n",
    "    - 工具选择\n",
    "    - ...\n"
   ]
  },
  {
   "cell_type": "markdown",
   "metadata": {},
   "source": [
    "## 简述\n",
    "\n",
    "整体上以 XGBoost 工作流为主, 配合其它线性回归分析\n"
   ]
  },
  {
   "cell_type": "markdown",
   "metadata": {},
   "source": [
    "## 盐城 ~ 乘用车零售量预测\n",
    "\n",
    "> @LiChuan\n",
    "- [1.30 EDA工程](LiChuan/LiChuan0130CarsSalePrediciton.ipynb)\n",
    "    - [1.31 批量特征提取](LiChuan/LiChuan0131FeatureEngineer.ipynb)\n",
    "    - [2.1 销量时间特征](LiChuan/LiChuan0201SaleDateEngineer.ipynb)\n",
    "    - [2.1 特征初测](LiChuan/LiChuan0201TestFeature.ipynb)\n",
    "    - [2.1 XGboost 代入](LiChuan/LiChuan0201xgboost.ipynb)\n",
    "- [1.31 RMSE155 的 baseline 尝试](LiChuan/LiChuan0131baseline.ipynb) ~ 就是把上个月的数据拿来直接当预测数据来用，一般效果都还可以，大多会比取平均值的要好...\n",
    "- [2.2 EDA重来](LiChuan/LiChuan0202EDA.ipynb) ~ 可视化观察数据趋势...\n",
    "- [2.3 模型叠加](LiChuan/LiChuan0203StackNet.ipynb)\n",
    "- [2.5 线性回归](LiChuan/LiChuan0205LinearRegressor.ipynb)\n",
    "- ...\n",
    "- [2.7 XGBoost 调参](LiChuan/LiChuan0207XGBoost.ipynb)\n",
    "- [2.8 LightGBM +弃 12年数据](LiChuan/LiChuan0208ModelInteration.ipynb)\n",
    "- **[2.8 时间窗口特征追加](LiChuan/LiChuan0208TimefeatureEngineering.ipynb)**\n",
    "- [2.12 销售特征发现和抛弃检验](LiChuan/LiChuan0212SaleDate.ipynb) \n",
    "- [2.12 时间周期特征追加](LiChuan/LiChuan0212RelativeRatio.ipynb)\n",
    "    - [2.24 最新全特征训练数据集 cp->ZQ](ZQ/LCh0212RelativeRatio-dataset.ipynb)\n",
    "- [2.22 时间特征训练集调优](LiChuan/LiChuan0222SplitTrainSet.ipynb)\n",
    "    - [2.22 时间特征->总销量](LiChuan/LiChuan0222TotalTimeWindow.ipynb)\n",
    "- [2.23 LightGBM 调优](LiChuan/LiChuan0223DataDiff.ipynb)\n",
    "    - [2.23 时间特征+LightGBM](LiChuan/LiChuan0223DataDiff.ipynb)\n",
    "- [2.24 Baseline/XGBoost/LGB 合练+特征importance分析](LiChuan/LiChuan2024TotalFill.ipynb)\n",
    "\n",
    "\n",
    ">> 一阶B榜\n",
    "- [2.25 12月跨月预测](LiChuan/LiChuan2025DecBasic.ipynb)\n",
    "- **[2.25 importance_feature 对比](LiChuan/LiChuan2025PredDec.ipynb)**\n",
    "\n",
    ">> 复赛\n",
    "- [3.3 Py 自动生成 SQL](LiChuan/LiChuan0303PyToSQL.ipynb)"
   ]
  },
  {
   "cell_type": "markdown",
   "metadata": {},
   "source": [
    "\n",
    "### 特征工程\n",
    "\n",
    "> @caijun\n",
    "- [2.1 class_id 探索唯一化](caijun/caijun0201CarSalesDataExplore.ipynb) ~ 热力图分析\n",
    "- [2.3 ARIMA 探索](caijun/caijun0203CarSalesARIMA.ipynb)\n",
    "- **[2.25 bf: 意外 classID 问题](caijun/caijun0225bugfix.ipynb)**\n",
    "\n",
    "\n",
    "> @Woody\n",
    "- **[2.4 可视化观察->定征](Woody/Woody0204car_sale.ipynb)**\n",
    "- [2.6 销售特征挖掘](Woody/woody-0206-Observe-classid-quantity-compare.ipynb)\n",
    "- [2.9 LCh2.7 基础上 XGboost 调优](Woody/Wood_0209_part_optimize__LiChuan0207XGBoost_.ipynb)\n",
    "\n",
    "\n",
    "#### 复赛\n",
    "\n",
    "> @DAMA\n",
    "- [3.8 宏观经济特征提取/补全 SQL](ZQ/S2DAMA_gen_SQL4feature_econ.ipynb)\n",
    "- [3.9 国家统计局宏观经济特征提纯 SQL 注回](ZQ/S2DAMA_econ_csv2sql.ipynb)\n",
    "\n"
   ]
  },
  {
   "cell_type": "markdown",
   "metadata": {},
   "source": [
    "### 时间窗口\n",
    "\n",
    "> @caijun\n",
    "- [窗口序列整备](caijun/caijun0208SaleDateDiff.ipynb)\n",
    "- [2.8 窗口函式原型](caijun/caijun0208TimefeatureEngineering.ipynb)~ 皮尔逊（Pearson）相关系数\n",
    "\n",
    "> @Woody \n",
    "- [2.5 季度窗口探索](Woody/Woody0205car_sale_mean_3Months.ipynb)\n",
    "\n",
    "> @LiChuan \n",
    "- [2.12 LGBM+环比探索](LiChuan/LiChuan0212RelativeRatio.ipynb)\n",
    " \n"
   ]
  },
  {
   "cell_type": "markdown",
   "metadata": {},
   "source": [
    "## Bayesian ...\n",
    "~ 纯线性数据分析\n",
    "\n",
    "- 2.10 明确概率问题无法代入当前问题 放弃\n"
   ]
  },
  {
   "cell_type": "markdown",
   "metadata": {},
   "source": [
    "\n",
    "### XGBoost 流:\n",
    "\n",
    "> @caijun\n",
    "- [2.6 尝试 XGboost](caijun/caijun0206xgboost.ipynb)\n",
    "- [2.9 rmse 等组合参数尝试](caijun/caijun0209XGBoostAnalyze.ipynb)\n",
    "- [2.22 模型比重调节](caijun/caijun0222ResultStack.ipynb)\n",
    "\n",
    "\n",
    "> @Woody\n",
    "- [2.9 LiChuan0207 基础上调参](Woody/Wood_0209_part_optimize__LiChuan0207XGBoost_.ipynb)\n",
    "- [XGboost 调参探索...](Woody/XGboost_param_share.ipynb)\n",
    "\n",
    ">> LSTM 专挖\n",
    "- **[Keras 预测试用+可视化检验](Woody/keras_practice.ipynb)**\n",
    "- [LSTM-1 RMSE987.9534512003171](Woody/lstm_predict-1.ipynb)\n",
    "- [LSTM-2 ?](Woody/lstm_predict-2.ipynb)\n",
    "- [LSTM-3 ?](Woody/lstm_predict-3.ipynb)\n",
    "- [LSTM-4 ?](Woody/lstm_predict-4.ipynb)\n",
    "- [LSTM-5 ?](Woody/lstm_predict-5.ipynb)\n",
    "    - [LSTM-5.2 ?](Woody/lstm_predict-5-2.ipynb)\n",
    "    - [LSTM-5.3 ?](Woody/lstm_predict-5-3.ipynb)\n",
    "- [LSTM-6 HDF5 填坑](Woody/lstm_predict-6.ipynb)\n",
    "\n"
   ]
  },
  {
   "cell_type": "markdown",
   "metadata": {},
   "source": [
    "## 参考\n",
    "~ 过程中其它相关工程/探索资源\n",
    "\n",
    "> @LiChuan\n",
    "- [12.8 HousePrices 预测](LiChuan/LiChuan0128HousePrices.ipynb) ~ **整体工作流模板**\n",
    "\n",
    "> @caijun\n",
    "- [1.31 预测 House Prices](caijun/caijun0131HousePrices.ipynb)\n",
    "\n",
    "\n",
    "> @Woody\n",
    "- [pandas_groupby](Woody/pandas_groupby.ipynb)\n",
    "- [R: SVM 预测...](Woody/svm_practice.ipynb)\n",
    "\n",
    "\n"
   ]
  },
  {
   "cell_type": "code",
   "execution_count": null,
   "metadata": {
    "collapsed": true
   },
   "outputs": [],
   "source": []
  },
  {
   "cell_type": "code",
   "execution_count": null,
   "metadata": {
    "collapsed": true
   },
   "outputs": [],
   "source": []
  },
  {
   "cell_type": "code",
   "execution_count": null,
   "metadata": {
    "collapsed": true
   },
   "outputs": [],
   "source": []
  }
 ],
 "metadata": {
  "kernelspec": {
   "display_name": "Python 3",
   "language": "python",
   "name": "python3"
  },
  "language_info": {
   "codemirror_mode": {
    "name": "ipython",
    "version": 3
   },
   "file_extension": ".py",
   "mimetype": "text/x-python",
   "name": "python",
   "nbconvert_exporter": "python",
   "pygments_lexer": "ipython3",
   "version": "3.6.3"
  },
  "toc": {
   "nav_menu": {},
   "number_sections": true,
   "sideBar": true,
   "skip_h1_title": false,
   "toc_cell": false,
   "toc_position": {},
   "toc_section_display": "block",
   "toc_window_display": false
  }
 },
 "nbformat": 4,
 "nbformat_minor": 2
}
