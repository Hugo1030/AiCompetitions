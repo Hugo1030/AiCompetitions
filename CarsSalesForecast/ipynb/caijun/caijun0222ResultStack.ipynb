{
 "cells": [
  {
   "cell_type": "code",
   "execution_count": 46,
   "metadata": {
    "collapsed": true
   },
   "outputs": [],
   "source": [
    "import numpy as np\n",
    "import scipy as sp\n",
    "import pandas as pd\n",
    "import xgboost as xgb\n",
    "from sklearn import cross_validation, metrics\n",
    "import matplotlib.pyplot as plt\n",
    "from xgboost import XGBRegressor\n",
    "from sklearn.model_selection import train_test_split, cross_val_score\n",
    "from sklearn.ensemble import RandomForestRegressor\n",
    "from sklearn.feature_selection import *\n",
    "import random\n",
    "from sklearn.decomposition import PCA\n",
    "import math\n",
    "import warnings\n",
    "warnings.filterwarnings('ignore')\n",
    "%matplotlib inline"
   ]
  },
  {
   "cell_type": "code",
   "execution_count": 58,
   "metadata": {
    "collapsed": true
   },
   "outputs": [],
   "source": [
    "xgb_d = pd.read_csv('../../raw/LiChuan/result_180222_XGBoost_RMSE141.csv')\n",
    "lstm_d = pd.read_csv('../../raw/LiChuan/result_180222_lstm_RMSE139.csv')\n",
    "gbm_d = pd.read_csv('../../raw/LiChuan/result_180222_lightGBM_RMSE136.csv')\n",
    "baseline_d = pd.read_csv('../../raw/LiChuan/result_180222_baseline_RMSE131.csv')\n",
    "submit = pd.read_csv('../../raw/CarsSaleForecast/yancheng_testA_20171225.csv')"
   ]
  },
  {
   "cell_type": "code",
   "execution_count": 59,
   "metadata": {
    "collapsed": true
   },
   "outputs": [],
   "source": [
    "lstm = lstm_d['predict_quantity'].values\n",
    "xgb = xgb_d['predict_quantity'].values\n",
    "gbm = gbm_d['predict_quantity'].values\n",
    "baseline = baseline_d['predict_quantity'].values"
   ]
  },
  {
   "cell_type": "code",
   "execution_count": 49,
   "metadata": {},
   "outputs": [
    {
     "data": {
      "text/plain": [
       "88.74238326497176"
      ]
     },
     "execution_count": 49,
     "metadata": {},
     "output_type": "execute_result"
    }
   ],
   "source": [
    "math.sqrt(((lstm - xgb)**2).mean())"
   ]
  },
  {
   "cell_type": "code",
   "execution_count": 50,
   "metadata": {},
   "outputs": [
    {
     "data": {
      "text/plain": [
       "84.7222423055624"
      ]
     },
     "execution_count": 50,
     "metadata": {},
     "output_type": "execute_result"
    }
   ],
   "source": [
    "math.sqrt(((lstm - baseline)**2).mean())"
   ]
  },
  {
   "cell_type": "code",
   "execution_count": 51,
   "metadata": {},
   "outputs": [
    {
     "data": {
      "text/plain": [
       "86.26010495265461"
      ]
     },
     "execution_count": 51,
     "metadata": {},
     "output_type": "execute_result"
    }
   ],
   "source": [
    "math.sqrt(((lstm - gbm)**2).mean())"
   ]
  },
  {
   "cell_type": "code",
   "execution_count": 52,
   "metadata": {},
   "outputs": [
    {
     "data": {
      "text/plain": [
       "81.22593750512468"
      ]
     },
     "execution_count": 52,
     "metadata": {},
     "output_type": "execute_result"
    }
   ],
   "source": [
    "math.sqrt(((xgb - gbm)**2).mean())"
   ]
  },
  {
   "cell_type": "code",
   "execution_count": 53,
   "metadata": {},
   "outputs": [
    {
     "data": {
      "text/plain": [
       "78.18626531577524"
      ]
     },
     "execution_count": 53,
     "metadata": {},
     "output_type": "execute_result"
    }
   ],
   "source": [
    "math.sqrt(((xgb - baseline)**2).mean())"
   ]
  },
  {
   "cell_type": "code",
   "execution_count": 54,
   "metadata": {},
   "outputs": [
    {
     "data": {
      "text/plain": [
       "105.2588036062342"
      ]
     },
     "execution_count": 54,
     "metadata": {},
     "output_type": "execute_result"
    }
   ],
   "source": [
    "math.sqrt(((gbm - baseline)**2).mean())"
   ]
  },
  {
   "cell_type": "code",
   "execution_count": 60,
   "metadata": {},
   "outputs": [
    {
     "data": {
      "text/plain": [
       "0       202.002395\n",
       "1       281.711829\n",
       "2       198.449059\n",
       "3       182.097059\n",
       "4       179.959141\n",
       "5       255.070382\n",
       "6       174.896890\n",
       "7       112.796742\n",
       "8       426.255273\n",
       "9       289.796363\n",
       "10      129.795209\n",
       "11     2114.747025\n",
       "12      139.745685\n",
       "13      161.757644\n",
       "14      400.025872\n",
       "15      145.667595\n",
       "16      291.821864\n",
       "17      162.459782\n",
       "18      214.964680\n",
       "19      249.127119\n",
       "20      654.636759\n",
       "21      392.223654\n",
       "22      476.211204\n",
       "23      441.557932\n",
       "24      288.138061\n",
       "25      244.860642\n",
       "26      374.244367\n",
       "27       76.151314\n",
       "28      186.837446\n",
       "29      421.958097\n",
       "          ...     \n",
       "110     884.914382\n",
       "111     128.728517\n",
       "112      91.268026\n",
       "113     143.681680\n",
       "114      98.133571\n",
       "115     141.131661\n",
       "116     186.539995\n",
       "117     136.405292\n",
       "118     154.392804\n",
       "119     193.605045\n",
       "120     201.658109\n",
       "121     146.531937\n",
       "122     261.922219\n",
       "123     177.730721\n",
       "124     155.655035\n",
       "125     272.739780\n",
       "126    1405.791330\n",
       "127     360.671380\n",
       "128     197.600706\n",
       "129     552.729036\n",
       "130     651.922268\n",
       "131    1230.543432\n",
       "132      97.392595\n",
       "133    1206.964746\n",
       "134    1123.446611\n",
       "135      97.755529\n",
       "136     112.992728\n",
       "137     235.305846\n",
       "138     144.419482\n",
       "139     429.145291\n",
       "Name: predict_quantity, Length: 140, dtype: float64"
      ]
     },
     "execution_count": 60,
     "metadata": {},
     "output_type": "execute_result"
    }
   ],
   "source": [
    "predict_test_X =  baseline_d['predict_quantity']*0.6+gbm_d['predict_quantity']*0.4\n",
    "predict_test_X"
   ]
  },
  {
   "cell_type": "code",
   "execution_count": 61,
   "metadata": {
    "collapsed": true
   },
   "outputs": [],
   "source": [
    "submit['predict_quantity'] = predict_test_X\n",
    "submit.to_csv('../../raw/caijun/result_180222_baseline*0.6_lightGBM*0.4.csv',index=False, header=True)"
   ]
  }
 ],
 "metadata": {
  "kernelspec": {
   "display_name": "Python 3",
   "language": "python",
   "name": "python3"
  },
  "language_info": {
   "codemirror_mode": {
    "name": "ipython",
    "version": 3
   },
   "file_extension": ".py",
   "mimetype": "text/x-python",
   "name": "python",
   "nbconvert_exporter": "python",
   "pygments_lexer": "ipython3",
   "version": "3.6.3"
  },
  "toc": {
   "nav_menu": {},
   "number_sections": true,
   "sideBar": true,
   "skip_h1_title": false,
   "toc_cell": false,
   "toc_position": {},
   "toc_section_display": "block",
   "toc_window_display": false
  }
 },
 "nbformat": 4,
 "nbformat_minor": 2
}
