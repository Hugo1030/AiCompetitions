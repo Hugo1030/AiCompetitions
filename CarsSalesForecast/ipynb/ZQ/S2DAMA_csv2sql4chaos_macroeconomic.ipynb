{
 "cells": [
  {
   "cell_type": "markdown",
   "metadata": {},
   "source": [
    "# 国家统计局\n",
    "http://data.stats.gov.cn/ 月度统计数据\n",
    "\n",
    "- 尽可能汽车相关\n",
    "- 尽可能是数值而不是比值\n",
    "- 尽可能统计到 18.2\n",
    "    - 否则分别给出不同时长的特征表\n",
    "- 如果统一缺少月份数据使用前后两月的平均...\n",
    "- ...\n",
    "\n",
    "> 然后生成专门的特征表生成 SQL 以便回填到 MC 中\n"
   ]
  },
  {
   "cell_type": "markdown",
   "metadata": {},
   "source": [
    "## 当前数据文件\n",
    "\n",
    "```\n",
    "raw/_macroeconomic/\n",
    "    2种数值-1802.csv\n",
    "    3种数值-1801.csv\n",
    "    6种数值--1802.csv (每年1月缺少)\n",
    "```"
   ]
  },
  {
   "cell_type": "markdown",
   "metadata": {},
   "source": [
    "## pd 清洗/转换"
   ]
  },
  {
   "cell_type": "code",
   "execution_count": 1,
   "metadata": {},
   "outputs": [
    {
     "name": "stdout",
     "output_type": "stream",
     "text": [
      "0.22.0\n"
     ]
    }
   ],
   "source": [
    "import pandas as pd\n",
    "print(pd.__version__)\n",
    "import numpy as np\n",
    "import matplotlib.pyplot as plt\n",
    "import warnings\n",
    "def ignore_warn(*args, **kwargs):\n",
    "    pass\n",
    "warnings.warn = ignore_warn\n",
    "\n",
    "import datetime\n"
   ]
  },
  {
   "cell_type": "code",
   "execution_count": 4,
   "metadata": {},
   "outputs": [
    {
     "name": "stdout",
     "output_type": "stream",
     "text": [
      "../../raw/_macroeconomic/2种数值-1802.csv\r\n",
      "../../raw/_macroeconomic/3种数值-1801.csv\r\n",
      "../../raw/_macroeconomic/6种数值--1802.csv\r\n"
     ]
    }
   ],
   "source": [
    "ls -1 ../../raw/_macroeconomic/*.csv"
   ]
  },
  {
   "cell_type": "markdown",
   "metadata": {},
   "source": [
    "## 两组无缺数值"
   ]
  },
  {
   "cell_type": "code",
   "execution_count": 5,
   "metadata": {},
   "outputs": [
    {
     "data": {
      "text/html": [
       "<div>\n",
       "<style scoped>\n",
       "    .dataframe tbody tr th:only-of-type {\n",
       "        vertical-align: middle;\n",
       "    }\n",
       "\n",
       "    .dataframe tbody tr th {\n",
       "        vertical-align: top;\n",
       "    }\n",
       "\n",
       "    .dataframe thead th {\n",
       "        text-align: right;\n",
       "    }\n",
       "</style>\n",
       "<table border=\"1\" class=\"dataframe\">\n",
       "  <thead>\n",
       "    <tr style=\"text-align: right;\">\n",
       "      <th></th>\n",
       "      <th>时间</th>\n",
       "      <th>非制造业商务活动指数(%)</th>\n",
       "      <th>从业人员指数(%)</th>\n",
       "    </tr>\n",
       "  </thead>\n",
       "  <tbody>\n",
       "    <tr>\n",
       "      <th>0</th>\n",
       "      <td>2018年2月</td>\n",
       "      <td>54.4</td>\n",
       "      <td>49.6</td>\n",
       "    </tr>\n",
       "    <tr>\n",
       "      <th>1</th>\n",
       "      <td>2018年1月</td>\n",
       "      <td>55.3</td>\n",
       "      <td>49.4</td>\n",
       "    </tr>\n",
       "    <tr>\n",
       "      <th>2</th>\n",
       "      <td>2017年12月</td>\n",
       "      <td>55.0</td>\n",
       "      <td>49.3</td>\n",
       "    </tr>\n",
       "    <tr>\n",
       "      <th>3</th>\n",
       "      <td>2017年11月</td>\n",
       "      <td>54.8</td>\n",
       "      <td>49.2</td>\n",
       "    </tr>\n",
       "    <tr>\n",
       "      <th>4</th>\n",
       "      <td>2017年10月</td>\n",
       "      <td>54.3</td>\n",
       "      <td>49.4</td>\n",
       "    </tr>\n",
       "  </tbody>\n",
       "</table>\n",
       "</div>"
      ],
      "text/plain": [
       "         时间  非制造业商务活动指数(%)  从业人员指数(%)\n",
       "0   2018年2月           54.4       49.6\n",
       "1   2018年1月           55.3       49.4\n",
       "2  2017年12月           55.0       49.3\n",
       "3  2017年11月           54.8       49.2\n",
       "4  2017年10月           54.3       49.4"
      ]
     },
     "execution_count": 5,
     "metadata": {},
     "output_type": "execute_result"
    }
   ],
   "source": [
    "df = pd.read_csv('../../raw/_macroeconomic/2种数值-1802.csv')\n",
    "df.head()"
   ]
  },
  {
   "cell_type": "code",
   "execution_count": 6,
   "metadata": {},
   "outputs": [],
   "source": [
    "_date = df['时间']"
   ]
  },
  {
   "cell_type": "code",
   "execution_count": 7,
   "metadata": {},
   "outputs": [
    {
     "data": {
      "text/plain": [
       "'2018年2月'"
      ]
     },
     "execution_count": 7,
     "metadata": {},
     "output_type": "execute_result"
    }
   ],
   "source": [
    "_date[0]"
   ]
  },
  {
   "cell_type": "code",
   "execution_count": 8,
   "metadata": {},
   "outputs": [],
   "source": [
    "_day = datetime.datetime.strptime(_date[0] , \"%Y年%m月\")"
   ]
  },
  {
   "cell_type": "code",
   "execution_count": 9,
   "metadata": {},
   "outputs": [
    {
     "data": {
      "text/plain": [
       "'201802'"
      ]
     },
     "execution_count": 9,
     "metadata": {},
     "output_type": "execute_result"
    }
   ],
   "source": [
    "_day.strftime('%Y%m')"
   ]
  },
  {
   "cell_type": "code",
   "execution_count": 10,
   "metadata": {},
   "outputs": [],
   "source": [
    "df['时间'] = df['时间'].apply(lambda x:datetime.datetime.strptime(x , \"%Y年%m月\").strftime('%Y%m'))"
   ]
  },
  {
   "cell_type": "code",
   "execution_count": 11,
   "metadata": {},
   "outputs": [
    {
     "data": {
      "text/plain": [
       "73    201201\n",
       "Name: 时间, dtype: object"
      ]
     },
     "execution_count": 11,
     "metadata": {},
     "output_type": "execute_result"
    }
   ],
   "source": [
    "df['时间'][-1:]"
   ]
  },
  {
   "cell_type": "code",
   "execution_count": 12,
   "metadata": {},
   "outputs": [
    {
     "data": {
      "text/plain": [
       "74"
      ]
     },
     "execution_count": 12,
     "metadata": {},
     "output_type": "execute_result"
    }
   ],
   "source": [
    "len(df['时间'])"
   ]
  },
  {
   "cell_type": "code",
   "execution_count": 13,
   "metadata": {},
   "outputs": [
    {
     "data": {
      "text/html": [
       "<div>\n",
       "<style scoped>\n",
       "    .dataframe tbody tr th:only-of-type {\n",
       "        vertical-align: middle;\n",
       "    }\n",
       "\n",
       "    .dataframe tbody tr th {\n",
       "        vertical-align: top;\n",
       "    }\n",
       "\n",
       "    .dataframe thead th {\n",
       "        text-align: right;\n",
       "    }\n",
       "</style>\n",
       "<table border=\"1\" class=\"dataframe\">\n",
       "  <thead>\n",
       "    <tr style=\"text-align: right;\">\n",
       "      <th></th>\n",
       "      <th>时间</th>\n",
       "      <th>非制造业商务活动指数(%)</th>\n",
       "      <th>从业人员指数(%)</th>\n",
       "    </tr>\n",
       "  </thead>\n",
       "  <tbody>\n",
       "    <tr>\n",
       "      <th>69</th>\n",
       "      <td>201205</td>\n",
       "      <td>55.2</td>\n",
       "      <td>51.3</td>\n",
       "    </tr>\n",
       "    <tr>\n",
       "      <th>70</th>\n",
       "      <td>201204</td>\n",
       "      <td>56.1</td>\n",
       "      <td>52.1</td>\n",
       "    </tr>\n",
       "    <tr>\n",
       "      <th>71</th>\n",
       "      <td>201203</td>\n",
       "      <td>58.0</td>\n",
       "      <td>52.3</td>\n",
       "    </tr>\n",
       "    <tr>\n",
       "      <th>72</th>\n",
       "      <td>201202</td>\n",
       "      <td>57.3</td>\n",
       "      <td>53.8</td>\n",
       "    </tr>\n",
       "    <tr>\n",
       "      <th>73</th>\n",
       "      <td>201201</td>\n",
       "      <td>55.7</td>\n",
       "      <td>53.1</td>\n",
       "    </tr>\n",
       "  </tbody>\n",
       "</table>\n",
       "</div>"
      ],
      "text/plain": [
       "        时间  非制造业商务活动指数(%)  从业人员指数(%)\n",
       "69  201205           55.2       51.3\n",
       "70  201204           56.1       52.1\n",
       "71  201203           58.0       52.3\n",
       "72  201202           57.3       53.8\n",
       "73  201201           55.7       53.1"
      ]
     },
     "execution_count": 13,
     "metadata": {},
     "output_type": "execute_result"
    }
   ],
   "source": [
    "df.tail()"
   ]
  },
  {
   "cell_type": "code",
   "execution_count": 14,
   "metadata": {},
   "outputs": [
    {
     "data": {
      "text/plain": [
       "时间               False\n",
       "非制造业商务活动指数(%)    False\n",
       "从业人员指数(%)        False\n",
       "dtype: bool"
      ]
     },
     "execution_count": 14,
     "metadata": {},
     "output_type": "execute_result"
    }
   ],
   "source": [
    "df.isnull().any()"
   ]
  },
  {
   "cell_type": "code",
   "execution_count": 15,
   "metadata": {},
   "outputs": [],
   "source": [
    "redf = df.rename(columns={'时间':'month'\n",
    "                  , '非制造业商务活动指数(%)':'1802a'\n",
    "                  , '从业人员指数(%)':'1802b'\n",
    "\n",
    "                  })"
   ]
  },
  {
   "cell_type": "markdown",
   "metadata": {},
   "source": [
    "### SQL 生成\n",
    "对应数据表定义, 值定义..."
   ]
  },
  {
   "cell_type": "code",
   "execution_count": 68,
   "metadata": {},
   "outputs": [],
   "source": [
    "tpl_SQL = '''-- {mc_tname}\n",
    "-- 提取合理数值表\n",
    "-- <= bitb:raw/_macroeconomic/{mc_res}\n",
    "-- => {mc_tname}\n",
    "-- \n",
    "-- 如果存在就嗯哼\n",
    "DROP TABLE IF EXISTS \n",
    "    {mc_tname}\n",
    ";\n",
    "-- \n",
    "-- 就地创建\n",
    "CREATE TABLE IF NOT EXISTS \n",
    "    {mc_tname} (month string \n",
    "         ,{mc_fiels}\n",
    "        )\n",
    ";\n",
    "-- \n",
    "-- 逐一嗯哼\n",
    "INSERT INTO TABLE \n",
    "    {mc_tname} \n",
    "VALUES \n",
    "     {mc_vars}\n",
    ";\n",
    "-- \n",
    "-- 视验\n",
    "SELECT * FROM {mc_tname}\n",
    "LIMIT 10\n",
    ";\n",
    "\n",
    "'''\n",
    "\n",
    "_stuff = {'mc_tname': 'ycmecon_econ2stats_1802'\n",
    "          , 'mc_res':'2种数值-1802.csv'\n",
    "          , 'mc_fiels': ''\n",
    "          , 'mc_vars': ''\n",
    "         }\n",
    "exp_SQL = \"../../src/SQL/DAMA_0310_feature_econ2stats_1802.sql\"\n"
   ]
  },
  {
   "cell_type": "code",
   "execution_count": 17,
   "metadata": {},
   "outputs": [],
   "source": [
    "#redf.columns\n",
    "#','.join(['%s bigint'%k for k in redf.columns[1:]])\n",
    "_stuff['mc_fiels'] = '\\n,'.join(['%s bigint'%k for k in redf.columns[1:]])"
   ]
  },
  {
   "cell_type": "code",
   "execution_count": 20,
   "metadata": {},
   "outputs": [],
   "source": [
    "#print(type(redf.iloc[5,:]))\n",
    "#for v in redf.iloc[5,:]:    print(v)\n",
    "#','.join('%s'%v for v in redf.iloc[5,1:])\n",
    "#redf.iloc[5,:][0]"
   ]
  },
  {
   "cell_type": "code",
   "execution_count": 21,
   "metadata": {},
   "outputs": [],
   "source": [
    "_var = []\n",
    "for row in range(len(redf)):\n",
    "    _var.append(\"('{}',{})\".format(\n",
    "                redf.iloc[row,:][0]\n",
    "                , ','.join('%s'%v for v in redf.iloc[row,1:])\n",
    "                ))\n",
    "#print(_var)\n",
    "_stuff['mc_vars'] = '\\n,'.join(_var)"
   ]
  },
  {
   "cell_type": "code",
   "execution_count": 22,
   "metadata": {},
   "outputs": [
    {
     "name": "stdout",
     "output_type": "stream",
     "text": [
      "exp==>../../src/SQL/DAMA_0310_feature_econ2stats_1802.sql\n"
     ]
    },
    {
     "data": {
      "text/plain": [
       "2073"
      ]
     },
     "execution_count": 22,
     "metadata": {},
     "output_type": "execute_result"
    }
   ],
   "source": [
    "print(\"exp==>%s\"%exp_SQL)\n",
    "open(exp_SQL,'w').write(tpl_SQL.format(**_stuff))"
   ]
  },
  {
   "cell_type": "code",
   "execution_count": 23,
   "metadata": {},
   "outputs": [
    {
     "data": {
      "text/plain": [
       "74"
      ]
     },
     "execution_count": 23,
     "metadata": {},
     "output_type": "execute_result"
    }
   ],
   "source": [
    "len(redf)"
   ]
  },
  {
   "cell_type": "markdown",
   "metadata": {},
   "source": [
    "## 3组无缺数值~1801"
   ]
  },
  {
   "cell_type": "code",
   "execution_count": 32,
   "metadata": {},
   "outputs": [
    {
     "data": {
      "text/html": [
       "<div>\n",
       "<style scoped>\n",
       "    .dataframe tbody tr th:only-of-type {\n",
       "        vertical-align: middle;\n",
       "    }\n",
       "\n",
       "    .dataframe tbody tr th {\n",
       "        vertical-align: top;\n",
       "    }\n",
       "\n",
       "    .dataframe thead th {\n",
       "        text-align: right;\n",
       "    }\n",
       "</style>\n",
       "<table border=\"1\" class=\"dataframe\">\n",
       "  <thead>\n",
       "    <tr style=\"text-align: right;\">\n",
       "      <th></th>\n",
       "      <th>时间</th>\n",
       "      <th>固定长途电话通话时长(含IP)_当期值(万分钟)</th>\n",
       "      <th>快递量_当期值(万件)</th>\n",
       "      <th>沿海规模以上港口货物吞吐量_当期值(万吨)</th>\n",
       "    </tr>\n",
       "  </thead>\n",
       "  <tbody>\n",
       "    <tr>\n",
       "      <th>0</th>\n",
       "      <td>2018年1月</td>\n",
       "      <td>244053.9</td>\n",
       "      <td>398613.3</td>\n",
       "      <td>76731.0</td>\n",
       "    </tr>\n",
       "    <tr>\n",
       "      <th>1</th>\n",
       "      <td>2017年12月</td>\n",
       "      <td>250458.9</td>\n",
       "      <td>420037.7</td>\n",
       "      <td>67605.0</td>\n",
       "    </tr>\n",
       "    <tr>\n",
       "      <th>2</th>\n",
       "      <td>2017年11月</td>\n",
       "      <td>257606.8</td>\n",
       "      <td>471490.3</td>\n",
       "      <td>70250.0</td>\n",
       "    </tr>\n",
       "    <tr>\n",
       "      <th>3</th>\n",
       "      <td>2017年10月</td>\n",
       "      <td>230970.3</td>\n",
       "      <td>374771.5</td>\n",
       "      <td>72275.0</td>\n",
       "    </tr>\n",
       "    <tr>\n",
       "      <th>4</th>\n",
       "      <td>2017年9月</td>\n",
       "      <td>259242.9</td>\n",
       "      <td>360605.6</td>\n",
       "      <td>71404.0</td>\n",
       "    </tr>\n",
       "  </tbody>\n",
       "</table>\n",
       "</div>"
      ],
      "text/plain": [
       "         时间  固定长途电话通话时长(含IP)_当期值(万分钟)  快递量_当期值(万件)  沿海规模以上港口货物吞吐量_当期值(万吨)\n",
       "0   2018年1月                  244053.9     398613.3                76731.0\n",
       "1  2017年12月                  250458.9     420037.7                67605.0\n",
       "2  2017年11月                  257606.8     471490.3                70250.0\n",
       "3  2017年10月                  230970.3     374771.5                72275.0\n",
       "4   2017年9月                  259242.9     360605.6                71404.0"
      ]
     },
     "execution_count": 32,
     "metadata": {},
     "output_type": "execute_result"
    }
   ],
   "source": [
    "df = pd.read_csv('../../raw/_macroeconomic/3种数值-1801.csv')\n",
    "df.head()"
   ]
  },
  {
   "cell_type": "code",
   "execution_count": 33,
   "metadata": {},
   "outputs": [
    {
     "data": {
      "text/plain": [
       "73"
      ]
     },
     "execution_count": 33,
     "metadata": {},
     "output_type": "execute_result"
    }
   ],
   "source": [
    "df['时间'] = df['时间'].apply(lambda x:datetime.datetime.strptime(x , \"%Y年%m月\").strftime('%Y%m'))\n",
    "#df['时间'][-1:]\n",
    "len(df['时间'])"
   ]
  },
  {
   "cell_type": "code",
   "execution_count": 36,
   "metadata": {},
   "outputs": [
    {
     "data": {
      "text/plain": [
       "时间                          False\n",
       "固定长途电话通话时长(含IP)_当期值(万分钟)    False\n",
       "快递量_当期值(万件)                 False\n",
       "沿海规模以上港口货物吞吐量_当期值(万吨)        True\n",
       "dtype: bool"
      ]
     },
     "execution_count": 36,
     "metadata": {},
     "output_type": "execute_result"
    }
   ],
   "source": [
    "df.isnull().any()"
   ]
  },
  {
   "cell_type": "code",
   "execution_count": 37,
   "metadata": {},
   "outputs": [],
   "source": [
    "redf = df.rename(columns={'时间':'month'\n",
    "                  , '固定长途电话通话时长(含IP)_当期值(万分钟)':'1801a'\n",
    "                  , '快递量_当期值(万件)':'1801b'\n",
    "                  , '沿海规模以上港口货物吞吐量_当期值(万吨)':'1801c'\n",
    "                  })"
   ]
  },
  {
   "cell_type": "markdown",
   "metadata": {},
   "source": [
    "### 增补缺值\n",
    "~ 用前后数值的平均来回填"
   ]
  },
  {
   "cell_type": "code",
   "execution_count": 39,
   "metadata": {},
   "outputs": [
    {
     "data": {
      "text/plain": [
       "month    False\n",
       "1801a    False\n",
       "1801b    False\n",
       "1801c     True\n",
       "dtype: bool"
      ]
     },
     "execution_count": 39,
     "metadata": {},
     "output_type": "execute_result"
    }
   ],
   "source": [
    "redf.isnull().any()"
   ]
  },
  {
   "cell_type": "code",
   "execution_count": 65,
   "metadata": {},
   "outputs": [
    {
     "name": "stdout",
     "output_type": "stream",
     "text": [
      "NaN 70803.0 67678.0 ->69240.5\n",
      "NaN 67573.0 63126.0 ->65349.5\n",
      "NaN 68101.0 64220.0 ->66160.5\n",
      "NaN 65186.0 60599.0 ->62892.5\n",
      "NaN 60001.0 56220.0 ->58110.5\n"
     ]
    }
   ],
   "source": [
    "for i in range(len(redf['1801c'])):\n",
    "    #print(redf['1801c'][i])\n",
    "    if np.isnan(redf['1801c'][i]):# == np.nan:\n",
    "        _mean = (redf['1801c'][i-1]+redf['1801c'][i+1])/2\n",
    "        print('NaN {} {} ->{}'.format(\n",
    "                    redf['1801c'][i-1]\n",
    "                    , redf['1801c'][i+1]\n",
    "                    , _mean\n",
    "                    ))\n",
    "        redf['1801c'][i] = _mean\n"
   ]
  },
  {
   "cell_type": "code",
   "execution_count": 67,
   "metadata": {},
   "outputs": [
    {
     "data": {
      "text/plain": [
       "month    False\n",
       "1801a    False\n",
       "1801b    False\n",
       "1801c    False\n",
       "dtype: bool"
      ]
     },
     "execution_count": 67,
     "metadata": {},
     "output_type": "execute_result"
    }
   ],
   "source": [
    "redf.isnull().any()"
   ]
  },
  {
   "cell_type": "markdown",
   "metadata": {},
   "source": [
    "### SQL 生成\n",
    "对应数据表定义, 值定义..."
   ]
  },
  {
   "cell_type": "code",
   "execution_count": 70,
   "metadata": {},
   "outputs": [
    {
     "name": "stdout",
     "output_type": "stream",
     "text": [
      "exp==>../../src/SQL/DAMA_0310_feature_econ3stats_1801.sql\n"
     ]
    },
    {
     "data": {
      "text/plain": [
       "3208"
      ]
     },
     "execution_count": 70,
     "metadata": {},
     "output_type": "execute_result"
    }
   ],
   "source": [
    "_stuff = {'mc_tname': 'ycmecon_econ3stats_1801'\n",
    "          , 'mc_res':'3种数值-1801.csv'\n",
    "          , 'mc_fiels': ''\n",
    "          , 'mc_vars': ''\n",
    "         }\n",
    "exp_SQL = \"../../src/SQL/DAMA_0310_feature_econ3stats_1801.sql\"\n",
    "_stuff['mc_fiels'] = '\\n,'.join(['%s bigint'%k for k in redf.columns[1:]])\n",
    "_var = []\n",
    "for row in range(len(redf)):\n",
    "    _var.append(\"('{}',{})\".format(\n",
    "                redf.iloc[row,:][0]\n",
    "                , ','.join('%s'%v for v in redf.iloc[row,1:])\n",
    "                ))\n",
    "#print(_var)\n",
    "_stuff['mc_vars'] = '\\n,'.join(_var)\n",
    "print(\"exp==>%s\"%exp_SQL)\n",
    "open(exp_SQL,'w').write(tpl_SQL.format(**_stuff))"
   ]
  },
  {
   "cell_type": "code",
   "execution_count": 69,
   "metadata": {},
   "outputs": [
    {
     "data": {
      "text/plain": [
       "73"
      ]
     },
     "execution_count": 69,
     "metadata": {},
     "output_type": "execute_result"
    }
   ],
   "source": [
    "len(redf)"
   ]
  },
  {
   "cell_type": "markdown",
   "metadata": {},
   "source": [
    "## 16组有缺数值~1712"
   ]
  },
  {
   "cell_type": "code",
   "execution_count": 93,
   "metadata": {},
   "outputs": [
    {
     "data": {
      "text/html": [
       "<div>\n",
       "<style scoped>\n",
       "    .dataframe tbody tr th:only-of-type {\n",
       "        vertical-align: middle;\n",
       "    }\n",
       "\n",
       "    .dataframe tbody tr th {\n",
       "        vertical-align: top;\n",
       "    }\n",
       "\n",
       "    .dataframe thead th {\n",
       "        text-align: right;\n",
       "    }\n",
       "</style>\n",
       "<table border=\"1\" class=\"dataframe\">\n",
       "  <thead>\n",
       "    <tr style=\"text-align: right;\">\n",
       "      <th></th>\n",
       "      <th>时间</th>\n",
       "      <th>办公楼竣工面积_累计增长(%)</th>\n",
       "      <th>渔业固定资产投资额_累计增长(%)</th>\n",
       "      <th>畜牧业固定资产投资额_累计增长(%)</th>\n",
       "      <th>林业固定资产投资额_累计增长(%)</th>\n",
       "      <th>农业固定资产投资额_累计增长(%)</th>\n",
       "      <th>电信、广播电视和卫星传输服务固定资产投资额_累计增长(%)</th>\n",
       "      <th>信息传输、软件和信息技术服务业固定资产投资额_累计增长(%)</th>\n",
       "      <th>水的生产和供应业固定资产投资额_累计增长(%)</th>\n",
       "      <th>航空运输业固定资产投资额_累计增长(%)</th>\n",
       "      <th>管道运输业固定资产投资额_累计增长(%)</th>\n",
       "      <th>仓储业固定资产投资额_累计增长(%)</th>\n",
       "      <th>科学研究、技术服务和地质勘查业固定资产投资额_累计增长(%)</th>\n",
       "      <th>公共设施管理业固定资产投资额_累计增长(%)</th>\n",
       "      <th>环境管理业固定资产投资额_累计增长(%)</th>\n",
       "      <th>公共管理和社会组织固定资产投资额_累计增长(%)</th>\n",
       "      <th>文化艺术业固定资产投资额_累计增长(%)</th>\n",
       "    </tr>\n",
       "  </thead>\n",
       "  <tbody>\n",
       "    <tr>\n",
       "      <th>0</th>\n",
       "      <td>2017年12月</td>\n",
       "      <td>10.4</td>\n",
       "      <td>12.7</td>\n",
       "      <td>6.4</td>\n",
       "      <td>2.8</td>\n",
       "      <td>16.4</td>\n",
       "      <td>-5.2</td>\n",
       "      <td>12.8</td>\n",
       "      <td>11.6</td>\n",
       "      <td>8.5</td>\n",
       "      <td>32.5</td>\n",
       "      <td>-0.4</td>\n",
       "      <td>9.4</td>\n",
       "      <td>21.8</td>\n",
       "      <td>23.9</td>\n",
       "      <td>-2.0</td>\n",
       "      <td>12.6</td>\n",
       "    </tr>\n",
       "    <tr>\n",
       "      <th>1</th>\n",
       "      <td>2017年11月</td>\n",
       "      <td>28.0</td>\n",
       "      <td>13.4</td>\n",
       "      <td>4.7</td>\n",
       "      <td>3.2</td>\n",
       "      <td>16.6</td>\n",
       "      <td>-4.3</td>\n",
       "      <td>15.2</td>\n",
       "      <td>12.2</td>\n",
       "      <td>4.7</td>\n",
       "      <td>37.3</td>\n",
       "      <td>1.5</td>\n",
       "      <td>8.7</td>\n",
       "      <td>23.3</td>\n",
       "      <td>23.6</td>\n",
       "      <td>4.1</td>\n",
       "      <td>11.9</td>\n",
       "    </tr>\n",
       "    <tr>\n",
       "      <th>2</th>\n",
       "      <td>2017年10月</td>\n",
       "      <td>36.5</td>\n",
       "      <td>15.8</td>\n",
       "      <td>7.0</td>\n",
       "      <td>5.4</td>\n",
       "      <td>17.6</td>\n",
       "      <td>-5.7</td>\n",
       "      <td>13.4</td>\n",
       "      <td>12.9</td>\n",
       "      <td>2.7</td>\n",
       "      <td>41.9</td>\n",
       "      <td>3.3</td>\n",
       "      <td>8.7</td>\n",
       "      <td>23.4</td>\n",
       "      <td>24.1</td>\n",
       "      <td>1.8</td>\n",
       "      <td>11.2</td>\n",
       "    </tr>\n",
       "    <tr>\n",
       "      <th>3</th>\n",
       "      <td>2017年9月</td>\n",
       "      <td>36.1</td>\n",
       "      <td>17.6</td>\n",
       "      <td>5.0</td>\n",
       "      <td>5.5</td>\n",
       "      <td>16.2</td>\n",
       "      <td>-6.9</td>\n",
       "      <td>10.6</td>\n",
       "      <td>12.8</td>\n",
       "      <td>-3.4</td>\n",
       "      <td>53.5</td>\n",
       "      <td>4.6</td>\n",
       "      <td>10.0</td>\n",
       "      <td>23.7</td>\n",
       "      <td>25.0</td>\n",
       "      <td>4.0</td>\n",
       "      <td>13.2</td>\n",
       "    </tr>\n",
       "    <tr>\n",
       "      <th>4</th>\n",
       "      <td>2017年8月</td>\n",
       "      <td>43.7</td>\n",
       "      <td>17.3</td>\n",
       "      <td>5.9</td>\n",
       "      <td>7.1</td>\n",
       "      <td>16.1</td>\n",
       "      <td>-8.1</td>\n",
       "      <td>11.3</td>\n",
       "      <td>14.6</td>\n",
       "      <td>-8.9</td>\n",
       "      <td>70.9</td>\n",
       "      <td>4.2</td>\n",
       "      <td>11.8</td>\n",
       "      <td>24.3</td>\n",
       "      <td>28.2</td>\n",
       "      <td>3.0</td>\n",
       "      <td>15.0</td>\n",
       "    </tr>\n",
       "  </tbody>\n",
       "</table>\n",
       "</div>"
      ],
      "text/plain": [
       "         时间  办公楼竣工面积_累计增长(%)  渔业固定资产投资额_累计增长(%)  畜牧业固定资产投资额_累计增长(%)  \\\n",
       "0  2017年12月             10.4               12.7                 6.4   \n",
       "1  2017年11月             28.0               13.4                 4.7   \n",
       "2  2017年10月             36.5               15.8                 7.0   \n",
       "3   2017年9月             36.1               17.6                 5.0   \n",
       "4   2017年8月             43.7               17.3                 5.9   \n",
       "\n",
       "   林业固定资产投资额_累计增长(%)  农业固定资产投资额_累计增长(%)  电信、广播电视和卫星传输服务固定资产投资额_累计增长(%)  \\\n",
       "0                2.8               16.4                           -5.2   \n",
       "1                3.2               16.6                           -4.3   \n",
       "2                5.4               17.6                           -5.7   \n",
       "3                5.5               16.2                           -6.9   \n",
       "4                7.1               16.1                           -8.1   \n",
       "\n",
       "   信息传输、软件和信息技术服务业固定资产投资额_累计增长(%)  水的生产和供应业固定资产投资额_累计增长(%)  \\\n",
       "0                            12.8                     11.6   \n",
       "1                            15.2                     12.2   \n",
       "2                            13.4                     12.9   \n",
       "3                            10.6                     12.8   \n",
       "4                            11.3                     14.6   \n",
       "\n",
       "   航空运输业固定资产投资额_累计增长(%)  管道运输业固定资产投资额_累计增长(%)  仓储业固定资产投资额_累计增长(%)  \\\n",
       "0                   8.5                  32.5                -0.4   \n",
       "1                   4.7                  37.3                 1.5   \n",
       "2                   2.7                  41.9                 3.3   \n",
       "3                  -3.4                  53.5                 4.6   \n",
       "4                  -8.9                  70.9                 4.2   \n",
       "\n",
       "   科学研究、技术服务和地质勘查业固定资产投资额_累计增长(%)  公共设施管理业固定资产投资额_累计增长(%)  \\\n",
       "0                             9.4                    21.8   \n",
       "1                             8.7                    23.3   \n",
       "2                             8.7                    23.4   \n",
       "3                            10.0                    23.7   \n",
       "4                            11.8                    24.3   \n",
       "\n",
       "   环境管理业固定资产投资额_累计增长(%)  公共管理和社会组织固定资产投资额_累计增长(%)  文化艺术业固定资产投资额_累计增长(%)  \n",
       "0                  23.9                      -2.0                  12.6  \n",
       "1                  23.6                       4.1                  11.9  \n",
       "2                  24.1                       1.8                  11.2  \n",
       "3                  25.0                       4.0                  13.2  \n",
       "4                  28.2                       3.0                  15.0  "
      ]
     },
     "execution_count": 93,
     "metadata": {},
     "output_type": "execute_result"
    }
   ],
   "source": [
    "df = pd.read_csv('../../raw/_macroeconomic/16种数值-1712.csv')\n",
    "df.head()"
   ]
  },
  {
   "cell_type": "code",
   "execution_count": 94,
   "metadata": {},
   "outputs": [
    {
     "data": {
      "text/plain": [
       "72"
      ]
     },
     "execution_count": 94,
     "metadata": {},
     "output_type": "execute_result"
    }
   ],
   "source": [
    "df['时间'] = df['时间'].apply(lambda x:datetime.datetime.strptime(x , \"%Y年%m月\").strftime('%Y%m'))\n",
    "#df['时间'][-1:]\n",
    "len(df['时间'])"
   ]
  },
  {
   "cell_type": "code",
   "execution_count": 95,
   "metadata": {},
   "outputs": [
    {
     "data": {
      "text/plain": [
       "时间                                False\n",
       "办公楼竣工面积_累计增长(%)                    True\n",
       "渔业固定资产投资额_累计增长(%)                  True\n",
       "畜牧业固定资产投资额_累计增长(%)                 True\n",
       "林业固定资产投资额_累计增长(%)                  True\n",
       "农业固定资产投资额_累计增长(%)                  True\n",
       "电信、广播电视和卫星传输服务固定资产投资额_累计增长(%)      True\n",
       "信息传输、软件和信息技术服务业固定资产投资额_累计增长(%)     True\n",
       "水的生产和供应业固定资产投资额_累计增长(%)            True\n",
       "航空运输业固定资产投资额_累计增长(%)               True\n",
       "管道运输业固定资产投资额_累计增长(%)               True\n",
       "仓储业固定资产投资额_累计增长(%)                 True\n",
       "科学研究、技术服务和地质勘查业固定资产投资额_累计增长(%)     True\n",
       "公共设施管理业固定资产投资额_累计增长(%)             True\n",
       "环境管理业固定资产投资额_累计增长(%)               True\n",
       "公共管理和社会组织固定资产投资额_累计增长(%)           True\n",
       "文化艺术业固定资产投资额_累计增长(%)               True\n",
       "dtype: bool"
      ]
     },
     "execution_count": 95,
     "metadata": {},
     "output_type": "execute_result"
    }
   ],
   "source": [
    "df.isnull().any()"
   ]
  },
  {
   "cell_type": "code",
   "execution_count": 96,
   "metadata": {},
   "outputs": [],
   "source": [
    "redf=df.rename(columns={'时间':'month'\n",
    "        , '办公楼竣工面积_累计增长(%)':'1712a'\n",
    "        , '渔业固定资产投资额_累计增长(%)':'1712b'\n",
    "        , '畜牧业固定资产投资额_累计增长(%)':'1712c'\n",
    "        , '林业固定资产投资额_累计增长(%)':'1712d'\n",
    "        , '农业固定资产投资额_累计增长(%)':'1712e'\n",
    "        , '电信、广播电视和卫星传输服务固定资产投资额_累计增长(%)':'1712f'\n",
    "        , '信息传输、软件和信息技术服务业固定资产投资额_累计增长(%)':'1712g'\n",
    "        , '水的生产和供应业固定资产投资额_累计增长(%)':'1712h'\n",
    "        , '航空运输业固定资产投资额_累计增长(%)':'1712i'\n",
    "        , '管道运输业固定资产投资额_累计增长(%)':'1712j'\n",
    "        , '仓储业固定资产投资额_累计增长(%)':'1712k'\n",
    "        , '科学研究、技术服务和地质勘查业固定资产投资额_累计增长(%)':'1712kk'\n",
    "        , '公共设施管理业固定资产投资额_累计增长(%)':'1712m'\n",
    "        , '环境管理业固定资产投资额_累计增长(%)':'1712n'\n",
    "        , '公共管理和社会组织固定资产投资额_累计增长(%)':'1712o'\n",
    "        , '文化艺术业固定资产投资额_累计增长(%)':'1712p'\n",
    "        })\n"
   ]
  },
  {
   "cell_type": "markdown",
   "metadata": {},
   "source": [
    "### 增补缺值\n",
    "~ 用前后数值的平均来回填"
   ]
  },
  {
   "cell_type": "code",
   "execution_count": 97,
   "metadata": {},
   "outputs": [
    {
     "data": {
      "text/plain": [
       "month     False\n",
       "1712a      True\n",
       "1712b      True\n",
       "1712c      True\n",
       "1712d      True\n",
       "1712e      True\n",
       "1712f      True\n",
       "1712g      True\n",
       "1712h      True\n",
       "1712i      True\n",
       "1712j      True\n",
       "1712k      True\n",
       "1712kk     True\n",
       "1712m      True\n",
       "1712n      True\n",
       "1712o      True\n",
       "1712p      True\n",
       "dtype: bool"
      ]
     },
     "execution_count": 97,
     "metadata": {},
     "output_type": "execute_result"
    }
   ],
   "source": [
    "redf.isnull().any()"
   ]
  },
  {
   "cell_type": "code",
   "execution_count": 98,
   "metadata": {},
   "outputs": [],
   "source": [
    "def _fix4nan2mon(df1s):\n",
    "    for i in range(len(df1s)):\n",
    "        #print(redf['1801c'][i])\n",
    "        if np.isnan(df1s[i]):# == np.nan:\n",
    "            _mean = (df1s[i-1] + df1s[i+1])/2\n",
    "            print('NaN {} {} ->{}'.format(\n",
    "                        df1s[i-1]\n",
    "                        , df1s[i+1]\n",
    "                        , _mean\n",
    "                        ))\n",
    "            df1s[i] = _mean\n",
    "    return df1s\n"
   ]
  },
  {
   "cell_type": "code",
   "execution_count": 99,
   "metadata": {},
   "outputs": [
    {
     "name": "stdout",
     "output_type": "stream",
     "text": [
      "NaN 25.7 6.1 ->15.899999999999999\n",
      "NaN 6.6 8.8 ->7.7\n",
      "NaN 36.4 12.7 ->24.549999999999997\n",
      "NaN 14.0 20.5 ->17.25\n",
      "NaN 86.8 2.1 ->44.449999999999996\n",
      "NaN 39.2 21.8 ->30.5\n",
      "NaN 26.4 16.2 ->21.299999999999997\n",
      "NaN 14.8 17.2 ->16.0\n",
      "NaN 11.8 30.3 ->21.05\n",
      "NaN 63.1 41.29 ->52.195\n",
      "NaN 16.8 10.1 ->13.45\n",
      "NaN 15.7 19.7 ->17.7\n",
      "NaN 20.8 35.7 ->28.25\n",
      "NaN 17.8 38.7 ->28.25\n",
      "NaN 40.1 32.28 ->36.19\n",
      "NaN -14.1 10.6 ->-1.75\n",
      "NaN 38.5 23.5 ->31.0\n",
      "NaN 38.4 18.5 ->28.45\n",
      "NaN 3.2 33.9 ->18.55\n",
      "NaN 41.2 14.99 ->28.095000000000002\n",
      "NaN 24.9 30.4 ->27.65\n",
      "NaN 44.0 45.7 ->44.85\n",
      "NaN 49.4 40.6 ->45.0\n",
      "NaN 30.5 28.1 ->29.3\n",
      "NaN 30.3 40.53 ->35.415\n",
      "NaN -2.4 8.3 ->2.95\n",
      "NaN 15.9 18.4 ->17.15\n",
      "NaN 38.6 25.6 ->32.1\n",
      "NaN -4.2 8.2 ->1.9999999999999996\n",
      "NaN -22.7 15.34 ->-3.6799999999999997\n",
      "NaN 13.4 14.5 ->13.95\n",
      "NaN 25.4 34.5 ->29.95\n",
      "NaN 36.8 38.6 ->37.7\n",
      "NaN 22.4 19.5 ->20.95\n",
      "NaN 2.9 30.63 ->16.765\n",
      "NaN 26.0 20.5 ->23.25\n",
      "NaN 50.6 30.7 ->40.65\n",
      "NaN 29.6 16.8 ->23.200000000000003\n",
      "NaN 4.2 28.1 ->16.150000000000002\n",
      "NaN 26.9 18.39 ->22.645\n",
      "NaN 69.2 20.6 ->44.900000000000006\n",
      "NaN 28.9 28.6 ->28.75\n",
      "NaN -18.6 9.2 ->-4.700000000000001\n",
      "NaN -3.1 14.3 ->5.6000000000000005\n",
      "NaN 7.9 30.17 ->19.035\n",
      "NaN 74.4 -12.2 ->31.1\n",
      "NaN -7.4 -5.2 ->-6.300000000000001\n",
      "NaN 11.4 -14.0 ->-1.2999999999999998\n",
      "NaN 16.8 76.9 ->46.85\n",
      "NaN 66.0 29.92 ->47.96\n",
      "NaN 3.3 5.5 ->4.4\n",
      "NaN 19.4 28.3 ->23.85\n",
      "NaN 23.8 22.4 ->23.1\n",
      "NaN 29.6 32.7 ->31.150000000000002\n",
      "NaN 37.8 28.02 ->32.91\n",
      "NaN 11.7 17.2 ->14.45\n",
      "NaN 23.2 12.6 ->17.9\n",
      "NaN 10.8 34.7 ->22.75\n",
      "NaN 38.7 27.2 ->32.95\n",
      "NaN 41.1 27.79 ->34.445\n",
      "NaN 35.8 22.9 ->29.349999999999998\n",
      "NaN 26.5 20.2 ->23.35\n",
      "NaN 19.9 23.1 ->21.5\n",
      "NaN 23.2 27.8 ->25.5\n",
      "NaN 40.4 20.47 ->30.435\n",
      "NaN 38.0 39.9 ->38.95\n",
      "NaN 37.8 24.4 ->31.099999999999998\n",
      "NaN 20.6 26.0 ->23.3\n",
      "NaN 5.0 31.1 ->18.05\n",
      "NaN 16.0 2.55 ->9.275\n",
      "NaN -11.5 4.3 ->-3.6\n",
      "NaN 39.2 9.1 ->24.150000000000002\n",
      "NaN 6.9 13.6 ->10.25\n",
      "NaN 13.0 -2.3 ->5.35\n",
      "NaN -1.4 9.2 ->3.8999999999999995\n",
      "NaN 7.9 10.7 ->9.3\n",
      "NaN -7.8 13.8 ->3.0000000000000004\n",
      "NaN 28.2 13.6 ->20.9\n",
      "NaN 18.1 20.8 ->19.450000000000003\n",
      "NaN 28.7 65.55 ->47.125\n"
     ]
    },
    {
     "data": {
      "text/plain": [
       "month     False\n",
       "1712a     False\n",
       "1712b     False\n",
       "1712c     False\n",
       "1712d     False\n",
       "1712e     False\n",
       "1712f     False\n",
       "1712g     False\n",
       "1712h     False\n",
       "1712i     False\n",
       "1712j     False\n",
       "1712k     False\n",
       "1712kk    False\n",
       "1712m     False\n",
       "1712n     False\n",
       "1712o     False\n",
       "1712p     False\n",
       "dtype: bool"
      ]
     },
     "execution_count": 99,
     "metadata": {},
     "output_type": "execute_result"
    }
   ],
   "source": [
    "for col in redf.columns[1:]:\n",
    "    #print(col)\n",
    "    redf[col] = _fix4nan2mon(redf[col])\n",
    "    \n",
    "redf.isnull().any()"
   ]
  },
  {
   "cell_type": "markdown",
   "metadata": {},
   "source": [
    "### SQL 生成\n",
    "对应数据表定义, 值定义..."
   ]
  },
  {
   "cell_type": "code",
   "execution_count": 100,
   "metadata": {},
   "outputs": [
    {
     "name": "stdout",
     "output_type": "stream",
     "text": [
      "exp==>../../src/SQL/DAMA_0310_feature_econ16stats_1712.sql\n"
     ]
    },
    {
     "data": {
      "text/plain": [
       "7383"
      ]
     },
     "execution_count": 100,
     "metadata": {},
     "output_type": "execute_result"
    }
   ],
   "source": [
    "_stuff = {'mc_tname': 'ycmecon_econ16stats_1712'\n",
    "          , 'mc_res':'16种数值-1712.csv'\n",
    "          , 'mc_fiels': ''\n",
    "          , 'mc_vars': ''\n",
    "         }\n",
    "exp_SQL = \"../../src/SQL/DAMA_0310_feature_econ16stats_1712.sql\"\n",
    "_stuff['mc_fiels'] = '\\n,'.join([\"%s bigint\"%k for k in redf.columns[1:]])\n",
    "_var = []\n",
    "for row in range(len(redf)):\n",
    "    _var.append(\"('{}',{})\".format(\n",
    "                redf.iloc[row,:][0]\n",
    "                , ','.join('%s'%v for v in redf.iloc[row,1:])\n",
    "                ))\n",
    "#print(_var)\n",
    "_stuff['mc_vars'] = '\\n,'.join(_var)\n",
    "print(\"exp==>%s\"%exp_SQL)\n",
    "open(exp_SQL,'w').write(tpl_SQL.format(**_stuff))"
   ]
  },
  {
   "cell_type": "code",
   "execution_count": null,
   "metadata": {},
   "outputs": [],
   "source": []
  },
  {
   "cell_type": "code",
   "execution_count": null,
   "metadata": {},
   "outputs": [],
   "source": []
  },
  {
   "cell_type": "code",
   "execution_count": null,
   "metadata": {},
   "outputs": [],
   "source": []
  }
 ],
 "metadata": {
  "kernelspec": {
   "display_name": "Python 3",
   "language": "python",
   "name": "python3"
  },
  "language_info": {
   "codemirror_mode": {
    "name": "ipython",
    "version": 3
   },
   "file_extension": ".py",
   "mimetype": "text/x-python",
   "name": "python",
   "nbconvert_exporter": "python",
   "pygments_lexer": "ipython3",
   "version": "3.6.3"
  },
  "toc": {
   "nav_menu": {},
   "number_sections": true,
   "sideBar": true,
   "skip_h1_title": false,
   "toc_cell": false,
   "toc_position": {},
   "toc_section_display": "block",
   "toc_window_display": false
  }
 },
 "nbformat": 4,
 "nbformat_minor": 2
}
