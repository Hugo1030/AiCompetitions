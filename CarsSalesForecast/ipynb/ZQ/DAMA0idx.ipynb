{
 "cells": [
  {
   "cell_type": "markdown",
   "metadata": {},
   "source": [
    "# TIANCHI 大妈 嗯哼\n",
    "\n",
    "索引各种折腾\n",
    "\n",
    "- 任务:[du4ai / TianChi / issues / #1 - 时间窗口特征制备 — Bitbucket](https://bitbucket.org/du4ai/tianchi/issues/1/--------)\n",
    "    + [DAMA1twindows](DAMA1twindows.ipynb)\n"
   ]
  },
  {
   "cell_type": "markdown",
   "metadata": {},
   "source": [
    "# chaos42: 地铁流\n",
    "\n",
    "象地铁一般, 用固定班组,同时可以灵活调节/增补车厢;\n",
    "\n",
    "以 GXboost 为最终烹调场所的机械学习流派也是:\n",
    "\n",
    "- 简洁固定的数据处理过程\n",
    "- 丰富灵活的对应工具/模块\n",
    "- 不求甚解的固定操作\n",
    "- 就可以高速完成一系列复杂的 AI:ML:DL 构建和自动计算\n"
   ]
  },
  {
   "cell_type": "markdown",
   "metadata": {},
   "source": [
    "## 综述\n",
    "\n",
    "- 数据清洗:\n",
    "    - csv\n",
    "    - 时间\n",
    "    - 合并\n",
    "    - ...\n",
    "- 特征提取\n",
    "- 堆叠计算\n",
    "- 本地检验 ~ RMSE(Root Mean Square Error 均方根误差)\n",
    "- 模型追加\n",
    "- 比重调合\n"
   ]
  },
  {
   "cell_type": "markdown",
   "metadata": {},
   "source": [
    "'sale_date','province_id','city_id'\n",
    "           ,'class_id','sale_quantity',"
   ]
  },
  {
   "cell_type": "code",
   "execution_count": 6,
   "metadata": {},
   "outputs": [
    {
     "name": "stdout",
     "output_type": "stream",
     "text": [
      "['brand_id', 'car_height', 'car_length', 'car_width', 'compartment', 'cylinder_number', 'department_id', 'displacement', 'driven_type_id', 'emission_standards_id', 'equipment_quality', 'front_track', 'fuel_type_id', 'gearbox_type', 'if_charging', 'if_luxurious_id', 'if_mpv_id', 'level_id', 'newenergy_type_id', 'power', 'price_level', 'rated_passenger', 'rear_track', 'total_quality', 'tr', 'type_id', 'wheelbase']\n"
     ]
    }
   ],
   "source": [
    "columns = ['brand_id'\n",
    "           ,'compartment','type_id','level_id'\n",
    "           ,'department_id','tr','gearbox_type'\n",
    "           ,'displacement','if_charging','price_level'\n",
    "           ,'driven_type_id','fuel_type_id'\n",
    "           ,'newenergy_type_id','emission_standards_id'\n",
    "           ,'if_mpv_id','if_luxurious_id','power'\n",
    "           ,'cylinder_number','car_length','car_width'\n",
    "           ,'car_height','total_quality','equipment_quality'\n",
    "           ,'rated_passenger','wheelbase','front_track','rear_track']\n",
    "\n",
    "_sort = columns.sort()\n",
    "\n",
    "print(columns)"
   ]
  },
  {
   "cell_type": "code",
   "execution_count": null,
   "metadata": {},
   "outputs": [],
   "source": []
  }
 ],
 "metadata": {
  "kernelspec": {
   "display_name": "Python 3",
   "language": "python",
   "name": "python3"
  },
  "language_info": {
   "codemirror_mode": {
    "name": "ipython",
    "version": 3
   },
   "file_extension": ".py",
   "mimetype": "text/x-python",
   "name": "python",
   "nbconvert_exporter": "python",
   "pygments_lexer": "ipython3",
   "version": "3.6.3"
  },
  "toc": {
   "nav_menu": {},
   "number_sections": true,
   "sideBar": true,
   "skip_h1_title": false,
   "toc_cell": false,
   "toc_position": {},
   "toc_section_display": "block",
   "toc_window_display": false
  }
 },
 "nbformat": 4,
 "nbformat_minor": 2
}
