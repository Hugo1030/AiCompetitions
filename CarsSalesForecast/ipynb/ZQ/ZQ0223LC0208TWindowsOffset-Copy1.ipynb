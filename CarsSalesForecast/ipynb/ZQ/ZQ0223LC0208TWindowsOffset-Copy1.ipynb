{
 "cells": [
  {
   "cell_type": "markdown",
   "metadata": {},
   "source": [
    "# 时间窗口加权滑动增强\n",
    "> @沥川\n",
    "- 谁能帮忙在时间窗口函数上面改写一下, 简单滑动平均的函数, 加权 * 0.9\n",
    "- 1M * 24 / 2M * 12 / 3M* 8 / 6M * 4 / 12M*2\n",
    "- 例如, 最近 2个月的平均, 然后滑动 2 个月窗口, 后面 2个月的平均 * 0.9, 一共取12次\n",
    "\n",
    "> 分析\n",
    "- 单月滑动, 联合前月平均 90%\n",
    "- 双月滑动, 联合前后4个月平均 90%\n",
    "- ...\n"
   ]
  },
  {
   "cell_type": "code",
   "execution_count": 4,
   "metadata": {},
   "outputs": [],
   "source": [
    "import numpy as np\n",
    "import scipy as sp\n",
    "from scipy.stats import norm, skew\n",
    "import matplotlib.pyplot as plt\n",
    "import seaborn as sns\n",
    "import pandas as pd\n",
    "import xgboost as xgb\n",
    "#import lightgbm as lgb\n",
    "import warnings\n",
    "warnings.filterwarnings('ignore')\n",
    "%matplotlib inline"
   ]
  },
  {
   "cell_type": "code",
   "execution_count": 5,
   "metadata": {},
   "outputs": [],
   "source": [
    "train = pd.read_csv('../../raw/LiChuan/trainSaleDate.csv')\n",
    "test = pd.read_csv('../../raw/LiChuan/test_feature.csv')\n",
    "submit = pd.read_csv('../../raw/CarsSaleForecast/yancheng_testA_20171225.csv')"
   ]
  },
  {
   "cell_type": "markdown",
   "metadata": {},
   "source": [
    "## 时间转换"
   ]
  },
  {
   "cell_type": "code",
   "execution_count": 6,
   "metadata": {},
   "outputs": [],
   "source": [
    "train['sale_date'] = train['year'] * 100 + train['month']\n",
    "train['sale_date'] = train['sale_date'].astype(int)\n",
    "train['sale_date'] = pd.to_datetime(train['sale_date'],format='%Y%m',errors = \"coerce\")\n",
    "train['sale_date'] = train['sale_date'].dt.to_period('m')"
   ]
  },
  {
   "cell_type": "code",
   "execution_count": 7,
   "metadata": {},
   "outputs": [
    {
     "data": {
      "text/plain": [
       "Period('2012-02', 'M')"
      ]
     },
     "execution_count": 7,
     "metadata": {},
     "output_type": "execute_result"
    }
   ],
   "source": [
    "train['sale_date'][0] + 1"
   ]
  },
  {
   "cell_type": "code",
   "execution_count": 8,
   "metadata": {},
   "outputs": [],
   "source": [
    "test['sale_date'] = test['sale_date'].astype(int)\n",
    "test['sale_date'] = pd.to_datetime(test['sale_date'],format='%Y%m',errors = \"coerce\")\n",
    "test['sale_date'] = test['sale_date'].dt.to_period('M')"
   ]
  },
  {
   "cell_type": "code",
   "execution_count": 9,
   "metadata": {},
   "outputs": [
    {
     "data": {
      "text/plain": [
       "Period('2017-11', 'M')"
      ]
     },
     "execution_count": 9,
     "metadata": {},
     "output_type": "execute_result"
    }
   ],
   "source": [
    "test['sale_date'][0]"
   ]
  },
  {
   "cell_type": "markdown",
   "metadata": {},
   "source": [
    "## ZQ: 滑动递减（decay）"
   ]
  },
  {
   "cell_type": "code",
   "execution_count": 37,
   "metadata": {},
   "outputs": [],
   "source": [
    "def decay_mean_groupby_cid4sale_quantity(train,twin,loop, scale=0.9):\n",
    "    '''销售额 时间窗口特征 衰减\n",
    "    例如, 预测 11 月,\n",
    "        9/10 月销量的均值, 一个特征/\n",
    "        8/9月销量 * 0.9 均值, 一个特征/\n",
    "        7/8月销量 * 0.9^2 均值, 一个特征…\n",
    "        进 1 出 1\n",
    "    注意:\n",
    "        滑动次数决定最终输出的数据集尺寸\n",
    "        进行特征工程时,必须确保所有特征尺寸相同\n",
    "        否则无法拼接完备\n",
    "    '''\n",
    "    _result = pd.DataFrame()\n",
    "    _step = 0\n",
    "    if 0 == _step:\n",
    "        _decay = 1\n",
    "    else:\n",
    "        _decay = scale**_step\n",
    "    for i in range(loop):      \n",
    "        _sale = train[train['sale_date'].isin(twin)]\n",
    "        _sale = _sale.loc[:,['class_id','sale_quantity']]\n",
    "        _sale = _sale.groupby(['class_id']).mean().sale_quantity.reset_index() \n",
    "        zoomed = _sale.sale_quantity*_decay\n",
    "        _sale.sale_quantity = zoomed\n",
    "        _step +=1\n",
    "        _sale['sale_date'] = twin[0]-1\n",
    "        if i == 0:\n",
    "            _result = _sale\n",
    "        else:\n",
    "            _result = pd.concat([_result, _sale])    \n",
    "        for j,k in enumerate(twin):\n",
    "            twin[j] = twin[j] - 1\n",
    "    return _result"
   ]
  },
  {
   "cell_type": "code",
   "execution_count": 38,
   "metadata": {},
   "outputs": [
    {
     "data": {
      "text/plain": [
       "Period('2017-10', 'M')"
      ]
     },
     "execution_count": 38,
     "metadata": {},
     "output_type": "execute_result"
    }
   ],
   "source": [
    "# 从最近开始\n",
    "m = train['sale_date'].iloc[-1]\n",
    "m"
   ]
  },
  {
   "cell_type": "code",
   "execution_count": 39,
   "metadata": {},
   "outputs": [
    {
     "data": {
      "text/plain": [
       "[Period('2017-10', 'M'), Period('2017-09', 'M')]"
      ]
     },
     "execution_count": 39,
     "metadata": {},
     "output_type": "execute_result"
    }
   ],
   "source": [
    "twin=[m,m-1] #更换窗口\n",
    "twin"
   ]
  },
  {
   "cell_type": "code",
   "execution_count": 44,
   "metadata": {},
   "outputs": [
    {
     "data": {
      "text/html": [
       "<div>\n",
       "<style scoped>\n",
       "    .dataframe tbody tr th:only-of-type {\n",
       "        vertical-align: middle;\n",
       "    }\n",
       "\n",
       "    .dataframe tbody tr th {\n",
       "        vertical-align: top;\n",
       "    }\n",
       "\n",
       "    .dataframe thead th {\n",
       "        text-align: right;\n",
       "    }\n",
       "</style>\n",
       "<table border=\"1\" class=\"dataframe\">\n",
       "  <thead>\n",
       "    <tr style=\"text-align: right;\">\n",
       "      <th></th>\n",
       "      <th>class_id</th>\n",
       "      <th>train_2M_mean_with_decay</th>\n",
       "      <th>sale_date</th>\n",
       "    </tr>\n",
       "  </thead>\n",
       "  <tbody>\n",
       "    <tr>\n",
       "      <th>135</th>\n",
       "      <td>961362</td>\n",
       "      <td>46.5</td>\n",
       "      <td>2016-07</td>\n",
       "    </tr>\n",
       "    <tr>\n",
       "      <th>136</th>\n",
       "      <td>961962</td>\n",
       "      <td>169.5</td>\n",
       "      <td>2016-07</td>\n",
       "    </tr>\n",
       "    <tr>\n",
       "      <th>137</th>\n",
       "      <td>963845</td>\n",
       "      <td>304.0</td>\n",
       "      <td>2016-07</td>\n",
       "    </tr>\n",
       "    <tr>\n",
       "      <th>138</th>\n",
       "      <td>973106</td>\n",
       "      <td>0.0</td>\n",
       "      <td>2016-07</td>\n",
       "    </tr>\n",
       "    <tr>\n",
       "      <th>139</th>\n",
       "      <td>978089</td>\n",
       "      <td>525.5</td>\n",
       "      <td>2016-07</td>\n",
       "    </tr>\n",
       "  </tbody>\n",
       "</table>\n",
       "</div>"
      ],
      "text/plain": [
       "     class_id  train_2M_mean_with_decay sale_date\n",
       "135    961362                      46.5   2016-07\n",
       "136    961962                     169.5   2016-07\n",
       "137    963845                     304.0   2016-07\n",
       "138    973106                       0.0   2016-07\n",
       "139    978089                     525.5   2016-07"
      ]
     },
     "execution_count": 44,
     "metadata": {},
     "output_type": "execute_result"
    }
   ],
   "source": [
    "train_2M_mean_with_decay = decay_mean_groupby_cid4sale_quantity(train,twin, 5)\n",
    "train_2M_mean_with_decay.rename(columns={'sale_quantity': 'train_2M_mean_with_decay'}, inplace=True)# 替换列名称\n",
    "train_2M_mean_with_decay.tail()"
   ]
  },
  {
   "cell_type": "code",
   "execution_count": 37,
   "metadata": {},
   "outputs": [],
   "source": [
    "# 合并\n",
    "train = pd.merge(train, train_last_2M_mean, on=['class_id','sale_date'], how='left')\n",
    "train.fillna(0, inplace=True)"
   ]
  },
  {
   "cell_type": "markdown",
   "metadata": {},
   "source": [
    "'''\n",
    "\n",
    "\n",
    "'''\n",
    "\n",
    "\n",
    "\n",
    "## _chaos for debugging..."
   ]
  },
  {
   "cell_type": "code",
   "execution_count": 23,
   "metadata": {},
   "outputs": [
    {
     "name": "stdout",
     "output_type": "stream",
     "text": [
      "0 2017-10\n",
      "1 2017-09\n"
     ]
    }
   ],
   "source": [
    "for k,v in enumerate(twin):\n",
    "    print(k,v)"
   ]
  },
  {
   "cell_type": "code",
   "execution_count": 24,
   "metadata": {},
   "outputs": [
    {
     "data": {
      "text/html": [
       "<div>\n",
       "<style scoped>\n",
       "    .dataframe tbody tr th:only-of-type {\n",
       "        vertical-align: middle;\n",
       "    }\n",
       "\n",
       "    .dataframe tbody tr th {\n",
       "        vertical-align: top;\n",
       "    }\n",
       "\n",
       "    .dataframe thead th {\n",
       "        text-align: right;\n",
       "    }\n",
       "</style>\n",
       "<table border=\"1\" class=\"dataframe\">\n",
       "  <thead>\n",
       "    <tr style=\"text-align: right;\">\n",
       "      <th></th>\n",
       "      <th>class_id</th>\n",
       "      <th>sale_quantity</th>\n",
       "    </tr>\n",
       "  </thead>\n",
       "  <tbody>\n",
       "    <tr>\n",
       "      <th>0</th>\n",
       "      <td>103507</td>\n",
       "      <td>183.0</td>\n",
       "    </tr>\n",
       "    <tr>\n",
       "      <th>1</th>\n",
       "      <td>124140</td>\n",
       "      <td>274.0</td>\n",
       "    </tr>\n",
       "    <tr>\n",
       "      <th>2</th>\n",
       "      <td>125403</td>\n",
       "      <td>242.0</td>\n",
       "    </tr>\n",
       "    <tr>\n",
       "      <th>3</th>\n",
       "      <td>136916</td>\n",
       "      <td>153.5</td>\n",
       "    </tr>\n",
       "    <tr>\n",
       "      <th>4</th>\n",
       "      <td>169673</td>\n",
       "      <td>185.5</td>\n",
       "    </tr>\n",
       "  </tbody>\n",
       "</table>\n",
       "</div>"
      ],
      "text/plain": [
       "   class_id  sale_quantity\n",
       "0    103507          183.0\n",
       "1    124140          274.0\n",
       "2    125403          242.0\n",
       "3    136916          153.5\n",
       "4    169673          185.5"
      ]
     },
     "execution_count": 24,
     "metadata": {},
     "output_type": "execute_result"
    }
   ],
   "source": [
    "_sale = train[train['sale_date'].isin(twin)]\n",
    "_sale = _sale.loc[:,['class_id','sale_quantity']]\n",
    "_sale = _sale.groupby(['class_id']).mean().sale_quantity.reset_index()\n",
    "_sale.head()\n"
   ]
  },
  {
   "cell_type": "code",
   "execution_count": 32,
   "metadata": {},
   "outputs": [
    {
     "data": {
      "text/plain": [
       "0    183.0\n",
       "1    274.0\n",
       "2    242.0\n",
       "3    153.5\n",
       "4    185.5\n",
       "Name: sale_quantity, dtype: float64"
      ]
     },
     "execution_count": 32,
     "metadata": {},
     "output_type": "execute_result"
    }
   ],
   "source": [
    "_sale.sale_quantity.head()"
   ]
  },
  {
   "cell_type": "code",
   "execution_count": 34,
   "metadata": {},
   "outputs": [],
   "source": [
    "_decay = _sale.sale_quantity*0.9"
   ]
  },
  {
   "cell_type": "code",
   "execution_count": 35,
   "metadata": {},
   "outputs": [],
   "source": [
    "_sale.sale_quantity = _decay"
   ]
  },
  {
   "cell_type": "code",
   "execution_count": 36,
   "metadata": {},
   "outputs": [
    {
     "data": {
      "text/plain": [
       "0    164.70\n",
       "1    246.60\n",
       "2    217.80\n",
       "3    138.15\n",
       "4    166.95\n",
       "Name: sale_quantity, dtype: float64"
      ]
     },
     "execution_count": 36,
     "metadata": {},
     "output_type": "execute_result"
    }
   ],
   "source": [
    "_sale.sale_quantity.head()"
   ]
  },
  {
   "cell_type": "code",
   "execution_count": 28,
   "metadata": {},
   "outputs": [
    {
     "data": {
      "text/html": [
       "<div>\n",
       "<style scoped>\n",
       "    .dataframe tbody tr th:only-of-type {\n",
       "        vertical-align: middle;\n",
       "    }\n",
       "\n",
       "    .dataframe tbody tr th {\n",
       "        vertical-align: top;\n",
       "    }\n",
       "\n",
       "    .dataframe thead th {\n",
       "        text-align: right;\n",
       "    }\n",
       "</style>\n",
       "<table border=\"1\" class=\"dataframe\">\n",
       "  <thead>\n",
       "    <tr style=\"text-align: right;\">\n",
       "      <th></th>\n",
       "      <th>class_id</th>\n",
       "      <th>sale_quantity</th>\n",
       "    </tr>\n",
       "  </thead>\n",
       "  <tbody>\n",
       "    <tr>\n",
       "      <th>0</th>\n",
       "      <td>103507</td>\n",
       "      <td>183.0</td>\n",
       "    </tr>\n",
       "    <tr>\n",
       "      <th>1</th>\n",
       "      <td>124140</td>\n",
       "      <td>274.0</td>\n",
       "    </tr>\n",
       "    <tr>\n",
       "      <th>2</th>\n",
       "      <td>125403</td>\n",
       "      <td>242.0</td>\n",
       "    </tr>\n",
       "    <tr>\n",
       "      <th>3</th>\n",
       "      <td>136916</td>\n",
       "      <td>153.5</td>\n",
       "    </tr>\n",
       "    <tr>\n",
       "      <th>4</th>\n",
       "      <td>169673</td>\n",
       "      <td>185.5</td>\n",
       "    </tr>\n",
       "  </tbody>\n",
       "</table>\n",
       "</div>"
      ],
      "text/plain": [
       "   class_id  sale_quantity\n",
       "0    103507          183.0\n",
       "1    124140          274.0\n",
       "2    125403          242.0\n",
       "3    136916          153.5\n",
       "4    169673          185.5"
      ]
     },
     "execution_count": 28,
     "metadata": {},
     "output_type": "execute_result"
    }
   ],
   "source": [
    "_result = pd.DataFrame()\n",
    "_result = pd.concat([_result, _sale])   \n",
    "_result.head()"
   ]
  },
  {
   "cell_type": "code",
   "execution_count": null,
   "metadata": {},
   "outputs": [],
   "source": []
  },
  {
   "cell_type": "code",
   "execution_count": null,
   "metadata": {},
   "outputs": [],
   "source": []
  },
  {
   "cell_type": "code",
   "execution_count": 54,
   "metadata": {},
   "outputs": [
    {
     "data": {
      "text/html": [
       "<div>\n",
       "<style scoped>\n",
       "    .dataframe tbody tr th:only-of-type {\n",
       "        vertical-align: middle;\n",
       "    }\n",
       "\n",
       "    .dataframe tbody tr th {\n",
       "        vertical-align: top;\n",
       "    }\n",
       "\n",
       "    .dataframe thead th {\n",
       "        text-align: right;\n",
       "    }\n",
       "</style>\n",
       "<table border=\"1\" class=\"dataframe\">\n",
       "  <thead>\n",
       "    <tr style=\"text-align: right;\">\n",
       "      <th></th>\n",
       "      <th>class_id</th>\n",
       "      <th>sale_date</th>\n",
       "      <th>sale_quantity</th>\n",
       "    </tr>\n",
       "  </thead>\n",
       "  <tbody>\n",
       "    <tr>\n",
       "      <th>9660</th>\n",
       "      <td>125403</td>\n",
       "      <td>2017-10</td>\n",
       "      <td>156.0</td>\n",
       "    </tr>\n",
       "    <tr>\n",
       "      <th>9661</th>\n",
       "      <td>136916</td>\n",
       "      <td>2017-10</td>\n",
       "      <td>162.0</td>\n",
       "    </tr>\n",
       "    <tr>\n",
       "      <th>9662</th>\n",
       "      <td>178529</td>\n",
       "      <td>2017-10</td>\n",
       "      <td>148.0</td>\n",
       "    </tr>\n",
       "    <tr>\n",
       "      <th>9663</th>\n",
       "      <td>194450</td>\n",
       "      <td>2017-10</td>\n",
       "      <td>271.0</td>\n",
       "    </tr>\n",
       "    <tr>\n",
       "      <th>9664</th>\n",
       "      <td>198427</td>\n",
       "      <td>2017-10</td>\n",
       "      <td>99.0</td>\n",
       "    </tr>\n",
       "  </tbody>\n",
       "</table>\n",
       "</div>"
      ],
      "text/plain": [
       "      class_id sale_date  sale_quantity\n",
       "9660    125403   2017-10          156.0\n",
       "9661    136916   2017-10          162.0\n",
       "9662    178529   2017-10          148.0\n",
       "9663    194450   2017-10          271.0\n",
       "9664    198427   2017-10           99.0"
      ]
     },
     "execution_count": 54,
     "metadata": {},
     "output_type": "execute_result"
    }
   ],
   "source": [
    "#pd_tmp = pd.DataFrame()\n",
    "_tmp = train[train['sale_date'].isin(window)]\n",
    "pd_tmp = _tmp.loc[:,['class_id','sale_date','sale_quantity']]\n",
    "pd_tmp.head()\n",
    "#train['class_id','sale_date','sale_quantity'].head()\n"
   ]
  },
  {
   "cell_type": "code",
   "execution_count": 49,
   "metadata": {},
   "outputs": [
    {
     "data": {
      "text/html": [
       "<div>\n",
       "<style scoped>\n",
       "    .dataframe tbody tr th:only-of-type {\n",
       "        vertical-align: middle;\n",
       "    }\n",
       "\n",
       "    .dataframe tbody tr th {\n",
       "        vertical-align: top;\n",
       "    }\n",
       "\n",
       "    .dataframe thead th {\n",
       "        text-align: right;\n",
       "    }\n",
       "</style>\n",
       "<table border=\"1\" class=\"dataframe\">\n",
       "  <thead>\n",
       "    <tr style=\"text-align: right;\">\n",
       "      <th></th>\n",
       "      <th>class_id</th>\n",
       "      <th>sale_date</th>\n",
       "      <th>sale_quantity</th>\n",
       "    </tr>\n",
       "  </thead>\n",
       "  <tbody>\n",
       "    <tr>\n",
       "      <th>9935</th>\n",
       "      <td>961362</td>\n",
       "      <td>2017-11</td>\n",
       "      <td>0.0</td>\n",
       "    </tr>\n",
       "    <tr>\n",
       "      <th>9936</th>\n",
       "      <td>961962</td>\n",
       "      <td>2017-11</td>\n",
       "      <td>0.0</td>\n",
       "    </tr>\n",
       "    <tr>\n",
       "      <th>9937</th>\n",
       "      <td>963845</td>\n",
       "      <td>2017-11</td>\n",
       "      <td>0.0</td>\n",
       "    </tr>\n",
       "    <tr>\n",
       "      <th>9938</th>\n",
       "      <td>973106</td>\n",
       "      <td>2017-11</td>\n",
       "      <td>0.0</td>\n",
       "    </tr>\n",
       "    <tr>\n",
       "      <th>9939</th>\n",
       "      <td>978089</td>\n",
       "      <td>2017-11</td>\n",
       "      <td>0.0</td>\n",
       "    </tr>\n",
       "  </tbody>\n",
       "</table>\n",
       "</div>"
      ],
      "text/plain": [
       "      class_id sale_date  sale_quantity\n",
       "9935    961362   2017-11            0.0\n",
       "9936    961962   2017-11            0.0\n",
       "9937    963845   2017-11            0.0\n",
       "9938    973106   2017-11            0.0\n",
       "9939    978089   2017-11            0.0"
      ]
     },
     "execution_count": 49,
     "metadata": {},
     "output_type": "execute_result"
    }
   ],
   "source": [
    "pd_tmp.tail()"
   ]
  },
  {
   "cell_type": "code",
   "execution_count": 55,
   "metadata": {},
   "outputs": [
    {
     "data": {
      "text/html": [
       "<div>\n",
       "<style scoped>\n",
       "    .dataframe tbody tr th:only-of-type {\n",
       "        vertical-align: middle;\n",
       "    }\n",
       "\n",
       "    .dataframe tbody tr th {\n",
       "        vertical-align: top;\n",
       "    }\n",
       "\n",
       "    .dataframe thead th {\n",
       "        text-align: right;\n",
       "    }\n",
       "</style>\n",
       "<table border=\"1\" class=\"dataframe\">\n",
       "  <thead>\n",
       "    <tr style=\"text-align: right;\">\n",
       "      <th></th>\n",
       "      <th>class_id</th>\n",
       "      <th>sale_date</th>\n",
       "      <th>sale_quantity</th>\n",
       "    </tr>\n",
       "  </thead>\n",
       "  <tbody>\n",
       "    <tr>\n",
       "      <th>0</th>\n",
       "      <td>125403</td>\n",
       "      <td>2012-01</td>\n",
       "      <td>90.0</td>\n",
       "    </tr>\n",
       "    <tr>\n",
       "      <th>1</th>\n",
       "      <td>136916</td>\n",
       "      <td>2012-01</td>\n",
       "      <td>665.0</td>\n",
       "    </tr>\n",
       "    <tr>\n",
       "      <th>2</th>\n",
       "      <td>178529</td>\n",
       "      <td>2012-01</td>\n",
       "      <td>1739.0</td>\n",
       "    </tr>\n",
       "    <tr>\n",
       "      <th>3</th>\n",
       "      <td>194450</td>\n",
       "      <td>2012-01</td>\n",
       "      <td>65.0</td>\n",
       "    </tr>\n",
       "    <tr>\n",
       "      <th>4</th>\n",
       "      <td>198427</td>\n",
       "      <td>2012-01</td>\n",
       "      <td>47.0</td>\n",
       "    </tr>\n",
       "  </tbody>\n",
       "</table>\n",
       "</div>"
      ],
      "text/plain": [
       "   class_id sale_date  sale_quantity\n",
       "0    125403   2012-01           90.0\n",
       "1    136916   2012-01          665.0\n",
       "2    178529   2012-01         1739.0\n",
       "3    194450   2012-01           65.0\n",
       "4    198427   2012-01           47.0"
      ]
     },
     "execution_count": 55,
     "metadata": {},
     "output_type": "execute_result"
    }
   ],
   "source": [
    "_train_all = train.loc[:,['class_id','sale_date','sale_quantity']]\n",
    "_train_all.head()"
   ]
  },
  {
   "cell_type": "code",
   "execution_count": null,
   "metadata": {},
   "outputs": [],
   "source": []
  },
  {
   "cell_type": "code",
   "execution_count": null,
   "metadata": {},
   "outputs": [],
   "source": []
  },
  {
   "cell_type": "code",
   "execution_count": 35,
   "metadata": {},
   "outputs": [
    {
     "data": {
      "text/plain": [
       "[Period('2012-02', 'M'), Period('2012-01', 'M')]"
      ]
     },
     "execution_count": 35,
     "metadata": {},
     "output_type": "execute_result"
    }
   ],
   "source": [
    "i = train['sale_date'][0]+1  #从2012-2开始计算\n",
    "window=[i,i-1] #更换窗口\n",
    "window"
   ]
  },
  {
   "cell_type": "code",
   "execution_count": null,
   "metadata": {},
   "outputs": [],
   "source": []
  },
  {
   "cell_type": "code",
   "execution_count": null,
   "metadata": {},
   "outputs": [],
   "source": []
  },
  {
   "cell_type": "code",
   "execution_count": null,
   "metadata": {},
   "outputs": [],
   "source": []
  },
  {
   "cell_type": "code",
   "execution_count": null,
   "metadata": {},
   "outputs": [],
   "source": []
  },
  {
   "cell_type": "markdown",
   "metadata": {},
   "source": [
    "# 旧嗯哼\n",
    "\n",
    "~ 发源自 [2.8 窗口函式原型](caijun/caijun0208TimefeatureEngineering.ipynb)~ 皮尔逊（Pearson）相关系数\n"
   ]
  },
  {
   "cell_type": "code",
   "execution_count": 8,
   "metadata": {},
   "outputs": [
    {
     "data": {
      "text/plain": [
       "((9800, 163), (140, 162))"
      ]
     },
     "execution_count": 8,
     "metadata": {},
     "output_type": "execute_result"
    }
   ],
   "source": [
    "train.shape,test.shape"
   ]
  },
  {
   "cell_type": "code",
   "execution_count": 9,
   "metadata": {},
   "outputs": [
    {
     "data": {
      "text/plain": [
       "(9940, 163)"
      ]
     },
     "execution_count": 9,
     "metadata": {},
     "output_type": "execute_result"
    }
   ],
   "source": [
    "'''@沥川 处理的时候, 将 train 和 test 合并到一起做, 这样避免处理两次\n",
    "而且还能避免一些小坑…\n",
    "'''\n",
    "train = pd.concat([train, test]).reset_index(drop=True)\n",
    "train.fillna(0, inplace=True)\n",
    "train.shape"
   ]
  },
  {
   "cell_type": "markdown",
   "metadata": {},
   "source": [
    "## 窗口函数"
   ]
  },
  {
   "cell_type": "code",
   "execution_count": 10,
   "metadata": {},
   "outputs": [],
   "source": [
    "def sale_cal_sum(train,window,num):\n",
    "    traintmp = pd.DataFrame()\n",
    "    for i in range(num):          \n",
    "        trainSaletmp = train[train['sale_date'].isin(window)]\n",
    "        trainSaletmp = trainSaletmp.loc[:,['class_id','sale_quantity']]\n",
    "        trainSaletmp = trainSaletmp.groupby(['class_id']).agg(sum).sale_quantity.reset_index() #更换所需的函数\n",
    "        trainSaletmp['sale_date'] = window[0]+1\n",
    "        if i == 0:\n",
    "            traintmp = trainSaletmp\n",
    "        else:\n",
    "            traintmp = pd.concat([traintmp, trainSaletmp])    \n",
    "        for j,k in enumerate(window):\n",
    "            window[j] = window[j] + 1\n",
    "    return traintmp"
   ]
  },
  {
   "cell_type": "code",
   "execution_count": 11,
   "metadata": {},
   "outputs": [],
   "source": [
    "def sale_cal_max(train,window,num):\n",
    "    traintmp = pd.DataFrame()\n",
    "    for i in range(num):          \n",
    "        trainSaletmp = train[train['sale_date'].isin(window)]\n",
    "        trainSaletmp = trainSaletmp.loc[:,['class_id','sale_quantity']]\n",
    "        trainSaletmp = trainSaletmp.groupby(['class_id']).agg(max).sale_quantity.reset_index() #更换所需的函数\n",
    "        trainSaletmp['sale_date'] = window[0]+1\n",
    "        if i == 0:\n",
    "            traintmp = trainSaletmp\n",
    "        else:\n",
    "            traintmp = pd.concat([traintmp, trainSaletmp])    \n",
    "        for j,k in enumerate(window):\n",
    "            window[j] = window[j] + 1\n",
    "    return traintmp"
   ]
  },
  {
   "cell_type": "code",
   "execution_count": 12,
   "metadata": {},
   "outputs": [],
   "source": [
    "def sale_cal_min(train,window,num):\n",
    "    traintmp = pd.DataFrame()\n",
    "    for i in range(num):          \n",
    "        trainSaletmp = train[train['sale_date'].isin(window)]\n",
    "        trainSaletmp = trainSaletmp.loc[:,['class_id','sale_quantity']]\n",
    "        trainSaletmp = trainSaletmp.groupby(['class_id']).agg(min).sale_quantity.reset_index() #更换所需的函数\n",
    "        trainSaletmp['sale_date'] = window[0]+1\n",
    "        if i == 0:\n",
    "            traintmp = trainSaletmp\n",
    "        else:\n",
    "            traintmp = pd.concat([traintmp, trainSaletmp])    \n",
    "        for j,k in enumerate(window):\n",
    "            window[j] = window[j] + 1\n",
    "    return traintmp"
   ]
  },
  {
   "cell_type": "code",
   "execution_count": 13,
   "metadata": {},
   "outputs": [],
   "source": [
    "def sale_cal_mean(train,window,num):\n",
    "    traintmp = pd.DataFrame()\n",
    "    for i in range(num):          \n",
    "        trainSaletmp = train[train['sale_date'].isin(window)]\n",
    "        trainSaletmp = trainSaletmp.loc[:,['class_id','sale_quantity']]\n",
    "        trainSaletmp = trainSaletmp.groupby(['class_id']).mean().sale_quantity.reset_index() #更换所需的函数\n",
    "        trainSaletmp['sale_date'] = window[0]+1\n",
    "        if i == 0:\n",
    "            traintmp = trainSaletmp\n",
    "        else:\n",
    "            traintmp = pd.concat([traintmp, trainSaletmp])    \n",
    "        for j,k in enumerate(window):\n",
    "            window[j] = window[j] + 1\n",
    "    return traintmp"
   ]
  },
  {
   "cell_type": "code",
   "execution_count": 14,
   "metadata": {},
   "outputs": [],
   "source": [
    "def sale_cal_median(train,window,num):\n",
    "    traintmp = pd.DataFrame()\n",
    "    for i in range(num):          \n",
    "        trainSaletmp = train[train['sale_date'].isin(window)]\n",
    "        trainSaletmp = trainSaletmp.loc[:,['class_id','sale_quantity']]\n",
    "        trainSaletmp = trainSaletmp.groupby(['class_id']).median().sale_quantity.reset_index() #更换所需的函数\n",
    "        trainSaletmp['sale_date'] = window[0]+1\n",
    "        if i == 0:\n",
    "            traintmp = trainSaletmp\n",
    "        else:\n",
    "            traintmp = pd.concat([traintmp, trainSaletmp])    \n",
    "        for j,k in enumerate(window):\n",
    "            window[j] = window[j] + 1\n",
    "    return traintmp"
   ]
  },
  {
   "cell_type": "code",
   "execution_count": 15,
   "metadata": {},
   "outputs": [],
   "source": [
    "def sale_cal_std(train,window,num):\n",
    "    traintmp = pd.DataFrame()\n",
    "    for i in range(num):          \n",
    "        trainSaletmp = train[train['sale_date'].isin(window)]\n",
    "        trainSaletmp = trainSaletmp.loc[:,['class_id','sale_quantity']]\n",
    "        trainSaletmp = trainSaletmp.groupby(['class_id']).std().sale_quantity.reset_index() #更换所需的函数\n",
    "        trainSaletmp['sale_date'] = window[0]+1\n",
    "        if i == 0:\n",
    "            traintmp = trainSaletmp\n",
    "        else:\n",
    "            traintmp = pd.concat([traintmp, trainSaletmp])    \n",
    "        for j,k in enumerate(window):\n",
    "            window[j] = window[j] + 1\n",
    "    return traintmp"
   ]
  },
  {
   "cell_type": "markdown",
   "metadata": {},
   "source": [
    "## 计算近 3 个月数据"
   ]
  },
  {
   "cell_type": "code",
   "execution_count": 16,
   "metadata": {},
   "outputs": [
    {
     "data": {
      "text/plain": [
       "[Period('2012-03', 'M'), Period('2012-02', 'M'), Period('2012-01', 'M')]"
      ]
     },
     "execution_count": 16,
     "metadata": {},
     "output_type": "execute_result"
    }
   ],
   "source": [
    "i = train['sale_date'][0]+2  #从2012-4开始计算\n",
    "window=[i,i-1,i-2]           #更换窗口\n",
    "window"
   ]
  },
  {
   "cell_type": "code",
   "execution_count": 17,
   "metadata": {},
   "outputs": [],
   "source": [
    "window=[i,i-1,i-2] #每次计算必须重新初始化window\n",
    "train_last_3M_sum = sale_cal_sum(train,window,68) #计算近3个月的数据总共需要计算67个月\n",
    "train_last_3M_sum.rename(columns={'sale_quantity': 'sale_quantity_last_3M_sum'}, inplace=True)# 替换列名称"
   ]
  },
  {
   "cell_type": "code",
   "execution_count": 18,
   "metadata": {},
   "outputs": [],
   "source": [
    "window=[i,i-1,i-2] #每次计算必须重新初始化window\n",
    "train_last_3M_max = sale_cal_max(train,window,68)\n",
    "train_last_3M_max.rename(columns={'sale_quantity': 'sale_quantity_last_3M_max'}, inplace=True)# 替换列名称"
   ]
  },
  {
   "cell_type": "code",
   "execution_count": 19,
   "metadata": {},
   "outputs": [],
   "source": [
    "window=[i,i-1,i-2] #每次计算必须重新初始化window\n",
    "train_last_3M_min = sale_cal_min(train,window,68)\n",
    "train_last_3M_min.rename(columns={'sale_quantity': 'sale_quantity_last_3M_min'}, inplace=True)# 替换列名称"
   ]
  },
  {
   "cell_type": "code",
   "execution_count": 20,
   "metadata": {},
   "outputs": [],
   "source": [
    "window=[i,i-1,i-2] #每次计算必须重新初始化window\n",
    "train_last_3M_mean = sale_cal_mean(train,window,68)\n",
    "train_last_3M_mean.rename(columns={'sale_quantity': 'sale_quantity_last_3M_mean'}, inplace=True)# 替换列名称"
   ]
  },
  {
   "cell_type": "code",
   "execution_count": 21,
   "metadata": {},
   "outputs": [],
   "source": [
    "window=[i,i-1,i-2] #每次计算必须重新初始化window\n",
    "train_last_3M_std = sale_cal_std(train,window,68)\n",
    "train_last_3M_std.rename(columns={'sale_quantity': 'sale_quantity_last_3M_std'}, inplace=True)# 替换列名称"
   ]
  },
  {
   "cell_type": "code",
   "execution_count": 22,
   "metadata": {},
   "outputs": [],
   "source": [
    "window=[i,i-1,i-2] #每次计算必须重新初始化window\n",
    "train_last_3M_median = sale_cal_median(train,window,68)\n",
    "train_last_3M_median.rename(columns={'sale_quantity': 'sale_quantity_last_3M_median'}, inplace=True)# 替换列名称"
   ]
  },
  {
   "cell_type": "code",
   "execution_count": 23,
   "metadata": {},
   "outputs": [],
   "source": [
    "# 合并\n",
    "train = pd.merge(train, train_last_3M_sum, on=['class_id','sale_date'], how='left')\n",
    "train = pd.merge(train, train_last_3M_max, on=['class_id','sale_date'], how='left')\n",
    "train = pd.merge(train, train_last_3M_min, on=['class_id','sale_date'], how='left')\n",
    "train = pd.merge(train, train_last_3M_mean, on=['class_id','sale_date'], how='left')\n",
    "train = pd.merge(train, train_last_3M_std, on=['class_id','sale_date'], how='left')\n",
    "train = pd.merge(train, train_last_3M_median, on=['class_id','sale_date'], how='left')\n",
    "train.fillna(0, inplace=True)"
   ]
  },
  {
   "cell_type": "markdown",
   "metadata": {},
   "source": [
    "## 计算滑动窗口为6个月的数据"
   ]
  },
  {
   "cell_type": "code",
   "execution_count": 24,
   "metadata": {},
   "outputs": [
    {
     "data": {
      "text/plain": [
       "[Period('2012-06', 'M'),\n",
       " Period('2012-05', 'M'),\n",
       " Period('2012-04', 'M'),\n",
       " Period('2012-03', 'M'),\n",
       " Period('2012-02', 'M'),\n",
       " Period('2012-01', 'M')]"
      ]
     },
     "execution_count": 24,
     "metadata": {},
     "output_type": "execute_result"
    }
   ],
   "source": [
    "i = train['sale_date'][0]+5  #从2012-7开始计算\n",
    "window=[i,i-1,i-2,i-3,i-4,i-5] #更换窗口\n",
    "window"
   ]
  },
  {
   "cell_type": "code",
   "execution_count": 25,
   "metadata": {},
   "outputs": [],
   "source": [
    "window=[i,i-1,i-2,i-3,i-4,i-5] #每次计算必须重新初始化window\n",
    "train_last_6M_sum = sale_cal_sum(train,window,65) #计算近6个月的数据总共需要计算64个月\n",
    "train_last_6M_sum.rename(columns={'sale_quantity': 'sale_quantity_last_6M_sum'}, inplace=True)# 替换列名称\n",
    "\n",
    "window=[i,i-1,i-2,i-3,i-4,i-5] #每次计算必须重新初始化window\n",
    "train_last_6M_max = sale_cal_max(train,window,65)\n",
    "train_last_6M_max.rename(columns={'sale_quantity': 'sale_quantity_last_6M_max'}, inplace=True)# 替换列名称\n",
    "\n",
    "window=[i,i-1,i-2,i-3,i-4,i-5] #每次计算必须重新初始化window\n",
    "train_last_6M_min = sale_cal_min(train,window,65)\n",
    "train_last_6M_min.rename(columns={'sale_quantity': 'sale_quantity_last_6M_min'}, inplace=True)# 替换列名称\n",
    "\n",
    "window=[i,i-1,i-2,i-3,i-4,i-5] #每次计算必须重新初始化window\n",
    "train_last_6M_mean = sale_cal_mean(train,window,65)\n",
    "train_last_6M_mean.rename(columns={'sale_quantity': 'sale_quantity_last_6M_mean'}, inplace=True)# 替换列名称\n",
    "\n",
    "window=[i,i-1,i-2,i-3,i-4,i-5] #每次计算必须重新初始化window\n",
    "train_last_6M_std = sale_cal_std(train,window,65)\n",
    "train_last_6M_std.rename(columns={'sale_quantity': 'sale_quantity_last_6M_std'}, inplace=True)# 替换列名称\n",
    "\n",
    "window=[i,i-1,i-2,i-3,i-4,i-5] #每次计算必须重新初始化window\n",
    "train_last_6M_median = sale_cal_median(train,window,65)\n",
    "train_last_6M_median.rename(columns={'sale_quantity': 'sale_quantity_last_6M_median'}, inplace=True)# 替换列名称"
   ]
  },
  {
   "cell_type": "code",
   "execution_count": 26,
   "metadata": {},
   "outputs": [],
   "source": [
    "# 合并\n",
    "train = pd.merge(train, train_last_6M_sum, on=['class_id','sale_date'], how='left')\n",
    "train = pd.merge(train, train_last_6M_max, on=['class_id','sale_date'], how='left')\n",
    "train = pd.merge(train, train_last_6M_min, on=['class_id','sale_date'], how='left')\n",
    "train = pd.merge(train, train_last_6M_mean, on=['class_id','sale_date'], how='left')\n",
    "train = pd.merge(train, train_last_6M_std, on=['class_id','sale_date'], how='left')\n",
    "train = pd.merge(train, train_last_6M_median, on=['class_id','sale_date'], how='left')\n",
    "train.fillna(0, inplace=True)"
   ]
  },
  {
   "cell_type": "markdown",
   "metadata": {},
   "source": [
    "## 计算滑动窗口为 2 个月的数据"
   ]
  },
  {
   "cell_type": "code",
   "execution_count": 27,
   "metadata": {},
   "outputs": [
    {
     "data": {
      "text/plain": [
       "[Period('2012-02', 'M'), Period('2012-01', 'M')]"
      ]
     },
     "execution_count": 27,
     "metadata": {},
     "output_type": "execute_result"
    }
   ],
   "source": [
    "i = train['sale_date'][0]+1  #从2012-2开始计算\n",
    "window=[i,i-1] #更换窗口\n",
    "window"
   ]
  },
  {
   "cell_type": "code",
   "execution_count": 28,
   "metadata": {},
   "outputs": [],
   "source": [
    "window=[i,i-1] #每次计算必须重新初始化window\n",
    "train_last_2M_sum = sale_cal_sum(train,window,69) #计算近2个月的数据总共需要计算64个月\n",
    "train_last_2M_sum.rename(columns={'sale_quantity': 'sale_quantity_last_2M_sum'}, inplace=True)# 替换列名称\n",
    "\n",
    "window=[i,i-1] #每次计算必须重新初始化window\n",
    "train_last_2M_max = sale_cal_max(train,window,69)\n",
    "train_last_2M_max.rename(columns={'sale_quantity': 'sale_quantity_last_2M_max'}, inplace=True)# 替换列名称\n",
    "\n",
    "window=[i,i-1] #每次计算必须重新初始化window\n",
    "train_last_2M_min = sale_cal_min(train,window,69)\n",
    "train_last_2M_min.rename(columns={'sale_quantity': 'sale_quantity_last_2M_min'}, inplace=True)# 替换列名称\n",
    "\n",
    "window=[i,i-1] #每次计算必须重新初始化window\n",
    "train_last_2M_mean = sale_cal_mean(train,window,69)\n",
    "train_last_2M_mean.rename(columns={'sale_quantity': 'sale_quantity_last_2M_mean'}, inplace=True)# 替换列名称\n",
    "\n",
    "window=[i,i-1] #每次计算必须重新初始化window\n",
    "train_last_2M_std = sale_cal_std(train,window,69)\n",
    "train_last_2M_std.rename(columns={'sale_quantity': 'sale_quantity_last_2M_std'}, inplace=True)# 替换列名称\n",
    "\n",
    "window=[i,i-1] #每次计算必须重新初始化window\n",
    "train_last_2M_median = sale_cal_median(train,window,69)\n",
    "train_last_2M_median.rename(columns={'sale_quantity': 'sale_quantity_last_2M_median'}, inplace=True)# 替换列名称"
   ]
  },
  {
   "cell_type": "code",
   "execution_count": 29,
   "metadata": {},
   "outputs": [],
   "source": [
    "# 合并\n",
    "train = pd.merge(train, train_last_2M_sum, on=['class_id','sale_date'], how='left')\n",
    "train = pd.merge(train, train_last_2M_max, on=['class_id','sale_date'], how='left')\n",
    "train = pd.merge(train, train_last_2M_min, on=['class_id','sale_date'], how='left')\n",
    "train = pd.merge(train, train_last_2M_mean, on=['class_id','sale_date'], how='left')\n",
    "train = pd.merge(train, train_last_2M_std, on=['class_id','sale_date'], how='left')\n",
    "train = pd.merge(train, train_last_2M_median, on=['class_id','sale_date'], how='left')\n",
    "train.fillna(0, inplace=True)"
   ]
  },
  {
   "cell_type": "markdown",
   "metadata": {},
   "source": [
    "## 计算滑动窗口为 12 个月的数据"
   ]
  },
  {
   "cell_type": "code",
   "execution_count": 30,
   "metadata": {},
   "outputs": [
    {
     "data": {
      "text/plain": [
       "[Period('2012-12', 'M'),\n",
       " Period('2012-11', 'M'),\n",
       " Period('2012-10', 'M'),\n",
       " Period('2012-09', 'M'),\n",
       " Period('2012-08', 'M'),\n",
       " Period('2012-07', 'M'),\n",
       " Period('2012-06', 'M'),\n",
       " Period('2012-05', 'M'),\n",
       " Period('2012-04', 'M'),\n",
       " Period('2012-03', 'M'),\n",
       " Period('2012-02', 'M'),\n",
       " Period('2012-01', 'M')]"
      ]
     },
     "execution_count": 30,
     "metadata": {},
     "output_type": "execute_result"
    }
   ],
   "source": [
    "i = train['sale_date'][0]+11  #从2013-1开始计算\n",
    "window=[i,i-1,i-2,i-3,i-4,i-5,i-6,i-7,i-8,i-9,i-10,i-11] #更换窗口\n",
    "window"
   ]
  },
  {
   "cell_type": "code",
   "execution_count": 31,
   "metadata": {},
   "outputs": [],
   "source": [
    "window=[i,i-1,i-2,i-3,i-4,i-5,i-6,i-7,i-8,i-9,i-10,i-11] #每次计算必须重新初始化window\n",
    "train_last_12M_sum = sale_cal_sum(train,window,59) #计算近12个月的数据总共需要计算58个月\n",
    "train_last_12M_sum.rename(columns={'sale_quantity': 'sale_quantity_last_12M_sum'}, inplace=True)# 替换列名称\n",
    "\n",
    "window=[i,i-1,i-2,i-3,i-4,i-5,i-6,i-7,i-8,i-9,i-10,i-11] #每次计算必须重新初始化window\n",
    "train_last_12M_max = sale_cal_max(train,window,59)\n",
    "train_last_12M_max.rename(columns={'sale_quantity': 'sale_quantity_last_12M_max'}, inplace=True)# 替换列名称\n",
    "\n",
    "window=[i,i-1,i-2,i-3,i-4,i-5,i-6,i-7,i-8,i-9,i-10,i-11] #每次计算必须重新初始化window\n",
    "train_last_12M_min = sale_cal_min(train,window,59)\n",
    "train_last_12M_min.rename(columns={'sale_quantity': 'sale_quantity_last_12M_min'}, inplace=True)# 替换列名称\n",
    "\n",
    "window=[i,i-1,i-2,i-3,i-4,i-5,i-6,i-7,i-8,i-9,i-10,i-11] #每次计算必须重新初始化window\n",
    "train_last_12M_mean = sale_cal_mean(train,window,59)\n",
    "train_last_12M_mean.rename(columns={'sale_quantity': 'sale_quantity_last_12M_mean'}, inplace=True)# 替换列名称\n",
    "\n",
    "window=[i,i-1,i-2,i-3,i-4,i-5,i-6,i-7,i-8,i-9,i-10,i-11] #每次计算必须重新初始化window\n",
    "train_last_12M_std = sale_cal_std(train,window,59)\n",
    "train_last_12M_std.rename(columns={'sale_quantity': 'sale_quantity_last_12M_std'}, inplace=True)# 替换列名称\n",
    "\n",
    "window=[i,i-1,i-2,i-3,i-4,i-5,i-6,i-7,i-8,i-9,i-10,i-11] #每次计算必须重新初始化window\n",
    "train_last_12M_median = sale_cal_median(train,window,59)\n",
    "train_last_12M_median.rename(columns={'sale_quantity': 'sale_quantity_last_12M_median'}, inplace=True)# 替换列名称"
   ]
  },
  {
   "cell_type": "code",
   "execution_count": 32,
   "metadata": {},
   "outputs": [],
   "source": [
    "# 合并\n",
    "train = pd.merge(train, train_last_12M_sum, on=['class_id','sale_date'], how='left')\n",
    "train = pd.merge(train, train_last_12M_max, on=['class_id','sale_date'], how='left')\n",
    "train = pd.merge(train, train_last_12M_min, on=['class_id','sale_date'], how='left')\n",
    "train = pd.merge(train, train_last_12M_mean, on=['class_id','sale_date'], how='left')\n",
    "train = pd.merge(train, train_last_12M_std, on=['class_id','sale_date'], how='left')\n",
    "train = pd.merge(train, train_last_12M_median, on=['class_id','sale_date'], how='left')\n",
    "train.fillna(0, inplace=True)"
   ]
  },
  {
   "cell_type": "code",
   "execution_count": 33,
   "metadata": {},
   "outputs": [],
   "source": [
    "train = train.drop(['sale_quantity_this_last_year'], axis=1)"
   ]
  },
  {
   "cell_type": "code",
   "execution_count": 34,
   "metadata": {},
   "outputs": [],
   "source": [
    "train.to_csv('../../raw/LiChuan/trainallfeatures.csv',index=False, header=True)"
   ]
  },
  {
   "cell_type": "code",
   "execution_count": null,
   "metadata": {},
   "outputs": [],
   "source": []
  },
  {
   "cell_type": "code",
   "execution_count": null,
   "metadata": {},
   "outputs": [],
   "source": []
  },
  {
   "cell_type": "code",
   "execution_count": null,
   "metadata": {},
   "outputs": [],
   "source": []
  },
  {
   "cell_type": "code",
   "execution_count": null,
   "metadata": {
    "collapsed": true
   },
   "outputs": [],
   "source": []
  }
 ],
 "metadata": {
  "kernelspec": {
   "display_name": "Python 3",
   "language": "python",
   "name": "python3"
  },
  "language_info": {
   "codemirror_mode": {
    "name": "ipython",
    "version": 3
   },
   "file_extension": ".py",
   "mimetype": "text/x-python",
   "name": "python",
   "nbconvert_exporter": "python",
   "pygments_lexer": "ipython3",
   "version": "3.6.3"
  },
  "toc": {
   "nav_menu": {},
   "number_sections": true,
   "sideBar": true,
   "skip_h1_title": false,
   "toc_cell": false,
   "toc_position": {},
   "toc_section_display": "block",
   "toc_window_display": false
  }
 },
 "nbformat": 4,
 "nbformat_minor": 2
}
