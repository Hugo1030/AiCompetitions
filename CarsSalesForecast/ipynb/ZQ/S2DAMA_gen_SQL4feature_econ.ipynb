{
 "cells": [
  {
   "cell_type": "markdown",
   "metadata": {},
   "source": [
    "# 宏观经济特征提取\n",
    "\n",
    "- <= yc_macro_econ\n",
    "- 输出各种专用数据表以及统计表\n",
    "- 并尝试针对性增补"
   ]
  },
  {
   "cell_type": "markdown",
   "metadata": {},
   "source": [
    "## 背景\n",
    "\n",
    "> Season2/yc_macro_econ4car.csv \n",
    "\n",
    "直觉选定24则宏观指数"
   ]
  },
  {
   "cell_type": "code",
   "execution_count": 1,
   "metadata": {},
   "outputs": [],
   "source": [
    "eco_indicator = (\n",
    "(\"ycmecon_CPIPPI_all_industrial_m2m\" ,\"CPI与PPI\",\"PPI:全部工业品:当月同比(%)\")\n",
    ",(\"ycmecon_CPIPPI_all_industrial_lrratio\" ,\"CPI与PPI\",\"PPI:全部工业品:环比(%)\")\n",
    ",(\"ycmecon_PMI_Produce\" ,\"PMI\",\"PMI:生产(%)\")\n",
    ",(\"ycmecon_PMI_Purchases\" ,\"PMI\",\"PMI:采购量(%)\")\n",
    ",(\"ycmecon_PMI_inventory_raw\" ,\"PMI\",\"PMI:原材料库存(%)\")\n",
    ",(\"ycmecon_PMI_Consumer_ConfIndex_mon\" ,\"PMI\",\"消费者信心指数:月\")\n",
    ",(\"ycmecon_PMI_Consumer_ExpIndex_mon\" ,\"PMI\",\"消费者预期指数:月\")\n",
    ",(\"ycmecon_order_index_PMI\" ,\"订单指数\",\"汇丰PMI:新订单(%)\")\n",
    ",(\"ycmecon_order_index_LGSC_PMI\" ,\"订单指数\",\"兰格钢铁:钢铁流通业采购经理人指数(LGSC-PMI):总订单量(%)\")\n",
    ",(\"ycmecon_invest_fixed_infrastructure_y4y\" ,\"分行业固定资产投资\",\"固定资产投资完成额:基础设施建设投资:累计同比(%)\")\n",
    ",(\"ycmecon_invest_fixed_automotive_y4y\" ,\"分行业固定资产投资\",\"固定资产投资完成额:制造业:汽车制造业:累计同比(%)\")\n",
    ",(\"ycmecon_industrial_output_steel_m2m\" ,\"工业品\",\"产量:钢材:当月同比(%)\")\n",
    ",(\"ycmecon_industrial_output_oreiron_m2m\" ,\"工业品\",\"产量:铁矿石原矿量:当月同比(%)\")\n",
    ",(\"ycmecon_industrial_added_m2m\" ,\"工业增加值\",\"工业增加值:当月同比(%)\")\n",
    ",(\"ycmecon_industrial_added_y4y\" ,\"工业增加值\",\"工业增加值:累计同比(%)\")\n",
    ",(\"ycmecon_inventory_LGSC_PMI\" ,\"库存指数\",\"兰格钢铁:钢铁流通业采购经理人指数(LGSC-PMI):库存水平(%)\")\n",
    ",(\"ycmecon_in_rate_current_deposit_mon\" ,\"利率汇率\",\"活期存款利率(月)(%)\")\n",
    ",(\"ycmecon_ex_rate_USD2RMB\" ,\"利率汇率\",\"平均汇率:美元兑人民币\")\n",
    ",(\"ycmecon_ex_rate_EUP2RMB\" ,\"利率汇率\",\"平均汇率:欧元兑人民币\")\n",
    ",(\"ycmecon_ex_rate_HKD2RMB\" ,\"利率汇率\",\"平均汇率:港元兑人民币\")\n",
    ",(\"ycmecon_ex_rate_JPY2RMB\" ,\"利率汇率\",\"平均汇率:100日元兑人民币\")\n",
    ",(\"ycmecon_retail_goods_m2m\" ,\"社会消费品零售总额\",\"社会消费品零售总额:当月同比(%)\")\n",
    ",(\"ycmecon_retail_oil_m2m\" ,\"社会消费品零售总额\",\"零售额:石油及制品类:当月同比(%)\")\n",
    ",(\"ycmecon_retail_car_monthly\" ,\"社会消费品零售总额\",\"零售额:汽车类:当月同比(%)\")\n",
    ")"
   ]
  },
  {
   "cell_type": "code",
   "execution_count": 2,
   "metadata": {},
   "outputs": [
    {
     "name": "stdout",
     "output_type": "stream",
     "text": [
      "ycmecon_CPIPPI_all_industrial_m2m-CPI与PPI-PPI:全部工业品:当月同比(%)\n",
      "ycmecon_CPIPPI_all_industrial_lrratio-CPI与PPI-PPI:全部工业品:环比(%)\n",
      "ycmecon_PMI_Produce-PMI-PMI:生产(%)\n",
      "ycmecon_PMI_Purchases-PMI-PMI:采购量(%)\n",
      "ycmecon_PMI_inventory_raw-PMI-PMI:原材料库存(%)\n",
      "ycmecon_PMI_Consumer_ConfIndex_mon-PMI-消费者信心指数:月\n",
      "ycmecon_PMI_Consumer_ExpIndex_mon-PMI-消费者预期指数:月\n",
      "ycmecon_order_index_PMI-订单指数-汇丰PMI:新订单(%)\n",
      "ycmecon_order_index_LGSC_PMI-订单指数-兰格钢铁:钢铁流通业采购经理人指数(LGSC-PMI):总订单量(%)\n",
      "ycmecon_invest_fixed_infrastructure_y4y-分行业固定资产投资-固定资产投资完成额:基础设施建设投资:累计同比(%)\n",
      "ycmecon_invest_fixed_automotive_y4y-分行业固定资产投资-固定资产投资完成额:制造业:汽车制造业:累计同比(%)\n",
      "ycmecon_industrial_output_steel_m2m-工业品-产量:钢材:当月同比(%)\n",
      "ycmecon_industrial_output_oreiron_m2m-工业品-产量:铁矿石原矿量:当月同比(%)\n",
      "ycmecon_industrial_added_m2m-工业增加值-工业增加值:当月同比(%)\n",
      "ycmecon_industrial_added_y4y-工业增加值-工业增加值:累计同比(%)\n",
      "ycmecon_inventory_LGSC_PMI-库存指数-兰格钢铁:钢铁流通业采购经理人指数(LGSC-PMI):库存水平(%)\n",
      "ycmecon_in_rate_current_deposit_mon-利率汇率-活期存款利率(月)(%)\n",
      "ycmecon_ex_rate_USD2RMB-利率汇率-平均汇率:美元兑人民币\n",
      "ycmecon_ex_rate_EUP2RMB-利率汇率-平均汇率:欧元兑人民币\n",
      "ycmecon_ex_rate_HKD2RMB-利率汇率-平均汇率:港元兑人民币\n",
      "ycmecon_ex_rate_JPY2RMB-利率汇率-平均汇率:100日元兑人民币\n",
      "ycmecon_retail_goods_m2m-社会消费品零售总额-社会消费品零售总额:当月同比(%)\n",
      "ycmecon_retail_oil_m2m-社会消费品零售总额-零售额:石油及制品类:当月同比(%)\n",
      "ycmecon_retail_car_monthly-社会消费品零售总额-零售额:汽车类:当月同比(%)\n"
     ]
    }
   ],
   "source": [
    "for eco in eco_indicator:\n",
    "    tname,_type,_indi = eco\n",
    "    print('{}-{}-{}'.format(tname,_type,_indi))"
   ]
  },
  {
   "cell_type": "code",
   "execution_count": 3,
   "metadata": {},
   "outputs": [],
   "source": [
    "tpl_SQL = '''\n",
    "-- {mc_tname}_{mc_type}_{mc_indi}\n",
    "-- 提取合理宏观特征为数值表\n",
    "-- <= yc_macro_econ\n",
    "-- => {mc_tname}_grow\n",
    "-- => {mc_tname}_grow_avg\n",
    "-- \n",
    "-- \n",
    "DROP TABLE IF EXISTS {mc_tname}_grow;\n",
    "-- \n",
    "-- \n",
    "CREATE TABLE IF NOT EXISTS {mc_tname}_grow\n",
    "AS\n",
    "SELECT date, substring(date, 1, 6) AS month\n",
    "\t, number\n",
    "FROM yc_macro_econ\n",
    "WHERE eco_indicator_type = '{mc_type}'\n",
    "\tAND eco_indicator = '{mc_indi}'\n",
    "\tAND number IS NOT NULL\n",
    "DISTRIBUTE BY date SORT BY date;\n",
    "-- \n",
    "-- \n",
    "DROP TABLE IF EXISTS {mc_tname}_grow_avg;\n",
    "-- \n",
    "-- \n",
    "CREATE TABLE IF NOT EXISTS {mc_tname}_grow_avg\n",
    "AS\n",
    "SELECT month, AVG(number) AS avg\n",
    "FROM {mc_tname}_grow\n",
    "GROUP BY month;\n",
    "-- \n",
    "-- \n",
    "SELECT *\n",
    "FROM {mc_tname}_grow_avg\n",
    "LIMIT 100;\n",
    "'''\n"
   ]
  },
  {
   "cell_type": "code",
   "execution_count": 5,
   "metadata": {},
   "outputs": [
    {
     "name": "stdout",
     "output_type": "stream",
     "text": [
      "嗯哼为:../../Season2/ycmecon_CPIPPI_all_industrial_m2m.sql\n",
      "嗯哼为:../../Season2/ycmecon_CPIPPI_all_industrial_lrratio.sql\n",
      "嗯哼为:../../Season2/ycmecon_PMI_Produce.sql\n",
      "嗯哼为:../../Season2/ycmecon_PMI_Purchases.sql\n",
      "嗯哼为:../../Season2/ycmecon_PMI_inventory_raw.sql\n",
      "嗯哼为:../../Season2/ycmecon_PMI_Consumer_ConfIndex_mon.sql\n",
      "嗯哼为:../../Season2/ycmecon_PMI_Consumer_ExpIndex_mon.sql\n",
      "嗯哼为:../../Season2/ycmecon_order_index_PMI.sql\n",
      "嗯哼为:../../Season2/ycmecon_order_index_LGSC_PMI.sql\n",
      "嗯哼为:../../Season2/ycmecon_invest_fixed_infrastructure_y4y.sql\n",
      "嗯哼为:../../Season2/ycmecon_invest_fixed_automotive_y4y.sql\n",
      "嗯哼为:../../Season2/ycmecon_industrial_output_steel_m2m.sql\n",
      "嗯哼为:../../Season2/ycmecon_industrial_output_oreiron_m2m.sql\n",
      "嗯哼为:../../Season2/ycmecon_industrial_added_m2m.sql\n",
      "嗯哼为:../../Season2/ycmecon_industrial_added_y4y.sql\n",
      "嗯哼为:../../Season2/ycmecon_inventory_LGSC_PMI.sql\n",
      "嗯哼为:../../Season2/ycmecon_in_rate_current_deposit_mon.sql\n",
      "嗯哼为:../../Season2/ycmecon_ex_rate_USD2RMB.sql\n",
      "嗯哼为:../../Season2/ycmecon_ex_rate_EUP2RMB.sql\n",
      "嗯哼为:../../Season2/ycmecon_ex_rate_HKD2RMB.sql\n",
      "嗯哼为:../../Season2/ycmecon_ex_rate_JPY2RMB.sql\n",
      "嗯哼为:../../Season2/ycmecon_retail_goods_m2m.sql\n",
      "嗯哼为:../../Season2/ycmecon_retail_oil_m2m.sql\n",
      "嗯哼为:../../Season2/ycmecon_retail_car_monthly.sql\n"
     ]
    }
   ],
   "source": [
    "_p2sql = '../../Season2/ycmecon_sql/{}.sql'\n",
    "for eco in eco_indicator:\n",
    "    tname,_type,_indi = eco\n",
    "    #print('{}-{}-{}'.format(tname,_type,_indi))\n",
    "    _stuff = {'mc_tname': tname\n",
    "              , 'mc_type': _type\n",
    "              , 'mc_indi': _indi\n",
    "             }\n",
    "    #print(tpl_SQL.format(**_stuff))\n",
    "    _sql = _p2sql.format(tname)\n",
    "    print('嗯哼为:%s'% _sql)\n",
    "    open(_sql,'w').write(tpl_SQL.format(**_stuff))"
   ]
  },
  {
   "cell_type": "code",
   "execution_count": null,
   "metadata": {},
   "outputs": [],
   "source": []
  }
 ],
 "metadata": {
  "kernelspec": {
   "display_name": "Python 3",
   "language": "python",
   "name": "python3"
  },
  "language_info": {
   "codemirror_mode": {
    "name": "ipython",
    "version": 3
   },
   "file_extension": ".py",
   "mimetype": "text/x-python",
   "name": "python",
   "nbconvert_exporter": "python",
   "pygments_lexer": "ipython3",
   "version": "3.6.3"
  },
  "toc": {
   "nav_menu": {},
   "number_sections": true,
   "sideBar": true,
   "skip_h1_title": false,
   "toc_cell": false,
   "toc_position": {},
   "toc_section_display": "block",
   "toc_window_display": false
  }
 },
 "nbformat": 4,
 "nbformat_minor": 2
}
