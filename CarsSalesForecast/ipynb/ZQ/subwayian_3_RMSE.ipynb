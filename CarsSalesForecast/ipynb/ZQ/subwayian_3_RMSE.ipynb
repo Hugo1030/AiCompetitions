{
 "cells": [
  {
   "cell_type": "markdown",
   "metadata": {},
   "source": [
    "# ROP ~ 面向结果的嗯哼\n",
    "\n",
    "RMSE(Root Mean Square Error 均方根误差)\n",
    "\n",
    "![RMSE](https://images2017.cnblogs.com/blog/1056351/201801/1056351-20180105211844862-1069353869.png)\n",
    "\n",
    "是一般比赛效果评估的常见算法\n",
    "但是 一般线上给分有另外的参考,以及计算支出, 所以, 并不能实时无限次数的反馈,\n",
    "\n",
    "所以, 在本地第一时间构造可以立即检验结果的过程就非常必要了 <-- 这简直就是编程必须的第一阵地:\n",
    "\n",
    "MVP ~ 第一时间构建最小可用过程\n",
    "\n",
    "## RMSLE\n",
    "~ Root Mean Squared Logarithmic Error 均方根对数误差\n",
    "\n",
    "![RMSLE](https://images2017.cnblogs.com/blog/1056351/201801/1056351-20180105210732299-732409843.png)\n",
    "\n",
    "则是 Kaggle 使用的算法\n",
    "\n",
    "相比:\n",
    "\n",
    "- RMSLE惩罚欠预测大于过预测\n",
    "- 如果预测的值的范围很大，RMSE会被一些大的值主导。这样即使你很多小的值预测准了，但是有一个非常大的值预测的不准确，RMSE就会很大\n",
    "\n",
    "\n",
    "> SEE\n",
    "- [RMSLE误差和RMSE误差比较 - mdumpling - 博客园](https://www.cnblogs.com/mdumpling/p/8206833.html)\n",
    "- [回归预测评估指标 - CSDN博客](http://blog.csdn.net/u013704227/article/details/77604500)\n"
   ]
  },
  {
   "cell_type": "code",
   "execution_count": null,
   "metadata": {},
   "outputs": [],
   "source": []
  },
  {
   "cell_type": "code",
   "execution_count": null,
   "metadata": {},
   "outputs": [],
   "source": []
  },
  {
   "cell_type": "code",
   "execution_count": null,
   "metadata": {},
   "outputs": [],
   "source": []
  },
  {
   "cell_type": "code",
   "execution_count": null,
   "metadata": {},
   "outputs": [],
   "source": []
  }
 ],
 "metadata": {
  "kernelspec": {
   "display_name": "Python 3",
   "language": "python",
   "name": "python3"
  },
  "language_info": {
   "codemirror_mode": {
    "name": "ipython",
    "version": 3
   },
   "file_extension": ".py",
   "mimetype": "text/x-python",
   "name": "python",
   "nbconvert_exporter": "python",
   "pygments_lexer": "ipython3",
   "version": "3.6.3"
  },
  "toc": {
   "nav_menu": {},
   "number_sections": true,
   "sideBar": true,
   "skip_h1_title": false,
   "toc_cell": false,
   "toc_position": {},
   "toc_section_display": "block",
   "toc_window_display": false
  }
 },
 "nbformat": 4,
 "nbformat_minor": 2
}
