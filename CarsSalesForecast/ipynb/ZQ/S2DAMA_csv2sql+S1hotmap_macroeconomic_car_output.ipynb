{
 "cells": [
  {
   "cell_type": "markdown",
   "metadata": {},
   "source": [
    "# 宏观车辆产量相关度分析\n",
    "\n",
    "- 整理 data.stats.gov.cn 原始数据, 增补残缺\n",
    "- 输出为 csv\n",
    "- 导入 S1 原始数据\n",
    "- 并入特征集, 进行相关热力图观察\n"
   ]
  },
  {
   "cell_type": "code",
   "execution_count": 8,
   "metadata": {},
   "outputs": [
    {
     "name": "stdout",
     "output_type": "stream",
     "text": [
      "0.22.0\n"
     ]
    }
   ],
   "source": [
    "import pandas as pd\n",
    "print(pd.__version__)\n",
    "import numpy as np\n",
    "import matplotlib.pyplot as plt\n",
    "import warnings\n",
    "def ignore_warn(*args, **kwargs):\n",
    "    pass\n",
    "warnings.warn = ignore_warn\n",
    "\n",
    "import datetime"
   ]
  },
  {
   "cell_type": "markdown",
   "metadata": {},
   "source": [
    "## data.stats.gov.cn 清洗\n"
   ]
  },
  {
   "cell_type": "code",
   "execution_count": 9,
   "metadata": {},
   "outputs": [
    {
     "name": "stdout",
     "output_type": "stream",
     "text": [
      "#90.csv\r\n",
      "#93.csv\r\n",
      "#97.csv\r\n",
      "24种数值-1712--1302.csv\r\n",
      "37种数值-1712--1302.csv\r\n",
      "37种数值-1712--1302.xls\r\n",
      "6种数值--1802.csv\r\n",
      "6种数值--1802.xls\r\n",
      "car产量--36m.xls\r\n",
      "car产量-15--11.xls\r\n",
      "car产量-18--11.csv\r\n",
      "car产量-18--11.xls\r\n",
      "\u001b[33mcurl.sh\u001b[m\u001b[m*\r\n"
     ]
    }
   ],
   "source": [
    "ls -1 ../../raw/_macroeconomic/_abt/"
   ]
  },
  {
   "cell_type": "code",
   "execution_count": 10,
   "metadata": {},
   "outputs": [
    {
     "data": {
      "text/html": [
       "<div>\n",
       "<style scoped>\n",
       "    .dataframe tbody tr th:only-of-type {\n",
       "        vertical-align: middle;\n",
       "    }\n",
       "\n",
       "    .dataframe tbody tr th {\n",
       "        vertical-align: top;\n",
       "    }\n",
       "\n",
       "    .dataframe thead th {\n",
       "        text-align: right;\n",
       "    }\n",
       "</style>\n",
       "<table border=\"1\" class=\"dataframe\">\n",
       "  <thead>\n",
       "    <tr style=\"text-align: right;\">\n",
       "      <th></th>\n",
       "      <th>时间</th>\n",
       "      <th>基本型乘用车（轿车）产量_累计值(万辆)</th>\n",
       "    </tr>\n",
       "  </thead>\n",
       "  <tbody>\n",
       "    <tr>\n",
       "      <th>0</th>\n",
       "      <td>2017年12月</td>\n",
       "      <td>1199.0</td>\n",
       "    </tr>\n",
       "    <tr>\n",
       "      <th>1</th>\n",
       "      <td>2017年11月</td>\n",
       "      <td>1073.7</td>\n",
       "    </tr>\n",
       "    <tr>\n",
       "      <th>2</th>\n",
       "      <td>2017年10月</td>\n",
       "      <td>948.4</td>\n",
       "    </tr>\n",
       "    <tr>\n",
       "      <th>3</th>\n",
       "      <td>2017年9月</td>\n",
       "      <td>900.9</td>\n",
       "    </tr>\n",
       "    <tr>\n",
       "      <th>4</th>\n",
       "      <td>2017年8月</td>\n",
       "      <td>731.4</td>\n",
       "    </tr>\n",
       "  </tbody>\n",
       "</table>\n",
       "</div>"
      ],
      "text/plain": [
       "         时间  基本型乘用车（轿车）产量_累计值(万辆)\n",
       "0  2017年12月                1199.0\n",
       "1  2017年11月                1073.7\n",
       "2  2017年10月                 948.4\n",
       "3   2017年9月                 900.9\n",
       "4   2017年8月                 731.4"
      ]
     },
     "execution_count": 10,
     "metadata": {},
     "output_type": "execute_result"
    }
   ],
   "source": [
    "df = pd.read_csv('../../raw/_macroeconomic/_abt/car产量-18--11.csv')\n",
    "df.head()"
   ]
  },
  {
   "cell_type": "code",
   "execution_count": 11,
   "metadata": {},
   "outputs": [
    {
     "data": {
      "text/plain": [
       "83"
      ]
     },
     "execution_count": 11,
     "metadata": {},
     "output_type": "execute_result"
    }
   ],
   "source": [
    "# 时间 ->yyyymm 格式\n",
    "df['时间'] = df['时间'].apply(lambda x:datetime.datetime.strptime(x , \"%Y年%m月\").strftime('%Y%m'))\n",
    "len(df['时间'])"
   ]
  },
  {
   "cell_type": "code",
   "execution_count": 12,
   "metadata": {},
   "outputs": [
    {
     "data": {
      "text/plain": [
       "时间                      False\n",
       "基本型乘用车（轿车）产量_累计值(万辆)     True\n",
       "dtype: bool"
      ]
     },
     "execution_count": 12,
     "metadata": {},
     "output_type": "execute_result"
    }
   ],
   "source": [
    "# 是否有空值\n",
    "df.isnull().any()"
   ]
  },
  {
   "cell_type": "code",
   "execution_count": 13,
   "metadata": {},
   "outputs": [],
   "source": [
    "redf=df.rename(columns={'时间':'month'\n",
    "        , '基本型乘用车（轿车）产量_累计值(万辆)':'car_month_output_addup'\n",
    "        })"
   ]
  },
  {
   "cell_type": "code",
   "execution_count": 14,
   "metadata": {},
   "outputs": [
    {
     "name": "stdout",
     "output_type": "stream",
     "text": [
      "NaN 188.5 1223.8 ->706.15\n",
      "NaN 176.1 1169.8 ->672.9499999999999\n",
      "NaN 204.1 1253.1 ->728.5999999999999\n",
      "NaN 206.9 1330.1 ->768.5\n",
      "NaN 192.2 1119.1 ->655.65\n",
      "NaN 159.6 1045.0 ->602.3\n"
     ]
    },
    {
     "data": {
      "text/plain": [
       "month                     False\n",
       "car_month_output_addup    False\n",
       "dtype: bool"
      ]
     },
     "execution_count": 14,
     "metadata": {},
     "output_type": "execute_result"
    }
   ],
   "source": [
    "def _fix4nan2mon(df1s):\n",
    "    for i in range(len(df1s)):\n",
    "        #print(redf['1801c'][i])\n",
    "        if np.isnan(df1s[i]):# == np.nan:\n",
    "            _mean = (df1s[i-1] + df1s[i+1])/2\n",
    "            print('NaN {} {} ->{}'.format(\n",
    "                        df1s[i-1]\n",
    "                        , df1s[i+1]\n",
    "                        , _mean\n",
    "                        ))\n",
    "            df1s[i] = _mean\n",
    "    return df1s\n",
    "_fix4nan2mon(redf['car_month_output_addup'])\n",
    "redf.isnull().any()"
   ]
  },
  {
   "cell_type": "code",
   "execution_count": 17,
   "metadata": {},
   "outputs": [
    {
     "data": {
      "text/html": [
       "<div>\n",
       "<style scoped>\n",
       "    .dataframe tbody tr th:only-of-type {\n",
       "        vertical-align: middle;\n",
       "    }\n",
       "\n",
       "    .dataframe tbody tr th {\n",
       "        vertical-align: top;\n",
       "    }\n",
       "\n",
       "    .dataframe thead th {\n",
       "        text-align: right;\n",
       "    }\n",
       "</style>\n",
       "<table border=\"1\" class=\"dataframe\">\n",
       "  <thead>\n",
       "    <tr style=\"text-align: right;\">\n",
       "      <th></th>\n",
       "      <th>month</th>\n",
       "      <th>car_month_output_addup</th>\n",
       "    </tr>\n",
       "  </thead>\n",
       "  <tbody>\n",
       "    <tr>\n",
       "      <th>78</th>\n",
       "      <td>201106</td>\n",
       "      <td>507.8</td>\n",
       "    </tr>\n",
       "    <tr>\n",
       "      <th>79</th>\n",
       "      <td>201105</td>\n",
       "      <td>422.9</td>\n",
       "    </tr>\n",
       "    <tr>\n",
       "      <th>80</th>\n",
       "      <td>201104</td>\n",
       "      <td>347.4</td>\n",
       "    </tr>\n",
       "    <tr>\n",
       "      <th>81</th>\n",
       "      <td>201103</td>\n",
       "      <td>266.2</td>\n",
       "    </tr>\n",
       "    <tr>\n",
       "      <th>82</th>\n",
       "      <td>201102</td>\n",
       "      <td>167.0</td>\n",
       "    </tr>\n",
       "  </tbody>\n",
       "</table>\n",
       "</div>"
      ],
      "text/plain": [
       "     month  car_month_output_addup\n",
       "78  201106                   507.8\n",
       "79  201105                   422.9\n",
       "80  201104                   347.4\n",
       "81  201103                   266.2\n",
       "82  201102                   167.0"
      ]
     },
     "execution_count": 17,
     "metadata": {},
     "output_type": "execute_result"
    }
   ],
   "source": [
    "redf.tail()"
   ]
  },
  {
   "cell_type": "code",
   "execution_count": 24,
   "metadata": {},
   "outputs": [],
   "source": [
    "#redf.iloc[:-11,:]"
   ]
  },
  {
   "cell_type": "markdown",
   "metadata": {},
   "source": [
    "> csv 导出复用..."
   ]
  },
  {
   "cell_type": "code",
   "execution_count": 22,
   "metadata": {},
   "outputs": [
    {
     "name": "stdout",
     "output_type": "stream",
     "text": [
      "exp. => ../../raw/_macroeconomic/_abt/car_month_output_addup.csv\n"
     ]
    }
   ],
   "source": [
    "_csv = '../../raw/_macroeconomic/_abt/car_month_output_addup.csv'\n",
    "redf.iloc[:-11,:].to_csv(_csv)\n",
    "print('exp. => %s'% _csv)"
   ]
  },
  {
   "cell_type": "markdown",
   "metadata": {},
   "source": [
    "## S1 数据加载-合并-观察\n"
   ]
  },
  {
   "cell_type": "code",
   "execution_count": 23,
   "metadata": {},
   "outputs": [
    {
     "name": "stdout",
     "output_type": "stream",
     "text": [
      "<class 'pandas.core.frame.DataFrame'>\n",
      "RangeIndex: 72 entries, 0 to 71\n",
      "Data columns (total 2 columns):\n",
      "month                     72 non-null object\n",
      "car_month_output_addup    72 non-null float64\n",
      "dtypes: float64(1), object(1)\n",
      "memory usage: 1.2+ KB\n"
     ]
    }
   ],
   "source": [
    "df_car4mout = redf.iloc[:-11,:]\n",
    "df_car4mout.info()"
   ]
  },
  {
   "cell_type": "code",
   "execution_count": 28,
   "metadata": {},
   "outputs": [],
   "source": [
    "# S1 EDA\n",
    "df_train = pd.read_csv('../../raw/CarsSaleForecast/[new] yancheng_train_20171226.csv')\n",
    "df_test = pd.read_csv('../../raw/CarsSaleForecast/yancheng_testA_20171225.csv')"
   ]
  },
  {
   "cell_type": "code",
   "execution_count": 41,
   "metadata": {},
   "outputs": [
    {
     "data": {
      "text/html": [
       "<div>\n",
       "<style scoped>\n",
       "    .dataframe tbody tr th:only-of-type {\n",
       "        vertical-align: middle;\n",
       "    }\n",
       "\n",
       "    .dataframe tbody tr th {\n",
       "        vertical-align: top;\n",
       "    }\n",
       "\n",
       "    .dataframe thead th {\n",
       "        text-align: right;\n",
       "    }\n",
       "</style>\n",
       "<table border=\"1\" class=\"dataframe\">\n",
       "  <thead>\n",
       "    <tr style=\"text-align: right;\">\n",
       "      <th></th>\n",
       "      <th>sale_date</th>\n",
       "      <th>class_id</th>\n",
       "      <th>sale_quantity</th>\n",
       "      <th>brand_id</th>\n",
       "      <th>compartment</th>\n",
       "      <th>type_id</th>\n",
       "      <th>level_id</th>\n",
       "      <th>department_id</th>\n",
       "      <th>TR</th>\n",
       "      <th>gearbox_type</th>\n",
       "      <th>...</th>\n",
       "      <th>engine_torque</th>\n",
       "      <th>car_length</th>\n",
       "      <th>car_width</th>\n",
       "      <th>car_height</th>\n",
       "      <th>total_quality</th>\n",
       "      <th>equipment_quality</th>\n",
       "      <th>rated_passenger</th>\n",
       "      <th>wheelbase</th>\n",
       "      <th>front_track</th>\n",
       "      <th>rear_track</th>\n",
       "    </tr>\n",
       "  </thead>\n",
       "  <tbody>\n",
       "    <tr>\n",
       "      <th>20152</th>\n",
       "      <td>201607</td>\n",
       "      <td>810398</td>\n",
       "      <td>10</td>\n",
       "      <td>750</td>\n",
       "      <td>2</td>\n",
       "      <td>2</td>\n",
       "      <td>1</td>\n",
       "      <td>4</td>\n",
       "      <td>5</td>\n",
       "      <td>MT</td>\n",
       "      <td>...</td>\n",
       "      <td>155</td>\n",
       "      <td>4282</td>\n",
       "      <td>1706</td>\n",
       "      <td>1475</td>\n",
       "      <td>1600</td>\n",
       "      <td>1120</td>\n",
       "      <td>5</td>\n",
       "      <td>2603</td>\n",
       "      <td>1460</td>\n",
       "      <td>1500</td>\n",
       "    </tr>\n",
       "    <tr>\n",
       "      <th>20153</th>\n",
       "      <td>201607</td>\n",
       "      <td>175962</td>\n",
       "      <td>126</td>\n",
       "      <td>750</td>\n",
       "      <td>3</td>\n",
       "      <td>2</td>\n",
       "      <td>1</td>\n",
       "      <td>4</td>\n",
       "      <td>6</td>\n",
       "      <td>AT</td>\n",
       "      <td>...</td>\n",
       "      <td>155</td>\n",
       "      <td>4473</td>\n",
       "      <td>1706</td>\n",
       "      <td>1469</td>\n",
       "      <td>1635</td>\n",
       "      <td>1155</td>\n",
       "      <td>5</td>\n",
       "      <td>2603</td>\n",
       "      <td>1460</td>\n",
       "      <td>1500</td>\n",
       "    </tr>\n",
       "    <tr>\n",
       "      <th>20154</th>\n",
       "      <td>201607</td>\n",
       "      <td>395234</td>\n",
       "      <td>9</td>\n",
       "      <td>841</td>\n",
       "      <td>3</td>\n",
       "      <td>2</td>\n",
       "      <td>2</td>\n",
       "      <td>6</td>\n",
       "      <td>6</td>\n",
       "      <td>AT</td>\n",
       "      <td>...</td>\n",
       "      <td>200</td>\n",
       "      <td>4805</td>\n",
       "      <td>1860</td>\n",
       "      <td>1458</td>\n",
       "      <td>2065</td>\n",
       "      <td>1580</td>\n",
       "      <td>5</td>\n",
       "      <td>2815</td>\n",
       "      <td>1584</td>\n",
       "      <td>1551</td>\n",
       "    </tr>\n",
       "    <tr>\n",
       "      <th>20155</th>\n",
       "      <td>201608</td>\n",
       "      <td>587678</td>\n",
       "      <td>194</td>\n",
       "      <td>537</td>\n",
       "      <td>2</td>\n",
       "      <td>1</td>\n",
       "      <td>3</td>\n",
       "      <td>5</td>\n",
       "      <td>0</td>\n",
       "      <td>CVT</td>\n",
       "      <td>...</td>\n",
       "      <td>169</td>\n",
       "      <td>4294</td>\n",
       "      <td>1772</td>\n",
       "      <td>1605</td>\n",
       "      <td>1770</td>\n",
       "      <td>1302</td>\n",
       "      <td>5</td>\n",
       "      <td>2610</td>\n",
       "      <td>1535</td>\n",
       "      <td>1540</td>\n",
       "    </tr>\n",
       "    <tr>\n",
       "      <th>20156</th>\n",
       "      <td>201608</td>\n",
       "      <td>248352</td>\n",
       "      <td>218</td>\n",
       "      <td>831</td>\n",
       "      <td>3</td>\n",
       "      <td>2</td>\n",
       "      <td>3</td>\n",
       "      <td>3</td>\n",
       "      <td>4</td>\n",
       "      <td>AT</td>\n",
       "      <td>...</td>\n",
       "      <td>135</td>\n",
       "      <td>4370</td>\n",
       "      <td>1700</td>\n",
       "      <td>1460</td>\n",
       "      <td>1500</td>\n",
       "      <td>1083</td>\n",
       "      <td>5</td>\n",
       "      <td>2570</td>\n",
       "      <td>1511</td>\n",
       "      <td>1515</td>\n",
       "    </tr>\n",
       "  </tbody>\n",
       "</table>\n",
       "<p>5 rows × 32 columns</p>\n",
       "</div>"
      ],
      "text/plain": [
       "       sale_date  class_id  sale_quantity  brand_id  compartment  type_id  \\\n",
       "20152     201607    810398             10       750            2        2   \n",
       "20153     201607    175962            126       750            3        2   \n",
       "20154     201607    395234              9       841            3        2   \n",
       "20155     201608    587678            194       537            2        1   \n",
       "20156     201608    248352            218       831            3        2   \n",
       "\n",
       "      level_id  department_id TR gearbox_type     ...      engine_torque  \\\n",
       "20152        1              4  5           MT     ...                155   \n",
       "20153        1              4  6           AT     ...                155   \n",
       "20154        2              6  6           AT     ...                200   \n",
       "20155        3              5  0          CVT     ...                169   \n",
       "20156        3              3  4           AT     ...                135   \n",
       "\n",
       "      car_length car_width car_height  total_quality equipment_quality  \\\n",
       "20152       4282      1706       1475           1600              1120   \n",
       "20153       4473      1706       1469           1635              1155   \n",
       "20154       4805      1860       1458           2065              1580   \n",
       "20155       4294      1772       1605           1770              1302   \n",
       "20156       4370      1700       1460           1500              1083   \n",
       "\n",
       "       rated_passenger  wheelbase  front_track  rear_track  \n",
       "20152                5       2603         1460        1500  \n",
       "20153                5       2603         1460        1500  \n",
       "20154                5       2815         1584        1551  \n",
       "20155                5       2610         1535        1540  \n",
       "20156                5       2570         1511        1515  \n",
       "\n",
       "[5 rows x 32 columns]"
      ]
     },
     "execution_count": 41,
     "metadata": {},
     "output_type": "execute_result"
    }
   ],
   "source": [
    "df_train.tail()"
   ]
  },
  {
   "cell_type": "code",
   "execution_count": 43,
   "metadata": {},
   "outputs": [
    {
     "data": {
      "text/plain": [
       "20157"
      ]
     },
     "execution_count": 43,
     "metadata": {},
     "output_type": "execute_result"
    }
   ],
   "source": [
    "len(df_train['sale_date'])"
   ]
  },
  {
   "cell_type": "code",
   "execution_count": 53,
   "metadata": {},
   "outputs": [
    {
     "data": {
      "text/plain": [
       "201709    406\n",
       "201708    400\n",
       "201707    389\n",
       "201706    387\n",
       "201612    387\n",
       "201705    386\n",
       "201512    384\n",
       "201703    384\n",
       "201501    384\n",
       "201511    383\n",
       "201601    378\n",
       "201509    375\n",
       "201502    374\n",
       "201704    373\n",
       "201510    370\n",
       "201603    369\n",
       "201701    369\n",
       "201611    368\n",
       "201602    356\n",
       "201610    354\n",
       "201505    352\n",
       "201702    351\n",
       "201508    350\n",
       "201506    350\n",
       "201507    349\n",
       "201409    348\n",
       "201412    347\n",
       "201503    343\n",
       "201410    342\n",
       "201604    337\n",
       "         ... \n",
       "201406    267\n",
       "201401    260\n",
       "201404    256\n",
       "201403    240\n",
       "201311    235\n",
       "201310    235\n",
       "201402    230\n",
       "201309    225\n",
       "201312    221\n",
       "201308    218\n",
       "201301    213\n",
       "201307    211\n",
       "201710    207\n",
       "201306    195\n",
       "201305    193\n",
       "201304    192\n",
       "201302    188\n",
       "201209    187\n",
       "201211    184\n",
       "201210    183\n",
       "201212    183\n",
       "201303    178\n",
       "201207    176\n",
       "201208    172\n",
       "201201    171\n",
       "201203    168\n",
       "201205    166\n",
       "201206    159\n",
       "201204    156\n",
       "201202    153\n",
       "Name: sale_date, Length: 70, dtype: int64"
      ]
     },
     "execution_count": 53,
     "metadata": {},
     "output_type": "execute_result"
    }
   ],
   "source": [
    "pd.value_counts(df_train['sale_date'], sort=True)"
   ]
  },
  {
   "cell_type": "code",
   "execution_count": null,
   "metadata": {},
   "outputs": [],
   "source": []
  },
  {
   "cell_type": "code",
   "execution_count": null,
   "metadata": {},
   "outputs": [],
   "source": []
  },
  {
   "cell_type": "code",
   "execution_count": 29,
   "metadata": {},
   "outputs": [],
   "source": [
    "import seaborn as sns\n",
    "color = sns.color_palette()\n",
    "sns.set_style('darkgrid')\n",
    "\n",
    "from scipy import stats\n",
    "from scipy.stats import norm, skew #f or some statistics\n",
    "pd.set_option('display.float_format', lambda x: '{:.3f}'.format(x)) #Limiting floats output to 3 decimal points\n"
   ]
  },
  {
   "cell_type": "code",
   "execution_count": 30,
   "metadata": {},
   "outputs": [
    {
     "data": {
      "text/plain": [
       "<matplotlib.axes._subplots.AxesSubplot at 0x11552e898>"
      ]
     },
     "execution_count": 30,
     "metadata": {},
     "output_type": "execute_result"
    },
    {
     "data": {
      "image/png": "[encoded data removed]",
      "text/plain": [
       "<matplotlib.figure.Figure at 0x112bf3908>"
      ]
     },
     "metadata": {},
     "output_type": "display_data"
    }
   ],
   "source": [
    "#Correlation map to see how features are correlated with SalePrice\n",
    "corrmat = df_train.corr()\n",
    "plt.subplots(figsize=(12,9))\n",
    "sns.heatmap(corrmat, vmax=0.9, square=True)"
   ]
  },
  {
   "cell_type": "code",
   "execution_count": 50,
   "metadata": {},
   "outputs": [
    {
     "data": {
      "image/png": "[encoded data removed]",
      "text/plain": [
       "<matplotlib.figure.Figure at 0x116847da0>"
      ]
     },
     "metadata": {},
     "output_type": "display_data"
    }
   ],
   "source": [
    "#saleprice correlation matrix\n",
    "k = 10 #number of variables for heatmap\n",
    "cols = corrmat.nlargest(k, 'sale_quantity')['sale_quantity'].index\n",
    "cm = np.corrcoef(df_train[cols].values.T)\n",
    "#sns.set(font_scale=1.25)\n",
    "sns.set(font_scale=1.4)\n",
    "hm = sns.heatmap(cm, cbar=True, annot=True, square=True\n",
    "                 , fmt='.2f'\n",
    "                 , linewidths=.5\n",
    "                 , annot_kws={'size': 10}\n",
    "                 , yticklabels=cols.values\n",
    "                 , xticklabels=cols.values)\n",
    "plt.show()"
   ]
  },
  {
   "cell_type": "code",
   "execution_count": 44,
   "metadata": {},
   "outputs": [
    {
     "data": {
      "text/html": [
       "<div>\n",
       "<style scoped>\n",
       "    .dataframe tbody tr th:only-of-type {\n",
       "        vertical-align: middle;\n",
       "    }\n",
       "\n",
       "    .dataframe tbody tr th {\n",
       "        vertical-align: top;\n",
       "    }\n",
       "\n",
       "    .dataframe thead th {\n",
       "        text-align: right;\n",
       "    }\n",
       "</style>\n",
       "<table border=\"1\" class=\"dataframe\">\n",
       "  <thead>\n",
       "    <tr style=\"text-align: right;\">\n",
       "      <th></th>\n",
       "      <th>sale_date</th>\n",
       "      <th>class_id</th>\n",
       "      <th>sale_quantity</th>\n",
       "      <th>brand_id</th>\n",
       "      <th>compartment</th>\n",
       "      <th>type_id</th>\n",
       "      <th>department_id</th>\n",
       "      <th>displacement</th>\n",
       "      <th>driven_type_id</th>\n",
       "      <th>newenergy_type_id</th>\n",
       "      <th>...</th>\n",
       "      <th>if_luxurious_id</th>\n",
       "      <th>cylinder_number</th>\n",
       "      <th>car_length</th>\n",
       "      <th>car_width</th>\n",
       "      <th>car_height</th>\n",
       "      <th>total_quality</th>\n",
       "      <th>equipment_quality</th>\n",
       "      <th>wheelbase</th>\n",
       "      <th>front_track</th>\n",
       "      <th>rear_track</th>\n",
       "    </tr>\n",
       "  </thead>\n",
       "  <tbody>\n",
       "    <tr>\n",
       "      <th>total_quality</th>\n",
       "      <td>-0.035</td>\n",
       "      <td>-0.084</td>\n",
       "      <td>-0.094</td>\n",
       "      <td>0.128</td>\n",
       "      <td>-0.019</td>\n",
       "      <td>-0.116</td>\n",
       "      <td>-0.091</td>\n",
       "      <td>0.667</td>\n",
       "      <td>0.448</td>\n",
       "      <td>-0.004</td>\n",
       "      <td>...</td>\n",
       "      <td>0.458</td>\n",
       "      <td>0.335</td>\n",
       "      <td>0.693</td>\n",
       "      <td>0.615</td>\n",
       "      <td>0.324</td>\n",
       "      <td>1.000</td>\n",
       "      <td>0.960</td>\n",
       "      <td>0.761</td>\n",
       "      <td>0.503</td>\n",
       "      <td>0.482</td>\n",
       "    </tr>\n",
       "    <tr>\n",
       "      <th>equipment_quality</th>\n",
       "      <td>-0.022</td>\n",
       "      <td>-0.012</td>\n",
       "      <td>-0.094</td>\n",
       "      <td>0.170</td>\n",
       "      <td>0.055</td>\n",
       "      <td>-0.245</td>\n",
       "      <td>-0.089</td>\n",
       "      <td>0.695</td>\n",
       "      <td>0.402</td>\n",
       "      <td>0.009</td>\n",
       "      <td>...</td>\n",
       "      <td>0.473</td>\n",
       "      <td>0.318</td>\n",
       "      <td>0.713</td>\n",
       "      <td>0.736</td>\n",
       "      <td>0.219</td>\n",
       "      <td>0.960</td>\n",
       "      <td>1.000</td>\n",
       "      <td>0.736</td>\n",
       "      <td>0.627</td>\n",
       "      <td>0.609</td>\n",
       "    </tr>\n",
       "    <tr>\n",
       "      <th>wheelbase</th>\n",
       "      <td>-0.011</td>\n",
       "      <td>-0.121</td>\n",
       "      <td>-0.040</td>\n",
       "      <td>0.116</td>\n",
       "      <td>0.299</td>\n",
       "      <td>0.244</td>\n",
       "      <td>-0.009</td>\n",
       "      <td>0.580</td>\n",
       "      <td>0.295</td>\n",
       "      <td>-0.025</td>\n",
       "      <td>...</td>\n",
       "      <td>0.505</td>\n",
       "      <td>0.366</td>\n",
       "      <td>0.841</td>\n",
       "      <td>0.484</td>\n",
       "      <td>0.062</td>\n",
       "      <td>0.761</td>\n",
       "      <td>0.736</td>\n",
       "      <td>1.000</td>\n",
       "      <td>0.405</td>\n",
       "      <td>0.429</td>\n",
       "    </tr>\n",
       "    <tr>\n",
       "      <th>front_track</th>\n",
       "      <td>0.060</td>\n",
       "      <td>0.025</td>\n",
       "      <td>-0.003</td>\n",
       "      <td>0.369</td>\n",
       "      <td>0.332</td>\n",
       "      <td>-0.568</td>\n",
       "      <td>0.194</td>\n",
       "      <td>0.532</td>\n",
       "      <td>-0.093</td>\n",
       "      <td>-0.016</td>\n",
       "      <td>...</td>\n",
       "      <td>0.247</td>\n",
       "      <td>0.187</td>\n",
       "      <td>0.557</td>\n",
       "      <td>0.939</td>\n",
       "      <td>-0.331</td>\n",
       "      <td>0.503</td>\n",
       "      <td>0.627</td>\n",
       "      <td>0.405</td>\n",
       "      <td>1.000</td>\n",
       "      <td>0.961</td>\n",
       "    </tr>\n",
       "    <tr>\n",
       "      <th>rear_track</th>\n",
       "      <td>0.075</td>\n",
       "      <td>0.023</td>\n",
       "      <td>0.007</td>\n",
       "      <td>0.379</td>\n",
       "      <td>0.343</td>\n",
       "      <td>-0.567</td>\n",
       "      <td>0.151</td>\n",
       "      <td>0.535</td>\n",
       "      <td>-0.052</td>\n",
       "      <td>-0.022</td>\n",
       "      <td>...</td>\n",
       "      <td>0.286</td>\n",
       "      <td>0.193</td>\n",
       "      <td>0.552</td>\n",
       "      <td>0.908</td>\n",
       "      <td>-0.325</td>\n",
       "      <td>0.482</td>\n",
       "      <td>0.609</td>\n",
       "      <td>0.429</td>\n",
       "      <td>0.961</td>\n",
       "      <td>1.000</td>\n",
       "    </tr>\n",
       "  </tbody>\n",
       "</table>\n",
       "<p>5 rows × 22 columns</p>\n",
       "</div>"
      ],
      "text/plain": [
       "                   sale_date  class_id  sale_quantity  brand_id  compartment  \\\n",
       "total_quality         -0.035    -0.084         -0.094     0.128       -0.019   \n",
       "equipment_quality     -0.022    -0.012         -0.094     0.170        0.055   \n",
       "wheelbase             -0.011    -0.121         -0.040     0.116        0.299   \n",
       "front_track            0.060     0.025         -0.003     0.369        0.332   \n",
       "rear_track             0.075     0.023          0.007     0.379        0.343   \n",
       "\n",
       "                   type_id  department_id  displacement  driven_type_id  \\\n",
       "total_quality       -0.116         -0.091         0.667           0.448   \n",
       "equipment_quality   -0.245         -0.089         0.695           0.402   \n",
       "wheelbase            0.244         -0.009         0.580           0.295   \n",
       "front_track         -0.568          0.194         0.532          -0.093   \n",
       "rear_track          -0.567          0.151         0.535          -0.052   \n",
       "\n",
       "                   newenergy_type_id     ...      if_luxurious_id  \\\n",
       "total_quality                 -0.004     ...                0.458   \n",
       "equipment_quality              0.009     ...                0.473   \n",
       "wheelbase                     -0.025     ...                0.505   \n",
       "front_track                   -0.016     ...                0.247   \n",
       "rear_track                    -0.022     ...                0.286   \n",
       "\n",
       "                   cylinder_number  car_length  car_width  car_height  \\\n",
       "total_quality                0.335       0.693      0.615       0.324   \n",
       "equipment_quality            0.318       0.713      0.736       0.219   \n",
       "wheelbase                    0.366       0.841      0.484       0.062   \n",
       "front_track                  0.187       0.557      0.939      -0.331   \n",
       "rear_track                   0.193       0.552      0.908      -0.325   \n",
       "\n",
       "                   total_quality  equipment_quality  wheelbase  front_track  \\\n",
       "total_quality              1.000              0.960      0.761        0.503   \n",
       "equipment_quality          0.960              1.000      0.736        0.627   \n",
       "wheelbase                  0.761              0.736      1.000        0.405   \n",
       "front_track                0.503              0.627      0.405        1.000   \n",
       "rear_track                 0.482              0.609      0.429        0.961   \n",
       "\n",
       "                   rear_track  \n",
       "total_quality           0.482  \n",
       "equipment_quality       0.609  \n",
       "wheelbase               0.429  \n",
       "front_track             0.961  \n",
       "rear_track              1.000  \n",
       "\n",
       "[5 rows x 22 columns]"
      ]
     },
     "execution_count": 44,
     "metadata": {},
     "output_type": "execute_result"
    }
   ],
   "source": [
    "corrmat.tail()"
   ]
  },
  {
   "cell_type": "code",
   "execution_count": 45,
   "metadata": {},
   "outputs": [
    {
     "data": {
      "text/plain": [
       "22"
      ]
     },
     "execution_count": 45,
     "metadata": {},
     "output_type": "execute_result"
    }
   ],
   "source": [
    "len(corrmat['sale_date'])"
   ]
  },
  {
   "cell_type": "code",
   "execution_count": null,
   "metadata": {},
   "outputs": [],
   "source": []
  }
 ],
 "metadata": {
  "kernelspec": {
   "display_name": "Python 3",
   "language": "python",
   "name": "python3"
  },
  "language_info": {
   "codemirror_mode": {
    "name": "ipython",
    "version": 3
   },
   "file_extension": ".py",
   "mimetype": "text/x-python",
   "name": "python",
   "nbconvert_exporter": "python",
   "pygments_lexer": "ipython3",
   "version": "3.6.3"
  },
  "toc": {
   "nav_menu": {},
   "number_sections": true,
   "sideBar": true,
   "skip_h1_title": false,
   "toc_cell": false,
   "toc_position": {},
   "toc_section_display": "block",
   "toc_window_display": false
  }
 },
 "nbformat": 4,
 "nbformat_minor": 2
}
