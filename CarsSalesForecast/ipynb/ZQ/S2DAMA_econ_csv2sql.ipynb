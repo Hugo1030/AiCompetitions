{
 "cells": [
  {
   "cell_type": "markdown",
   "metadata": {},
   "source": [
    "# 国家统计局\n",
    "http://data.stats.gov.cn/ 月度统计数据\n",
    "\n",
    "- 尽可能汽车相关\n",
    "- 尽可能是数值而不是比值\n",
    "- 尽可能统计到 18.2\n",
    "- 如果统一缺少月份数据使用后一个月的复制\n",
    "- ...\n",
    "\n",
    "> 然后生成专门的特征表生成 SQL 以便回填到 MC 中\n"
   ]
  },
  {
   "cell_type": "markdown",
   "metadata": {},
   "source": [
    "## 当前数据文件\n",
    "\n",
    "```\n",
    "raw/_eastmoney/\n",
    "    +- 90号汽油价格 -> #90.csv\n",
    "    +- 93号汽油价格 -> #93.csv\n",
    "    +- 97号汽油价格 -> #97.csv\n",
    "    +- 13.2~17.12 -> 24种数值-1712--1302.csv\n",
    "    +- (有数据每年1,2月)37种数值-1712--1302.csv\n",
    "    +- (有数据每年1,2月)37种数值-1712--1302.xls\n",
    "    +- 13.1~18.2 -> 6种数值--1802.csv\n",
    "    +- 6种数值--1802.xls\n",
    "    +- ...\n",
    "```\n"
   ]
  },
  {
   "cell_type": "markdown",
   "metadata": {},
   "source": [
    "## pd 清洗/转换"
   ]
  },
  {
   "cell_type": "code",
   "execution_count": 14,
   "metadata": {},
   "outputs": [
    {
     "name": "stdout",
     "output_type": "stream",
     "text": [
      "0.22.0\n"
     ]
    }
   ],
   "source": [
    "import pandas as pd\n",
    "print(pd.__version__)\n",
    "import numpy as np\n",
    "import matplotlib.pyplot as plt\n",
    "import warnings\n",
    "def ignore_warn(*args, **kwargs):\n",
    "    pass\n",
    "warnings.warn = ignore_warn\n",
    "\n",
    "import datetime\n"
   ]
  },
  {
   "cell_type": "code",
   "execution_count": 15,
   "metadata": {},
   "outputs": [
    {
     "name": "stdout",
     "output_type": "stream",
     "text": [
      "#90.csv\r\n",
      "#93.csv\r\n",
      "#97.csv\r\n",
      "24种数值-1712--1302.csv\r\n",
      "37种数值-1712--1302.csv\r\n",
      "37种数值-1712--1302.xls\r\n",
      "6种数值--1802.csv\r\n",
      "6种数值--1802.xls\r\n",
      "\u001b[33mcurl.sh\u001b[m\u001b[m*\r\n"
     ]
    }
   ],
   "source": [
    "ls -1 ../../raw/_eastmoney"
   ]
  },
  {
   "cell_type": "code",
   "execution_count": 16,
   "metadata": {},
   "outputs": [
    {
     "data": {
      "text/html": [
       "<div>\n",
       "<style scoped>\n",
       "    .dataframe tbody tr th:only-of-type {\n",
       "        vertical-align: middle;\n",
       "    }\n",
       "\n",
       "    .dataframe tbody tr th {\n",
       "        vertical-align: top;\n",
       "    }\n",
       "\n",
       "    .dataframe thead th {\n",
       "        text-align: right;\n",
       "    }\n",
       "</style>\n",
       "<table border=\"1\" class=\"dataframe\">\n",
       "  <thead>\n",
       "    <tr style=\"text-align: right;\">\n",
       "      <th></th>\n",
       "      <th>时间</th>\n",
       "      <th>石油及制品类商品零售类值_累计值(亿元)</th>\n",
       "      <th>城镇社会消费品零售总额_累计值(亿元)</th>\n",
       "      <th>汽车制造业民间固定资产投资_累计值(亿元)</th>\n",
       "      <th>汽车制造业民间固定资产投资_累计增长(%)</th>\n",
       "      <th>汽车制造业固定资产投资额_累计值(亿元)</th>\n",
       "      <th>汽车制造业固定资产投资额_累计增长(%)</th>\n",
       "      <th>汽油产量_累计值(万吨)</th>\n",
       "      <th>橡胶轮胎外胎产量_累计值(万条)</th>\n",
       "      <th>夹层玻璃产量_累计值(万平方米)</th>\n",
       "      <th>...</th>\n",
       "      <th>金属切削机床产量_累计值(万台)</th>\n",
       "      <th>汽车产量_累计值(万辆)</th>\n",
       "      <th>基本型乘用车（轿车）产量_累计值(万辆)</th>\n",
       "      <th>汽车制造业产成品存货_累计值(亿元)</th>\n",
       "      <th>汽车制造业销售费用_累计值(亿元)</th>\n",
       "      <th>汽车制造业销售费用_上年同期累计值(亿元)</th>\n",
       "      <th>汽车制造业销售费用_累计增长(%)</th>\n",
       "      <th>汽车制造业利润总额_累计值(亿元)</th>\n",
       "      <th>汽车制造业利润总额_上年同期累计值(亿元)</th>\n",
       "      <th>汽车制造业利润总额_累计增长(%)</th>\n",
       "    </tr>\n",
       "  </thead>\n",
       "  <tbody>\n",
       "    <tr>\n",
       "      <th>0</th>\n",
       "      <td>2017年12月</td>\n",
       "      <td>19743.4</td>\n",
       "      <td>314289.7</td>\n",
       "      <td>10440.82</td>\n",
       "      <td>10.5</td>\n",
       "      <td>13099.94</td>\n",
       "      <td>10.2</td>\n",
       "      <td>13276.2</td>\n",
       "      <td>92617.5</td>\n",
       "      <td>9696.9</td>\n",
       "      <td>...</td>\n",
       "      <td>64.3</td>\n",
       "      <td>2994.2</td>\n",
       "      <td>1199.0</td>\n",
       "      <td>3285.4</td>\n",
       "      <td>2410.4</td>\n",
       "      <td>2205.3</td>\n",
       "      <td>9.3</td>\n",
       "      <td>6832.9</td>\n",
       "      <td>6459.7</td>\n",
       "      <td>5.8</td>\n",
       "    </tr>\n",
       "    <tr>\n",
       "      <th>1</th>\n",
       "      <td>2017年11月</td>\n",
       "      <td>18163.3</td>\n",
       "      <td>284536.1</td>\n",
       "      <td>9574.40</td>\n",
       "      <td>11.3</td>\n",
       "      <td>12006.10</td>\n",
       "      <td>10.4</td>\n",
       "      <td>12172.7</td>\n",
       "      <td>86955.5</td>\n",
       "      <td>8759.4</td>\n",
       "      <td>...</td>\n",
       "      <td>63.6</td>\n",
       "      <td>2673.1</td>\n",
       "      <td>1073.7</td>\n",
       "      <td>3294.1</td>\n",
       "      <td>2147.7</td>\n",
       "      <td>1963.9</td>\n",
       "      <td>9.4</td>\n",
       "      <td>6158.4</td>\n",
       "      <td>5806.8</td>\n",
       "      <td>6.1</td>\n",
       "    </tr>\n",
       "    <tr>\n",
       "      <th>2</th>\n",
       "      <td>2017年10月</td>\n",
       "      <td>16508.7</td>\n",
       "      <td>255129.1</td>\n",
       "      <td>8692.13</td>\n",
       "      <td>12.6</td>\n",
       "      <td>10909.62</td>\n",
       "      <td>11.2</td>\n",
       "      <td>11029.9</td>\n",
       "      <td>80249.5</td>\n",
       "      <td>7839.7</td>\n",
       "      <td>...</td>\n",
       "      <td>64.5</td>\n",
       "      <td>2349.4</td>\n",
       "      <td>948.4</td>\n",
       "      <td>3158.0</td>\n",
       "      <td>1923.0</td>\n",
       "      <td>1757.3</td>\n",
       "      <td>9.4</td>\n",
       "      <td>5622.1</td>\n",
       "      <td>5165.9</td>\n",
       "      <td>8.8</td>\n",
       "    </tr>\n",
       "    <tr>\n",
       "      <th>3</th>\n",
       "      <td>2017年9月</td>\n",
       "      <td>14706.6</td>\n",
       "      <td>225592.5</td>\n",
       "      <td>7734.28</td>\n",
       "      <td>11.9</td>\n",
       "      <td>9715.04</td>\n",
       "      <td>10.2</td>\n",
       "      <td>9863.7</td>\n",
       "      <td>72473.4</td>\n",
       "      <td>6995.1</td>\n",
       "      <td>...</td>\n",
       "      <td>57.8</td>\n",
       "      <td>2278.9</td>\n",
       "      <td>900.9</td>\n",
       "      <td>3139.9</td>\n",
       "      <td>1698.6</td>\n",
       "      <td>1552.3</td>\n",
       "      <td>9.4</td>\n",
       "      <td>5029.1</td>\n",
       "      <td>4560.8</td>\n",
       "      <td>10.3</td>\n",
       "    </tr>\n",
       "    <tr>\n",
       "      <th>4</th>\n",
       "      <td>2017年8月</td>\n",
       "      <td>12943.8</td>\n",
       "      <td>199428.4</td>\n",
       "      <td>6711.37</td>\n",
       "      <td>10.7</td>\n",
       "      <td>8433.12</td>\n",
       "      <td>9.0</td>\n",
       "      <td>8684.9</td>\n",
       "      <td>64797.6</td>\n",
       "      <td>6163.9</td>\n",
       "      <td>...</td>\n",
       "      <td>51.0</td>\n",
       "      <td>1818.1</td>\n",
       "      <td>731.4</td>\n",
       "      <td>3139.9</td>\n",
       "      <td>1469.4</td>\n",
       "      <td>1349.0</td>\n",
       "      <td>8.9</td>\n",
       "      <td>4478.3</td>\n",
       "      <td>4009.2</td>\n",
       "      <td>11.7</td>\n",
       "    </tr>\n",
       "  </tbody>\n",
       "</table>\n",
       "<p>5 rows × 25 columns</p>\n",
       "</div>"
      ],
      "text/plain": [
       "         时间  石油及制品类商品零售类值_累计值(亿元)  城镇社会消费品零售总额_累计值(亿元)  汽车制造业民间固定资产投资_累计值(亿元)  \\\n",
       "0  2017年12月               19743.4             314289.7               10440.82   \n",
       "1  2017年11月               18163.3             284536.1                9574.40   \n",
       "2  2017年10月               16508.7             255129.1                8692.13   \n",
       "3   2017年9月               14706.6             225592.5                7734.28   \n",
       "4   2017年8月               12943.8             199428.4                6711.37   \n",
       "\n",
       "   汽车制造业民间固定资产投资_累计增长(%)  汽车制造业固定资产投资额_累计值(亿元)  汽车制造业固定资产投资额_累计增长(%)  \\\n",
       "0                   10.5              13099.94                  10.2   \n",
       "1                   11.3              12006.10                  10.4   \n",
       "2                   12.6              10909.62                  11.2   \n",
       "3                   11.9               9715.04                  10.2   \n",
       "4                   10.7               8433.12                   9.0   \n",
       "\n",
       "   汽油产量_累计值(万吨)  橡胶轮胎外胎产量_累计值(万条)  夹层玻璃产量_累计值(万平方米)        ...          \\\n",
       "0       13276.2           92617.5            9696.9        ...           \n",
       "1       12172.7           86955.5            8759.4        ...           \n",
       "2       11029.9           80249.5            7839.7        ...           \n",
       "3        9863.7           72473.4            6995.1        ...           \n",
       "4        8684.9           64797.6            6163.9        ...           \n",
       "\n",
       "   金属切削机床产量_累计值(万台)  汽车产量_累计值(万辆)  基本型乘用车（轿车）产量_累计值(万辆)  汽车制造业产成品存货_累计值(亿元)  \\\n",
       "0              64.3        2994.2                1199.0              3285.4   \n",
       "1              63.6        2673.1                1073.7              3294.1   \n",
       "2              64.5        2349.4                 948.4              3158.0   \n",
       "3              57.8        2278.9                 900.9              3139.9   \n",
       "4              51.0        1818.1                 731.4              3139.9   \n",
       "\n",
       "   汽车制造业销售费用_累计值(亿元)  汽车制造业销售费用_上年同期累计值(亿元)  汽车制造业销售费用_累计增长(%)  \\\n",
       "0             2410.4                 2205.3                9.3   \n",
       "1             2147.7                 1963.9                9.4   \n",
       "2             1923.0                 1757.3                9.4   \n",
       "3             1698.6                 1552.3                9.4   \n",
       "4             1469.4                 1349.0                8.9   \n",
       "\n",
       "   汽车制造业利润总额_累计值(亿元)  汽车制造业利润总额_上年同期累计值(亿元)  汽车制造业利润总额_累计增长(%)  \n",
       "0             6832.9                 6459.7                5.8  \n",
       "1             6158.4                 5806.8                6.1  \n",
       "2             5622.1                 5165.9                8.8  \n",
       "3             5029.1                 4560.8               10.3  \n",
       "4             4478.3                 4009.2               11.7  \n",
       "\n",
       "[5 rows x 25 columns]"
      ]
     },
     "execution_count": 16,
     "metadata": {},
     "output_type": "execute_result"
    }
   ],
   "source": [
    "df = pd.read_csv('../../raw/_eastmoney/24种数值-1712--1302.csv')\n",
    "df.head()"
   ]
  },
  {
   "cell_type": "code",
   "execution_count": 17,
   "metadata": {},
   "outputs": [
    {
     "data": {
      "text/plain": [
       "Index(['时间', '石油及制品类商品零售类值_累计值(亿元)', '城镇社会消费品零售总额_累计值(亿元)',\n",
       "       '汽车制造业民间固定资产投资_累计值(亿元)', '汽车制造业民间固定资产投资_累计增长(%)',\n",
       "       '汽车制造业固定资产投资额_累计值(亿元)', '汽车制造业固定资产投资额_累计增长(%)', '汽油产量_累计值(万吨)',\n",
       "       '橡胶轮胎外胎产量_累计值(万条)', '夹层玻璃产量_累计值(万平方米)', '钢材产量_累计值(万吨)',\n",
       "       '冷轧薄板产量_累计值(万吨)', '原铝（电解铝）产量_累计值(万吨)', '铝合金产量_累计值(万吨)',\n",
       "       '发动机产量_累计值(万千瓦)', '金属切削机床产量_累计值(万台)', '汽车产量_累计值(万辆)',\n",
       "       '基本型乘用车（轿车）产量_累计值(万辆)', '汽车制造业产成品存货_累计值(亿元)', '汽车制造业销售费用_累计值(亿元)',\n",
       "       '汽车制造业销售费用_上年同期累计值(亿元)', '汽车制造业销售费用_累计增长(%)', '汽车制造业利润总额_累计值(亿元)',\n",
       "       '汽车制造业利润总额_上年同期累计值(亿元)', '汽车制造业利润总额_累计增长(%)'],\n",
       "      dtype='object')"
      ]
     },
     "execution_count": 17,
     "metadata": {},
     "output_type": "execute_result"
    }
   ],
   "source": [
    "df.columns"
   ]
  },
  {
   "cell_type": "code",
   "execution_count": 18,
   "metadata": {},
   "outputs": [],
   "source": [
    "_date = df['时间']"
   ]
  },
  {
   "cell_type": "code",
   "execution_count": 19,
   "metadata": {},
   "outputs": [
    {
     "data": {
      "text/plain": [
       "'2017年12月'"
      ]
     },
     "execution_count": 19,
     "metadata": {},
     "output_type": "execute_result"
    }
   ],
   "source": [
    "_date[0]"
   ]
  },
  {
   "cell_type": "code",
   "execution_count": 13,
   "metadata": {},
   "outputs": [
    {
     "data": {
      "text/plain": [
       "str"
      ]
     },
     "execution_count": 13,
     "metadata": {},
     "output_type": "execute_result"
    }
   ],
   "source": [
    "type(_date[0])"
   ]
  },
  {
   "cell_type": "code",
   "execution_count": 21,
   "metadata": {},
   "outputs": [],
   "source": [
    "_day = datetime.datetime.strptime(_date[0] , \"%Y年%m月\")"
   ]
  },
  {
   "cell_type": "code",
   "execution_count": 23,
   "metadata": {},
   "outputs": [
    {
     "data": {
      "text/plain": [
       "time.struct_time(tm_year=2017, tm_mon=12, tm_mday=1, tm_hour=0, tm_min=0, tm_sec=0, tm_wday=4, tm_yday=335, tm_isdst=-1)"
      ]
     },
     "execution_count": 23,
     "metadata": {},
     "output_type": "execute_result"
    }
   ],
   "source": [
    "_day.timetuple()"
   ]
  },
  {
   "cell_type": "code",
   "execution_count": 24,
   "metadata": {},
   "outputs": [
    {
     "data": {
      "text/plain": [
       "'201712'"
      ]
     },
     "execution_count": 24,
     "metadata": {},
     "output_type": "execute_result"
    }
   ],
   "source": [
    "_day.strftime('%Y%m')"
   ]
  },
  {
   "cell_type": "code",
   "execution_count": 25,
   "metadata": {},
   "outputs": [],
   "source": [
    "df['时间'] = df['时间'].apply(lambda x:datetime.datetime.strptime(x , \"%Y年%m月\").strftime('%Y%m'))"
   ]
  },
  {
   "cell_type": "code",
   "execution_count": 29,
   "metadata": {},
   "outputs": [
    {
     "data": {
      "text/plain": [
       "59    201301\n",
       "Name: 时间, dtype: object"
      ]
     },
     "execution_count": 29,
     "metadata": {},
     "output_type": "execute_result"
    }
   ],
   "source": [
    "df['时间'][-1:]"
   ]
  },
  {
   "cell_type": "code",
   "execution_count": 30,
   "metadata": {},
   "outputs": [
    {
     "data": {
      "text/plain": [
       "60"
      ]
     },
     "execution_count": 30,
     "metadata": {},
     "output_type": "execute_result"
    }
   ],
   "source": [
    "len(df['时间'])"
   ]
  },
  {
   "cell_type": "code",
   "execution_count": 31,
   "metadata": {},
   "outputs": [
    {
     "data": {
      "text/html": [
       "<div>\n",
       "<style scoped>\n",
       "    .dataframe tbody tr th:only-of-type {\n",
       "        vertical-align: middle;\n",
       "    }\n",
       "\n",
       "    .dataframe tbody tr th {\n",
       "        vertical-align: top;\n",
       "    }\n",
       "\n",
       "    .dataframe thead th {\n",
       "        text-align: right;\n",
       "    }\n",
       "</style>\n",
       "<table border=\"1\" class=\"dataframe\">\n",
       "  <thead>\n",
       "    <tr style=\"text-align: right;\">\n",
       "      <th></th>\n",
       "      <th>时间</th>\n",
       "      <th>石油及制品类商品零售类值_累计值(亿元)</th>\n",
       "      <th>城镇社会消费品零售总额_累计值(亿元)</th>\n",
       "      <th>汽车制造业民间固定资产投资_累计值(亿元)</th>\n",
       "      <th>汽车制造业民间固定资产投资_累计增长(%)</th>\n",
       "      <th>汽车制造业固定资产投资额_累计值(亿元)</th>\n",
       "      <th>汽车制造业固定资产投资额_累计增长(%)</th>\n",
       "      <th>汽油产量_累计值(万吨)</th>\n",
       "      <th>橡胶轮胎外胎产量_累计值(万条)</th>\n",
       "      <th>夹层玻璃产量_累计值(万平方米)</th>\n",
       "      <th>...</th>\n",
       "      <th>金属切削机床产量_累计值(万台)</th>\n",
       "      <th>汽车产量_累计值(万辆)</th>\n",
       "      <th>基本型乘用车（轿车）产量_累计值(万辆)</th>\n",
       "      <th>汽车制造业产成品存货_累计值(亿元)</th>\n",
       "      <th>汽车制造业销售费用_累计值(亿元)</th>\n",
       "      <th>汽车制造业销售费用_上年同期累计值(亿元)</th>\n",
       "      <th>汽车制造业销售费用_累计增长(%)</th>\n",
       "      <th>汽车制造业利润总额_累计值(亿元)</th>\n",
       "      <th>汽车制造业利润总额_上年同期累计值(亿元)</th>\n",
       "      <th>汽车制造业利润总额_累计增长(%)</th>\n",
       "    </tr>\n",
       "  </thead>\n",
       "  <tbody>\n",
       "    <tr>\n",
       "      <th>55</th>\n",
       "      <td>201305</td>\n",
       "      <td>7228.3</td>\n",
       "      <td>79544.5</td>\n",
       "      <td>2139.0</td>\n",
       "      <td>18.2</td>\n",
       "      <td>2981.07</td>\n",
       "      <td>13.9</td>\n",
       "      <td>4081.8</td>\n",
       "      <td>37436.6</td>\n",
       "      <td>2730.9</td>\n",
       "      <td>...</td>\n",
       "      <td>30.8</td>\n",
       "      <td>972.7</td>\n",
       "      <td>535.9</td>\n",
       "      <td>1866.37</td>\n",
       "      <td>679.38</td>\n",
       "      <td>584.45</td>\n",
       "      <td>16.2</td>\n",
       "      <td>1876.46</td>\n",
       "      <td>1564.09</td>\n",
       "      <td>20.0</td>\n",
       "    </tr>\n",
       "    <tr>\n",
       "      <th>56</th>\n",
       "      <td>201304</td>\n",
       "      <td>5733.7</td>\n",
       "      <td>63160.8</td>\n",
       "      <td>1493.0</td>\n",
       "      <td>21.1</td>\n",
       "      <td>2107.27</td>\n",
       "      <td>15.5</td>\n",
       "      <td>3261.9</td>\n",
       "      <td>29059.4</td>\n",
       "      <td>2122.1</td>\n",
       "      <td>...</td>\n",
       "      <td>24.3</td>\n",
       "      <td>780.3</td>\n",
       "      <td>428.3</td>\n",
       "      <td>1838.43</td>\n",
       "      <td>531.56</td>\n",
       "      <td>464.22</td>\n",
       "      <td>14.5</td>\n",
       "      <td>1437.23</td>\n",
       "      <td>1273.45</td>\n",
       "      <td>12.9</td>\n",
       "    </tr>\n",
       "    <tr>\n",
       "      <th>57</th>\n",
       "      <td>201303</td>\n",
       "      <td>4244.1</td>\n",
       "      <td>47893.5</td>\n",
       "      <td>956.0</td>\n",
       "      <td>24.9</td>\n",
       "      <td>1361.04</td>\n",
       "      <td>15.3</td>\n",
       "      <td>2480.9</td>\n",
       "      <td>21112.0</td>\n",
       "      <td>1518.6</td>\n",
       "      <td>...</td>\n",
       "      <td>17.2</td>\n",
       "      <td>579.2</td>\n",
       "      <td>305.8</td>\n",
       "      <td>1815.91</td>\n",
       "      <td>382.99</td>\n",
       "      <td>329.37</td>\n",
       "      <td>16.3</td>\n",
       "      <td>1019.09</td>\n",
       "      <td>921.24</td>\n",
       "      <td>10.6</td>\n",
       "    </tr>\n",
       "    <tr>\n",
       "      <th>58</th>\n",
       "      <td>201302</td>\n",
       "      <td>2692.2</td>\n",
       "      <td>32655.4</td>\n",
       "      <td>376.0</td>\n",
       "      <td>16.7</td>\n",
       "      <td>555.83</td>\n",
       "      <td>8.4</td>\n",
       "      <td>1650.3</td>\n",
       "      <td>13829.6</td>\n",
       "      <td>956.8</td>\n",
       "      <td>...</td>\n",
       "      <td>11.7</td>\n",
       "      <td>350.0</td>\n",
       "      <td>192.2</td>\n",
       "      <td>1750.19</td>\n",
       "      <td>241.29</td>\n",
       "      <td>210.97</td>\n",
       "      <td>14.4</td>\n",
       "      <td>611.97</td>\n",
       "      <td>510.79</td>\n",
       "      <td>19.8</td>\n",
       "    </tr>\n",
       "    <tr>\n",
       "      <th>59</th>\n",
       "      <td>201301</td>\n",
       "      <td>2692.2</td>\n",
       "      <td>32655.4</td>\n",
       "      <td>376.0</td>\n",
       "      <td>16.7</td>\n",
       "      <td>555.83</td>\n",
       "      <td>8.4</td>\n",
       "      <td>1650.3</td>\n",
       "      <td>13829.6</td>\n",
       "      <td>956.8</td>\n",
       "      <td>...</td>\n",
       "      <td>11.7</td>\n",
       "      <td>350.0</td>\n",
       "      <td>192.2</td>\n",
       "      <td>1750.19</td>\n",
       "      <td>241.29</td>\n",
       "      <td>210.97</td>\n",
       "      <td>14.4</td>\n",
       "      <td>611.97</td>\n",
       "      <td>510.79</td>\n",
       "      <td>19.8</td>\n",
       "    </tr>\n",
       "  </tbody>\n",
       "</table>\n",
       "<p>5 rows × 25 columns</p>\n",
       "</div>"
      ],
      "text/plain": [
       "        时间  石油及制品类商品零售类值_累计值(亿元)  城镇社会消费品零售总额_累计值(亿元)  汽车制造业民间固定资产投资_累计值(亿元)  \\\n",
       "55  201305                7228.3              79544.5                 2139.0   \n",
       "56  201304                5733.7              63160.8                 1493.0   \n",
       "57  201303                4244.1              47893.5                  956.0   \n",
       "58  201302                2692.2              32655.4                  376.0   \n",
       "59  201301                2692.2              32655.4                  376.0   \n",
       "\n",
       "    汽车制造业民间固定资产投资_累计增长(%)  汽车制造业固定资产投资额_累计值(亿元)  汽车制造业固定资产投资额_累计增长(%)  \\\n",
       "55                   18.2               2981.07                  13.9   \n",
       "56                   21.1               2107.27                  15.5   \n",
       "57                   24.9               1361.04                  15.3   \n",
       "58                   16.7                555.83                   8.4   \n",
       "59                   16.7                555.83                   8.4   \n",
       "\n",
       "    汽油产量_累计值(万吨)  橡胶轮胎外胎产量_累计值(万条)  夹层玻璃产量_累计值(万平方米)        ...          \\\n",
       "55        4081.8           37436.6            2730.9        ...           \n",
       "56        3261.9           29059.4            2122.1        ...           \n",
       "57        2480.9           21112.0            1518.6        ...           \n",
       "58        1650.3           13829.6             956.8        ...           \n",
       "59        1650.3           13829.6             956.8        ...           \n",
       "\n",
       "    金属切削机床产量_累计值(万台)  汽车产量_累计值(万辆)  基本型乘用车（轿车）产量_累计值(万辆)  汽车制造业产成品存货_累计值(亿元)  \\\n",
       "55              30.8         972.7                 535.9             1866.37   \n",
       "56              24.3         780.3                 428.3             1838.43   \n",
       "57              17.2         579.2                 305.8             1815.91   \n",
       "58              11.7         350.0                 192.2             1750.19   \n",
       "59              11.7         350.0                 192.2             1750.19   \n",
       "\n",
       "    汽车制造业销售费用_累计值(亿元)  汽车制造业销售费用_上年同期累计值(亿元)  汽车制造业销售费用_累计增长(%)  \\\n",
       "55             679.38                 584.45               16.2   \n",
       "56             531.56                 464.22               14.5   \n",
       "57             382.99                 329.37               16.3   \n",
       "58             241.29                 210.97               14.4   \n",
       "59             241.29                 210.97               14.4   \n",
       "\n",
       "    汽车制造业利润总额_累计值(亿元)  汽车制造业利润总额_上年同期累计值(亿元)  汽车制造业利润总额_累计增长(%)  \n",
       "55            1876.46                1564.09               20.0  \n",
       "56            1437.23                1273.45               12.9  \n",
       "57            1019.09                 921.24               10.6  \n",
       "58             611.97                 510.79               19.8  \n",
       "59             611.97                 510.79               19.8  \n",
       "\n",
       "[5 rows x 25 columns]"
      ]
     },
     "execution_count": 31,
     "metadata": {},
     "output_type": "execute_result"
    }
   ],
   "source": [
    "df.tail()"
   ]
  },
  {
   "cell_type": "code",
   "execution_count": 33,
   "metadata": {},
   "outputs": [
    {
     "data": {
      "text/plain": [
       "时间                       False\n",
       "石油及制品类商品零售类值_累计值(亿元)     False\n",
       "城镇社会消费品零售总额_累计值(亿元)      False\n",
       "汽车制造业民间固定资产投资_累计值(亿元)    False\n",
       "汽车制造业民间固定资产投资_累计增长(%)    False\n",
       "汽车制造业固定资产投资额_累计值(亿元)     False\n",
       "汽车制造业固定资产投资额_累计增长(%)     False\n",
       "汽油产量_累计值(万吨)             False\n",
       "橡胶轮胎外胎产量_累计值(万条)         False\n",
       "夹层玻璃产量_累计值(万平方米)         False\n",
       "钢材产量_累计值(万吨)             False\n",
       "冷轧薄板产量_累计值(万吨)           False\n",
       "原铝（电解铝）产量_累计值(万吨)        False\n",
       "铝合金产量_累计值(万吨)            False\n",
       "发动机产量_累计值(万千瓦)           False\n",
       "金属切削机床产量_累计值(万台)         False\n",
       "汽车产量_累计值(万辆)             False\n",
       "基本型乘用车（轿车）产量_累计值(万辆)     False\n",
       "汽车制造业产成品存货_累计值(亿元)       False\n",
       "汽车制造业销售费用_累计值(亿元)        False\n",
       "汽车制造业销售费用_上年同期累计值(亿元)    False\n",
       "汽车制造业销售费用_累计增长(%)        False\n",
       "汽车制造业利润总额_累计值(亿元)        False\n",
       "汽车制造业利润总额_上年同期累计值(亿元)    False\n",
       "汽车制造业利润总额_累计增长(%)        False\n",
       "dtype: bool"
      ]
     },
     "execution_count": 33,
     "metadata": {},
     "output_type": "execute_result"
    }
   ],
   "source": [
    "df.isnull().any()"
   ]
  },
  {
   "cell_type": "code",
   "execution_count": 39,
   "metadata": {},
   "outputs": [],
   "source": [
    "redf = df.rename(columns={'时间':'month'\n",
    "                  , '石油及制品类商品零售类值_累计值(亿元)':'oil_goods_addup'\n",
    "                  , '城镇社会消费品零售总额_累计值(亿元)':'city_goods_addup'\n",
    "\n",
    "                   , '汽车制造业民间固定资产投资_累计值(亿元)':'car_pop_invest_addup'\n",
    "                  , '汽车制造业民间固定资产投资_累计增长(%)':'car_pop_invest_grow'\n",
    "                  , '汽车制造业固定资产投资额_累计值(亿元)':'car_fix_invest_addup'\n",
    "                  , '汽车制造业固定资产投资额_累计增长(%)':'car_fix_invest_grow'\n",
    "\n",
    "                   , '汽油产量_累计值(万吨)':'gas_prod_addup'\n",
    "                  , '橡胶轮胎外胎产量_累计值(万条)':'tyre_prod_addup'\n",
    "                  , '夹层玻璃产量_累计值(万平方米)':'car_glass_prod_addup'\n",
    "                  , '钢材产量_累计值(万吨)':'steel_prod_addup'\n",
    "                  , '冷轧薄板产量_累计值(万吨)':'cold_roll_prod_addup'\n",
    "                  , '原铝（电解铝）产量_累计值(万吨)':'elec_al_prod_addup'\n",
    "                  , '铝合金产量_累计值(万吨)':'aluminium_prod_addup'\n",
    "                  , '发动机产量_累计值(万千瓦)':'engine_prod_addup'\n",
    "                  , '金属切削机床产量_累计值(万台)':'machine_tool_prod_addup'\n",
    "                  , '汽车产量_累计值(万辆)':'motor_prod_addup'\n",
    "                  , '基本型乘用车（轿车）产量_累计值(万辆)':'car_prod_addup'\n",
    "\n",
    "                   , '汽车制造业产成品存货_累计值(亿元)':'car_stock_addup'\n",
    "                  , '汽车制造业销售费用_累计值(亿元)':'car_sales_addup'\n",
    "                  , '汽车制造业销售费用_上年同期累计值(亿元)':'car_sales_y4y_addup'\n",
    "                  , '汽车制造业销售费用_累计增长(%)':'car_sales_grow'\n",
    "                  , '汽车制造业利润总额_累计值(亿元)':'car_profit_addup'\n",
    "                  , '汽车制造业利润总额_上年同期累计值(亿元)':'car_profit_y4y_addup'\n",
    "                  , '汽车制造业利润总额_累计增长(%)':'car_profit_grow'\n",
    "                  })"
   ]
  },
  {
   "cell_type": "markdown",
   "metadata": {},
   "source": [
    "## SQL 生成\n",
    "对应数据表定义, 值定义..."
   ]
  },
  {
   "cell_type": "code",
   "execution_count": 127,
   "metadata": {},
   "outputs": [],
   "source": [
    "exp_SQL = \"../../src/SQL/DAMA_0309_feature_econ24stats4gov_cn.sql\"\n",
    "tpl_SQL = '''-- {mc_tname}\n",
    "-- 提取合理数值表\n",
    "-- <= bitb:raw/_eastmoney/24种数值-1712--1302.csv\n",
    "-- => {mc_tname}\n",
    "-- \n",
    "-- 如果存在就嗯哼\n",
    "DROP TABLE IF EXISTS \n",
    "    {mc_tname}\n",
    ";\n",
    "-- \n",
    "-- 就地创建\n",
    "CREATE TABLE IF NOT EXISTS \n",
    "    {mc_tname} (month string \n",
    "         ,{mc_fiels}\n",
    "        )\n",
    ";\n",
    "-- \n",
    "-- 逐一嗯哼\n",
    "INSERT INTO TABLE \n",
    "    {mc_tname} \n",
    "VALUES \n",
    "     {mc_vars}\n",
    ";\n",
    "-- \n",
    "-- 视验\n",
    "SELECT * FROM {mc_tname}\n",
    "LIMIT 10\n",
    ";\n",
    "\n",
    "'''\n",
    "\n",
    "_stuff = {'mc_tname': 'ycmecon_econ24stats4gov_cn'\n",
    "          , 'mc_fiels': ''\n",
    "          , 'mc_vars': ''\n",
    "         }"
   ]
  },
  {
   "cell_type": "code",
   "execution_count": 128,
   "metadata": {},
   "outputs": [],
   "source": [
    "#redf.columns\n",
    "#','.join(['%s bigint'%k for k in redf.columns[1:]])\n",
    "_stuff['mc_fiels'] = '\\n,'.join(['%s bigint'%k for k in redf.columns[1:]])"
   ]
  },
  {
   "cell_type": "code",
   "execution_count": 129,
   "metadata": {},
   "outputs": [],
   "source": [
    "#print(type(redf.iloc[5,:]))\n",
    "#for v in redf.iloc[5,:]:    print(v)\n",
    "#','.join('%s'%v for v in redf.iloc[5,1:])\n",
    "#redf.iloc[5,:][0]"
   ]
  },
  {
   "cell_type": "code",
   "execution_count": 130,
   "metadata": {},
   "outputs": [],
   "source": [
    "_var = []\n",
    "for row in range(len(redf)):\n",
    "    _var.append(\"('{}',{})\".format(\n",
    "                redf.iloc[row,:][0]\n",
    "                , ','.join('%s'%v for v in redf.iloc[row,1:])\n",
    "                ))\n",
    "#print(_var)\n",
    "_stuff['mc_vars'] = '\\n,'.join(_var)"
   ]
  },
  {
   "cell_type": "code",
   "execution_count": 131,
   "metadata": {},
   "outputs": [
    {
     "name": "stdout",
     "output_type": "stream",
     "text": [
      "exp==>../../src/SQL/DAMA_0309_feature_econ24stats4gov_cn.sql\n"
     ]
    },
    {
     "data": {
      "text/plain": [
       "11431"
      ]
     },
     "execution_count": 131,
     "metadata": {},
     "output_type": "execute_result"
    }
   ],
   "source": [
    "print(\"exp==>%s\"%exp_SQL)\n",
    "open(exp_SQL,'w').write(tpl_SQL.format(**_stuff))"
   ]
  },
  {
   "cell_type": "code",
   "execution_count": 132,
   "metadata": {},
   "outputs": [
    {
     "data": {
      "text/plain": [
       "60"
      ]
     },
     "execution_count": 132,
     "metadata": {},
     "output_type": "execute_result"
    }
   ],
   "source": [
    "len(redf)"
   ]
  },
  {
   "cell_type": "code",
   "execution_count": null,
   "metadata": {},
   "outputs": [],
   "source": []
  }
 ],
 "metadata": {
  "kernelspec": {
   "display_name": "Python 3",
   "language": "python",
   "name": "python3"
  },
  "language_info": {
   "codemirror_mode": {
    "name": "ipython",
    "version": 3
   },
   "file_extension": ".py",
   "mimetype": "text/x-python",
   "name": "python",
   "nbconvert_exporter": "python",
   "pygments_lexer": "ipython3",
   "version": "3.6.3"
  },
  "toc": {
   "nav_menu": {},
   "number_sections": true,
   "sideBar": true,
   "skip_h1_title": false,
   "toc_cell": false,
   "toc_position": {},
   "toc_section_display": "block",
   "toc_window_display": false
  }
 },
 "nbformat": 4,
 "nbformat_minor": 2
}
