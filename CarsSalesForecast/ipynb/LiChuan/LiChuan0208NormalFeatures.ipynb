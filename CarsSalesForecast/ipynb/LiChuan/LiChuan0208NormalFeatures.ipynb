{
 "cells": [
  {
   "cell_type": "code",
   "execution_count": 2,
   "metadata": {
    "collapsed": true
   },
   "outputs": [],
   "source": [
    "import numpy as np\n",
    "import pandas as pd\n",
    "import warnings\n",
    "warnings.filterwarnings('ignore')\n",
    "from sklearn.preprocessing import MinMaxScaler"
   ]
  },
  {
   "cell_type": "code",
   "execution_count": 3,
   "metadata": {
    "collapsed": true
   },
   "outputs": [],
   "source": [
    "# readfile\n",
    "train =pd.read_csv('../../raw/CarsSaleForecast/[new] yancheng_train_20171226.csv')\n",
    "test = pd.read_csv('../../raw/CarsSaleForecast/yancheng_testA_20171225.csv')"
   ]
  },
  {
   "cell_type": "code",
   "execution_count": 4,
   "metadata": {
    "collapsed": true
   },
   "outputs": [],
   "source": [
    "# duplicate removal\n",
    "labels = ['sale_date', 'class_id', 'brand_id', 'compartment', 'type_id', 'level_id', 'department_id', 'TR', 'gearbox_type', 'displacement', 'if_charging', 'price_level', 'price', 'driven_type_id', 'fuel_type_id', 'newenergy_type_id', 'emission_standards_id', 'if_MPV_id', 'if_luxurious_id', 'power', 'cylinder_number', 'engine_torque', 'car_length', 'car_width', 'car_height', 'total_quality', 'equipment_quality', 'rated_passenger', 'wheelbase', 'front_track', 'rear_track']\n",
    "train = train.groupby(labels).sum().reset_index()"
   ]
  },
  {
   "cell_type": "code",
   "execution_count": 5,
   "metadata": {
    "collapsed": true
   },
   "outputs": [],
   "source": [
    "# exceptions\n",
    "train['power'][train['power']=='81/70'] = 81\n",
    "train['power'] = train['power'].astype('float32')\n",
    "\n",
    "train['engine_torque'][train['engine_torque']=='155/140'] = 155\n",
    "train['engine_torque'][train['engine_torque']=='-'] = 201.8\n",
    "train['engine_torque'] = train['engine_torque'].astype('float32')\n",
    "\n",
    "train['fuel_type_id'][train['fuel_type_id']==1] = '1'\n",
    "train['fuel_type_id'][train['fuel_type_id']==2] = '2'\n",
    "train['fuel_type_id'][train['fuel_type_id']==3] = '3'\n",
    "\n",
    "train[train['displacement'] == 0] = 2."
   ]
  },
  {
   "cell_type": "code",
   "execution_count": 6,
   "metadata": {
    "collapsed": true
   },
   "outputs": [],
   "source": [
    "# feautres\n",
    "classLabels = ['class_id']\n",
    "trainClass = train[classLabels].drop_duplicates().reset_index(drop=True)"
   ]
  },
  {
   "cell_type": "code",
   "execution_count": 7,
   "metadata": {
    "collapsed": true
   },
   "outputs": [],
   "source": [
    "# get claaifer features\n",
    "def get_classifer_features(trainClass, labels):\n",
    "    for label in labels:\n",
    "        df = train[['class_id', label]].drop_duplicates()\n",
    "        dummies = pd.get_dummies(df[label], prefix=label)\n",
    "        df = df.drop([label], axis=1)\n",
    "        df = pd.concat([df, dummies], axis=1)\n",
    "        df = df.groupby('class_id').sum().reset_index()\n",
    "        trainClass = pd.merge(trainClass, df, on='class_id')\n",
    "    return trainClass"
   ]
  },
  {
   "cell_type": "code",
   "execution_count": 8,
   "metadata": {
    "collapsed": true
   },
   "outputs": [],
   "source": [
    "def get_numerical_features(trainClass, num_labels):\n",
    "    for label in num_labels:\n",
    "        df = train[['class_id', label]].drop_duplicates().reset_index(drop=True)\n",
    "        df[label] = MinMaxScaler().fit_transform(df[label].reshape(-1, 1))\n",
    "        df_max = df.groupby(df['class_id'])[[label]].agg('max').reset_index()\n",
    "        df_max.rename(columns={label: label + '_max'},inplace=True)\n",
    "        df_min = df.groupby(df['class_id'])[[label]].agg('min').reset_index()\n",
    "        df_min.rename(columns={label:label + '_min'},inplace=True)\n",
    "        df_mean = df.groupby(df['class_id'])[[label]].agg('mean').reset_index()\n",
    "        df_mean.rename(columns={label:label + '_mean'},inplace=True)\n",
    "        df = df.drop([label],axis=1)\n",
    "        df = df.drop_duplicates().reset_index(drop=True)\n",
    "        df = pd.merge(df, df_max, on='class_id')\n",
    "        df = pd.merge(df, df_min, on='class_id')\n",
    "        df = pd.merge(df, df_mean, on='class_id')\n",
    "        trainClass = pd.merge(trainClass, df, on='class_id')\n",
    "    return trainClass"
   ]
  },
  {
   "cell_type": "code",
   "execution_count": 9,
   "metadata": {
    "collapsed": true
   },
   "outputs": [],
   "source": [
    "# duplicate removal\n",
    "labels = ['sale_date', 'class_id', 'brand_id', 'compartment', 'type_id', 'level_id', 'department_id', 'TR', 'gearbox_type', 'displacement', 'if_charging', 'price_level', 'price', 'driven_type_id', 'fuel_type_id', 'newenergy_type_id', 'emission_standards_id', 'if_MPV_id', 'if_luxurious_id', 'power', 'cylinder_number', 'engine_torque', 'car_length', 'car_width', 'car_height', 'total_quality', 'equipment_quality', 'rated_passenger', 'wheelbase', 'front_track', 'rear_track']\n",
    "train = train.groupby(labels).sum().reset_index()"
   ]
  },
  {
   "cell_type": "code",
   "execution_count": 10,
   "metadata": {
    "collapsed": true
   },
   "outputs": [],
   "source": [
    "labels = ['brand_id', 'compartment', 'type_id', 'level_id', 'department_id', 'TR', 'gearbox_type', 'if_charging', 'price_level', 'driven_type_id', 'fuel_type_id', 'newenergy_type_id', 'emission_standards_id', 'if_MPV_id', 'if_luxurious_id', 'cylinder_number', 'rated_passenger']\n",
    "num_labels = ['displacement', 'power','engine_torque', 'total_quality', 'car_length', 'car_width', 'car_height', 'equipment_quality', 'wheelbase', 'front_track', 'rear_track']"
   ]
  },
  {
   "cell_type": "code",
   "execution_count": 11,
   "metadata": {
    "collapsed": true
   },
   "outputs": [],
   "source": [
    "trainClass = get_classifer_features(trainClass, labels)\n",
    "trainClass = get_numerical_features(trainClass, num_labels)"
   ]
  },
  {
   "cell_type": "code",
   "execution_count": 13,
   "metadata": {
    "collapsed": true
   },
   "outputs": [],
   "source": [
    "trainClass.to_csv('../../raw/LiChuan/train_feature.csv', index=False)"
   ]
  }
 ],
 "metadata": {
  "kernelspec": {
   "display_name": "Python 3",
   "language": "python",
   "name": "python3"
  },
  "language_info": {
   "codemirror_mode": {
    "name": "ipython",
    "version": 3
   },
   "file_extension": ".py",
   "mimetype": "text/x-python",
   "name": "python",
   "nbconvert_exporter": "python",
   "pygments_lexer": "ipython3",
   "version": "3.6.3"
  },
  "toc": {
   "nav_menu": {},
   "number_sections": true,
   "sideBar": true,
   "skip_h1_title": false,
   "toc_cell": false,
   "toc_position": {},
   "toc_section_display": "block",
   "toc_window_display": false
  }
 },
 "nbformat": 4,
 "nbformat_minor": 2
}
