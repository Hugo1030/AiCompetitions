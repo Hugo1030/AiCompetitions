{
 "cells": [
  {
   "cell_type": "markdown",
   "metadata": {},
   "source": [
    "* 获取 12个月之前的数据, 为了得到同比\n",
    "* 获取去年同期的环比\n",
    "* XGBoost 加上同比数据, 模型效果提升很大, 已经接近 LGB 了\n",
    "* 将 LGB 训练轮数增加到 1200 , 看看单模型效果\n",
    "* XGBoost 训练数据减少了, 轮数有没有影响呢? 有影响, 从 4000 降到 3000\n",
    "* 去掉上月销量, 增加上两月销量"
   ]
  },
  {
   "cell_type": "code",
   "execution_count": 594,
   "metadata": {
    "collapsed": true
   },
   "outputs": [],
   "source": [
    "import numpy as np\n",
    "import matplotlib.pyplot as plt\n",
    "import seaborn as sns\n",
    "import pandas as pd\n",
    "import scipy as sp\n",
    "from sklearn.model_selection import train_test_split, cross_val_score, KFold\n",
    "import lightgbm as lgb\n",
    "import xgboost as xgb\n",
    "\n",
    "import warnings\n",
    "warnings.filterwarnings('ignore')\n",
    "%matplotlib inline"
   ]
  },
  {
   "cell_type": "code",
   "execution_count": 595,
   "metadata": {
    "collapsed": true
   },
   "outputs": [],
   "source": [
    "train = pd.read_csv('../../raw/LiChuan/trainallfeatures.csv')\n",
    "submit = pd.read_csv('../../raw/CarsSaleForecast/yancheng_testA_20171225.csv')"
   ]
  },
  {
   "cell_type": "code",
   "execution_count": 582,
   "metadata": {
    "collapsed": true
   },
   "outputs": [],
   "source": [
    "# test = train[-140:].reset_index(drop=True)\n",
    "# train = train[:-140].reset_index(drop=True)"
   ]
  },
  {
   "cell_type": "code",
   "execution_count": 583,
   "metadata": {
    "collapsed": true
   },
   "outputs": [],
   "source": [
    "# # 去掉 2012 年数据, 噪音太多\n",
    "# train = train[train['year']!=2012]"
   ]
  },
  {
   "cell_type": "code",
   "execution_count": 584,
   "metadata": {
    "collapsed": true
   },
   "outputs": [],
   "source": [
    "train['sale_date'] = train['year'] * 100 + train['month']\n",
    "train['sale_date'] = train['sale_date'].astype(int)\n",
    "train['sale_date'] = pd.to_datetime(train['sale_date'],format='%Y%m',errors = \"coerce\")\n",
    "train['sale_date'] = train['sale_date'].dt.to_period('m')"
   ]
  },
  {
   "cell_type": "code",
   "execution_count": 585,
   "metadata": {
    "collapsed": true
   },
   "outputs": [],
   "source": [
    "# 获取 12 月前的销量\n",
    "i = train['sale_date'][0]+11\n",
    "window = [i-11]\n",
    "traintmp = pd.DataFrame()\n",
    "for i in range(59):\n",
    "    trainSaletmp = train[train['sale_date'].isin(window)]\n",
    "    trainSaletmp = trainSaletmp.loc[:,['class_id','sale_quantity']]\n",
    "    trainSaletmp = trainSaletmp.groupby(['class_id']).agg(sum).sale_quantity.reset_index()\n",
    "    trainSaletmp['sale_date'] = window[0]+12\n",
    "    if i == 0:\n",
    "        traintmp = trainSaletmp\n",
    "    else:\n",
    "        traintmp = pd.concat([traintmp, trainSaletmp])\n",
    "    for j,k in enumerate(window):\n",
    "        window[j] = window[j] + 1"
   ]
  },
  {
   "cell_type": "code",
   "execution_count": 586,
   "metadata": {
    "collapsed": true
   },
   "outputs": [],
   "source": [
    "traintmp.rename(columns={'sale_quantity': 'sale_quantity_last_12M_ago'}, inplace=True)# 替换列名称\n",
    "train = pd.merge(train, traintmp, on=['class_id','sale_date'], how='left')\n",
    "# train = train[train['year'] != 2012]\n",
    "train['sale_quantity_last_12M_ago'].fillna(0, inplace=True)"
   ]
  },
  {
   "cell_type": "code",
   "execution_count": 587,
   "metadata": {
    "collapsed": true
   },
   "outputs": [],
   "source": [
    "# 得到销量同比/环比数据\n",
    "#train['year_relative_ratio'] = train['sale_quantity'] / train['sale_quantity_last_12M_ago']\n",
    "train['month_relative_ratio'] = train['sale_quantity'] / train['sale_quantity_this_last_month']\n",
    "\n",
    "train = train.replace([np.inf, -np.inf], np.nan) # 将 inf 转换成 nan\n",
    "#train['year_relative_ratio'].fillna(0, inplace=True)\n",
    "train['month_relative_ratio'].fillna(0, inplace=True)"
   ]
  },
  {
   "cell_type": "code",
   "execution_count": 588,
   "metadata": {
    "collapsed": true
   },
   "outputs": [],
   "source": [
    "# 获取 12 月前的环比数据\n",
    "i = train['sale_date'][0]+11\n",
    "window = [i-11]\n",
    "traintmp = pd.DataFrame()\n",
    "for i in range(59):\n",
    "    trainSaletmp = train[train['sale_date'].isin(window)]\n",
    "    trainSaletmp = trainSaletmp.loc[:,['class_id','month_relative_ratio']]\n",
    "    trainSaletmp = trainSaletmp.groupby(['class_id']).agg(sum).month_relative_ratio.reset_index()\n",
    "    trainSaletmp['sale_date'] = window[0]+12\n",
    "    if i == 0:\n",
    "        traintmp = trainSaletmp\n",
    "    else:\n",
    "        traintmp = pd.concat([traintmp, trainSaletmp])\n",
    "    for j,k in enumerate(window):\n",
    "        window[j] = window[j] + 1"
   ]
  },
  {
   "cell_type": "code",
   "execution_count": 589,
   "metadata": {
    "collapsed": true
   },
   "outputs": [],
   "source": [
    "traintmp.rename(columns={'month_relative_ratio': 'month_relative_ratio_12M_ago'}, inplace=True)# 替换列名称\n",
    "train = pd.merge(train, traintmp, on=['class_id','sale_date'], how='left')\n",
    "train = train[train['year'] != 2012]\n",
    "train['month_relative_ratio_12M_ago'].fillna(0, inplace=True)\n",
    "labels = train['sale_quantity']\n",
    "train = train.drop(['sale_date', 'class_id', 'sale_quantity', 'month_relative_ratio', 'month_relative_ratio_12M_ago'], axis=1)"
   ]
  },
  {
   "cell_type": "code",
   "execution_count": 590,
   "metadata": {
    "collapsed": true
   },
   "outputs": [],
   "source": [
    "train = train.drop(['month_relative_ratio'], axis=1)\n",
    "train.to_csv('../../raw/LiChuan/dataset.csv',index=False, header=True)  "
   ]
  },
  {
   "cell_type": "markdown",
   "metadata": {},
   "source": [
    "# 注意: 到这里就生成了 dataset"
   ]
  },
  {
   "cell_type": "code",
   "execution_count": 276,
   "metadata": {
    "collapsed": true
   },
   "outputs": [],
   "source": [
    "test = train[-140:].reset_index(drop=True)\n",
    "train = train[:-140].reset_index(drop=True)"
   ]
  },
  {
   "cell_type": "code",
   "execution_count": 175,
   "metadata": {
    "collapsed": true
   },
   "outputs": [],
   "source": [
    "labels = labels[:-140]"
   ]
  },
  {
   "cell_type": "code",
   "execution_count": 66,
   "metadata": {
    "collapsed": true
   },
   "outputs": [],
   "source": [
    "# labels = train['sale_quantity']\n",
    "# year_dummies = pd.get_dummies(train['year'], prefix='year')\n",
    "# month_dummies = pd.get_dummies(train['month'], prefix='month')\n",
    "# train = pd.concat([train, year_dummies], axis=1)\n",
    "# train = pd.concat([train, month_dummies], axis=1)\n",
    "# train = train.drop(['year', 'month'], axis=1)\n",
    "# train.fillna(0.0, inplace=True)\n",
    "# train = train.drop(['sale_date', 'class_id', 'sale_quantity'], axis=1)"
   ]
  },
  {
   "cell_type": "code",
   "execution_count": 67,
   "metadata": {
    "collapsed": true
   },
   "outputs": [],
   "source": [
    "# # 热力散点图\n",
    "# k = 20 #number of stdiables for heatmap\n",
    "# corrmat = train.corr()\n",
    "# cols = corrmat.nlargest(k, 'sale_quantity')['sale_quantity'].index\n",
    "# cm = np.corrcoef(train[cols].values.T)\n",
    "# sns.set(font_scale=1.25)\n",
    "# hm = sns.heatmap(cm, cbar=True, annot=True, square=True, fmt='.2f', annot_kws={'size': 14}, yticklabels=cols.values, xticklabels=cols.values)\n",
    "# fig = plt.gcf()\n",
    "# fig.set_size_inches(18, 15)\n",
    "# plt.xticks(fontsize=14)\n",
    "# plt.yticks(fontsize=14)\n",
    "# plt.show()"
   ]
  },
  {
   "cell_type": "code",
   "execution_count": 591,
   "metadata": {
    "collapsed": true
   },
   "outputs": [],
   "source": [
    "# 获取 2017-9 作为测试集\n",
    "x_test = train[-140:]\n",
    "y_test = labels[-140:]\n",
    "\n",
    "# 2013-01 至 2017-8 作为训练集\n",
    "train = train[:-140]\n",
    "labels = labels[:-140]"
   ]
  },
  {
   "cell_type": "code",
   "execution_count": 69,
   "metadata": {
    "collapsed": true
   },
   "outputs": [],
   "source": [
    "# 将销量大于 1000 的车型, 预测设为实际值\n",
    "# train['sale_quantity_this_last_month'][(train['sale_quantity'] > 1000)&(train['year']==2017)&(train['month']==10)] = train[(train['sale_quantity'] > 400)&(train['year']==2017)&(train['month']==10)]['sale_quantity']"
   ]
  },
  {
   "cell_type": "code",
   "execution_count": 133,
   "metadata": {
    "collapsed": true
   },
   "outputs": [],
   "source": [
    "predict_quantity = test['sale_quantity_this_last_month']"
   ]
  },
  {
   "cell_type": "code",
   "execution_count": 71,
   "metadata": {},
   "outputs": [
    {
     "ename": "NameError",
     "evalue": "name 'y_test' is not defined",
     "output_type": "error",
     "traceback": [
      "\u001b[0;31m---------------------------------------------------------------------------\u001b[0m",
      "\u001b[0;31mNameError\u001b[0m                                 Traceback (most recent call last)",
      "\u001b[0;32m<ipython-input-71-899ab61234ec>\u001b[0m in \u001b[0;36m<module>\u001b[0;34m()\u001b[0m\n\u001b[0;32m----> 1\u001b[0;31m \u001b[0msp\u001b[0m\u001b[0;34m.\u001b[0m\u001b[0msqrt\u001b[0m\u001b[0;34m(\u001b[0m\u001b[0msp\u001b[0m\u001b[0;34m.\u001b[0m\u001b[0mmean\u001b[0m\u001b[0;34m(\u001b[0m\u001b[0;34m(\u001b[0m\u001b[0my_test\u001b[0m \u001b[0;34m-\u001b[0m \u001b[0mpredict_quantity\u001b[0m\u001b[0;34m*\u001b[0m\u001b[0;36m0.94\u001b[0m\u001b[0;34m)\u001b[0m \u001b[0;34m**\u001b[0m \u001b[0;36m2\u001b[0m\u001b[0;34m)\u001b[0m\u001b[0;34m)\u001b[0m\u001b[0;34m\u001b[0m\u001b[0m\n\u001b[0m",
      "\u001b[0;31mNameError\u001b[0m: name 'y_test' is not defined"
     ]
    }
   ],
   "source": [
    "sp.sqrt(sp.mean((y_test - predict_quantity*0.94) ** 2))"
   ]
  },
  {
   "cell_type": "code",
   "execution_count": 17,
   "metadata": {
    "collapsed": true
   },
   "outputs": [],
   "source": [
    "#train['sale_date'] = train['sale_date'].astype(str) # 为了绘图下标正常"
   ]
  },
  {
   "cell_type": "markdown",
   "metadata": {},
   "source": [
    "## 测试环比均方根"
   ]
  },
  {
   "cell_type": "code",
   "execution_count": 12,
   "metadata": {
    "collapsed": true
   },
   "outputs": [],
   "source": [
    "# 对12个月前 环比 >2, <0.1 的离群点, 取1\n",
    "train.loc[ train['month_relative_ratio_12M_ago'] < 0.2, 'month_relative_ratio_12M_ago'] = 1\n",
    "train.loc[ train['month_relative_ratio_12M_ago'] > 1.5, 'month_relative_ratio_12M_ago'] = 1"
   ]
  },
  {
   "cell_type": "code",
   "execution_count": 203,
   "metadata": {
    "collapsed": true
   },
   "outputs": [],
   "source": [
    "last_month_quantity = train[(train['year']==2017)&(train['month']==9)]['sale_quantity'].values\n",
    "this_month_relative_ratio_12M_ago = train[(train['year']==2017)&(train['month']==10)]['month_relative_ratio_12M_ago'].values\n",
    "predict_quantity = last_month_quantity * this_month_relative_ratio_12M_ago"
   ]
  },
  {
   "cell_type": "code",
   "execution_count": 204,
   "metadata": {
    "collapsed": true
   },
   "outputs": [],
   "source": [
    "predict_quantity = train[(train['year']==2017)&(train['month']==9)]['sale_quantity'].values"
   ]
  },
  {
   "cell_type": "code",
   "execution_count": 205,
   "metadata": {
    "collapsed": true
   },
   "outputs": [],
   "source": [
    "labels = train[(train['year']==2017)&(train['month']==10)]['sale_quantity'].values"
   ]
  },
  {
   "cell_type": "code",
   "execution_count": 206,
   "metadata": {
    "scrolled": true
   },
   "outputs": [
    {
     "data": {
      "text/plain": [
       "141.00790251410936"
      ]
     },
     "execution_count": 206,
     "metadata": {},
     "output_type": "execute_result"
    }
   ],
   "source": [
    "sp.sqrt(sp.mean((labels - predict_quantity) ** 2))"
   ]
  },
  {
   "cell_type": "markdown",
   "metadata": {},
   "source": [
    "# 测试 LGBMRegressor"
   ]
  },
  {
   "cell_type": "code",
   "execution_count": 17,
   "metadata": {
    "collapsed": true
   },
   "outputs": [],
   "source": [
    "from sklearn.model_selection import train_test_split, cross_val_score, KFold\n",
    "import lightgbm as lgb"
   ]
  },
  {
   "cell_type": "code",
   "execution_count": 16,
   "metadata": {
    "collapsed": true
   },
   "outputs": [],
   "source": [
    "# 定义交叉验证函数\n",
    "n_folds = 5\n",
    "\n",
    "def rmsle_cv(model):\n",
    "    kf = KFold(n_folds, shuffle=True, random_state=42).get_n_splits(train.values)\n",
    "    rmse= np.sqrt(-cross_val_score(model, train.values, labels, scoring=\"neg_mean_squared_error\", cv = kf))\n",
    "    return(rmse)"
   ]
  },
  {
   "cell_type": "code",
   "execution_count": 17,
   "metadata": {
    "collapsed": true
   },
   "outputs": [],
   "source": [
    "model_lgb = lgb.LGBMRegressor(objective='regression', num_leaves=5,\n",
    "                              learning_rate=0.05, n_estimators=1100,\n",
    "                              max_bin=55, bagging_fraction=0.8,\n",
    "                              bagging_freq=5, feature_fraction=0.2319,\n",
    "                              feature_fraction_seed=9, bagging_seed=9,\n",
    "                              min_data_in_leaf=5, min_sum_hessian_in_leaf=11)"
   ]
  },
  {
   "cell_type": "code",
   "execution_count": 18,
   "metadata": {},
   "outputs": [
    {
     "name": "stdout",
     "output_type": "stream",
     "text": [
      "LGBM score: 186.3699 (54.8625)\n",
      "\n"
     ]
    }
   ],
   "source": [
    "score = rmsle_cv(model_lgb)\n",
    "print(\"LGBM score: {:.4f} ({:.4f})\\n\" .format(score.mean(), score.std()))"
   ]
  },
  {
   "cell_type": "code",
   "execution_count": 19,
   "metadata": {
    "collapsed": true
   },
   "outputs": [],
   "source": [
    "model_lgb.fit(train, labels)\n",
    "predict_lgb = model_lgb.predict(x_test)"
   ]
  },
  {
   "cell_type": "code",
   "execution_count": 33,
   "metadata": {
    "scrolled": false
   },
   "outputs": [
    {
     "data": {
      "text/plain": [
       "146.76104391491327"
      ]
     },
     "execution_count": 33,
     "metadata": {},
     "output_type": "execute_result"
    }
   ],
   "source": [
    "sp.sqrt(sp.mean((y_test - predict_lgb) ** 2))"
   ]
  },
  {
   "cell_type": "markdown",
   "metadata": {},
   "source": [
    "# 测试 LightGBM"
   ]
  },
  {
   "cell_type": "code",
   "execution_count": 23,
   "metadata": {},
   "outputs": [
    {
     "name": "stdout",
     "output_type": "stream",
     "text": [
      "This time rmse is: 269.582797518\n",
      "This time rmse is: 148.804900926\n",
      "This time rmse is: 175.677512375\n",
      "This time rmse is: 176.606081424\n",
      "This time rmse is: 186.613879593\n",
      "Mean rmse of these is:191.457034367\n"
     ]
    }
   ],
   "source": [
    "rmses = []\n",
    "for i in range(5):    \n",
    "    train_X,test_X, train_y, test_y = train_test_split(train,  \n",
    "                                                        labels,  \n",
    "                                                        test_size = 0.05)\n",
    "    \n",
    "    lgb_train = lgb.Dataset(train_X, train_y)\n",
    "    lgb_test = lgb.Dataset(test_X, test_y)\n",
    "    \n",
    "    params = {\n",
    "    'learning_rate': 0.002,\n",
    "    'boosting_type': 'gbdt',\n",
    "    'objective': 'regression',\n",
    "    'metric': 'rmse',\n",
    "    'sub_feature': 0.8,\n",
    "    'num_leaves': 31,\n",
    "    'min_data': 20,\n",
    "    'min_hessian': 1,\n",
    "    'verbose': -1,}\n",
    "    \n",
    "    gbm = lgb.train(params,lgb_train, 900)\n",
    "    pred = gbm.predict(test_X)\n",
    "    rmsetmp = sp.sqrt(sp.mean((test_y - pred) ** 2))\n",
    "    \n",
    "    print('This time rmse is: '+ str(rmsetmp))\n",
    "    rmses.append(rmsetmp)\n",
    "    \n",
    "def Get_Average(list):\n",
    "    sum = 0\n",
    "    for item in list:\n",
    "        sum += item\n",
    "    return sum/len(list)\n",
    "    \n",
    "print('Mean rmse of these is:' + str(Get_Average(rmses)))"
   ]
  },
  {
   "cell_type": "code",
   "execution_count": 156,
   "metadata": {
    "collapsed": true
   },
   "outputs": [],
   "source": [
    "lgb_train = lgb.Dataset(train, labels)\n",
    "#lgb_test = lgb.Dataset(x_test, y_test)\n",
    "\n",
    "params = {\n",
    "'learning_rate': 0.002,\n",
    "'boosting_type': 'gbdt',\n",
    "'objective': 'regression',\n",
    "'metric': 'rmse',\n",
    "'sub_feature': 0.8,\n",
    "'num_leaves': 35,\n",
    "'min_data': 20,\n",
    "'min_hessian': 1,\n",
    "'verbose': -1,}\n",
    "\n",
    "gbm = lgb.train(params,lgb_train,1200)\n",
    "pred = gbm.predict(test)\n",
    "# rmsetmp = sp.sqrt(sp.mean((y_test - pred) ** 2))\n",
    "\n",
    "# print('This time rmse is: '+ str(rmsetmp))"
   ]
  },
  {
   "cell_type": "code",
   "execution_count": 251,
   "metadata": {},
   "outputs": [
    {
     "name": "stdout",
     "output_type": "stream",
     "text": [
      "Features importance...\n",
      "                            feature       gain  split\n",
      "159       sale_quantity_last_3M_sum  28.443349    804\n",
      "171       sale_quantity_last_2M_sum  21.079405   1096\n",
      "144   sale_quantity_this_last_month  11.024515   3729\n",
      "162      sale_quantity_last_3M_mean   7.213076    165\n",
      "170    sale_quantity_last_6M_median   6.703637   1329\n",
      "161       sale_quantity_last_3M_min   5.641489   1181\n",
      "174      sale_quantity_last_2M_mean   4.282643    212\n",
      "183      sale_quantity_last_12M_ago   3.676951   2975\n",
      "116                           month   1.516750   5868\n",
      "164    sale_quantity_last_3M_median   1.513234   1230\n",
      "173       sale_quantity_last_2M_min   1.355348   1138\n",
      "177      sale_quantity_last_12M_sum   0.841415    552\n",
      "145  sale_quantity_total_last_month   0.706109   3345\n",
      "176    sale_quantity_last_2M_median   0.591425     31\n",
      "178      sale_quantity_last_12M_max   0.525624    545\n",
      "184    month_relative_ratio_12M_ago   0.480741   1755\n",
      "182   sale_quantity_last_12M_median   0.437038   1091\n",
      "160       sale_quantity_last_3M_max   0.408572    556\n",
      "172       sale_quantity_last_2M_max   0.384341    564\n",
      "103         how_many_month_has_sell   0.375767   1579\n",
      "146   sale_quantity_total_last_year   0.316320   1518\n",
      "181      sale_quantity_last_12M_std   0.313361    845\n",
      "166       sale_quantity_last_6M_max   0.247088    538\n",
      "180     sale_quantity_last_12M_mean   0.207826    112\n",
      "179      sale_quantity_last_12M_min   0.167646    450\n"
     ]
    },
    {
     "data": {
      "text/plain": [
       "<matplotlib.figure.Figure at 0x116b0ccf8>"
      ]
     },
     "metadata": {},
     "output_type": "display_data"
    },
    {
     "data": {
      "image/png": "[encoded data removed]",
      "text/plain": [
       "<matplotlib.figure.Figure at 0x116b1b898>"
      ]
     },
     "metadata": {},
     "output_type": "display_data"
    }
   ],
   "source": [
    "print(\"Features importance...\")\n",
    "gain = gbm.feature_importance('gain')\n",
    "ft = pd.DataFrame({'feature':gbm.feature_name(), 'split':gbm.feature_importance('split'), 'gain':100 * gain / gain.sum()}).sort_values('gain', ascending=False)\n",
    "print(ft.head(25))\n",
    "\n",
    "plt.figure()\n",
    "ft[['feature','gain']].head(20).plot(kind='barh', x='feature', y='gain', legend=False, figsize=(10, 20))\n",
    "plt.gcf().savefig('features_importance.png')"
   ]
  },
  {
   "cell_type": "code",
   "execution_count": 20,
   "metadata": {
    "collapsed": true
   },
   "outputs": [],
   "source": [
    "submit['predict_quantity'] = pred\n",
    "submit.to_csv('../../raw/LiChuan/result_20180221_lightGBM-monthrelative.csv',index=False, header=True)  "
   ]
  },
  {
   "cell_type": "markdown",
   "metadata": {},
   "source": [
    "# XGBoost 测试"
   ]
  },
  {
   "cell_type": "code",
   "execution_count": 176,
   "metadata": {
    "collapsed": true
   },
   "outputs": [],
   "source": [
    "import xgboost as xgb"
   ]
  },
  {
   "cell_type": "code",
   "execution_count": 22,
   "metadata": {},
   "outputs": [
    {
     "name": "stdout",
     "output_type": "stream",
     "text": [
      "This time rmse is: 185.195315362\n",
      "This time rmse is: 164.516406047\n",
      "This time rmse is: 194.623868657\n",
      "This time rmse is: 245.665422927\n",
      "This time rmse is: 186.070788161\n",
      "Mean rmse of these is:186.949001753\n"
     ]
    }
   ],
   "source": [
    "# # 原始版本参数 RMSE = 141, 2018年02月01日\n",
    "# rmses = []\n",
    "for i in range(5):    \n",
    "    train_X,test_X, train_y, test_y = train_test_split(train,  \n",
    "                                                        labels,  \n",
    "                                                        test_size = 0.05)\n",
    "    \n",
    "    trainset = xgb.DMatrix(train_X,label=train_y)\n",
    "    testset = xgb.DMatrix(test_X)\n",
    "    \n",
    "    params = {\n",
    "    'booster': 'gbtree', # 基于树的模型进行计算\n",
    "    'objective': 'reg:linear', # 线性回归\n",
    "    'eval_metric': 'rmse', # RMSE 评价函数\n",
    "    'gamma': 0.1, # 在树的叶子节点上进一步划分所需的最小损失减少。算法越大，越保守。\n",
    "    'min_child_weight': 1.1, # 孩子节点中最小的样本权重和。如果一个叶子节点的样本权重和小于min_child_weight则拆分过程结束。\n",
    "    'max_depth': 5, # 树的最大深度。缺省值为6\n",
    "    'lambda': 10, # L2 正则的惩罚系数\n",
    "    'subsample': 0.8, # 用于训练模型的子样本占整个样本集合的比例。\n",
    "    'colsample_bytree': 0.8, # 在建立树时对特征采样的比例。\n",
    "    'tree_method': 'exact' # 树的构造算法-Exact greedy algorithm(确切贪心算法)\n",
    "    }\n",
    "    \n",
    "    watchlist = [(trainset,'train')]\n",
    "    model = xgb.train(params, trainset, num_boost_round=4000)\n",
    "    predict_test_X = model.predict(testset)\n",
    "    rmsetmp = sp.sqrt(sp.mean((test_y - predict_test_X) ** 2))\n",
    "    \n",
    "    print('This time rmse is: '+ str(rmsetmp))\n",
    "    rmses.append(rmsetmp)\n",
    "    \n",
    "def Get_Average(list):\n",
    "    sum = 0\n",
    "    for item in list:\n",
    "        sum += item\n",
    "    return sum/len(list)\n",
    "    \n",
    "print('Mean rmse of these is:' + str(Get_Average(rmses)))"
   ]
  },
  {
   "cell_type": "code",
   "execution_count": 593,
   "metadata": {
    "scrolled": true
   },
   "outputs": [
    {
     "name": "stdout",
     "output_type": "stream",
     "text": [
      "This time rmse is: 149.645989418\n"
     ]
    }
   ],
   "source": [
    "trainset = xgb.DMatrix(train,label=labels)\n",
    "testset = xgb.DMatrix(x_test)\n",
    "\n",
    "params = {\n",
    "    'booster': 'gbtree', # 基于树的模型进行计算\n",
    "    'objective': 'reg:linear', # 线性回归\n",
    "    'eval_metric': 'rmse', # RMSE 评价函数\n",
    "    'gamma': 0.1, # 在树的叶子节点上进一步划分所需的最小损失减少。算法越大，越保守。\n",
    "    'min_child_weight': 1.1, # 孩子节点中最小的样本权重和。如果一个叶子节点的样本权重和小于min_child_weight则拆分过程结束。\n",
    "    'max_depth': 5, # 树的最大深度。缺省值为6\n",
    "    'lambda': 10, # L2 正则的惩罚系数\n",
    "    'subsample': 0.8, # 用于训练模型的子样本占整个样本集合的比例。\n",
    "    'colsample_bytree': 0.8, # 在建立树时对特征采样的比例。\n",
    "    'tree_method': 'exact' # 树的构造算法-Exact greedy algorithm(确切贪心算法)\n",
    "    }\n",
    "    \n",
    "watchlist = [(trainset,'train')]\n",
    "model = xgb.train(params, trainset, num_boost_round=4000)\n",
    "predict_xgb = model.predict(testset)\n",
    "rmsetmp = sp.sqrt(sp.mean((y_test - predict_xgb) ** 2))\n",
    "\n",
    "print('This time rmse is: '+ str(rmsetmp))"
   ]
  },
  {
   "cell_type": "code",
   "execution_count": null,
   "metadata": {
    "collapsed": true
   },
   "outputs": [],
   "source": [
    "9月 121/ 10 月 149"
   ]
  },
  {
   "cell_type": "markdown",
   "metadata": {},
   "source": [
    "- 只加同比\n",
    "    * 2017-09 测试\n",
    "        * round 4000 121.02\n",
    "        * round 3500 121.02\n",
    "        * round 3000 120.99 最佳\n",
    "        * round 2500 121.06\n",
    "        * round 2900 121.00\n",
    "    * 2017-08 测试\n",
    "        * round 3000 123.95\n",
    "        * round 2800 123.94\n",
    "    * 2017-10 测试\n",
    "        * round 3000 127.92\n",
    "        * round 3100 127.95\n",
    "- 加上环比(不能加)\n",
    "    * 2017-10 测试\n",
    "        * round 3100 144.26\n",
    "- 去掉上月销量, 增加前2月销量\n",
    "    * 2017-10 测试\n",
    "        * round 3000 127.96\n",
    "    * 2017-09 测试\n",
    "        * round 3000 187.78\n",
    "    * 2017-08 测试\n",
    "        * round 3000 145.76"
   ]
  },
  {
   "cell_type": "code",
   "execution_count": 303,
   "metadata": {},
   "outputs": [
    {
     "data": {
      "text/plain": [
       "124.28666666666668"
      ]
     },
     "execution_count": 303,
     "metadata": {},
     "output_type": "execute_result"
    }
   ],
   "source": [
    "(120.99 + 123.95 + 127.92)/3"
   ]
  },
  {
   "cell_type": "code",
   "execution_count": 147,
   "metadata": {},
   "outputs": [
    {
     "data": {
      "text/plain": [
       "84.722242305562389"
      ]
     },
     "execution_count": 147,
     "metadata": {},
     "output_type": "execute_result"
    }
   ],
   "source": [
    "sp.sqrt(sp.mean((predict_lstm - predict_quantity*1.1) ** 2))"
   ]
  },
  {
   "cell_type": "code",
   "execution_count": 79,
   "metadata": {
    "collapsed": true
   },
   "outputs": [],
   "source": [
    "submit['predict_quantity'] = predict_xgb\n",
    "submit.to_csv('../../raw/LiChuan/result_20180221_xgboost-monthrelative.csv',index=False, header=True)  "
   ]
  },
  {
   "cell_type": "code",
   "execution_count": 21,
   "metadata": {},
   "outputs": [
    {
     "data": {
      "text/plain": [
       "126.69942398400659"
      ]
     },
     "execution_count": 21,
     "metadata": {},
     "output_type": "execute_result"
    }
   ],
   "source": [
    "sp.sqrt(sp.mean((y_test - predict_xgb*0.5 - predict_quantity*0.94*0.5) ** 2))"
   ]
  },
  {
   "cell_type": "code",
   "execution_count": 22,
   "metadata": {},
   "outputs": [
    {
     "data": {
      "text/plain": [
       "122.54222306698628"
      ]
     },
     "execution_count": 22,
     "metadata": {},
     "output_type": "execute_result"
    }
   ],
   "source": [
    "sp.sqrt(sp.mean((y_test - predict_quantity*0.94*0.4 - predict_xgb*0.2 - pred*0.4) ** 2))"
   ]
  },
  {
   "cell_type": "code",
   "execution_count": 74,
   "metadata": {
    "collapsed": true
   },
   "outputs": [],
   "source": [
    "xgb = pd.read_csv('../../raw/Submissions/result_20180202_2.csv')\n",
    "predict_xgb = xgb['predict_quantity']"
   ]
  },
  {
   "cell_type": "code",
   "execution_count": 75,
   "metadata": {
    "collapsed": true
   },
   "outputs": [],
   "source": [
    "lstm = pd.read_csv('../../raw/Submissions/result_20180221_lstm.csv')\n",
    "predict_lstm = lstm['predict_quantity']"
   ]
  },
  {
   "cell_type": "code",
   "execution_count": 528,
   "metadata": {},
   "outputs": [
    {
     "data": {
      "text/plain": [
       "<matplotlib.axes._subplots.AxesSubplot at 0x1161bfcf8>"
      ]
     },
     "execution_count": 528,
     "metadata": {},
     "output_type": "execute_result"
    },
    {
     "data": {
      "image/png": "[encoded data removed]",
      "text/plain": [
       "<matplotlib.figure.Figure at 0x114a8c748>"
      ]
     },
     "metadata": {},
     "output_type": "display_data"
    }
   ],
   "source": [
    "# 分析重要性\n",
    "fig, ax = plt.subplots(1, 1, figsize=(8, 13))\n",
    "xgb.plot_importance(model, max_num_features=20, height=0.5, ax=ax)"
   ]
  },
  {
   "cell_type": "markdown",
   "metadata": {},
   "source": [
    "## 0221 测试数据"
   ]
  },
  {
   "cell_type": "code",
   "execution_count": null,
   "metadata": {
    "collapsed": true
   },
   "outputs": [],
   "source": [
    "predictions = predict_xgb*0.3 + predict_quantity*1.1*0.4 + pred*0.3"
   ]
  },
  {
   "cell_type": "code",
   "execution_count": 148,
   "metadata": {
    "collapsed": true
   },
   "outputs": [],
   "source": [
    "predictions2 = predict_xgb*0.25 + predict_quantity*1.1*0.25 + pred*0.25 + predict_lstm*0.25"
   ]
  },
  {
   "cell_type": "code",
   "execution_count": 130,
   "metadata": {
    "collapsed": true
   },
   "outputs": [],
   "source": [
    "submit['predict_quantity'] = predictions\n",
    "submit.to_csv('../../raw/LiChuan/result_20180221_xgb*0.3_base*1.1*0.4_lightGBM*0.3.csv',index=False, header=True)  "
   ]
  },
  {
   "cell_type": "code",
   "execution_count": 149,
   "metadata": {
    "collapsed": true
   },
   "outputs": [],
   "source": [
    "submit['predict_quantity'] = predictions2\n",
    "submit.to_csv('../../raw/LiChuan/result_20180221_xgb*0.25_base*1.1*0.25_lightGBM*0.25_lstm*0.25.csv',index=False, header=True)  "
   ]
  },
  {
   "cell_type": "markdown",
   "metadata": {},
   "source": [
    "## 0222 测试数据"
   ]
  },
  {
   "cell_type": "code",
   "execution_count": 159,
   "metadata": {
    "collapsed": true
   },
   "outputs": [],
   "source": [
    "predictions = predict_quantity*1.1*0.56 + pred*0.44"
   ]
  },
  {
   "cell_type": "code",
   "execution_count": 257,
   "metadata": {
    "collapsed": true
   },
   "outputs": [],
   "source": [
    "predictions2 = pred"
   ]
  },
  {
   "cell_type": "code",
   "execution_count": 161,
   "metadata": {
    "collapsed": true
   },
   "outputs": [],
   "source": [
    "submit['predict_quantity'] = predictions\n",
    "submit.to_csv('../../raw/LiChuan/result_180222_base*0.56_lightGBM*0.44.csv',index=False, header=True)  "
   ]
  },
  {
   "cell_type": "code",
   "execution_count": 258,
   "metadata": {
    "collapsed": true
   },
   "outputs": [],
   "source": [
    "submit['predict_quantity'] = predictions2\n",
    "submit.to_csv('../../raw/LiChuan/result_180223_lightGBM.csv',index=False, header=True)  "
   ]
  },
  {
   "cell_type": "code",
   "execution_count": 135,
   "metadata": {},
   "outputs": [
    {
     "name": "stdout",
     "output_type": "stream",
     "text": [
      "101.61270123 84.7222423056 78.1862653158\n"
     ]
    }
   ],
   "source": [
    "rmse_1 = sp.sqrt(sp.mean((predict_quantity*1.1 - pred) ** 2))\n",
    "\n",
    "rmse_2 = sp.sqrt(sp.mean((predict_quantity*1.1 - predict_lstm) ** 2))\n",
    "\n",
    "rmse_3 = sp.sqrt(sp.mean((predict_quantity*1.1 - predict_xgb) ** 2))\n",
    "\n",
    "print(rmse_1, rmse_2, rmse_3)"
   ]
  },
  {
   "cell_type": "code",
   "execution_count": 144,
   "metadata": {
    "scrolled": true
   },
   "outputs": [
    {
     "name": "stdout",
     "output_type": "stream",
     "text": [
      "100.761110332 101.226513657 81.5441171936\n"
     ]
    }
   ],
   "source": [
    "rmse_1 = sp.sqrt(sp.mean((predict_quantity*1.1 - pred) ** 2))\n",
    "\n",
    "rmse_2 = sp.sqrt(sp.mean((pred - predict_lstm) ** 2))\n",
    "\n",
    "rmse_3 = sp.sqrt(sp.mean((pred - predict_xgb) ** 2))\n",
    "\n",
    "print(rmse_1, rmse_2, rmse_3)"
   ]
  },
  {
   "cell_type": "markdown",
   "metadata": {},
   "source": [
    "99.5391294824 95.7129748838 78.9288837102"
   ]
  },
  {
   "cell_type": "markdown",
   "metadata": {},
   "source": [
    "101.61270123 94.0858585533 79.7309932661"
   ]
  },
  {
   "cell_type": "markdown",
   "metadata": {},
   "source": [
    "105.258803606 86.2601049527 81.2259375051"
   ]
  },
  {
   "cell_type": "code",
   "execution_count": 80,
   "metadata": {},
   "outputs": [
    {
     "name": "stdout",
     "output_type": "stream",
     "text": [
      "84.7222423056 86.2601049527 88.742383265\n"
     ]
    }
   ],
   "source": [
    "rmse_1 = sp.sqrt(sp.mean((predict_quantity*1.1 - predict_lstm) ** 2))\n",
    "\n",
    "rmse_2 = sp.sqrt(sp.mean((pred - predict_lstm) ** 2))\n",
    "\n",
    "rmse_3 = sp.sqrt(sp.mean((predict_lstm - predict_xgb) ** 2))\n",
    "\n",
    "print(rmse_1, rmse_2, rmse_3)"
   ]
  },
  {
   "cell_type": "code",
   "execution_count": 81,
   "metadata": {},
   "outputs": [
    {
     "name": "stdout",
     "output_type": "stream",
     "text": [
      "78.1862653158 81.2259375051 88.742383265\n"
     ]
    }
   ],
   "source": [
    "rmse_1 = sp.sqrt(sp.mean((predict_quantity*1.1 - predict_xgb) ** 2))\n",
    "\n",
    "rmse_2 = sp.sqrt(sp.mean((pred - predict_xgb) ** 2))\n",
    "\n",
    "rmse_3 = sp.sqrt(sp.mean((predict_lstm - predict_xgb) ** 2))\n",
    "\n",
    "print(rmse_1, rmse_2, rmse_3)"
   ]
  },
  {
   "cell_type": "markdown",
   "metadata": {},
   "source": [
    "## 测试销售 36 个月以上的均方根"
   ]
  },
  {
   "cell_type": "markdown",
   "metadata": {},
   "source": [
    "### 直接用上个月销量乘以系数测试"
   ]
  },
  {
   "cell_type": "code",
   "execution_count": 14,
   "metadata": {
    "collapsed": true,
    "scrolled": false
   },
   "outputs": [],
   "source": [
    "labels = train[(train['how_many_month_has_sell'] > 48)&(train['year']==2017)&(train['month']==10)]['sale_quantity'].values"
   ]
  },
  {
   "cell_type": "code",
   "execution_count": 15,
   "metadata": {
    "collapsed": true
   },
   "outputs": [],
   "source": [
    "predict_quantity = train[(train['how_many_month_has_sell'] > 48)&(train['year']==2017)&(train['month']==10)]['sale_quantity_this_last_month'].values"
   ]
  },
  {
   "cell_type": "code",
   "execution_count": 16,
   "metadata": {
    "collapsed": true
   },
   "outputs": [],
   "source": [
    "last_month_quantity = train[(train['how_many_month_has_sell'] > 48)&(train['year']==2017)&(train['month']==10)]['sale_quantity_this_last_month'].values\n",
    "this_month_relative_ratio_12M_ago = train[(train['how_many_month_has_sell'] > 48)&(train['year']==2017)&(train['month']==10)]['month_relative_ratio_12M_ago'].values\n",
    "predict_quantity = last_month_quantity * this_month_relative_ratio_12M_ago"
   ]
  },
  {
   "cell_type": "code",
   "execution_count": 23,
   "metadata": {},
   "outputs": [
    {
     "data": {
      "text/plain": [
       "array([ -24.53441296,   -9.36842105,   35.975     ,   63.95907473,\n",
       "        -52.18050542,  272.85152838,   79.925     ,    1.1291866 ,\n",
       "        -53.90265487, -267.0805336 , -411.40060976,  291.52053274,\n",
       "          7.        ,  111.58730159,  -86.79351351, -531.89829129,\n",
       "        191.        ,   70.96551724,   59.        ,  174.46443515,\n",
       "        182.48387097,   51.44915254,   86.90168539, -111.552     ,\n",
       "         27.57655039, -116.50537634,   46.85308057, -109.63636364,\n",
       "        -34.79775281,   68.95588235,  163.57627119,  293.60649819,\n",
       "       -124.88865711,  127.71561772,   22.        ,  103.20689655,\n",
       "        -18.63636364,   29.62318841,  266.60416667,   25.38151659,\n",
       "         47.22617124,   45.        ,    2.71976967, -783.83358321,\n",
       "         -2.28571429,  -23.        ,   58.68376068, -184.26184539,\n",
       "        -45.65289256,   69.25925926,   10.55319149,  160.49411765,\n",
       "         21.56029685,  147.        ,   -4.47058824])"
      ]
     },
     "execution_count": 23,
     "metadata": {},
     "output_type": "execute_result"
    }
   ],
   "source": [
    "predict_quantity - labels"
   ]
  },
  {
   "cell_type": "code",
   "execution_count": 18,
   "metadata": {
    "collapsed": true
   },
   "outputs": [],
   "source": [
    "predict_quantity = predict_quantity"
   ]
  },
  {
   "cell_type": "code",
   "execution_count": 19,
   "metadata": {},
   "outputs": [
    {
     "data": {
      "text/plain": [
       "182.27534042671317"
      ]
     },
     "execution_count": 19,
     "metadata": {},
     "output_type": "execute_result"
    }
   ],
   "source": [
    "sp.sqrt(sp.mean((labels - predict_quantity) ** 2))"
   ]
  },
  {
   "cell_type": "code",
   "execution_count": 24,
   "metadata": {},
   "outputs": [
    {
     "data": {
      "text/plain": [
       "array([  131.46558704,   152.63157895,   183.975     ,   154.95907473,\n",
       "         207.81949458,   601.85152838,   284.925     ,   321.1291866 ,\n",
       "         319.09734513,  1918.9194664 ,   529.59939024,   751.52053274,\n",
       "         140.        ,   876.58730159,  1588.20648649,  1316.10170871,\n",
       "         381.        ,   216.96551724,   143.        ,   351.46443515,\n",
       "         336.48387097,   155.44915254,   260.90168539,   296.448     ,\n",
       "         167.57655039,   297.49462366,   372.85308057,   636.36363636,\n",
       "         188.20224719,   349.95588235,   355.57627119,   724.60649819,\n",
       "        1887.11134289,   221.71561772,   276.        ,   586.20689655,\n",
       "          54.36363636,   109.62318841,   470.60416667,   667.38151659,\n",
       "         899.22617124,    95.        ,   106.71976967,  2114.16641679,\n",
       "         180.71428571,   214.        ,   138.68376068,   206.73815461,\n",
       "          42.34710744,   224.25925926,   149.55319149,   322.49411765,\n",
       "        1083.56029685,   623.        ,    70.52941176])"
      ]
     },
     "execution_count": 24,
     "metadata": {},
     "output_type": "execute_result"
    }
   ],
   "source": [
    "predict_quantity"
   ]
  },
  {
   "cell_type": "code",
   "execution_count": 21,
   "metadata": {},
   "outputs": [
    {
     "data": {
      "text/plain": [
       "array([  156.,   162.,   148.,    91.,   260.,   329.,   205.,   320.,\n",
       "         373.,  2186.,   941.,   460.,   133.,   765.,  1675.,  1848.,\n",
       "         190.,   146.,    84.,   177.,   154.,   104.,   174.,   408.,\n",
       "         140.,   414.,   326.,   746.,   223.,   281.,   192.,   431.,\n",
       "        2012.,    94.,   254.,   483.,    73.,    80.,   204.,   642.,\n",
       "         852.,    50.,   104.,  2898.,   183.,   237.,    80.,   391.,\n",
       "          88.,   155.,   139.,   162.,  1062.,   476.,    75.])"
      ]
     },
     "execution_count": 21,
     "metadata": {},
     "output_type": "execute_result"
    }
   ],
   "source": [
    "labels"
   ]
  },
  {
   "cell_type": "markdown",
   "metadata": {},
   "source": [
    "- 1 年 以内 83\n",
    "- 1 年 - 2 年 114\n",
    "- 2 年 - 3 年 124\n",
    "- 3 年 - 4 年 78\n",
    "- 4 年 以上 187"
   ]
  },
  {
   "cell_type": "code",
   "execution_count": 22,
   "metadata": {},
   "outputs": [
    {
     "data": {
      "text/html": [
       "<div>\n",
       "<style>\n",
       "    .dataframe thead tr:only-child th {\n",
       "        text-align: right;\n",
       "    }\n",
       "\n",
       "    .dataframe thead th {\n",
       "        text-align: left;\n",
       "    }\n",
       "\n",
       "    .dataframe tbody tr th {\n",
       "        vertical-align: top;\n",
       "    }\n",
       "</style>\n",
       "<table border=\"1\" class=\"dataframe\">\n",
       "  <thead>\n",
       "    <tr style=\"text-align: right;\">\n",
       "      <th></th>\n",
       "      <th>how_many_month_has_sell</th>\n",
       "      <th>class_id</th>\n",
       "      <th>sale_date</th>\n",
       "      <th>sale_quantity</th>\n",
       "      <th>sale_quantity_this_last_month</th>\n",
       "      <th>year</th>\n",
       "      <th>month</th>\n",
       "      <th>sale_quantity_last_12M_ago</th>\n",
       "      <th>year_relative_ratio</th>\n",
       "      <th>month_relative_ratio</th>\n",
       "      <th>month_relative_ratio_12M_ago</th>\n",
       "    </tr>\n",
       "  </thead>\n",
       "  <tbody>\n",
       "    <tr>\n",
       "      <th>9660</th>\n",
       "      <td>70.0</td>\n",
       "      <td>125403</td>\n",
       "      <td>2017-10</td>\n",
       "      <td>156.0</td>\n",
       "      <td>328.0</td>\n",
       "      <td>2017.0</td>\n",
       "      <td>10.0</td>\n",
       "      <td>99.0</td>\n",
       "      <td>1.575758</td>\n",
       "      <td>0.475610</td>\n",
       "      <td>0.400810</td>\n",
       "    </tr>\n",
       "    <tr>\n",
       "      <th>9661</th>\n",
       "      <td>70.0</td>\n",
       "      <td>136916</td>\n",
       "      <td>2017-10</td>\n",
       "      <td>162.0</td>\n",
       "      <td>145.0</td>\n",
       "      <td>2017.0</td>\n",
       "      <td>10.0</td>\n",
       "      <td>180.0</td>\n",
       "      <td>0.900000</td>\n",
       "      <td>1.117241</td>\n",
       "      <td>1.052632</td>\n",
       "    </tr>\n",
       "    <tr>\n",
       "      <th>9662</th>\n",
       "      <td>70.0</td>\n",
       "      <td>178529</td>\n",
       "      <td>2017-10</td>\n",
       "      <td>148.0</td>\n",
       "      <td>165.0</td>\n",
       "      <td>2017.0</td>\n",
       "      <td>10.0</td>\n",
       "      <td>223.0</td>\n",
       "      <td>0.663677</td>\n",
       "      <td>0.896970</td>\n",
       "      <td>1.115000</td>\n",
       "    </tr>\n",
       "    <tr>\n",
       "      <th>9665</th>\n",
       "      <td>70.0</td>\n",
       "      <td>209945</td>\n",
       "      <td>2017-10</td>\n",
       "      <td>91.0</td>\n",
       "      <td>273.0</td>\n",
       "      <td>2017.0</td>\n",
       "      <td>10.0</td>\n",
       "      <td>319.0</td>\n",
       "      <td>0.285266</td>\n",
       "      <td>0.333333</td>\n",
       "      <td>0.567616</td>\n",
       "    </tr>\n",
       "    <tr>\n",
       "      <th>9666</th>\n",
       "      <td>70.0</td>\n",
       "      <td>248352</td>\n",
       "      <td>2017-10</td>\n",
       "      <td>260.0</td>\n",
       "      <td>269.0</td>\n",
       "      <td>2017.0</td>\n",
       "      <td>10.0</td>\n",
       "      <td>428.0</td>\n",
       "      <td>0.607477</td>\n",
       "      <td>0.966543</td>\n",
       "      <td>0.772563</td>\n",
       "    </tr>\n",
       "    <tr>\n",
       "      <th>9667</th>\n",
       "      <td>70.0</td>\n",
       "      <td>281301</td>\n",
       "      <td>2017-10</td>\n",
       "      <td>329.0</td>\n",
       "      <td>584.0</td>\n",
       "      <td>2017.0</td>\n",
       "      <td>10.0</td>\n",
       "      <td>708.0</td>\n",
       "      <td>0.464689</td>\n",
       "      <td>0.563356</td>\n",
       "      <td>1.030568</td>\n",
       "    </tr>\n",
       "    <tr>\n",
       "      <th>9668</th>\n",
       "      <td>70.0</td>\n",
       "      <td>290854</td>\n",
       "      <td>2017-10</td>\n",
       "      <td>205.0</td>\n",
       "      <td>393.0</td>\n",
       "      <td>2017.0</td>\n",
       "      <td>10.0</td>\n",
       "      <td>232.0</td>\n",
       "      <td>0.883621</td>\n",
       "      <td>0.521628</td>\n",
       "      <td>0.725000</td>\n",
       "    </tr>\n",
       "    <tr>\n",
       "      <th>9669</th>\n",
       "      <td>70.0</td>\n",
       "      <td>291086</td>\n",
       "      <td>2017-10</td>\n",
       "      <td>320.0</td>\n",
       "      <td>376.0</td>\n",
       "      <td>2017.0</td>\n",
       "      <td>10.0</td>\n",
       "      <td>714.0</td>\n",
       "      <td>0.448179</td>\n",
       "      <td>0.851064</td>\n",
       "      <td>0.854067</td>\n",
       "    </tr>\n",
       "    <tr>\n",
       "      <th>9670</th>\n",
       "      <td>70.0</td>\n",
       "      <td>304458</td>\n",
       "      <td>2017-10</td>\n",
       "      <td>373.0</td>\n",
       "      <td>605.0</td>\n",
       "      <td>2017.0</td>\n",
       "      <td>10.0</td>\n",
       "      <td>298.0</td>\n",
       "      <td>1.251678</td>\n",
       "      <td>0.616529</td>\n",
       "      <td>0.527434</td>\n",
       "    </tr>\n",
       "    <tr>\n",
       "      <th>9671</th>\n",
       "      <td>70.0</td>\n",
       "      <td>321683</td>\n",
       "      <td>2017-10</td>\n",
       "      <td>2186.0</td>\n",
       "      <td>2067.0</td>\n",
       "      <td>2017.0</td>\n",
       "      <td>10.0</td>\n",
       "      <td>1879.0</td>\n",
       "      <td>1.163385</td>\n",
       "      <td>1.057571</td>\n",
       "      <td>0.928360</td>\n",
       "    </tr>\n",
       "    <tr>\n",
       "      <th>9672</th>\n",
       "      <td>70.0</td>\n",
       "      <td>349023</td>\n",
       "      <td>2017-10</td>\n",
       "      <td>941.0</td>\n",
       "      <td>941.0</td>\n",
       "      <td>2017.0</td>\n",
       "      <td>10.0</td>\n",
       "      <td>923.0</td>\n",
       "      <td>1.019502</td>\n",
       "      <td>1.000000</td>\n",
       "      <td>0.562805</td>\n",
       "    </tr>\n",
       "    <tr>\n",
       "      <th>9673</th>\n",
       "      <td>70.0</td>\n",
       "      <td>354068</td>\n",
       "      <td>2017-10</td>\n",
       "      <td>460.0</td>\n",
       "      <td>920.0</td>\n",
       "      <td>2017.0</td>\n",
       "      <td>10.0</td>\n",
       "      <td>736.0</td>\n",
       "      <td>0.625000</td>\n",
       "      <td>0.500000</td>\n",
       "      <td>0.816870</td>\n",
       "    </tr>\n",
       "    <tr>\n",
       "      <th>9674</th>\n",
       "      <td>70.0</td>\n",
       "      <td>379876</td>\n",
       "      <td>2017-10</td>\n",
       "      <td>133.0</td>\n",
       "      <td>140.0</td>\n",
       "      <td>2017.0</td>\n",
       "      <td>10.0</td>\n",
       "      <td>252.0</td>\n",
       "      <td>0.527778</td>\n",
       "      <td>0.950000</td>\n",
       "      <td>1.000000</td>\n",
       "    </tr>\n",
       "    <tr>\n",
       "      <th>9675</th>\n",
       "      <td>70.0</td>\n",
       "      <td>384924</td>\n",
       "      <td>2017-10</td>\n",
       "      <td>765.0</td>\n",
       "      <td>705.0</td>\n",
       "      <td>2017.0</td>\n",
       "      <td>10.0</td>\n",
       "      <td>470.0</td>\n",
       "      <td>1.627660</td>\n",
       "      <td>1.085106</td>\n",
       "      <td>1.243386</td>\n",
       "    </tr>\n",
       "    <tr>\n",
       "      <th>9677</th>\n",
       "      <td>70.0</td>\n",
       "      <td>409854</td>\n",
       "      <td>2017-10</td>\n",
       "      <td>1675.0</td>\n",
       "      <td>1807.0</td>\n",
       "      <td>2017.0</td>\n",
       "      <td>10.0</td>\n",
       "      <td>1626.0</td>\n",
       "      <td>1.030135</td>\n",
       "      <td>0.926951</td>\n",
       "      <td>0.878919</td>\n",
       "    </tr>\n",
       "    <tr>\n",
       "      <th>9678</th>\n",
       "      <td>70.0</td>\n",
       "      <td>425432</td>\n",
       "      <td>2017-10</td>\n",
       "      <td>1848.0</td>\n",
       "      <td>1539.0</td>\n",
       "      <td>2017.0</td>\n",
       "      <td>10.0</td>\n",
       "      <td>2102.0</td>\n",
       "      <td>0.879163</td>\n",
       "      <td>1.200780</td>\n",
       "      <td>0.855167</td>\n",
       "    </tr>\n",
       "    <tr>\n",
       "      <th>9679</th>\n",
       "      <td>64.0</td>\n",
       "      <td>453752</td>\n",
       "      <td>2017-10</td>\n",
       "      <td>190.0</td>\n",
       "      <td>381.0</td>\n",
       "      <td>2017.0</td>\n",
       "      <td>10.0</td>\n",
       "      <td>210.0</td>\n",
       "      <td>0.904762</td>\n",
       "      <td>0.498688</td>\n",
       "      <td>1.000000</td>\n",
       "    </tr>\n",
       "    <tr>\n",
       "      <th>9680</th>\n",
       "      <td>70.0</td>\n",
       "      <td>468392</td>\n",
       "      <td>2017-10</td>\n",
       "      <td>146.0</td>\n",
       "      <td>242.0</td>\n",
       "      <td>2017.0</td>\n",
       "      <td>10.0</td>\n",
       "      <td>286.0</td>\n",
       "      <td>0.510490</td>\n",
       "      <td>0.603306</td>\n",
       "      <td>0.896552</td>\n",
       "    </tr>\n",
       "    <tr>\n",
       "      <th>9681</th>\n",
       "      <td>70.0</td>\n",
       "      <td>472603</td>\n",
       "      <td>2017-10</td>\n",
       "      <td>84.0</td>\n",
       "      <td>143.0</td>\n",
       "      <td>2017.0</td>\n",
       "      <td>10.0</td>\n",
       "      <td>269.0</td>\n",
       "      <td>0.312268</td>\n",
       "      <td>0.587413</td>\n",
       "      <td>1.000000</td>\n",
       "    </tr>\n",
       "    <tr>\n",
       "      <th>9682</th>\n",
       "      <td>70.0</td>\n",
       "      <td>482497</td>\n",
       "      <td>2017-10</td>\n",
       "      <td>177.0</td>\n",
       "      <td>336.0</td>\n",
       "      <td>2017.0</td>\n",
       "      <td>10.0</td>\n",
       "      <td>250.0</td>\n",
       "      <td>0.708000</td>\n",
       "      <td>0.526786</td>\n",
       "      <td>1.046025</td>\n",
       "    </tr>\n",
       "    <tr>\n",
       "      <th>9683</th>\n",
       "      <td>70.0</td>\n",
       "      <td>527809</td>\n",
       "      <td>2017-10</td>\n",
       "      <td>154.0</td>\n",
       "      <td>305.0</td>\n",
       "      <td>2017.0</td>\n",
       "      <td>10.0</td>\n",
       "      <td>171.0</td>\n",
       "      <td>0.900585</td>\n",
       "      <td>0.504918</td>\n",
       "      <td>1.103226</td>\n",
       "    </tr>\n",
       "    <tr>\n",
       "      <th>9684</th>\n",
       "      <td>70.0</td>\n",
       "      <td>559132</td>\n",
       "      <td>2017-10</td>\n",
       "      <td>104.0</td>\n",
       "      <td>221.0</td>\n",
       "      <td>2017.0</td>\n",
       "      <td>10.0</td>\n",
       "      <td>83.0</td>\n",
       "      <td>1.253012</td>\n",
       "      <td>0.470588</td>\n",
       "      <td>0.703390</td>\n",
       "    </tr>\n",
       "    <tr>\n",
       "      <th>9685</th>\n",
       "      <td>70.0</td>\n",
       "      <td>576298</td>\n",
       "      <td>2017-10</td>\n",
       "      <td>174.0</td>\n",
       "      <td>293.0</td>\n",
       "      <td>2017.0</td>\n",
       "      <td>10.0</td>\n",
       "      <td>317.0</td>\n",
       "      <td>0.548896</td>\n",
       "      <td>0.593857</td>\n",
       "      <td>0.890449</td>\n",
       "    </tr>\n",
       "    <tr>\n",
       "      <th>9686</th>\n",
       "      <td>70.0</td>\n",
       "      <td>580470</td>\n",
       "      <td>2017-10</td>\n",
       "      <td>408.0</td>\n",
       "      <td>384.0</td>\n",
       "      <td>2017.0</td>\n",
       "      <td>10.0</td>\n",
       "      <td>579.0</td>\n",
       "      <td>0.704663</td>\n",
       "      <td>1.062500</td>\n",
       "      <td>0.772000</td>\n",
       "    </tr>\n",
       "    <tr>\n",
       "      <th>9688</th>\n",
       "      <td>70.0</td>\n",
       "      <td>597927</td>\n",
       "      <td>2017-10</td>\n",
       "      <td>140.0</td>\n",
       "      <td>251.0</td>\n",
       "      <td>2017.0</td>\n",
       "      <td>10.0</td>\n",
       "      <td>689.0</td>\n",
       "      <td>0.203193</td>\n",
       "      <td>0.557769</td>\n",
       "      <td>0.667636</td>\n",
       "    </tr>\n",
       "    <tr>\n",
       "      <th>9689</th>\n",
       "      <td>70.0</td>\n",
       "      <td>603972</td>\n",
       "      <td>2017-10</td>\n",
       "      <td>414.0</td>\n",
       "      <td>511.0</td>\n",
       "      <td>2017.0</td>\n",
       "      <td>10.0</td>\n",
       "      <td>379.0</td>\n",
       "      <td>1.092348</td>\n",
       "      <td>0.810176</td>\n",
       "      <td>0.582181</td>\n",
       "    </tr>\n",
       "    <tr>\n",
       "      <th>9690</th>\n",
       "      <td>70.0</td>\n",
       "      <td>614059</td>\n",
       "      <td>2017-10</td>\n",
       "      <td>326.0</td>\n",
       "      <td>528.0</td>\n",
       "      <td>2017.0</td>\n",
       "      <td>10.0</td>\n",
       "      <td>298.0</td>\n",
       "      <td>1.093960</td>\n",
       "      <td>0.617424</td>\n",
       "      <td>0.706161</td>\n",
       "    </tr>\n",
       "    <tr>\n",
       "      <th>9691</th>\n",
       "      <td>70.0</td>\n",
       "      <td>628041</td>\n",
       "      <td>2017-10</td>\n",
       "      <td>746.0</td>\n",
       "      <td>720.0</td>\n",
       "      <td>2017.0</td>\n",
       "      <td>10.0</td>\n",
       "      <td>700.0</td>\n",
       "      <td>1.065714</td>\n",
       "      <td>1.036111</td>\n",
       "      <td>0.883838</td>\n",
       "    </tr>\n",
       "    <tr>\n",
       "      <th>9692</th>\n",
       "      <td>70.0</td>\n",
       "      <td>651347</td>\n",
       "      <td>2017-10</td>\n",
       "      <td>223.0</td>\n",
       "      <td>134.0</td>\n",
       "      <td>2017.0</td>\n",
       "      <td>10.0</td>\n",
       "      <td>250.0</td>\n",
       "      <td>0.892000</td>\n",
       "      <td>1.664179</td>\n",
       "      <td>1.404494</td>\n",
       "    </tr>\n",
       "    <tr>\n",
       "      <th>9693</th>\n",
       "      <td>70.0</td>\n",
       "      <td>682651</td>\n",
       "      <td>2017-10</td>\n",
       "      <td>281.0</td>\n",
       "      <td>449.0</td>\n",
       "      <td>2017.0</td>\n",
       "      <td>10.0</td>\n",
       "      <td>53.0</td>\n",
       "      <td>5.301887</td>\n",
       "      <td>0.625835</td>\n",
       "      <td>0.779412</td>\n",
       "    </tr>\n",
       "    <tr>\n",
       "      <th>9694</th>\n",
       "      <td>70.0</td>\n",
       "      <td>713651</td>\n",
       "      <td>2017-10</td>\n",
       "      <td>192.0</td>\n",
       "      <td>378.0</td>\n",
       "      <td>2017.0</td>\n",
       "      <td>10.0</td>\n",
       "      <td>111.0</td>\n",
       "      <td>1.729730</td>\n",
       "      <td>0.507937</td>\n",
       "      <td>0.940678</td>\n",
       "    </tr>\n",
       "    <tr>\n",
       "      <th>9695</th>\n",
       "      <td>70.0</td>\n",
       "      <td>714152</td>\n",
       "      <td>2017-10</td>\n",
       "      <td>431.0</td>\n",
       "      <td>722.0</td>\n",
       "      <td>2017.0</td>\n",
       "      <td>10.0</td>\n",
       "      <td>556.0</td>\n",
       "      <td>0.775180</td>\n",
       "      <td>0.596953</td>\n",
       "      <td>1.003610</td>\n",
       "    </tr>\n",
       "    <tr>\n",
       "      <th>9696</th>\n",
       "      <td>70.0</td>\n",
       "      <td>735971</td>\n",
       "      <td>2017-10</td>\n",
       "      <td>2012.0</td>\n",
       "      <td>2881.0</td>\n",
       "      <td>2017.0</td>\n",
       "      <td>10.0</td>\n",
       "      <td>2512.0</td>\n",
       "      <td>0.800955</td>\n",
       "      <td>0.698369</td>\n",
       "      <td>0.655020</td>\n",
       "    </tr>\n",
       "    <tr>\n",
       "      <th>9697</th>\n",
       "      <td>70.0</td>\n",
       "      <td>819061</td>\n",
       "      <td>2017-10</td>\n",
       "      <td>94.0</td>\n",
       "      <td>172.0</td>\n",
       "      <td>2017.0</td>\n",
       "      <td>10.0</td>\n",
       "      <td>553.0</td>\n",
       "      <td>0.169982</td>\n",
       "      <td>0.546512</td>\n",
       "      <td>1.289044</td>\n",
       "    </tr>\n",
       "    <tr>\n",
       "      <th>9698</th>\n",
       "      <td>70.0</td>\n",
       "      <td>883691</td>\n",
       "      <td>2017-10</td>\n",
       "      <td>254.0</td>\n",
       "      <td>276.0</td>\n",
       "      <td>2017.0</td>\n",
       "      <td>10.0</td>\n",
       "      <td>351.0</td>\n",
       "      <td>0.723647</td>\n",
       "      <td>0.920290</td>\n",
       "      <td>1.000000</td>\n",
       "    </tr>\n",
       "    <tr>\n",
       "      <th>9699</th>\n",
       "      <td>70.0</td>\n",
       "      <td>914348</td>\n",
       "      <td>2017-10</td>\n",
       "      <td>483.0</td>\n",
       "      <td>650.0</td>\n",
       "      <td>2017.0</td>\n",
       "      <td>10.0</td>\n",
       "      <td>680.0</td>\n",
       "      <td>0.710294</td>\n",
       "      <td>0.743077</td>\n",
       "      <td>0.901857</td>\n",
       "    </tr>\n",
       "    <tr>\n",
       "      <th>9700</th>\n",
       "      <td>70.0</td>\n",
       "      <td>961362</td>\n",
       "      <td>2017-10</td>\n",
       "      <td>73.0</td>\n",
       "      <td>104.0</td>\n",
       "      <td>2017.0</td>\n",
       "      <td>10.0</td>\n",
       "      <td>46.0</td>\n",
       "      <td>1.586957</td>\n",
       "      <td>0.701923</td>\n",
       "      <td>0.522727</td>\n",
       "    </tr>\n",
       "    <tr>\n",
       "      <th>9701</th>\n",
       "      <td>70.0</td>\n",
       "      <td>961962</td>\n",
       "      <td>2017-10</td>\n",
       "      <td>80.0</td>\n",
       "      <td>122.0</td>\n",
       "      <td>2017.0</td>\n",
       "      <td>10.0</td>\n",
       "      <td>186.0</td>\n",
       "      <td>0.430108</td>\n",
       "      <td>0.655738</td>\n",
       "      <td>0.898551</td>\n",
       "    </tr>\n",
       "    <tr>\n",
       "      <th>9702</th>\n",
       "      <td>69.0</td>\n",
       "      <td>265980</td>\n",
       "      <td>2017-10</td>\n",
       "      <td>204.0</td>\n",
       "      <td>461.0</td>\n",
       "      <td>2017.0</td>\n",
       "      <td>10.0</td>\n",
       "      <td>294.0</td>\n",
       "      <td>0.693878</td>\n",
       "      <td>0.442516</td>\n",
       "      <td>1.020833</td>\n",
       "    </tr>\n",
       "    <tr>\n",
       "      <th>9703</th>\n",
       "      <td>68.0</td>\n",
       "      <td>923841</td>\n",
       "      <td>2017-10</td>\n",
       "      <td>642.0</td>\n",
       "      <td>713.0</td>\n",
       "      <td>2017.0</td>\n",
       "      <td>10.0</td>\n",
       "      <td>395.0</td>\n",
       "      <td>1.625316</td>\n",
       "      <td>0.900421</td>\n",
       "      <td>0.936019</td>\n",
       "    </tr>\n",
       "    <tr>\n",
       "      <th>9705</th>\n",
       "      <td>66.0</td>\n",
       "      <td>745137</td>\n",
       "      <td>2017-10</td>\n",
       "      <td>852.0</td>\n",
       "      <td>911.0</td>\n",
       "      <td>2017.0</td>\n",
       "      <td>10.0</td>\n",
       "      <td>1222.0</td>\n",
       "      <td>0.697218</td>\n",
       "      <td>0.935236</td>\n",
       "      <td>0.987076</td>\n",
       "    </tr>\n",
       "    <tr>\n",
       "      <th>9706</th>\n",
       "      <td>59.0</td>\n",
       "      <td>291514</td>\n",
       "      <td>2017-10</td>\n",
       "      <td>50.0</td>\n",
       "      <td>95.0</td>\n",
       "      <td>2017.0</td>\n",
       "      <td>10.0</td>\n",
       "      <td>105.0</td>\n",
       "      <td>0.476190</td>\n",
       "      <td>0.526316</td>\n",
       "      <td>1.000000</td>\n",
       "    </tr>\n",
       "    <tr>\n",
       "      <th>9707</th>\n",
       "      <td>62.0</td>\n",
       "      <td>786351</td>\n",
       "      <td>2017-10</td>\n",
       "      <td>104.0</td>\n",
       "      <td>91.0</td>\n",
       "      <td>2017.0</td>\n",
       "      <td>10.0</td>\n",
       "      <td>611.0</td>\n",
       "      <td>0.170213</td>\n",
       "      <td>1.142857</td>\n",
       "      <td>1.172745</td>\n",
       "    </tr>\n",
       "    <tr>\n",
       "      <th>9708</th>\n",
       "      <td>61.0</td>\n",
       "      <td>347384</td>\n",
       "      <td>2017-10</td>\n",
       "      <td>2898.0</td>\n",
       "      <td>2613.0</td>\n",
       "      <td>2017.0</td>\n",
       "      <td>10.0</td>\n",
       "      <td>3238.0</td>\n",
       "      <td>0.894997</td>\n",
       "      <td>1.109070</td>\n",
       "      <td>0.809095</td>\n",
       "    </tr>\n",
       "    <tr>\n",
       "      <th>9709</th>\n",
       "      <td>60.0</td>\n",
       "      <td>905745</td>\n",
       "      <td>2017-10</td>\n",
       "      <td>183.0</td>\n",
       "      <td>165.0</td>\n",
       "      <td>2017.0</td>\n",
       "      <td>10.0</td>\n",
       "      <td>207.0</td>\n",
       "      <td>0.884058</td>\n",
       "      <td>1.109091</td>\n",
       "      <td>1.095238</td>\n",
       "    </tr>\n",
       "    <tr>\n",
       "      <th>9710</th>\n",
       "      <td>59.0</td>\n",
       "      <td>175962</td>\n",
       "      <td>2017-10</td>\n",
       "      <td>237.0</td>\n",
       "      <td>214.0</td>\n",
       "      <td>2017.0</td>\n",
       "      <td>10.0</td>\n",
       "      <td>269.0</td>\n",
       "      <td>0.881041</td>\n",
       "      <td>1.107477</td>\n",
       "      <td>1.000000</td>\n",
       "    </tr>\n",
       "    <tr>\n",
       "      <th>9711</th>\n",
       "      <td>56.0</td>\n",
       "      <td>651782</td>\n",
       "      <td>2017-10</td>\n",
       "      <td>80.0</td>\n",
       "      <td>133.0</td>\n",
       "      <td>2017.0</td>\n",
       "      <td>10.0</td>\n",
       "      <td>122.0</td>\n",
       "      <td>0.655738</td>\n",
       "      <td>0.601504</td>\n",
       "      <td>1.042735</td>\n",
       "    </tr>\n",
       "    <tr>\n",
       "      <th>9712</th>\n",
       "      <td>55.0</td>\n",
       "      <td>221795</td>\n",
       "      <td>2017-10</td>\n",
       "      <td>391.0</td>\n",
       "      <td>337.0</td>\n",
       "      <td>2017.0</td>\n",
       "      <td>10.0</td>\n",
       "      <td>246.0</td>\n",
       "      <td>1.589431</td>\n",
       "      <td>1.160237</td>\n",
       "      <td>0.613466</td>\n",
       "    </tr>\n",
       "    <tr>\n",
       "      <th>9713</th>\n",
       "      <td>54.0</td>\n",
       "      <td>671482</td>\n",
       "      <td>2017-10</td>\n",
       "      <td>88.0</td>\n",
       "      <td>61.0</td>\n",
       "      <td>2017.0</td>\n",
       "      <td>10.0</td>\n",
       "      <td>84.0</td>\n",
       "      <td>1.047619</td>\n",
       "      <td>1.442623</td>\n",
       "      <td>0.694215</td>\n",
       "    </tr>\n",
       "    <tr>\n",
       "      <th>9714</th>\n",
       "      <td>54.0</td>\n",
       "      <td>871642</td>\n",
       "      <td>2017-10</td>\n",
       "      <td>155.0</td>\n",
       "      <td>173.0</td>\n",
       "      <td>2017.0</td>\n",
       "      <td>10.0</td>\n",
       "      <td>105.0</td>\n",
       "      <td>1.476190</td>\n",
       "      <td>0.895954</td>\n",
       "      <td>1.296296</td>\n",
       "    </tr>\n",
       "    <tr>\n",
       "      <th>9715</th>\n",
       "      <td>52.0</td>\n",
       "      <td>308913</td>\n",
       "      <td>2017-10</td>\n",
       "      <td>139.0</td>\n",
       "      <td>132.0</td>\n",
       "      <td>2017.0</td>\n",
       "      <td>10.0</td>\n",
       "      <td>213.0</td>\n",
       "      <td>0.652582</td>\n",
       "      <td>1.053030</td>\n",
       "      <td>1.132979</td>\n",
       "    </tr>\n",
       "    <tr>\n",
       "      <th>9716</th>\n",
       "      <td>52.0</td>\n",
       "      <td>854079</td>\n",
       "      <td>2017-10</td>\n",
       "      <td>162.0</td>\n",
       "      <td>356.0</td>\n",
       "      <td>2017.0</td>\n",
       "      <td>10.0</td>\n",
       "      <td>154.0</td>\n",
       "      <td>1.051948</td>\n",
       "      <td>0.455056</td>\n",
       "      <td>0.905882</td>\n",
       "    </tr>\n",
       "    <tr>\n",
       "      <th>9717</th>\n",
       "      <td>51.0</td>\n",
       "      <td>621073</td>\n",
       "      <td>2017-10</td>\n",
       "      <td>1062.0</td>\n",
       "      <td>1137.0</td>\n",
       "      <td>2017.0</td>\n",
       "      <td>10.0</td>\n",
       "      <td>1541.0</td>\n",
       "      <td>0.689163</td>\n",
       "      <td>0.934037</td>\n",
       "      <td>0.952999</td>\n",
       "    </tr>\n",
       "    <tr>\n",
       "      <th>9718</th>\n",
       "      <td>50.0</td>\n",
       "      <td>356986</td>\n",
       "      <td>2017-10</td>\n",
       "      <td>476.0</td>\n",
       "      <td>623.0</td>\n",
       "      <td>2017.0</td>\n",
       "      <td>10.0</td>\n",
       "      <td>441.0</td>\n",
       "      <td>1.079365</td>\n",
       "      <td>0.764045</td>\n",
       "      <td>1.000000</td>\n",
       "    </tr>\n",
       "    <tr>\n",
       "      <th>9719</th>\n",
       "      <td>49.0</td>\n",
       "      <td>560265</td>\n",
       "      <td>2017-10</td>\n",
       "      <td>75.0</td>\n",
       "      <td>88.0</td>\n",
       "      <td>2017.0</td>\n",
       "      <td>10.0</td>\n",
       "      <td>218.0</td>\n",
       "      <td>0.344037</td>\n",
       "      <td>0.852273</td>\n",
       "      <td>0.801471</td>\n",
       "    </tr>\n",
       "  </tbody>\n",
       "</table>\n",
       "</div>"
      ],
      "text/plain": [
       "      how_many_month_has_sell  class_id sale_date  sale_quantity  \\\n",
       "9660                     70.0    125403   2017-10          156.0   \n",
       "9661                     70.0    136916   2017-10          162.0   \n",
       "9662                     70.0    178529   2017-10          148.0   \n",
       "9665                     70.0    209945   2017-10           91.0   \n",
       "9666                     70.0    248352   2017-10          260.0   \n",
       "9667                     70.0    281301   2017-10          329.0   \n",
       "9668                     70.0    290854   2017-10          205.0   \n",
       "9669                     70.0    291086   2017-10          320.0   \n",
       "9670                     70.0    304458   2017-10          373.0   \n",
       "9671                     70.0    321683   2017-10         2186.0   \n",
       "9672                     70.0    349023   2017-10          941.0   \n",
       "9673                     70.0    354068   2017-10          460.0   \n",
       "9674                     70.0    379876   2017-10          133.0   \n",
       "9675                     70.0    384924   2017-10          765.0   \n",
       "9677                     70.0    409854   2017-10         1675.0   \n",
       "9678                     70.0    425432   2017-10         1848.0   \n",
       "9679                     64.0    453752   2017-10          190.0   \n",
       "9680                     70.0    468392   2017-10          146.0   \n",
       "9681                     70.0    472603   2017-10           84.0   \n",
       "9682                     70.0    482497   2017-10          177.0   \n",
       "9683                     70.0    527809   2017-10          154.0   \n",
       "9684                     70.0    559132   2017-10          104.0   \n",
       "9685                     70.0    576298   2017-10          174.0   \n",
       "9686                     70.0    580470   2017-10          408.0   \n",
       "9688                     70.0    597927   2017-10          140.0   \n",
       "9689                     70.0    603972   2017-10          414.0   \n",
       "9690                     70.0    614059   2017-10          326.0   \n",
       "9691                     70.0    628041   2017-10          746.0   \n",
       "9692                     70.0    651347   2017-10          223.0   \n",
       "9693                     70.0    682651   2017-10          281.0   \n",
       "9694                     70.0    713651   2017-10          192.0   \n",
       "9695                     70.0    714152   2017-10          431.0   \n",
       "9696                     70.0    735971   2017-10         2012.0   \n",
       "9697                     70.0    819061   2017-10           94.0   \n",
       "9698                     70.0    883691   2017-10          254.0   \n",
       "9699                     70.0    914348   2017-10          483.0   \n",
       "9700                     70.0    961362   2017-10           73.0   \n",
       "9701                     70.0    961962   2017-10           80.0   \n",
       "9702                     69.0    265980   2017-10          204.0   \n",
       "9703                     68.0    923841   2017-10          642.0   \n",
       "9705                     66.0    745137   2017-10          852.0   \n",
       "9706                     59.0    291514   2017-10           50.0   \n",
       "9707                     62.0    786351   2017-10          104.0   \n",
       "9708                     61.0    347384   2017-10         2898.0   \n",
       "9709                     60.0    905745   2017-10          183.0   \n",
       "9710                     59.0    175962   2017-10          237.0   \n",
       "9711                     56.0    651782   2017-10           80.0   \n",
       "9712                     55.0    221795   2017-10          391.0   \n",
       "9713                     54.0    671482   2017-10           88.0   \n",
       "9714                     54.0    871642   2017-10          155.0   \n",
       "9715                     52.0    308913   2017-10          139.0   \n",
       "9716                     52.0    854079   2017-10          162.0   \n",
       "9717                     51.0    621073   2017-10         1062.0   \n",
       "9718                     50.0    356986   2017-10          476.0   \n",
       "9719                     49.0    560265   2017-10           75.0   \n",
       "\n",
       "      sale_quantity_this_last_month    year  month  \\\n",
       "9660                          328.0  2017.0   10.0   \n",
       "9661                          145.0  2017.0   10.0   \n",
       "9662                          165.0  2017.0   10.0   \n",
       "9665                          273.0  2017.0   10.0   \n",
       "9666                          269.0  2017.0   10.0   \n",
       "9667                          584.0  2017.0   10.0   \n",
       "9668                          393.0  2017.0   10.0   \n",
       "9669                          376.0  2017.0   10.0   \n",
       "9670                          605.0  2017.0   10.0   \n",
       "9671                         2067.0  2017.0   10.0   \n",
       "9672                          941.0  2017.0   10.0   \n",
       "9673                          920.0  2017.0   10.0   \n",
       "9674                          140.0  2017.0   10.0   \n",
       "9675                          705.0  2017.0   10.0   \n",
       "9677                         1807.0  2017.0   10.0   \n",
       "9678                         1539.0  2017.0   10.0   \n",
       "9679                          381.0  2017.0   10.0   \n",
       "9680                          242.0  2017.0   10.0   \n",
       "9681                          143.0  2017.0   10.0   \n",
       "9682                          336.0  2017.0   10.0   \n",
       "9683                          305.0  2017.0   10.0   \n",
       "9684                          221.0  2017.0   10.0   \n",
       "9685                          293.0  2017.0   10.0   \n",
       "9686                          384.0  2017.0   10.0   \n",
       "9688                          251.0  2017.0   10.0   \n",
       "9689                          511.0  2017.0   10.0   \n",
       "9690                          528.0  2017.0   10.0   \n",
       "9691                          720.0  2017.0   10.0   \n",
       "9692                          134.0  2017.0   10.0   \n",
       "9693                          449.0  2017.0   10.0   \n",
       "9694                          378.0  2017.0   10.0   \n",
       "9695                          722.0  2017.0   10.0   \n",
       "9696                         2881.0  2017.0   10.0   \n",
       "9697                          172.0  2017.0   10.0   \n",
       "9698                          276.0  2017.0   10.0   \n",
       "9699                          650.0  2017.0   10.0   \n",
       "9700                          104.0  2017.0   10.0   \n",
       "9701                          122.0  2017.0   10.0   \n",
       "9702                          461.0  2017.0   10.0   \n",
       "9703                          713.0  2017.0   10.0   \n",
       "9705                          911.0  2017.0   10.0   \n",
       "9706                           95.0  2017.0   10.0   \n",
       "9707                           91.0  2017.0   10.0   \n",
       "9708                         2613.0  2017.0   10.0   \n",
       "9709                          165.0  2017.0   10.0   \n",
       "9710                          214.0  2017.0   10.0   \n",
       "9711                          133.0  2017.0   10.0   \n",
       "9712                          337.0  2017.0   10.0   \n",
       "9713                           61.0  2017.0   10.0   \n",
       "9714                          173.0  2017.0   10.0   \n",
       "9715                          132.0  2017.0   10.0   \n",
       "9716                          356.0  2017.0   10.0   \n",
       "9717                         1137.0  2017.0   10.0   \n",
       "9718                          623.0  2017.0   10.0   \n",
       "9719                           88.0  2017.0   10.0   \n",
       "\n",
       "      sale_quantity_last_12M_ago  year_relative_ratio  month_relative_ratio  \\\n",
       "9660                        99.0             1.575758              0.475610   \n",
       "9661                       180.0             0.900000              1.117241   \n",
       "9662                       223.0             0.663677              0.896970   \n",
       "9665                       319.0             0.285266              0.333333   \n",
       "9666                       428.0             0.607477              0.966543   \n",
       "9667                       708.0             0.464689              0.563356   \n",
       "9668                       232.0             0.883621              0.521628   \n",
       "9669                       714.0             0.448179              0.851064   \n",
       "9670                       298.0             1.251678              0.616529   \n",
       "9671                      1879.0             1.163385              1.057571   \n",
       "9672                       923.0             1.019502              1.000000   \n",
       "9673                       736.0             0.625000              0.500000   \n",
       "9674                       252.0             0.527778              0.950000   \n",
       "9675                       470.0             1.627660              1.085106   \n",
       "9677                      1626.0             1.030135              0.926951   \n",
       "9678                      2102.0             0.879163              1.200780   \n",
       "9679                       210.0             0.904762              0.498688   \n",
       "9680                       286.0             0.510490              0.603306   \n",
       "9681                       269.0             0.312268              0.587413   \n",
       "9682                       250.0             0.708000              0.526786   \n",
       "9683                       171.0             0.900585              0.504918   \n",
       "9684                        83.0             1.253012              0.470588   \n",
       "9685                       317.0             0.548896              0.593857   \n",
       "9686                       579.0             0.704663              1.062500   \n",
       "9688                       689.0             0.203193              0.557769   \n",
       "9689                       379.0             1.092348              0.810176   \n",
       "9690                       298.0             1.093960              0.617424   \n",
       "9691                       700.0             1.065714              1.036111   \n",
       "9692                       250.0             0.892000              1.664179   \n",
       "9693                        53.0             5.301887              0.625835   \n",
       "9694                       111.0             1.729730              0.507937   \n",
       "9695                       556.0             0.775180              0.596953   \n",
       "9696                      2512.0             0.800955              0.698369   \n",
       "9697                       553.0             0.169982              0.546512   \n",
       "9698                       351.0             0.723647              0.920290   \n",
       "9699                       680.0             0.710294              0.743077   \n",
       "9700                        46.0             1.586957              0.701923   \n",
       "9701                       186.0             0.430108              0.655738   \n",
       "9702                       294.0             0.693878              0.442516   \n",
       "9703                       395.0             1.625316              0.900421   \n",
       "9705                      1222.0             0.697218              0.935236   \n",
       "9706                       105.0             0.476190              0.526316   \n",
       "9707                       611.0             0.170213              1.142857   \n",
       "9708                      3238.0             0.894997              1.109070   \n",
       "9709                       207.0             0.884058              1.109091   \n",
       "9710                       269.0             0.881041              1.107477   \n",
       "9711                       122.0             0.655738              0.601504   \n",
       "9712                       246.0             1.589431              1.160237   \n",
       "9713                        84.0             1.047619              1.442623   \n",
       "9714                       105.0             1.476190              0.895954   \n",
       "9715                       213.0             0.652582              1.053030   \n",
       "9716                       154.0             1.051948              0.455056   \n",
       "9717                      1541.0             0.689163              0.934037   \n",
       "9718                       441.0             1.079365              0.764045   \n",
       "9719                       218.0             0.344037              0.852273   \n",
       "\n",
       "      month_relative_ratio_12M_ago  \n",
       "9660                      0.400810  \n",
       "9661                      1.052632  \n",
       "9662                      1.115000  \n",
       "9665                      0.567616  \n",
       "9666                      0.772563  \n",
       "9667                      1.030568  \n",
       "9668                      0.725000  \n",
       "9669                      0.854067  \n",
       "9670                      0.527434  \n",
       "9671                      0.928360  \n",
       "9672                      0.562805  \n",
       "9673                      0.816870  \n",
       "9674                      1.000000  \n",
       "9675                      1.243386  \n",
       "9677                      0.878919  \n",
       "9678                      0.855167  \n",
       "9679                      1.000000  \n",
       "9680                      0.896552  \n",
       "9681                      1.000000  \n",
       "9682                      1.046025  \n",
       "9683                      1.103226  \n",
       "9684                      0.703390  \n",
       "9685                      0.890449  \n",
       "9686                      0.772000  \n",
       "9688                      0.667636  \n",
       "9689                      0.582181  \n",
       "9690                      0.706161  \n",
       "9691                      0.883838  \n",
       "9692                      1.404494  \n",
       "9693                      0.779412  \n",
       "9694                      0.940678  \n",
       "9695                      1.003610  \n",
       "9696                      0.655020  \n",
       "9697                      1.289044  \n",
       "9698                      1.000000  \n",
       "9699                      0.901857  \n",
       "9700                      0.522727  \n",
       "9701                      0.898551  \n",
       "9702                      1.020833  \n",
       "9703                      0.936019  \n",
       "9705                      0.987076  \n",
       "9706                      1.000000  \n",
       "9707                      1.172745  \n",
       "9708                      0.809095  \n",
       "9709                      1.095238  \n",
       "9710                      1.000000  \n",
       "9711                      1.042735  \n",
       "9712                      0.613466  \n",
       "9713                      0.694215  \n",
       "9714                      1.296296  \n",
       "9715                      1.132979  \n",
       "9716                      0.905882  \n",
       "9717                      0.952999  \n",
       "9718                      1.000000  \n",
       "9719                      0.801471  "
      ]
     },
     "execution_count": 22,
     "metadata": {},
     "output_type": "execute_result"
    }
   ],
   "source": [
    "train[(train['how_many_month_has_sell'] > 48)&(train['year']==2017)&(train['month']==10)]"
   ]
  },
  {
   "cell_type": "markdown",
   "metadata": {},
   "source": [
    "# 观察同比"
   ]
  },
  {
   "cell_type": "code",
   "execution_count": 376,
   "metadata": {},
   "outputs": [
    {
     "name": "stdout",
     "output_type": "stream",
     "text": [
      "1 month year ratio is: 1.390\n",
      "2 month year ratio is: 1.382\n",
      "3 month year ratio is: 1.440\n",
      "4 month year ratio is: 1.883\n",
      "5 month year ratio is: 1.957\n",
      "6 month year ratio is: 1.277\n",
      "7 month year ratio is: 1.264\n",
      "8 month year ratio is: 1.306\n",
      "9 month year ratio is: 1.679\n",
      "10 month year ratio is: 1.719\n",
      "11 month year ratio is: 1.633\n",
      "12 month year ratio is: 1.258\n"
     ]
    }
   ],
   "source": [
    "average_year_ratio = []\n",
    "for i in range(1, 13):\n",
    "    year_ratio = train[(train['year']==2013)&(train['month']==i)&(0.1<train['year_relative_ratio'])&(train['year_relative_ratio']<20)]['year_relative_ratio'].mean()\n",
    "    print('{} month year ratio is: {:.3f}'.format(i, year_ratio))"
   ]
  },
  {
   "cell_type": "markdown",
   "metadata": {},
   "source": [
    "## 观察环比"
   ]
  },
  {
   "cell_type": "code",
   "execution_count": 493,
   "metadata": {
    "scrolled": false
   },
   "outputs": [
    {
     "name": "stdout",
     "output_type": "stream",
     "text": [
      "1.04844580405\n",
      "0.89649133171\n",
      "1.08052034806\n",
      "1.13729409314\n",
      "the average ratio is: 1.0406878942397282\n"
     ]
    }
   ],
   "source": [
    "# 看 月份 环比平均值, 去掉离群点\n",
    "average_ratio = []\n",
    "for i in range(2013, 2017):\n",
    "    month_ratio = train[(train['month'] == 8)&(train['year']==i)&(0.1<train['month_relative_ratio'])&(train['month_relative_ratio']<2)]['month_relative_ratio'].mean()\n",
    "    print(month_ratio)\n",
    "    average_ratio.append(month_ratio)\n",
    "print('the average ratio is: {}'.format((sum(average_ratio))/len(average_ratio)))"
   ]
  },
  {
   "cell_type": "markdown",
   "metadata": {},
   "source": [
    "去掉离群点后, 每月环比呈现 周期性"
   ]
  },
  {
   "cell_type": "code",
   "execution_count": 17,
   "metadata": {
    "scrolled": true
   },
   "outputs": [
    {
     "data": {
      "text/plain": [
       "213.48841399999998"
      ]
     },
     "execution_count": 17,
     "metadata": {},
     "output_type": "execute_result"
    }
   ],
   "source": [
    "307.0 * 0.695402"
   ]
  },
  {
   "cell_type": "code",
   "execution_count": 176,
   "metadata": {
    "scrolled": false
   },
   "outputs": [
    {
     "data": {
      "image/png": "[encoded data removed]",
      "text/plain": [
       "<matplotlib.figure.Figure at 0x1140e1e48>"
      ]
     },
     "metadata": {},
     "output_type": "display_data"
    }
   ],
   "source": [
    "df=train[train['class_id'] ==890189]\n",
    "plt.figure(figsize=(60,5))\n",
    "plt.plot(df['sale_date'],df['month_relative_ratio'],label='125403')\n",
    "plt.legend()\n",
    "plt.show()"
   ]
  },
  {
   "cell_type": "code",
   "execution_count": null,
   "metadata": {
    "collapsed": true
   },
   "outputs": [],
   "source": []
  },
  {
   "cell_type": "code",
   "execution_count": 31,
   "metadata": {
    "collapsed": true
   },
   "outputs": [],
   "source": [
    "labels = np.array([10000])\n",
    "predict_quantity = np.array([11000])"
   ]
  },
  {
   "cell_type": "code",
   "execution_count": 32,
   "metadata": {},
   "outputs": [
    {
     "data": {
      "text/plain": [
       "1000.0"
      ]
     },
     "execution_count": 32,
     "metadata": {},
     "output_type": "execute_result"
    }
   ],
   "source": [
    "sp.sqrt(sp.mean((labels - predict_quantity) ** 2))"
   ]
  },
  {
   "cell_type": "code",
   "execution_count": 36,
   "metadata": {
    "collapsed": true
   },
   "outputs": [],
   "source": [
    "labels = np.array([50])\n",
    "predict_quantity = np.array([100])"
   ]
  },
  {
   "cell_type": "code",
   "execution_count": 37,
   "metadata": {},
   "outputs": [
    {
     "data": {
      "text/plain": [
       "50.0"
      ]
     },
     "execution_count": 37,
     "metadata": {},
     "output_type": "execute_result"
    }
   ],
   "source": [
    "sp.sqrt(sp.mean((labels - predict_quantity) ** 2))"
   ]
  },
  {
   "cell_type": "code",
   "execution_count": null,
   "metadata": {
    "collapsed": true
   },
   "outputs": [],
   "source": []
  }
 ],
 "metadata": {
  "kernelspec": {
   "display_name": "Python 3",
   "language": "python",
   "name": "python3"
  },
  "language_info": {
   "codemirror_mode": {
    "name": "ipython",
    "version": 3
   },
   "file_extension": ".py",
   "mimetype": "text/x-python",
   "name": "python",
   "nbconvert_exporter": "python",
   "pygments_lexer": "ipython3",
   "version": "3.6.3"
  },
  "toc": {
   "nav_menu": {},
   "number_sections": true,
   "sideBar": true,
   "skip_h1_title": false,
   "toc_cell": false,
   "toc_position": {},
   "toc_section_display": "block",
   "toc_window_display": false
  }
 },
 "nbformat": 4,
 "nbformat_minor": 2
}
