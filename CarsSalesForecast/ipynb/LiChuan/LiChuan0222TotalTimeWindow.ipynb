{
 "cells": [
  {
   "cell_type": "markdown",
   "metadata": {},
   "source": [
    "* 得到本月总体销量\n",
    "* 总体销量时间窗口特征\n",
    "* 总体车型时间窗口特征\n",
    "* 测试 LightGBM"
   ]
  },
  {
   "cell_type": "code",
   "execution_count": 1,
   "metadata": {
    "collapsed": true
   },
   "outputs": [],
   "source": [
    "import numpy as np\n",
    "import scipy as sp\n",
    "\n",
    "import pandas as pd\n",
    "import xgboost as xgb\n",
    "import lightgbm as lgb\n",
    "import warnings\n",
    "warnings.filterwarnings('ignore')"
   ]
  },
  {
   "cell_type": "code",
   "execution_count": 2,
   "metadata": {
    "collapsed": true
   },
   "outputs": [],
   "source": [
    "data = pd.read_csv('../../raw/LiChuan/dataset.csv')\n",
    "submit = pd.read_csv('../../raw/CarsSaleForecast/yancheng_testA_20171225.csv')"
   ]
  },
  {
   "cell_type": "code",
   "execution_count": 3,
   "metadata": {
    "collapsed": true
   },
   "outputs": [],
   "source": [
    "data['sale_date'] = data['year'] * 100 + data['month']\n",
    "data['sale_date'] = data['sale_date'].astype(int)\n",
    "data['sale_date'] = pd.to_datetime(data['sale_date'],format='%Y%m',errors = \"coerce\")\n",
    "data['sale_date'] = data['sale_date'].dt.to_period('m')"
   ]
  },
  {
   "cell_type": "code",
   "execution_count": 4,
   "metadata": {
    "collapsed": true
   },
   "outputs": [],
   "source": [
    "# 得到本月销量总和\n",
    "sale_quantity_total_this_month = data.groupby(data['sale_date']).sale_quantity.sum().reset_index()\n",
    "\n",
    "data = pd.merge(data, sale_quantity_total_this_month, on='sale_date', how='left')\n",
    "\n",
    "data.rename(columns={'sale_quantity_y': 'sale_quantity_total_this_month'}, inplace=True) # 替换列名称\n",
    "data.rename(columns={'sale_quantity_x': 'sale_quantity'}, inplace=True) # 替换列名称"
   ]
  },
  {
   "cell_type": "code",
   "execution_count": 5,
   "metadata": {
    "collapsed": true
   },
   "outputs": [],
   "source": [
    "def sale_cal_sum(data,window,num):\n",
    "    datatmp = pd.DataFrame()\n",
    "    for i in range(num):          \n",
    "        dataSaletmp = data[data['sale_date'].isin(window)]\n",
    "        dataSaletmp = dataSaletmp.loc[:,['class_id', 'sale_quantity_total_this_month', 'this_month_sale_class_count']]\n",
    "        dataSaletmp = dataSaletmp.groupby(['class_id']).agg(sum)[['sale_quantity_total_this_month', 'this_month_sale_class_count']].reset_index() #更换所需的函数\n",
    "        dataSaletmp['sale_date'] = window[0]+1\n",
    "        if i == 0:\n",
    "            datatmp = dataSaletmp\n",
    "        else:\n",
    "            datatmp = pd.concat([datatmp, dataSaletmp])    \n",
    "        for j,k in enumerate(window):\n",
    "            window[j] = window[j] + 1\n",
    "    return datatmp"
   ]
  },
  {
   "cell_type": "code",
   "execution_count": 6,
   "metadata": {
    "collapsed": true
   },
   "outputs": [],
   "source": [
    "def sale_cal_max(data,window,num):\n",
    "    datatmp = pd.DataFrame()\n",
    "    for i in range(num):          \n",
    "        dataSaletmp = data[data['sale_date'].isin(window)]\n",
    "        dataSaletmp = dataSaletmp.loc[:,['class_id','sale_quantity_total_this_month']]\n",
    "        dataSaletmp = dataSaletmp.groupby(['class_id']).agg(max).sale_quantity_total_this_month.reset_index() #更换所需的函数\n",
    "        dataSaletmp['sale_date'] = window[0]+1\n",
    "        if i == 0:\n",
    "            datatmp = dataSaletmp\n",
    "        else:\n",
    "            datatmp = pd.concat([datatmp, dataSaletmp])    \n",
    "        for j,k in enumerate(window):\n",
    "            window[j] = window[j] + 1\n",
    "    return datatmp"
   ]
  },
  {
   "cell_type": "code",
   "execution_count": 7,
   "metadata": {
    "collapsed": true
   },
   "outputs": [],
   "source": [
    "def sale_cal_min(data,window,num):\n",
    "    datatmp = pd.DataFrame()\n",
    "    for i in range(num):          \n",
    "        dataSaletmp = data[data['sale_date'].isin(window)]\n",
    "        dataSaletmp = dataSaletmp.loc[:,['class_id','sale_quantity_total_this_month']]\n",
    "        dataSaletmp = dataSaletmp.groupby(['class_id']).agg(min).sale_quantity_total_this_month.reset_index() #更换所需的函数\n",
    "        dataSaletmp['sale_date'] = window[0]+1\n",
    "        if i == 0:\n",
    "            datatmp = dataSaletmp\n",
    "        else:\n",
    "            datatmp = pd.concat([datatmp, dataSaletmp])    \n",
    "        for j,k in enumerate(window):\n",
    "            window[j] = window[j] + 1\n",
    "    return datatmp"
   ]
  },
  {
   "cell_type": "code",
   "execution_count": 8,
   "metadata": {
    "collapsed": true
   },
   "outputs": [],
   "source": [
    "def sale_cal_mean(data,window,num):\n",
    "    datatmp = pd.DataFrame()\n",
    "    for i in range(num):          \n",
    "        dataSaletmp = data[data['sale_date'].isin(window)]\n",
    "        dataSaletmp = dataSaletmp.loc[:,['class_id','sale_quantity_total_this_month']]\n",
    "        dataSaletmp = dataSaletmp.groupby(['class_id']).mean().sale_quantity_total_this_month.reset_index() #更换所需的函数\n",
    "        dataSaletmp['sale_date'] = window[0]+1\n",
    "        if i == 0:\n",
    "            datatmp = dataSaletmp\n",
    "        else:\n",
    "            datatmp = pd.concat([datatmp, dataSaletmp])    \n",
    "        for j,k in enumerate(window):\n",
    "            window[j] = window[j] + 1\n",
    "    return datatmp"
   ]
  },
  {
   "cell_type": "code",
   "execution_count": 9,
   "metadata": {
    "collapsed": true
   },
   "outputs": [],
   "source": [
    "def sale_cal_std(data,window,num):\n",
    "    datatmp = pd.DataFrame()\n",
    "    for i in range(num):          \n",
    "        dataSaletmp = data[data['sale_date'].isin(window)]\n",
    "        dataSaletmp = dataSaletmp.loc[:,['class_id','sale_quantity_total_this_month']]\n",
    "        dataSaletmp = dataSaletmp.groupby(['class_id']).std().sale_quantity_total_this_month.reset_index() #更换所需的函数\n",
    "        dataSaletmp['sale_date'] = window[0]+1\n",
    "        if i == 0:\n",
    "            datatmp = dataSaletmp\n",
    "        else:\n",
    "            datatmp = pd.concat([datatmp, dataSaletmp])    \n",
    "        for j,k in enumerate(window):\n",
    "            window[j] = window[j] + 1\n",
    "    return datatmp"
   ]
  },
  {
   "cell_type": "markdown",
   "metadata": {},
   "source": [
    "## 滑动2个月数据"
   ]
  },
  {
   "cell_type": "code",
   "execution_count": 10,
   "metadata": {
    "collapsed": true
   },
   "outputs": [],
   "source": [
    "i = data['sale_date'][0]+1  #从2012-2开始计算"
   ]
  },
  {
   "cell_type": "code",
   "execution_count": 11,
   "metadata": {
    "collapsed": true
   },
   "outputs": [],
   "source": [
    "window=[i,i-1] #每次计算必须重新初始化window\n",
    "data_last_2M_sum = sale_cal_sum(data,window,69) #计算近2个月的数据总共需要计算64个月\n",
    "data_last_2M_sum.rename(columns={'sale_quantity_total_this_month': 'sale_quantity_total_last_2M_sum', 'this_month_sale_class_count': 'last_2M_sale_class_count_sum'}, inplace=True)# 替换列名称\n",
    "\n",
    "window=[i,i-1] #每次计算必须重新初始化window\n",
    "data_last_2M_max = sale_cal_max(data,window,69)\n",
    "data_last_2M_max.rename(columns={'sale_quantity_total_this_month': 'sale_quantity_total_last_2M_max', 'this_month_sale_class_count': 'last_2M_sale_class_count_max'}, inplace=True)# 替换列名称\n",
    "\n",
    "window=[i,i-1] #每次计算必须重新初始化window\n",
    "data_last_2M_min = sale_cal_min(data,window,69)\n",
    "data_last_2M_min.rename(columns={'sale_quantity_total_this_month': 'sale_quantity_total_last_2M_min', 'this_month_sale_class_count': 'last_2M_sale_class_count_min'}, inplace=True)# 替换列名称\n",
    "\n",
    "window=[i,i-1] #每次计算必须重新初始化window\n",
    "data_last_2M_mean = sale_cal_mean(data,window,69)\n",
    "data_last_2M_mean.rename(columns={'sale_quantity_total_this_month': 'sale_quantity_total_last_2M_mean', 'this_month_sale_class_count': 'last_2M_sale_class_count_mean'}, inplace=True)# 替换列名称\n",
    "\n",
    "window=[i,i-1] #每次计算必须重新初始化window\n",
    "data_last_2M_std = sale_cal_std(data,window,69)\n",
    "data_last_2M_std.rename(columns={'sale_quantity_total_this_month': 'sale_quantity_total_last_2M_std', 'this_month_sale_class_count': 'last_2M_sale_class_count_std'}, inplace=True)# 替换列名称"
   ]
  },
  {
   "cell_type": "code",
   "execution_count": 12,
   "metadata": {
    "collapsed": true
   },
   "outputs": [],
   "source": [
    "# 合并\n",
    "data = pd.merge(data, data_last_2M_sum, on=['class_id','sale_date'], how='left')\n",
    "data = pd.merge(data, data_last_2M_max, on=['class_id','sale_date'], how='left')\n",
    "data = pd.merge(data, data_last_2M_min, on=['class_id','sale_date'], how='left')\n",
    "data = pd.merge(data, data_last_2M_mean, on=['class_id','sale_date'], how='left')\n",
    "data = pd.merge(data, data_last_2M_std, on=['class_id','sale_date'], how='left')\n",
    "data.fillna(0, inplace=True)"
   ]
  },
  {
   "cell_type": "markdown",
   "metadata": {},
   "source": [
    "## 滑动 3 个月数据"
   ]
  },
  {
   "cell_type": "code",
   "execution_count": 13,
   "metadata": {
    "collapsed": true
   },
   "outputs": [],
   "source": [
    "i = data['sale_date'][0]+2  #从2012-4开始计算"
   ]
  },
  {
   "cell_type": "code",
   "execution_count": 14,
   "metadata": {
    "collapsed": true
   },
   "outputs": [],
   "source": [
    "window=[i,i-1,i-2] #每次计算必须重新初始化window\n",
    "data_last_3M_sum = sale_cal_sum(data,window,68) #计算近2个月的数据总共需要计算64个月\n",
    "data_last_3M_sum.rename(columns={'sale_quantity_total_this_month': 'sale_quantity_total_last_3M_sum', 'this_month_sale_class_count': 'last_3M_sale_class_count_sum'}, inplace=True)# 替换列名称\n",
    "\n",
    "window=[i,i-1,i-2] #每次计算必须重新初始化window\n",
    "data_last_3M_max = sale_cal_max(data,window,68)\n",
    "data_last_3M_max.rename(columns={'sale_quantity_total_this_month': 'sale_quantity_total_last_3M_max', 'this_month_sale_class_count': 'last_3M_sale_class_count_max'}, inplace=True)# 替换列名称\n",
    "\n",
    "window=[i,i-1,i-2] #每次计算必须重新初始化window\n",
    "data_last_3M_min = sale_cal_min(data,window,68)\n",
    "data_last_3M_min.rename(columns={'sale_quantity_total_this_month': 'sale_quantity_total_last_3M_min', 'this_month_sale_class_count': 'last_3M_sale_class_count_min'}, inplace=True)# 替换列名称\n",
    "\n",
    "window=[i,i-1,i-2] #每次计算必须重新初始化window\n",
    "data_last_3M_mean = sale_cal_mean(data,window,68)\n",
    "data_last_3M_mean.rename(columns={'sale_quantity_total_this_month': 'sale_quantity_total_last_3M_mean', 'this_month_sale_class_count': 'last_3M_sale_class_count_mean'}, inplace=True)# 替换列名称\n",
    "\n",
    "window=[i,i-1,i-2] #每次计算必须重新初始化window\n",
    "data_last_3M_std = sale_cal_std(data,window,68)\n",
    "data_last_3M_std.rename(columns={'sale_quantity_total_this_month': 'sale_quantity_total_last_3M_std', 'this_month_sale_class_count': 'last_3M_sale_class_count_std'}, inplace=True)# 替换列名称"
   ]
  },
  {
   "cell_type": "code",
   "execution_count": 15,
   "metadata": {
    "collapsed": true
   },
   "outputs": [],
   "source": [
    "# 合并\n",
    "data = pd.merge(data, data_last_3M_sum, on=['class_id','sale_date'], how='left')\n",
    "data = pd.merge(data, data_last_3M_max, on=['class_id','sale_date'], how='left')\n",
    "data = pd.merge(data, data_last_3M_min, on=['class_id','sale_date'], how='left')\n",
    "data = pd.merge(data, data_last_3M_mean, on=['class_id','sale_date'], how='left')\n",
    "data = pd.merge(data, data_last_3M_std, on=['class_id','sale_date'], how='left')\n",
    "data.fillna(0, inplace=True)"
   ]
  },
  {
   "cell_type": "markdown",
   "metadata": {},
   "source": [
    "## 滑动 6 个月数据"
   ]
  },
  {
   "cell_type": "code",
   "execution_count": 16,
   "metadata": {
    "collapsed": true
   },
   "outputs": [],
   "source": [
    "i = data['sale_date'][0]+5  #从2012-7开始计算"
   ]
  },
  {
   "cell_type": "code",
   "execution_count": 17,
   "metadata": {
    "collapsed": true
   },
   "outputs": [],
   "source": [
    "window=[i,i-1,i-2,i-3,i-4,i-5] #每次计算必须重新初始化window\n",
    "data_last_6M_sum = sale_cal_sum(data,window,65) #计算近2个月的数据总共需要计算64个月\n",
    "data_last_6M_sum.rename(columns={'sale_quantity_total_this_month': 'sale_quantity_total_last_6M_sum', 'this_month_sale_class_count': 'last_6M_sale_class_count_sum'}, inplace=True)# 替换列名称\n",
    "\n",
    "window=[i,i-1,i-2,i-3,i-4,i-5] #每次计算必须重新初始化window\n",
    "data_last_6M_max = sale_cal_max(data,window,65)\n",
    "data_last_6M_max.rename(columns={'sale_quantity_total_this_month': 'sale_quantity_total_last_6M_max', 'this_month_sale_class_count': 'last_6M_sale_class_count_max'}, inplace=True)# 替换列名称\n",
    "\n",
    "window=[i,i-1,i-2,i-3,i-4,i-5] #每次计算必须重新初始化window\n",
    "data_last_6M_min = sale_cal_min(data,window,65)\n",
    "data_last_6M_min.rename(columns={'sale_quantity_total_this_month': 'sale_quantity_total_last_6M_min', 'this_month_sale_class_count': 'last_6M_sale_class_count_min'}, inplace=True)# 替换列名称\n",
    "\n",
    "window=[i,i-1,i-2,i-3,i-4,i-5] #每次计算必须重新初始化window\n",
    "data_last_6M_mean = sale_cal_mean(data,window,65)\n",
    "data_last_6M_mean.rename(columns={'sale_quantity_total_this_month': 'sale_quantity_total_last_6M_mean', 'this_month_sale_class_count': 'last_6M_sale_class_count_mean'}, inplace=True)# 替换列名称\n",
    "\n",
    "window=[i,i-1,i-2,i-3,i-4,i-5] #每次计算必须重新初始化window\n",
    "data_last_6M_std = sale_cal_std(data,window,65)\n",
    "data_last_6M_std.rename(columns={'sale_quantity_total_this_month': 'sale_quantity_total_last_6M_std', 'this_month_sale_class_count': 'last_6M_sale_class_count_std'}, inplace=True)# 替换列名称"
   ]
  },
  {
   "cell_type": "code",
   "execution_count": 18,
   "metadata": {
    "collapsed": true
   },
   "outputs": [],
   "source": [
    "# 合并\n",
    "data = pd.merge(data, data_last_6M_sum, on=['class_id','sale_date'], how='left')\n",
    "data = pd.merge(data, data_last_6M_max, on=['class_id','sale_date'], how='left')\n",
    "data = pd.merge(data, data_last_6M_min, on=['class_id','sale_date'], how='left')\n",
    "data = pd.merge(data, data_last_6M_mean, on=['class_id','sale_date'], how='left')\n",
    "data = pd.merge(data, data_last_6M_std, on=['class_id','sale_date'], how='left')\n",
    "data.fillna(0, inplace=True)"
   ]
  },
  {
   "cell_type": "markdown",
   "metadata": {},
   "source": [
    "## 滑动 12 个月数据"
   ]
  },
  {
   "cell_type": "code",
   "execution_count": 19,
   "metadata": {
    "collapsed": true
   },
   "outputs": [],
   "source": [
    "i = data['sale_date'][0]+11  #从2013-1开始计算"
   ]
  },
  {
   "cell_type": "code",
   "execution_count": 20,
   "metadata": {
    "collapsed": true
   },
   "outputs": [],
   "source": [
    "window=[i,i-1,i-2,i-3,i-4,i-5,i-6,i-7,i-8,i-9,i-10,i-11] #每次计算必须重新初始化window\n",
    "data_last_12M_sum = sale_cal_sum(data,window,59) #计算近2个月的数据总共需要计算64个月\n",
    "data_last_12M_sum.rename(columns={'sale_quantity_total_this_month': 'sale_quantity_total_last_12M_sum', 'this_month_sale_class_count': 'last_12M_sale_class_count_sum'}, inplace=True)# 替换列名称\n",
    "\n",
    "window=[i,i-1,i-2,i-3,i-4,i-5,i-6,i-7,i-8,i-9,i-10,i-11] #每次计算必须重新初始化window\n",
    "data_last_12M_max = sale_cal_max(data,window,59)\n",
    "data_last_12M_max.rename(columns={'sale_quantity_total_this_month': 'sale_quantity_total_last_12M_max', 'this_month_sale_class_count': 'last_12M_sale_class_count_max'}, inplace=True)# 替换列名称\n",
    "\n",
    "window=[i,i-1,i-2,i-3,i-4,i-5,i-6,i-7,i-8,i-9,i-10,i-11] #每次计算必须重新初始化window\n",
    "data_last_12M_min = sale_cal_min(data,window,59)\n",
    "data_last_12M_min.rename(columns={'sale_quantity_total_this_month': 'sale_quantity_total_last_12M_min', 'this_month_sale_class_count': 'last_12M_sale_class_count_min'}, inplace=True)# 替换列名称\n",
    "\n",
    "window=[i,i-1,i-2,i-3,i-4,i-5,i-6,i-7,i-8,i-9,i-10,i-11] #每次计算必须重新初始化window\n",
    "data_last_12M_mean = sale_cal_mean(data,window,59)\n",
    "data_last_12M_mean.rename(columns={'sale_quantity_total_this_month': 'sale_quantity_total_last_12M_mean', 'this_month_sale_class_count': 'last_12M_sale_class_count_mean'}, inplace=True)# 替换列名称\n",
    "\n",
    "window=[i,i-1,i-2,i-3,i-4,i-5,i-6,i-7,i-8,i-9,i-10,i-11] #每次计算必须重新初始化window\n",
    "data_last_12M_std = sale_cal_std(data,window,59)\n",
    "data_last_12M_std.rename(columns={'sale_quantity_total_this_month': 'sale_quantity_total_last_12M_std', 'this_month_sale_class_count': 'last_12M_sale_class_count_std'}, inplace=True)# 替换列名称"
   ]
  },
  {
   "cell_type": "code",
   "execution_count": 21,
   "metadata": {
    "collapsed": true
   },
   "outputs": [],
   "source": [
    "# 合并\n",
    "data = pd.merge(data, data_last_12M_sum, on=['class_id','sale_date'], how='left')\n",
    "data = pd.merge(data, data_last_12M_max, on=['class_id','sale_date'], how='left')\n",
    "data = pd.merge(data, data_last_12M_min, on=['class_id','sale_date'], how='left')\n",
    "data = pd.merge(data, data_last_12M_mean, on=['class_id','sale_date'], how='left')\n",
    "data = pd.merge(data, data_last_12M_std, on=['class_id','sale_date'], how='left')\n",
    "data.fillna(0, inplace=True)"
   ]
  },
  {
   "cell_type": "code",
   "execution_count": 22,
   "metadata": {
    "collapsed": true
   },
   "outputs": [],
   "source": [
    "data = data.drop(['sale_quantity_total_this_month', 'sale_quantity_total_last_year'], axis=1)"
   ]
  },
  {
   "cell_type": "code",
   "execution_count": 23,
   "metadata": {
    "collapsed": true
   },
   "outputs": [],
   "source": [
    "data.to_csv('../../raw/LiChuan/TotalDataSet.csv',index=False, header=True)"
   ]
  },
  {
   "cell_type": "markdown",
   "metadata": {},
   "source": [
    "## 测试 LightGBM"
   ]
  },
  {
   "cell_type": "code",
   "execution_count": 24,
   "metadata": {
    "collapsed": true
   },
   "outputs": [],
   "source": [
    "# 去掉 2012 年数据\n",
    "data = data[data['year'] != 2012]\n",
    "labels = data['sale_quantity']\n",
    "data = data.drop(['sale_date', 'class_id', 'sale_quantity'], axis=1)"
   ]
  },
  {
   "cell_type": "code",
   "execution_count": 25,
   "metadata": {
    "collapsed": true
   },
   "outputs": [],
   "source": [
    "# 训练集 2013-01 至 2017-07, 测试集 2017-08\n",
    "train_1 = data[:-560]\n",
    "test_1 = data[-560:-420]\n",
    "labels_1 = labels[:-560]\n",
    "test_labels_1 = labels[-560:-420]\n",
    "\n",
    "# 训练集 2013-01 至 2017-08, 测试集 2017-09\n",
    "train_2 = data[:-420]\n",
    "test_2 = data[-420:-280]\n",
    "labels_2 = labels[:-420]\n",
    "test_labels_2 = labels[-420:-280]\n",
    "\n",
    "# 训练集 2013-01 至 2017-09, 测试集 2017-10\n",
    "train_3 = data[:-280]\n",
    "test_3 = data[-280:-140]\n",
    "labels_3 = labels[:-280]\n",
    "test_labels_3 = labels[-280:-140]"
   ]
  },
  {
   "cell_type": "code",
   "execution_count": 26,
   "metadata": {},
   "outputs": [
    {
     "name": "stdout",
     "output_type": "stream",
     "text": [
      "This time rmse is: 123.216579106\n"
     ]
    }
   ],
   "source": [
    "lgb_train_1 = lgb.Dataset(train_1, labels_1)\n",
    "\n",
    "params = {\n",
    "'learning_rate': 0.002,\n",
    "'boosting_type': 'gbdt',\n",
    "'objective': 'regression',\n",
    "'metric': 'rmse',\n",
    "'sub_feature': 0.8,\n",
    "'num_leaves': 35,\n",
    "'min_data': 20,\n",
    "'min_hessian': 1,\n",
    "'verbose': -1,}\n",
    "\n",
    "model_1 = lgb.train(params, lgb_train_1, 900)\n",
    "lgb_pred_1 = model_1.predict(test_1)\n",
    "rmsetmp_1 = sp.sqrt(sp.mean((test_labels_1 - lgb_pred_1) ** 2))\n",
    "\n",
    "print('This time rmse is: '+ str(rmsetmp_1))"
   ]
  },
  {
   "cell_type": "code",
   "execution_count": 27,
   "metadata": {},
   "outputs": [
    {
     "name": "stdout",
     "output_type": "stream",
     "text": [
      "This time rmse is: 121.880387939\n"
     ]
    }
   ],
   "source": [
    "lgb_train_2 = lgb.Dataset(train_2, labels_2)\n",
    "\n",
    "params = {\n",
    "'learning_rate': 0.002,\n",
    "'boosting_type': 'gbdt',\n",
    "'objective': 'regression',\n",
    "'metric': 'rmse',\n",
    "'sub_feature': 0.8,\n",
    "'num_leaves': 35,\n",
    "'min_data': 20,\n",
    "'min_hessian': 1,\n",
    "'verbose': -1,}\n",
    "\n",
    "model_2 = lgb.train(params, lgb_train_2, 900)\n",
    "lgb_pred_2 = model_2.predict(test_2)\n",
    "rmsetmp_2 = sp.sqrt(sp.mean((test_labels_2 - lgb_pred_2) ** 2))\n",
    "\n",
    "print('This time rmse is: '+ str(rmsetmp_2))"
   ]
  },
  {
   "cell_type": "code",
   "execution_count": 28,
   "metadata": {},
   "outputs": [
    {
     "name": "stdout",
     "output_type": "stream",
     "text": [
      "This time rmse is: 145.407142519\n"
     ]
    }
   ],
   "source": [
    "lgb_train_3 = lgb.Dataset(train_3, labels_3)\n",
    "\n",
    "params = {\n",
    "'learning_rate': 0.003,\n",
    "'boosting_type': 'gbdt',\n",
    "'objective': 'regression',\n",
    "'metric': 'rmse',\n",
    "'sub_feature': 0.8,\n",
    "'num_leaves': 35,\n",
    "'min_data': 30,\n",
    "'min_hessian': 1,\n",
    "'verbose': -1,}\n",
    "\n",
    "model_3 = lgb.train(params, lgb_train_3, 900)\n",
    "lgb_pred_3 = model_3.predict(test_3)\n",
    "rmsetmp_3 = sp.sqrt(sp.mean((test_labels_3 - lgb_pred_3) ** 2))\n",
    "\n",
    "print('This time rmse is: '+ str(rmsetmp_3))"
   ]
  },
  {
   "cell_type": "code",
   "execution_count": 29,
   "metadata": {},
   "outputs": [
    {
     "name": "stdout",
     "output_type": "stream",
     "text": [
      "The average rmse is: 130.168036521\n"
     ]
    }
   ],
   "source": [
    "print('The average rmse is: '+ str((rmsetmp_1 + rmsetmp_2 + rmsetmp_3)/3))"
   ]
  },
  {
   "cell_type": "markdown",
   "metadata": {},
   "source": [
    "* 废了好大功夫, 反而下降了"
   ]
  }
 ],
 "metadata": {
  "kernelspec": {
   "display_name": "Python 3",
   "language": "python",
   "name": "python3"
  },
  "language_info": {
   "codemirror_mode": {
    "name": "ipython",
    "version": 3
   },
   "file_extension": ".py",
   "mimetype": "text/x-python",
   "name": "python",
   "nbconvert_exporter": "python",
   "pygments_lexer": "ipython3",
   "version": "3.6.3"
  },
  "toc": {
   "nav_menu": {},
   "number_sections": true,
   "sideBar": true,
   "skip_h1_title": false,
   "toc_cell": false,
   "toc_position": {},
   "toc_section_display": "block",
   "toc_window_display": false
  }
 },
 "nbformat": 4,
 "nbformat_minor": 2
}
