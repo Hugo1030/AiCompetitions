{
 "cells": [
  {
   "cell_type": "markdown",
   "metadata": {},
   "source": [
    "* 选用不同特征集\n",
    "* 重新划分测试集进行测试\n",
    "    * 训练集01 2013-01 至 2017-07, 测试集 2017-08\n",
    "    * 训练集02 2013-01 至 2017-08, 测试集 2017-09\n",
    "    * 训练集03 2013-01 至 2017-09, 测试集 2017-10\n",
    "* 后面再重新划分训练集, 最好选用相同时长, 测试结果最佳为宜\n",
    "* 测试一下去掉去年总销量的 LightGBM\n",
    "* 测试 XGBoost/LightGBM\n",
    "* 测试一下改变训练集\n",
    "    * 训练集01 2013-08 至 2017-07, 测试集 2017-08\n",
    "    * 训练集02 2013-09 至 2017-08, 测试集 2017-09\n",
    "    * 训练集03 2013-10 至 2017-09, 测试集 2017-10\n",
    "* 只保留平均数试试, 看到 Kaggle 的启发, 没有什么效果\n",
    "* 去掉 6 月的时间窗口, Average RMSE 121, 区别也不大\n",
    "* 发现 12月前销量数据对 LightGBM 模型影响挺大, 试试增加 2/3/6 时间窗口数据, 没有任何效果"
   ]
  },
  {
   "cell_type": "markdown",
   "metadata": {},
   "source": [
    "# 选用带时间窗口, 带同比/环比数据集 特征集测试"
   ]
  },
  {
   "cell_type": "code",
   "execution_count": 589,
   "metadata": {
    "collapsed": true
   },
   "outputs": [],
   "source": [
    "import numpy as np\n",
    "import matplotlib.pyplot as plt\n",
    "import seaborn as sns\n",
    "import pandas as pd\n",
    "import scipy as sp\n",
    "from sklearn.model_selection import train_test_split, cross_val_score, KFold\n",
    "import lightgbm as lgb\n",
    "import xgboost as xgb\n",
    "from scipy.stats import norm, skew\n",
    "\n",
    "import warnings\n",
    "warnings.filterwarnings('ignore')\n",
    "%matplotlib inline"
   ]
  },
  {
   "cell_type": "code",
   "execution_count": 590,
   "metadata": {
    "collapsed": true
   },
   "outputs": [],
   "source": [
    "data = pd.read_csv('../../raw/LiChuan/dataset.csv')\n",
    "submit = pd.read_csv('../../raw/CarsSaleForecast/yancheng_testA_20171225.csv')"
   ]
  },
  {
   "cell_type": "code",
   "execution_count": 591,
   "metadata": {
    "collapsed": true
   },
   "outputs": [],
   "source": [
    "# 去掉 2012 年数据\n",
    "data = data[data['year'] != 2012]\n",
    "labels = data['sale_quantity']\n",
    "data = data.drop(['sale_date', 'class_id', 'sale_quantity'], axis=1)"
   ]
  },
  {
   "cell_type": "code",
   "execution_count": 592,
   "metadata": {
    "collapsed": true
   },
   "outputs": [],
   "source": [
    "# 训练集 2013-01 至 2017-07, 测试集 2017-08\n",
    "train_1 = data[:-560]\n",
    "test_1 = data[-560:-420]\n",
    "labels_1 = labels[:-560]\n",
    "test_labels_1 = labels[-560:-420]\n",
    "\n",
    "# 训练集 2013-01 至 2017-08, 测试集 2017-09\n",
    "train_2 = data[:-420]\n",
    "test_2 = data[-420:-280]\n",
    "labels_2 = labels[:-420]\n",
    "test_labels_2 = labels[-420:-280]\n",
    "\n",
    "# 训练集 2013-01 至 2017-09, 测试集 2017-10\n",
    "train_3 = data[:-280]\n",
    "test_3 = data[-280:-140]\n",
    "labels_3 = labels[:-280]\n",
    "test_labels_3 = labels[-280:-140]"
   ]
  },
  {
   "cell_type": "markdown",
   "metadata": {},
   "source": [
    "## 测试 LightGBM"
   ]
  },
  {
   "cell_type": "code",
   "execution_count": 593,
   "metadata": {},
   "outputs": [
    {
     "name": "stdout",
     "output_type": "stream",
     "text": [
      "This time rmse is: 124.901886283\n"
     ]
    }
   ],
   "source": [
    "lgb_train_1 = lgb.Dataset(train_1, labels_1)\n",
    "\n",
    "params = {\n",
    "'learning_rate': 0.002,\n",
    "'boosting_type': 'gbdt',\n",
    "'objective': 'regression',\n",
    "'metric': 'rmse',\n",
    "'sub_feature': 0.8,\n",
    "'num_leaves': 35,\n",
    "'min_data': 20,\n",
    "'min_hessian': 1,\n",
    "'verbose': -1,}\n",
    "\n",
    "model_1 = lgb.train(params, lgb_train_1, 900)\n",
    "lgb_pred_1 = model_1.predict(test_1)\n",
    "rmsetmp_1 = sp.sqrt(sp.mean((test_labels_1 - lgb_pred_1) ** 2))\n",
    "\n",
    "print('This time rmse is: '+ str(rmsetmp_1))"
   ]
  },
  {
   "cell_type": "code",
   "execution_count": 594,
   "metadata": {},
   "outputs": [
    {
     "name": "stdout",
     "output_type": "stream",
     "text": [
      "This time rmse is: 112.545135865\n"
     ]
    }
   ],
   "source": [
    "lgb_train_2 = lgb.Dataset(train_2, labels_2)\n",
    "\n",
    "params = {\n",
    "'learning_rate': 0.002,\n",
    "'boosting_type': 'gbdt',\n",
    "'objective': 'regression',\n",
    "'metric': 'rmse',\n",
    "'sub_feature': 0.8,\n",
    "'num_leaves': 35,\n",
    "'min_data': 20,\n",
    "'min_hessian': 1,\n",
    "'verbose': -1,}\n",
    "\n",
    "model_2 = lgb.train(params, lgb_train_2, 1000)\n",
    "lgb_pred_2 = model_2.predict(test_2)\n",
    "rmsetmp_2 = sp.sqrt(sp.mean((test_labels_2 - lgb_pred_2) ** 2))\n",
    "\n",
    "print('This time rmse is: '+ str(rmsetmp_2))"
   ]
  },
  {
   "cell_type": "code",
   "execution_count": 595,
   "metadata": {},
   "outputs": [
    {
     "name": "stdout",
     "output_type": "stream",
     "text": [
      "This time rmse is: 125.921551568\n"
     ]
    }
   ],
   "source": [
    "lgb_train_3 = lgb.Dataset(train_3, labels_3)\n",
    "\n",
    "params = {\n",
    "'learning_rate': 0.002,\n",
    "'boosting_type': 'gbdt',\n",
    "'objective': 'regression',\n",
    "'metric': 'rmse',\n",
    "'sub_feature': 0.8,\n",
    "'num_leaves': 35,\n",
    "'min_data': 20,\n",
    "'min_hessian': 1,\n",
    "'verbose': -1,}\n",
    "\n",
    "model_3 = lgb.train(params, lgb_train_3, 1145)\n",
    "lgb_pred_3 = model_3.predict(test_3)\n",
    "rmsetmp_3 = sp.sqrt(sp.mean((test_labels_3 - lgb_pred_3) ** 2))\n",
    "\n",
    "print('This time rmse is: '+ str(rmsetmp_3))"
   ]
  },
  {
   "cell_type": "code",
   "execution_count": 596,
   "metadata": {},
   "outputs": [
    {
     "name": "stdout",
     "output_type": "stream",
     "text": [
      "The average rmse is: 121.122857905\n"
     ]
    }
   ],
   "source": [
    "print('The average rmse is: '+ str((rmsetmp_1 + rmsetmp_2 + rmsetmp_3)/3))"
   ]
  },
  {
   "cell_type": "markdown",
   "metadata": {},
   "source": [
    "* 加上同比/环比 特征 LightGBM 测试的效果不错\n",
    "* 稍微变化一下训练集, 效果没什么变化\n",
    "* 去掉环比, LGB 效果居然下降了和 XGBoost 不同"
   ]
  },
  {
   "cell_type": "code",
   "execution_count": 597,
   "metadata": {},
   "outputs": [
    {
     "name": "stdout",
     "output_type": "stream",
     "text": [
      "Features importance...\n",
      "                            feature       gain  split\n",
      "159       sale_quantity_last_3M_sum  37.788769    781\n",
      "144   sale_quantity_this_last_month  14.117748   3739\n",
      "171       sale_quantity_last_2M_sum   9.948183    849\n",
      "162      sale_quantity_last_3M_mean   8.340044    154\n",
      "170    sale_quantity_last_6M_median   7.487724   1253\n",
      "183      sale_quantity_last_12M_ago   4.772361   2484\n",
      "161       sale_quantity_last_3M_min   2.689271   1114\n",
      "174      sale_quantity_last_2M_mean   2.024896    175\n",
      "164    sale_quantity_last_3M_median   1.851267   1202\n",
      "113                           month   1.524849   5779\n",
      "177      sale_quantity_last_12M_sum   1.513910    589\n",
      "173       sale_quantity_last_2M_min   1.354212   1182\n",
      "160       sale_quantity_last_3M_max   0.655480    576\n",
      "184    month_relative_ratio_12M_ago   0.637789   1900\n",
      "145  sale_quantity_total_last_month   0.599437   3033\n",
      "178      sale_quantity_last_12M_max   0.473822    423\n",
      "172       sale_quantity_last_2M_max   0.459403    548\n",
      "182   sale_quantity_last_12M_median   0.385020   1090\n",
      "100         how_many_month_has_sell   0.372404   1591\n",
      "180     sale_quantity_last_12M_mean   0.305938    134\n",
      "146   sale_quantity_total_last_year   0.275216   1311\n",
      "181      sale_quantity_last_12M_std   0.258104    755\n",
      "176    sale_quantity_last_2M_median   0.252988     29\n",
      "179      sale_quantity_last_12M_min   0.181305    463\n",
      "166       sale_quantity_last_6M_max   0.180680    506\n"
     ]
    },
    {
     "data": {
      "text/plain": [
       "<matplotlib.figure.Figure at 0x114dbbe48>"
      ]
     },
     "metadata": {},
     "output_type": "display_data"
    },
    {
     "data": {
      "image/png": "[encoded data removed]",
      "text/plain": [
       "<matplotlib.figure.Figure at 0x114058198>"
      ]
     },
     "metadata": {},
     "output_type": "display_data"
    }
   ],
   "source": [
    "print(\"Features importance...\")\n",
    "gain = model_3.feature_importance('gain')\n",
    "ft = pd.DataFrame({'feature':model_3.feature_name(), 'split':model_3.feature_importance('split'), 'gain':100 * gain / gain.sum()}).sort_values('gain', ascending=False)\n",
    "print(ft.head(25))\n",
    "\n",
    "plt.figure()\n",
    "ft[['feature','gain']].head(20).plot(kind='barh', x='feature', y='gain', legend=False, figsize=(10, 20))\n",
    "plt.gcf().savefig('features_importance.png')"
   ]
  },
  {
   "cell_type": "markdown",
   "metadata": {},
   "source": [
    "* 居然是时间窗口的重要性最大\n",
    "* 考虑是不是增加时间窗口"
   ]
  },
  {
   "cell_type": "markdown",
   "metadata": {},
   "source": [
    "## 测试 XGBoost"
   ]
  },
  {
   "cell_type": "code",
   "execution_count": 27,
   "metadata": {},
   "outputs": [
    {
     "name": "stdout",
     "output_type": "stream",
     "text": [
      "This time rmse is: 189.132249402\n"
     ]
    }
   ],
   "source": [
    "trainset_1 = xgb.DMatrix(train_1, label=labels_1)\n",
    "testset_1 = xgb.DMatrix(test_1)\n",
    "\n",
    "params = {\n",
    "    'booster': 'gbtree', # 基于树的模型进行计算\n",
    "    'objective': 'reg:linear', # 线性回归\n",
    "    'eval_metric': 'rmse', # RMSE 评价函数\n",
    "    'gamma': 0.1, # 在树的叶子节点上进一步划分所需的最小损失减少。算法越大，越保守。\n",
    "    'min_child_weight': 1.1, # 孩子节点中最小的样本权重和。如果一个叶子节点的样本权重和小于min_child_weight则拆分过程结束。\n",
    "    'max_depth': 5, # 树的最大深度。缺省值为6\n",
    "    'lambda': 10, # L2 正则的惩罚系数\n",
    "    'subsample': 0.8, # 用于训练模型的子样本占整个样本集合的比例。\n",
    "    'colsample_bytree': 0.8, # 在建立树时对特征采样的比例。\n",
    "    'tree_method': 'exact' # 树的构造算法-Exact greedy algorithm(确切贪心算法)\n",
    "    }\n",
    "    \n",
    "model_1 = xgb.train(params, trainset_1, num_boost_round=4000)\n",
    "predict_xgb_1 = model_1.predict(testset_1)\n",
    "rmsetmp_1 = sp.sqrt(sp.mean((test_labels_1 - predict_xgb_1) ** 2))\n",
    "\n",
    "print('This time rmse is: '+ str(rmsetmp_1))"
   ]
  },
  {
   "cell_type": "code",
   "execution_count": 29,
   "metadata": {},
   "outputs": [
    {
     "name": "stdout",
     "output_type": "stream",
     "text": [
      "This time rmse is: 136.468074536\n"
     ]
    }
   ],
   "source": [
    "trainset_2 = xgb.DMatrix(train_2, label=labels_2)\n",
    "testset_2 = xgb.DMatrix(test_2)\n",
    "\n",
    "params = {\n",
    "    'booster': 'gbtree', # 基于树的模型进行计算\n",
    "    'objective': 'reg:linear', # 线性回归\n",
    "    'eval_metric': 'rmse', # RMSE 评价函数\n",
    "    'gamma': 0.1, # 在树的叶子节点上进一步划分所需的最小损失减少。算法越大，越保守。\n",
    "    'min_child_weight': 1.1, # 孩子节点中最小的样本权重和。如果一个叶子节点的样本权重和小于min_child_weight则拆分过程结束。\n",
    "    'max_depth': 5, # 树的最大深度。缺省值为6\n",
    "    'lambda': 10, # L2 正则的惩罚系数\n",
    "    'subsample': 0.8, # 用于训练模型的子样本占整个样本集合的比例。\n",
    "    'colsample_bytree': 0.8, # 在建立树时对特征采样的比例。\n",
    "    'tree_method': 'exact' # 树的构造算法-Exact greedy algorithm(确切贪心算法)\n",
    "    }\n",
    "    \n",
    "model_2 = xgb.train(params, trainset_2, num_boost_round=4000)\n",
    "predict_xgb_2 = model_2.predict(testset_2)\n",
    "rmsetmp_2 = sp.sqrt(sp.mean((test_labels_2 - predict_xgb_2) ** 2))\n",
    "\n",
    "print('This time rmse is: '+ str(rmsetmp_2))"
   ]
  },
  {
   "cell_type": "code",
   "execution_count": 30,
   "metadata": {},
   "outputs": [
    {
     "name": "stdout",
     "output_type": "stream",
     "text": [
      "This time rmse is: 144.117899382\n"
     ]
    }
   ],
   "source": [
    "trainset_3 = xgb.DMatrix(train_3, label=labels_3)\n",
    "testset_3 = xgb.DMatrix(test_3)\n",
    "\n",
    "params = {\n",
    "    'booster': 'gbtree', # 基于树的模型进行计算\n",
    "    'objective': 'reg:linear', # 线性回归\n",
    "    'eval_metric': 'rmse', # RMSE 评价函数\n",
    "    'gamma': 0.1, # 在树的叶子节点上进一步划分所需的最小损失减少。算法越大，越保守。\n",
    "    'min_child_weight': 1.1, # 孩子节点中最小的样本权重和。如果一个叶子节点的样本权重和小于min_child_weight则拆分过程结束。\n",
    "    'max_depth': 5, # 树的最大深度。缺省值为6\n",
    "    'lambda': 10, # L3 正则的惩罚系数\n",
    "    'subsample': 0.8, # 用于训练模型的子样本占整个样本集合的比例。\n",
    "    'colsample_bytree': 0.8, # 在建立树时对特征采样的比例。\n",
    "    'tree_method': 'exact' # 树的构造算法-Exact greedy algorithm(确切贪心算法)\n",
    "    }\n",
    "    \n",
    "model_3 = xgb.train(params, trainset_3, num_boost_round=4000)\n",
    "predict_xgb_3 = model_3.predict(testset_3)\n",
    "rmsetmp_3 = sp.sqrt(sp.mean((test_labels_3 - predict_xgb_3) ** 2))\n",
    "\n",
    "print('This time rmse is: '+ str(rmsetmp_3))"
   ]
  },
  {
   "cell_type": "code",
   "execution_count": 31,
   "metadata": {},
   "outputs": [
    {
     "name": "stdout",
     "output_type": "stream",
     "text": [
      "The average rmse is: 156.572741106\n"
     ]
    }
   ],
   "source": [
    "print('The average rmse is: '+ str((rmsetmp_1 + rmsetmp_2 + rmsetmp_3)/3))"
   ]
  },
  {
   "cell_type": "markdown",
   "metadata": {},
   "source": [
    "* 选取全特征, 加上同比/环比 数据, XGBoost 模型效果较差, 不使用这样的特征"
   ]
  },
  {
   "cell_type": "markdown",
   "metadata": {},
   "source": [
    "# 选用带时间窗口, 不带同比/环比数据集 特征集测试"
   ]
  },
  {
   "cell_type": "code",
   "execution_count": 34,
   "metadata": {
    "collapsed": true
   },
   "outputs": [],
   "source": [
    "data = pd.read_csv('../../raw/LiChuan/trainallfeatures.csv')\n",
    "submit = pd.read_csv('../../raw/CarsSaleForecast/yancheng_testA_20171225.csv')"
   ]
  },
  {
   "cell_type": "code",
   "execution_count": 35,
   "metadata": {
    "collapsed": true
   },
   "outputs": [],
   "source": [
    "# 去掉 2012 年数据\n",
    "data = data[data['year'] != 2012]\n",
    "labels = data['sale_quantity']\n",
    "data = data.drop(['sale_date', 'class_id', 'sale_quantity'], axis=1)"
   ]
  },
  {
   "cell_type": "code",
   "execution_count": 36,
   "metadata": {
    "collapsed": true
   },
   "outputs": [],
   "source": [
    "# 训练集 2013-01 至 2017-07, 测试集 2017-08\n",
    "train_1 = data[:-560]\n",
    "test_1 = data[-560:-420]\n",
    "labels_1 = labels[:-560]\n",
    "test_labels_1 = labels[-560:-420]\n",
    "\n",
    "# 训练集 2013-01 至 2017-08, 测试集 2017-09\n",
    "train_2 = data[:-420]\n",
    "test_2 = data[-420:-280]\n",
    "labels_2 = labels[:-420]\n",
    "test_labels_2 = labels[-420:-280]\n",
    "\n",
    "# 训练集 2013-01 至 2017-09, 测试集 2017-10\n",
    "train_3 = data[:-280]\n",
    "test_3 = data[-280:-140]\n",
    "labels_3 = labels[:-280]\n",
    "test_labels_3 = labels[-280:-140]"
   ]
  },
  {
   "cell_type": "markdown",
   "metadata": {},
   "source": [
    "## 测试 LightGBM"
   ]
  },
  {
   "cell_type": "code",
   "execution_count": 38,
   "metadata": {},
   "outputs": [
    {
     "name": "stdout",
     "output_type": "stream",
     "text": [
      "This time rmse is: 145.116054859\n"
     ]
    }
   ],
   "source": [
    "lgb_train_1 = lgb.Dataset(train_1, labels_1)\n",
    "\n",
    "params = {\n",
    "'learning_rate': 0.002,\n",
    "'boosting_type': 'gbdt',\n",
    "'objective': 'regression',\n",
    "'metric': 'rmse',\n",
    "'sub_feature': 0.8,\n",
    "'num_leaves': 35,\n",
    "'min_data': 20,\n",
    "'min_hessian': 1,\n",
    "'verbose': -1,}\n",
    "\n",
    "model_1 = lgb.train(params, lgb_train_1, 900)\n",
    "lgb_pred_1 = model_1.predict(test_1)\n",
    "rmsetmp_1 = sp.sqrt(sp.mean((test_labels_1 - lgb_pred_1) ** 2))\n",
    "\n",
    "print('This time rmse is: '+ str(rmsetmp_1))"
   ]
  },
  {
   "cell_type": "code",
   "execution_count": 39,
   "metadata": {},
   "outputs": [
    {
     "name": "stdout",
     "output_type": "stream",
     "text": [
      "This time rmse is: 116.378154374\n"
     ]
    }
   ],
   "source": [
    "lgb_train_2 = lgb.Dataset(train_2, labels_2)\n",
    "\n",
    "params = {\n",
    "'learning_rate': 0.002,\n",
    "'boosting_type': 'gbdt',\n",
    "'objective': 'regression',\n",
    "'metric': 'rmse',\n",
    "'sub_feature': 0.8,\n",
    "'num_leaves': 35,\n",
    "'min_data': 20,\n",
    "'min_hessian': 1,\n",
    "'verbose': -1,}\n",
    "\n",
    "model_2 = lgb.train(params, lgb_train_2, 900)\n",
    "lgb_pred_2 = model_2.predict(test_2)\n",
    "rmsetmp_2 = sp.sqrt(sp.mean((test_labels_2 - lgb_pred_2) ** 2))\n",
    "\n",
    "print('This time rmse is: '+ str(rmsetmp_2))"
   ]
  },
  {
   "cell_type": "code",
   "execution_count": 40,
   "metadata": {},
   "outputs": [
    {
     "name": "stdout",
     "output_type": "stream",
     "text": [
      "This time rmse is: 150.31146246\n"
     ]
    }
   ],
   "source": [
    "lgb_train_3 = lgb.Dataset(train_3, labels_3)\n",
    "\n",
    "params = {\n",
    "'learning_rate': 0.003,\n",
    "'boosting_type': 'gbdt',\n",
    "'objective': 'regression',\n",
    "'metric': 'rmse',\n",
    "'sub_feature': 0.8,\n",
    "'num_leaves': 35,\n",
    "'min_data': 30,\n",
    "'min_hessian': 1,\n",
    "'verbose': -1,}\n",
    "\n",
    "model_3 = lgb.train(params, lgb_train_3, 900)\n",
    "lgb_pred_3 = model_3.predict(test_3)\n",
    "rmsetmp_3 = sp.sqrt(sp.mean((test_labels_3 - lgb_pred_3) ** 2))\n",
    "\n",
    "print('This time rmse is: '+ str(rmsetmp_3))"
   ]
  },
  {
   "cell_type": "code",
   "execution_count": 41,
   "metadata": {},
   "outputs": [
    {
     "name": "stdout",
     "output_type": "stream",
     "text": [
      "The average rmse is: 137.268557231\n"
     ]
    }
   ],
   "source": [
    "print('The average rmse is: '+ str((rmsetmp_1 + rmsetmp_2 + rmsetmp_3)/3))"
   ]
  },
  {
   "cell_type": "markdown",
   "metadata": {},
   "source": [
    "* LightGBM 效果不如加上同比/环比 特征"
   ]
  },
  {
   "cell_type": "markdown",
   "metadata": {},
   "source": [
    "## 测试 XGBoost"
   ]
  },
  {
   "cell_type": "code",
   "execution_count": 42,
   "metadata": {},
   "outputs": [
    {
     "name": "stdout",
     "output_type": "stream",
     "text": [
      "This time rmse is: 193.746542278\n"
     ]
    }
   ],
   "source": [
    "trainset_1 = xgb.DMatrix(train_1, label=labels_1)\n",
    "testset_1 = xgb.DMatrix(test_1)\n",
    "\n",
    "params = {\n",
    "    'booster': 'gbtree', # 基于树的模型进行计算\n",
    "    'objective': 'reg:linear', # 线性回归\n",
    "    'eval_metric': 'rmse', # RMSE 评价函数\n",
    "    'gamma': 0.1, # 在树的叶子节点上进一步划分所需的最小损失减少。算法越大，越保守。\n",
    "    'min_child_weight': 1.1, # 孩子节点中最小的样本权重和。如果一个叶子节点的样本权重和小于min_child_weight则拆分过程结束。\n",
    "    'max_depth': 5, # 树的最大深度。缺省值为6\n",
    "    'lambda': 10, # L2 正则的惩罚系数\n",
    "    'subsample': 0.8, # 用于训练模型的子样本占整个样本集合的比例。\n",
    "    'colsample_bytree': 0.8, # 在建立树时对特征采样的比例。\n",
    "    'tree_method': 'exact' # 树的构造算法-Exact greedy algorithm(确切贪心算法)\n",
    "    }\n",
    "    \n",
    "model_1 = xgb.train(params, trainset_1, num_boost_round=4000)\n",
    "predict_xgb_1 = model_1.predict(testset_1)\n",
    "rmsetmp_1 = sp.sqrt(sp.mean((test_labels_1 - predict_xgb_1) ** 2))\n",
    "\n",
    "print('This time rmse is: '+ str(rmsetmp_1))"
   ]
  },
  {
   "cell_type": "code",
   "execution_count": 43,
   "metadata": {},
   "outputs": [
    {
     "name": "stdout",
     "output_type": "stream",
     "text": [
      "This time rmse is: 135.365487254\n"
     ]
    }
   ],
   "source": [
    "trainset_2 = xgb.DMatrix(train_2, label=labels_2)\n",
    "testset_2 = xgb.DMatrix(test_2)\n",
    "\n",
    "params = {\n",
    "    'booster': 'gbtree', # 基于树的模型进行计算\n",
    "    'objective': 'reg:linear', # 线性回归\n",
    "    'eval_metric': 'rmse', # RMSE 评价函数\n",
    "    'gamma': 0.1, # 在树的叶子节点上进一步划分所需的最小损失减少。算法越大，越保守。\n",
    "    'min_child_weight': 1.1, # 孩子节点中最小的样本权重和。如果一个叶子节点的样本权重和小于min_child_weight则拆分过程结束。\n",
    "    'max_depth': 5, # 树的最大深度。缺省值为6\n",
    "    'lambda': 10, # L2 正则的惩罚系数\n",
    "    'subsample': 0.8, # 用于训练模型的子样本占整个样本集合的比例。\n",
    "    'colsample_bytree': 0.8, # 在建立树时对特征采样的比例。\n",
    "    'tree_method': 'exact' # 树的构造算法-Exact greedy algorithm(确切贪心算法)\n",
    "    }\n",
    "    \n",
    "model_2 = xgb.train(params, trainset_2, num_boost_round=4000)\n",
    "predict_xgb_2 = model_2.predict(testset_2)\n",
    "rmsetmp_2 = sp.sqrt(sp.mean((test_labels_2 - predict_xgb_2) ** 2))\n",
    "\n",
    "print('This time rmse is: '+ str(rmsetmp_2))"
   ]
  },
  {
   "cell_type": "code",
   "execution_count": 44,
   "metadata": {},
   "outputs": [
    {
     "name": "stdout",
     "output_type": "stream",
     "text": [
      "This time rmse is: 131.289320436\n"
     ]
    }
   ],
   "source": [
    "trainset_3 = xgb.DMatrix(train_3, label=labels_3)\n",
    "testset_3 = xgb.DMatrix(test_3)\n",
    "\n",
    "params = {\n",
    "    'booster': 'gbtree', # 基于树的模型进行计算\n",
    "    'objective': 'reg:linear', # 线性回归\n",
    "    'eval_metric': 'rmse', # RMSE 评价函数\n",
    "    'gamma': 0.1, # 在树的叶子节点上进一步划分所需的最小损失减少。算法越大，越保守。\n",
    "    'min_child_weight': 1.1, # 孩子节点中最小的样本权重和。如果一个叶子节点的样本权重和小于min_child_weight则拆分过程结束。\n",
    "    'max_depth': 5, # 树的最大深度。缺省值为6\n",
    "    'lambda': 10, # L3 正则的惩罚系数\n",
    "    'subsample': 0.8, # 用于训练模型的子样本占整个样本集合的比例。\n",
    "    'colsample_bytree': 0.8, # 在建立树时对特征采样的比例。\n",
    "    'tree_method': 'exact' # 树的构造算法-Exact greedy algorithm(确切贪心算法)\n",
    "    }\n",
    "    \n",
    "model_3 = xgb.train(params, trainset_3, num_boost_round=4000)\n",
    "predict_xgb_3 = model_3.predict(testset_3)\n",
    "rmsetmp_3 = sp.sqrt(sp.mean((test_labels_3 - predict_xgb_3) ** 2))\n",
    "\n",
    "print('This time rmse is: '+ str(rmsetmp_3))"
   ]
  },
  {
   "cell_type": "code",
   "execution_count": 45,
   "metadata": {},
   "outputs": [
    {
     "name": "stdout",
     "output_type": "stream",
     "text": [
      "The average rmse is: 153.467116656\n"
     ]
    }
   ],
   "source": [
    "print('The average rmse is: '+ str((rmsetmp_1 + rmsetmp_2 + rmsetmp_3)/3))"
   ]
  },
  {
   "cell_type": "markdown",
   "metadata": {},
   "source": [
    "* 比上面加同比/环比, 略微强一点"
   ]
  },
  {
   "cell_type": "markdown",
   "metadata": {},
   "source": [
    "# 不带时间窗口特征"
   ]
  },
  {
   "cell_type": "code",
   "execution_count": 46,
   "metadata": {
    "collapsed": true
   },
   "outputs": [],
   "source": [
    "data = pd.read_csv('../../raw/LiChuan/trainSaleDate.csv')\n",
    "submit = pd.read_csv('../../raw/CarsSaleForecast/yancheng_testA_20171225.csv')"
   ]
  },
  {
   "cell_type": "code",
   "execution_count": 52,
   "metadata": {
    "collapsed": true,
    "scrolled": true
   },
   "outputs": [],
   "source": [
    "# 去掉 2012 年数据\n",
    "data = data[data['year'] != 2012]\n",
    "labels = data['sale_quantity']\n",
    "data = data.drop(['sale_date', 'class_id', 'sale_quantity'], axis=1)"
   ]
  },
  {
   "cell_type": "code",
   "execution_count": 54,
   "metadata": {
    "collapsed": true
   },
   "outputs": [],
   "source": [
    "# 训练集 2013-01 至 2017-07, 测试集 2017-08\n",
    "train_1 = data[:-420]\n",
    "test_1 = data[-420:-280]\n",
    "labels_1 = labels[:-420]\n",
    "test_labels_1 = labels[-420:-280]\n",
    "\n",
    "# 训练集 2013-01 至 2017-08, 测试集 2017-09\n",
    "train_2 = data[:-280]\n",
    "test_2 = data[-280:-140]\n",
    "labels_2 = labels[:-280]\n",
    "test_labels_2 = labels[-280:-140]\n",
    "\n",
    "# 训练集 2013-01 至 2017-09, 测试集 2017-10\n",
    "train_3 = data[:-140]\n",
    "test_3 = data[-140:]\n",
    "labels_3 = labels[:-140]\n",
    "test_labels_3 = labels[-140:]"
   ]
  },
  {
   "cell_type": "markdown",
   "metadata": {},
   "source": [
    "## 测试 LightGBM"
   ]
  },
  {
   "cell_type": "code",
   "execution_count": 56,
   "metadata": {},
   "outputs": [
    {
     "name": "stdout",
     "output_type": "stream",
     "text": [
      "This time rmse is: 152.625651074\n"
     ]
    }
   ],
   "source": [
    "lgb_train_1 = lgb.Dataset(train_1, labels_1)\n",
    "\n",
    "params = {\n",
    "'learning_rate': 0.002,\n",
    "'boosting_type': 'gbdt',\n",
    "'objective': 'regression',\n",
    "'metric': 'rmse',\n",
    "'sub_feature': 0.8,\n",
    "'num_leaves': 35,\n",
    "'min_data': 20,\n",
    "'min_hessian': 1,\n",
    "'verbose': -1,}\n",
    "\n",
    "model_1 = lgb.train(params, lgb_train_1, 900)\n",
    "lgb_pred_1 = model_1.predict(test_1)\n",
    "rmsetmp_1 = sp.sqrt(sp.mean((test_labels_1 - lgb_pred_1) ** 2))\n",
    "\n",
    "print('This time rmse is: '+ str(rmsetmp_1))"
   ]
  },
  {
   "cell_type": "code",
   "execution_count": 57,
   "metadata": {},
   "outputs": [
    {
     "name": "stdout",
     "output_type": "stream",
     "text": [
      "This time rmse is: 120.574974352\n"
     ]
    }
   ],
   "source": [
    "lgb_train_2 = lgb.Dataset(train_2, labels_2)\n",
    "\n",
    "params = {\n",
    "'learning_rate': 0.002,\n",
    "'boosting_type': 'gbdt',\n",
    "'objective': 'regression',\n",
    "'metric': 'rmse',\n",
    "'sub_feature': 0.8,\n",
    "'num_leaves': 35,\n",
    "'min_data': 20,\n",
    "'min_hessian': 1,\n",
    "'verbose': -1,}\n",
    "\n",
    "model_2 = lgb.train(params, lgb_train_2, 900)\n",
    "lgb_pred_2 = model_2.predict(test_2)\n",
    "rmsetmp_2 = sp.sqrt(sp.mean((test_labels_2 - lgb_pred_2) ** 2))\n",
    "\n",
    "print('This time rmse is: '+ str(rmsetmp_2))"
   ]
  },
  {
   "cell_type": "code",
   "execution_count": 58,
   "metadata": {},
   "outputs": [
    {
     "name": "stdout",
     "output_type": "stream",
     "text": [
      "This time rmse is: 160.703307873\n"
     ]
    }
   ],
   "source": [
    "lgb_train_3 = lgb.Dataset(train_3, labels_3)\n",
    "\n",
    "params = {\n",
    "'learning_rate': 0.003,\n",
    "'boosting_type': 'gbdt',\n",
    "'objective': 'regression',\n",
    "'metric': 'rmse',\n",
    "'sub_feature': 0.8,\n",
    "'num_leaves': 35,\n",
    "'min_data': 30,\n",
    "'min_hessian': 1,\n",
    "'verbose': -1,}\n",
    "\n",
    "model_3 = lgb.train(params, lgb_train_3, 900)\n",
    "lgb_pred_3 = model_3.predict(test_3)\n",
    "rmsetmp_3 = sp.sqrt(sp.mean((test_labels_3 - lgb_pred_3) ** 2))\n",
    "\n",
    "print('This time rmse is: '+ str(rmsetmp_3))"
   ]
  },
  {
   "cell_type": "code",
   "execution_count": 59,
   "metadata": {},
   "outputs": [
    {
     "name": "stdout",
     "output_type": "stream",
     "text": [
      "The average rmse is: 144.634644433\n"
     ]
    }
   ],
   "source": [
    "print('The average rmse is: '+ str((rmsetmp_1 + rmsetmp_2 + rmsetmp_3)/3))"
   ]
  },
  {
   "cell_type": "markdown",
   "metadata": {},
   "source": [
    "## 测试 XGBoost"
   ]
  },
  {
   "cell_type": "code",
   "execution_count": 60,
   "metadata": {},
   "outputs": [
    {
     "name": "stdout",
     "output_type": "stream",
     "text": [
      "This time rmse is: 140.010796927\n"
     ]
    }
   ],
   "source": [
    "trainset_1 = xgb.DMatrix(train_1, label=labels_1)\n",
    "testset_1 = xgb.DMatrix(test_1)\n",
    "\n",
    "params = {\n",
    "    'booster': 'gbtree', # 基于树的模型进行计算\n",
    "    'objective': 'reg:linear', # 线性回归\n",
    "    'eval_metric': 'rmse', # RMSE 评价函数\n",
    "    'gamma': 0.1, # 在树的叶子节点上进一步划分所需的最小损失减少。算法越大，越保守。\n",
    "    'min_child_weight': 1.1, # 孩子节点中最小的样本权重和。如果一个叶子节点的样本权重和小于min_child_weight则拆分过程结束。\n",
    "    'max_depth': 5, # 树的最大深度。缺省值为6\n",
    "    'lambda': 10, # L2 正则的惩罚系数\n",
    "    'subsample': 0.8, # 用于训练模型的子样本占整个样本集合的比例。\n",
    "    'colsample_bytree': 0.8, # 在建立树时对特征采样的比例。\n",
    "    'tree_method': 'exact' # 树的构造算法-Exact greedy algorithm(确切贪心算法)\n",
    "    }\n",
    "    \n",
    "model_1 = xgb.train(params, trainset_1, num_boost_round=4000)\n",
    "predict_xgb_1 = model_1.predict(testset_1)\n",
    "rmsetmp_1 = sp.sqrt(sp.mean((test_labels_1 - predict_xgb_1) ** 2))\n",
    "\n",
    "print('This time rmse is: '+ str(rmsetmp_1))"
   ]
  },
  {
   "cell_type": "code",
   "execution_count": 61,
   "metadata": {},
   "outputs": [
    {
     "name": "stdout",
     "output_type": "stream",
     "text": [
      "This time rmse is: 163.353862481\n"
     ]
    }
   ],
   "source": [
    "trainset_2 = xgb.DMatrix(train_2, label=labels_2)\n",
    "testset_2 = xgb.DMatrix(test_2)\n",
    "\n",
    "params = {\n",
    "    'booster': 'gbtree', # 基于树的模型进行计算\n",
    "    'objective': 'reg:linear', # 线性回归\n",
    "    'eval_metric': 'rmse', # RMSE 评价函数\n",
    "    'gamma': 0.1, # 在树的叶子节点上进一步划分所需的最小损失减少。算法越大，越保守。\n",
    "    'min_child_weight': 1.1, # 孩子节点中最小的样本权重和。如果一个叶子节点的样本权重和小于min_child_weight则拆分过程结束。\n",
    "    'max_depth': 5, # 树的最大深度。缺省值为6\n",
    "    'lambda': 10, # L2 正则的惩罚系数\n",
    "    'subsample': 0.8, # 用于训练模型的子样本占整个样本集合的比例。\n",
    "    'colsample_bytree': 0.8, # 在建立树时对特征采样的比例。\n",
    "    'tree_method': 'exact' # 树的构造算法-Exact greedy algorithm(确切贪心算法)\n",
    "    }\n",
    "    \n",
    "model_2 = xgb.train(params, trainset_2, num_boost_round=4000)\n",
    "predict_xgb_2 = model_2.predict(testset_2)\n",
    "rmsetmp_2 = sp.sqrt(sp.mean((test_labels_2 - predict_xgb_2) ** 2))\n",
    "\n",
    "print('This time rmse is: '+ str(rmsetmp_2))"
   ]
  },
  {
   "cell_type": "code",
   "execution_count": 62,
   "metadata": {},
   "outputs": [
    {
     "name": "stdout",
     "output_type": "stream",
     "text": [
      "This time rmse is: 152.222508663\n"
     ]
    }
   ],
   "source": [
    "trainset_3 = xgb.DMatrix(train_3, label=labels_3)\n",
    "testset_3 = xgb.DMatrix(test_3)\n",
    "\n",
    "params = {\n",
    "    'booster': 'gbtree', # 基于树的模型进行计算\n",
    "    'objective': 'reg:linear', # 线性回归\n",
    "    'eval_metric': 'rmse', # RMSE 评价函数\n",
    "    'gamma': 0.1, # 在树的叶子节点上进一步划分所需的最小损失减少。算法越大，越保守。\n",
    "    'min_child_weight': 1.1, # 孩子节点中最小的样本权重和。如果一个叶子节点的样本权重和小于min_child_weight则拆分过程结束。\n",
    "    'max_depth': 5, # 树的最大深度。缺省值为6\n",
    "    'lambda': 10, # L3 正则的惩罚系数\n",
    "    'subsample': 0.8, # 用于训练模型的子样本占整个样本集合的比例。\n",
    "    'colsample_bytree': 0.8, # 在建立树时对特征采样的比例。\n",
    "    'tree_method': 'exact' # 树的构造算法-Exact greedy algorithm(确切贪心算法)\n",
    "    }\n",
    "    \n",
    "model_3 = xgb.train(params, trainset_3, num_boost_round=4000)\n",
    "predict_xgb_3 = model_3.predict(testset_3)\n",
    "rmsetmp_3 = sp.sqrt(sp.mean((test_labels_3 - predict_xgb_3) ** 2))\n",
    "\n",
    "print('This time rmse is: '+ str(rmsetmp_3))"
   ]
  },
  {
   "cell_type": "code",
   "execution_count": 63,
   "metadata": {},
   "outputs": [
    {
     "name": "stdout",
     "output_type": "stream",
     "text": [
      "The average rmse is: 151.862389357\n"
     ]
    }
   ],
   "source": [
    "print('The average rmse is: '+ str((rmsetmp_1 + rmsetmp_2 + rmsetmp_3)/3))"
   ]
  },
  {
   "cell_type": "markdown",
   "metadata": {},
   "source": [
    "* XGBoost 效果似乎也不咋地"
   ]
  },
  {
   "cell_type": "code",
   "execution_count": null,
   "metadata": {
    "collapsed": true
   },
   "outputs": [],
   "source": [
    "rmse_1 = sp.sqrt(sp.mean((lgb_pred_1 - predict_xgb_1) ** 2))\n",
    "\n",
    "rmse_2 = sp.sqrt(sp.mean((lgb_pred_2 - predict_xgb_2) ** 2))\n",
    "\n",
    "rmse_3 = sp.sqrt(sp.mean((lgb_pred_3 - predict_xgb_3) ** 2))\n",
    "\n",
    "print(rmse_1, rmse_2, rmse_3)"
   ]
  },
  {
   "cell_type": "markdown",
   "metadata": {},
   "source": [
    "## 不带时间窗口, 带同比, 不带环比的 XGBosst"
   ]
  },
  {
   "cell_type": "markdown",
   "metadata": {},
   "source": [
    "* 为了得到 XGBoost 的提交文件"
   ]
  },
  {
   "cell_type": "code",
   "execution_count": 666,
   "metadata": {
    "collapsed": true
   },
   "outputs": [],
   "source": [
    "train = pd.read_csv('../../raw/LiChuan/trainSaleDate.csv')\n",
    "test = pd.read_csv('../../raw/LiChuan/test_feature.csv')\n",
    "submit = pd.read_csv('../../raw/CarsSaleForecast/yancheng_testA_20171225.csv')"
   ]
  },
  {
   "cell_type": "code",
   "execution_count": 667,
   "metadata": {
    "collapsed": true
   },
   "outputs": [],
   "source": [
    "train['sale_date'] = train['year'] * 100 + train['month']\n",
    "train['sale_date'] = train['sale_date'].astype(int)\n",
    "train['sale_date'] = pd.to_datetime(train['sale_date'],format='%Y%m',errors = \"coerce\")\n",
    "train['sale_date'] = train['sale_date'].dt.to_period('m')"
   ]
  },
  {
   "cell_type": "code",
   "execution_count": 668,
   "metadata": {
    "collapsed": true
   },
   "outputs": [],
   "source": [
    "test['sale_date'] = test['sale_date'].astype(int)\n",
    "test['sale_date'] = pd.to_datetime(test['sale_date'],format='%Y%m',errors = \"coerce\")\n",
    "test['sale_date'] = test['sale_date'].dt.to_period('M')"
   ]
  },
  {
   "cell_type": "code",
   "execution_count": 669,
   "metadata": {
    "collapsed": true
   },
   "outputs": [],
   "source": [
    "train = pd.concat([train, test]).reset_index(drop=True)\n",
    "train.fillna(0, inplace=True)"
   ]
  },
  {
   "cell_type": "code",
   "execution_count": 670,
   "metadata": {},
   "outputs": [
    {
     "data": {
      "text/plain": [
       "((9940, 163), (140, 162))"
      ]
     },
     "execution_count": 670,
     "metadata": {},
     "output_type": "execute_result"
    }
   ],
   "source": [
    "train.shape,test.shape"
   ]
  },
  {
   "cell_type": "code",
   "execution_count": 671,
   "metadata": {
    "collapsed": true
   },
   "outputs": [],
   "source": [
    "# 获取 12 月前的销量\n",
    "i = train['sale_date'][0]+11\n",
    "window = [i-11]\n",
    "traintmp = pd.DataFrame()\n",
    "for i in range(59):\n",
    "    trainSaletmp = train[train['sale_date'].isin(window)]\n",
    "    trainSaletmp = trainSaletmp.loc[:,['class_id','sale_quantity']]\n",
    "    trainSaletmp = trainSaletmp.groupby(['class_id']).agg(sum).sale_quantity.reset_index()\n",
    "    trainSaletmp['sale_date'] = window[0]+12\n",
    "    if i == 0:\n",
    "        traintmp = trainSaletmp\n",
    "    else:\n",
    "        traintmp = pd.concat([traintmp, trainSaletmp])\n",
    "    for j,k in enumerate(window):\n",
    "        window[j] = window[j] + 1"
   ]
  },
  {
   "cell_type": "code",
   "execution_count": 672,
   "metadata": {
    "collapsed": true
   },
   "outputs": [],
   "source": [
    "traintmp.rename(columns={'sale_quantity': 'sale_quantity_last_12M_ago'}, inplace=True)# 替换列名称\n",
    "train = pd.merge(train, traintmp, on=['class_id','sale_date'], how='left')\n",
    "train['sale_quantity_last_12M_ago'].fillna(0, inplace=True)"
   ]
  },
  {
   "cell_type": "code",
   "execution_count": 675,
   "metadata": {
    "collapsed": true
   },
   "outputs": [],
   "source": [
    "train_2 = train[:-420]\n",
    "test_2 = train[-420:-280]"
   ]
  },
  {
   "cell_type": "code",
   "execution_count": 631,
   "metadata": {
    "collapsed": true
   },
   "outputs": [],
   "source": [
    "# 保存一下 XGBoost 的 features\n",
    "# train.to_csv('../../raw/LiChuan/XGBoostFeatures.csv',index=False, header=True)"
   ]
  },
  {
   "cell_type": "code",
   "execution_count": 632,
   "metadata": {
    "collapsed": true
   },
   "outputs": [],
   "source": [
    "train = train[train['year'] != 2012]\n",
    "labels = train['sale_quantity'][:-140]\n",
    "train = train.drop(['sale_date', 'class_id', 'sale_quantity'], axis=1)"
   ]
  },
  {
   "cell_type": "code",
   "execution_count": 633,
   "metadata": {
    "collapsed": true
   },
   "outputs": [],
   "source": [
    "test = train[-140:].reset_index(drop=True)\n",
    "train = train[:-140].reset_index(drop=True)"
   ]
  },
  {
   "cell_type": "code",
   "execution_count": 634,
   "metadata": {
    "collapsed": true
   },
   "outputs": [],
   "source": [
    "trainset = xgb.DMatrix(train,label=labels)\n",
    "testset = xgb.DMatrix(test)\n",
    "\n",
    "params = {\n",
    "    'booster': 'gbtree', # 基于树的模型进行计算\n",
    "    'objective': 'reg:linear', # 线性回归\n",
    "    'eval_metric': 'rmse', # RMSE 评价函数\n",
    "    'gamma': 0.1, # 在树的叶子节点上进一步划分所需的最小损失减少。算法越大，越保守。\n",
    "    'min_child_weight': 1.1, # 孩子节点中最小的样本权重和。如果一个叶子节点的样本权重和小于min_child_weight则拆分过程结束。\n",
    "    'max_depth': 5, # 树的最大深度。缺省值为6\n",
    "    'lambda': 10, # L2 正则的惩罚系数\n",
    "    'subsample': 0.8, # 用于训练模型的子样本占整个样本集合的比例。\n",
    "    'colsample_bytree': 0.8, # 在建立树时对特征采样的比例。\n",
    "    'tree_method': 'exact' # 树的构造算法-Exact greedy algorithm(确切贪心算法)\n",
    "    }\n",
    "    \n",
    "watchlist = [(trainset,'train')]\n",
    "model = xgb.train(params, trainset, num_boost_round=3000)\n",
    "predict_xgb = model.predict(testset)"
   ]
  },
  {
   "cell_type": "code",
   "execution_count": 635,
   "metadata": {},
   "outputs": [
    {
     "data": {
      "text/plain": [
       "<matplotlib.axes._subplots.AxesSubplot at 0x114d5c0f0>"
      ]
     },
     "execution_count": 635,
     "metadata": {},
     "output_type": "execute_result"
    },
    {
     "data": {
      "image/png": "[encoded data removed]",
      "text/plain": [
       "<matplotlib.figure.Figure at 0x114099b70>"
      ]
     },
     "metadata": {},
     "output_type": "display_data"
    }
   ],
   "source": [
    "# 分析重要性\n",
    "fig, ax = plt.subplots(1, 1, figsize=(8, 13))\n",
    "xgb.plot_importance(model, max_num_features=20, height=0.5, ax=ax)"
   ]
  },
  {
   "cell_type": "code",
   "execution_count": 637,
   "metadata": {
    "collapsed": true
   },
   "outputs": [],
   "source": [
    "lgb = pd.read_csv('../../raw/LiChuan/result_180223_lightGBM.csv')\n",
    "predict_lgb = lgb['predict_quantity']"
   ]
  },
  {
   "cell_type": "code",
   "execution_count": 638,
   "metadata": {
    "collapsed": true
   },
   "outputs": [],
   "source": [
    "base = pd.read_csv('../../raw/Submissions/result_180222_baseline_RMSE131.csv')\n",
    "predict_base = base['predict_quantity']"
   ]
  },
  {
   "cell_type": "code",
   "execution_count": 682,
   "metadata": {
    "scrolled": false
   },
   "outputs": [
    {
     "data": {
      "text/plain": [
       "99.539129482382009"
      ]
     },
     "execution_count": 682,
     "metadata": {},
     "output_type": "execute_result"
    }
   ],
   "source": [
    "sp.sqrt(sp.mean((predict_base - predict_lgb) ** 2))"
   ]
  },
  {
   "cell_type": "code",
   "execution_count": 681,
   "metadata": {},
   "outputs": [
    {
     "data": {
      "text/plain": [
       "94.339868161293722"
      ]
     },
     "execution_count": 681,
     "metadata": {},
     "output_type": "execute_result"
    }
   ],
   "source": [
    "sp.sqrt(sp.mean((predict_lgb - predict_xgb) ** 2))"
   ]
  },
  {
   "cell_type": "code",
   "execution_count": 677,
   "metadata": {
    "collapsed": true
   },
   "outputs": [],
   "source": [
    "predictions = predict_base*0.42 + predict_lgb*0.58"
   ]
  },
  {
   "cell_type": "code",
   "execution_count": 678,
   "metadata": {
    "collapsed": true
   },
   "outputs": [],
   "source": [
    "submit['predict_quantity'] = predictions\n",
    "submit.to_csv('../../raw/LiChuan/result_180224_baseline*0.42_lightGBM*0.58.csv',index=False, header=True)  "
   ]
  }
 ],
 "metadata": {
  "kernelspec": {
   "display_name": "Python 3",
   "language": "python",
   "name": "python3"
  },
  "language_info": {
   "codemirror_mode": {
    "name": "ipython",
    "version": 3
   },
   "file_extension": ".py",
   "mimetype": "text/x-python",
   "name": "python",
   "nbconvert_exporter": "python",
   "pygments_lexer": "ipython3",
   "version": "3.6.3"
  },
  "toc": {
   "nav_menu": {},
   "number_sections": true,
   "sideBar": true,
   "skip_h1_title": false,
   "toc_cell": false,
   "toc_position": {},
   "toc_section_display": "block",
   "toc_window_display": false
  }
 },
 "nbformat": 4,
 "nbformat_minor": 2
}
