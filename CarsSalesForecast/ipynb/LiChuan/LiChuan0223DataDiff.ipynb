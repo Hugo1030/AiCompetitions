{
 "cells": [
  {
   "cell_type": "markdown",
   "metadata": {},
   "source": [
    "* LightGBM 似乎是最有效的模型\n",
    "* 添加特征进去模型效果不下降, 反而提升\n",
    "* 所有把两时间窗口之差的模型, 拿出来在跑跑看, 只测试 LightGBM\n",
    "* 单纯增加时间窗口之差, 模型效果下降了"
   ]
  },
  {
   "cell_type": "code",
   "execution_count": 45,
   "metadata": {
    "collapsed": true
   },
   "outputs": [],
   "source": [
    "import numpy as np\n",
    "import pandas as pd\n",
    "import lightgbm as lgb\n",
    "import scipy as sp\n",
    "\n",
    "import warnings\n",
    "warnings.filterwarnings('ignore')"
   ]
  },
  {
   "cell_type": "code",
   "execution_count": 35,
   "metadata": {
    "collapsed": true
   },
   "outputs": [],
   "source": [
    "train = pd.read_csv('../../raw/LiChuan/dataset.csv')"
   ]
  },
  {
   "cell_type": "code",
   "execution_count": 36,
   "metadata": {},
   "outputs": [],
   "source": [
    "cal_column = ['sale_quantity_this_last_month', 'sale_quantity_last_2M_sum', 'sale_quantity_last_3M_sum', 'sale_quantity_last_6M_sum', 'sale_quantity_last_12M_sum']"
   ]
  },
  {
   "cell_type": "code",
   "execution_count": 37,
   "metadata": {
    "collapsed": true
   },
   "outputs": [],
   "source": [
    "total_colunms = 9940\n",
    "def sale_data_diff(train,cal_column):\n",
    "    train_diff = pd.DataFrame()\n",
    "    train_diff = train.loc[:,['class_id','sale_date',cal_column]]\n",
    "    train_diff = train_diff[140:9940].reset_index().drop(['index'],axis = 1)\n",
    "    str = cal_column +'_diff'\n",
    "    train_diff[str] =  pd.DataFrame({str:train[140:total_colunms]['sale_quantity_last_3M_sum'].values - train[0:(total_colunms-140)]['sale_quantity_last_3M_sum'].values})\n",
    "    train_diff = train_diff.drop([cal_column],axis = 1)\n",
    "    return train_diff"
   ]
  },
  {
   "cell_type": "code",
   "execution_count": 38,
   "metadata": {
    "collapsed": true
   },
   "outputs": [],
   "source": [
    "for i in cal_column:\n",
    "    train_diff = sale_data_diff(train,i)\n",
    "    train = pd.merge(train, train_diff, on=['class_id','sale_date'], how='left')\n",
    "    \n",
    "train.fillna(0, inplace=True)"
   ]
  },
  {
   "cell_type": "code",
   "execution_count": 39,
   "metadata": {},
   "outputs": [],
   "source": [
    "# 去掉 2012 年数据\n",
    "train = train[train['year'] != 2012]\n",
    "labels = train['sale_quantity']\n",
    "train = train.drop(['sale_date', 'class_id', 'sale_quantity'], axis=1)"
   ]
  },
  {
   "cell_type": "code",
   "execution_count": 40,
   "metadata": {},
   "outputs": [],
   "source": [
    "# 训练集 2013-01 至 2017-07, 测试集 2017-08\n",
    "train_1 = train[:-560]\n",
    "test_1 = train[-560:-420]\n",
    "labels_1 = labels[:-560]\n",
    "test_labels_1 = labels[-560:-420]\n",
    "\n",
    "# 训练集 2013-01 至 2017-08, 测试集 2017-09\n",
    "train_2 = train[:-420]\n",
    "test_2 = train[-420:-280]\n",
    "labels_2 = labels[:-420]\n",
    "test_labels_2 = labels[-420:-280]\n",
    "\n",
    "# 训练集 2013-01 至 2017-09, 测试集 2017-10\n",
    "train_3 = train[:-280]\n",
    "test_3 = train[-280:-140]\n",
    "labels_3 = labels[:-280]\n",
    "test_labels_3 = labels[-280:-140]"
   ]
  },
  {
   "cell_type": "code",
   "execution_count": 46,
   "metadata": {},
   "outputs": [
    {
     "name": "stdout",
     "output_type": "stream",
     "text": [
      "This time rmse is: 134.862765044\n"
     ]
    }
   ],
   "source": [
    "lgb_train_1 = lgb.Dataset(train_1, labels_1)\n",
    "\n",
    "params = {\n",
    "'learning_rate': 0.002,\n",
    "'boosting_type': 'gbdt',\n",
    "'objective': 'regression',\n",
    "'metric': 'rmse',\n",
    "'sub_feature': 0.8,\n",
    "'num_leaves': 35,\n",
    "'min_data': 20,\n",
    "'min_hessian': 1,\n",
    "'verbose': -1,}\n",
    "\n",
    "model_1 = lgb.train(params, lgb_train_1, 900)\n",
    "lgb_pred_1 = model_1.predict(test_1)\n",
    "rmsetmp_1 = sp.sqrt(sp.mean((test_labels_1 - lgb_pred_1) ** 2))\n",
    "\n",
    "print('This time rmse is: '+ str(rmsetmp_1))"
   ]
  },
  {
   "cell_type": "code",
   "execution_count": 47,
   "metadata": {},
   "outputs": [
    {
     "name": "stdout",
     "output_type": "stream",
     "text": [
      "This time rmse is: 118.204111261\n"
     ]
    }
   ],
   "source": [
    "lgb_train_2 = lgb.Dataset(train_2, labels_2)\n",
    "\n",
    "params = {\n",
    "'learning_rate': 0.002,\n",
    "'boosting_type': 'gbdt',\n",
    "'objective': 'regression',\n",
    "'metric': 'rmse',\n",
    "'sub_feature': 0.8,\n",
    "'num_leaves': 35,\n",
    "'min_data': 20,\n",
    "'min_hessian': 1,\n",
    "'verbose': -1,}\n",
    "\n",
    "model_2 = lgb.train(params, lgb_train_2, 900)\n",
    "lgb_pred_2 = model_2.predict(test_2)\n",
    "rmsetmp_2 = sp.sqrt(sp.mean((test_labels_2 - lgb_pred_2) ** 2))\n",
    "\n",
    "print('This time rmse is: '+ str(rmsetmp_2))"
   ]
  },
  {
   "cell_type": "code",
   "execution_count": 48,
   "metadata": {},
   "outputs": [
    {
     "name": "stdout",
     "output_type": "stream",
     "text": [
      "This time rmse is: 128.105316159\n"
     ]
    }
   ],
   "source": [
    "lgb_train_3 = lgb.Dataset(train_3, labels_3)\n",
    "\n",
    "params = {\n",
    "'learning_rate': 0.003,\n",
    "'boosting_type': 'gbdt',\n",
    "'objective': 'regression',\n",
    "'metric': 'rmse',\n",
    "'sub_feature': 0.8,\n",
    "'num_leaves': 35,\n",
    "'min_data': 30,\n",
    "'min_hessian': 1,\n",
    "'verbose': -1,}\n",
    "\n",
    "model_3 = lgb.train(params, lgb_train_3, 900)\n",
    "lgb_pred_3 = model_3.predict(test_3)\n",
    "rmsetmp_3 = sp.sqrt(sp.mean((test_labels_3 - lgb_pred_3) ** 2))\n",
    "\n",
    "print('This time rmse is: '+ str(rmsetmp_3))"
   ]
  },
  {
   "cell_type": "code",
   "execution_count": 49,
   "metadata": {},
   "outputs": [
    {
     "name": "stdout",
     "output_type": "stream",
     "text": [
      "The average rmse is: 127.057397488\n"
     ]
    }
   ],
   "source": [
    "print('The average rmse is: '+ str((rmsetmp_1 + rmsetmp_2 + rmsetmp_3)/3))"
   ]
  },
  {
   "cell_type": "markdown",
   "metadata": {},
   "source": [
    "* 比不加时间窗口之差的模型效果更差"
   ]
  }
 ],
 "metadata": {
  "kernelspec": {
   "display_name": "Python 3",
   "language": "python",
   "name": "python3"
  },
  "language_info": {
   "codemirror_mode": {
    "name": "ipython",
    "version": 3
   },
   "file_extension": ".py",
   "mimetype": "text/x-python",
   "name": "python",
   "nbconvert_exporter": "python",
   "pygments_lexer": "ipython3",
   "version": "3.6.3"
  },
  "toc": {
   "nav_menu": {},
   "number_sections": true,
   "sideBar": true,
   "skip_h1_title": false,
   "toc_cell": false,
   "toc_position": {},
   "toc_section_display": "block",
   "toc_window_display": false
  }
 },
 "nbformat": 4,
 "nbformat_minor": 2
}
