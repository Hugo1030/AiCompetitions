{
 "cells": [
  {
   "cell_type": "markdown",
   "metadata": {},
   "source": [
    "参考资料: https://tianchi.aliyun.com/forum/new_articleDetail.html?spm=5176.8366600.0.0.11e8f2e5fsUOSs&raceId=231640&postsId=3847"
   ]
  },
  {
   "cell_type": "code",
   "execution_count": 1,
   "metadata": {},
   "outputs": [
    {
     "name": "stderr",
     "output_type": "stream",
     "text": [
      "/Library/Frameworks/Python.framework/Versions/3.6/lib/python3.6/site-packages/IPython/core/interactiveshell.py:2698: DtypeWarning: Columns (15,20) have mixed types. Specify dtype option on import or set low_memory=False.\n",
      "  interactivity=interactivity, compiler=compiler, result=result)\n"
     ]
    }
   ],
   "source": [
    "import pandas as pd\n",
    "\n",
    "datapath = '../../raw/CarsSaleForecast/'\n",
    "train_df = pd.read_csv(datapath+'[new] yancheng_train_20171226.csv')\n",
    "test_df = pd.read_csv(datapath+'yancheng_testA_20171225.csv')"
   ]
  },
  {
   "cell_type": "code",
   "execution_count": 2,
   "metadata": {
    "collapsed": true
   },
   "outputs": [],
   "source": [
    "train_sum = train_df[(train_df.sale_date==201710)].groupby(['class_id']).sale_quantity.sum()"
   ]
  },
  {
   "cell_type": "code",
   "execution_count": 5,
   "metadata": {
    "collapsed": true
   },
   "outputs": [],
   "source": [
    "predicted = train_sum.reset_index()"
   ]
  },
  {
   "cell_type": "code",
   "execution_count": 7,
   "metadata": {
    "collapsed": true
   },
   "outputs": [],
   "source": [
    "result = pd.merge(test_df[['predict_date','class_id']], predicted, how='left', on=['class_id'])"
   ]
  },
  {
   "cell_type": "code",
   "execution_count": 9,
   "metadata": {
    "collapsed": true
   },
   "outputs": [],
   "source": [
    "result.fillna(0)\n",
    "result.columns=['predict_date','class_id','predict_quantity']"
   ]
  },
  {
   "cell_type": "code",
   "execution_count": 42,
   "metadata": {
    "collapsed": true
   },
   "outputs": [],
   "source": [
    "result.to_csv('../raw/LiChuan/result_201710.csv',index=False, header=True)  "
   ]
  },
  {
   "cell_type": "code",
   "execution_count": 21,
   "metadata": {},
   "outputs": [
    {
     "name": "stdout",
     "output_type": "stream",
     "text": [
      "['sale_date', 'province_id', 'city_id', 'class_id', 'sale_quantity', 'brand_id', 'compartment', 'type_id', 'level_id', 'department_id', 'tr', 'gearbox_type', 'displacement', 'if_charging', 'price_level', 'driven_type_id', 'fuel_type_id', 'newenergy_type_id', 'emission_standards_id', 'if_mpv_id', 'if_luxurious_id', 'power', 'cylinder_number', 'car_length', 'car_width', 'car_height', 'total_quality', 'equipment_quality', 'rated_passenger', 'wheelbase', 'front_track', 'rear_track']\n"
     ]
    }
   ],
   "source": [
    "columns = ['sale_date','province_id','city_id'\n",
    "           ,'class_id','sale_quantity','brand_id'\n",
    "           ,'compartment','type_id','level_id'\n",
    "           ,'department_id','tr','gearbox_type'\n",
    "           ,'displacement','if_charging','price_level'\n",
    "           ,'driven_type_id','fuel_type_id'\n",
    "           ,'newenergy_type_id','emission_standards_id'\n",
    "           ,'if_mpv_id','if_luxurious_id','power'\n",
    "           ,'cylinder_number','car_length','car_width'\n",
    "           ,'car_height','total_quality','equipment_quality'\n",
    "           ,'rated_passenger','wheelbase','front_track','rear_track']\n",
    "\n",
    "columns[5:].sort()\n",
    "\n",
    "print(columns)"
   ]
  },
  {
   "cell_type": "code",
   "execution_count": null,
   "metadata": {
    "collapsed": true
   },
   "outputs": [],
   "source": []
  }
 ],
 "metadata": {
  "kernelspec": {
   "display_name": "Python 3",
   "language": "python",
   "name": "python3"
  },
  "language_info": {
   "codemirror_mode": {
    "name": "ipython",
    "version": 3
   },
   "file_extension": ".py",
   "mimetype": "text/x-python",
   "name": "python",
   "nbconvert_exporter": "python",
   "pygments_lexer": "ipython3",
   "version": "3.6.3"
  },
  "toc": {
   "nav_menu": {},
   "number_sections": true,
   "sideBar": true,
   "skip_h1_title": false,
   "toc_cell": false,
   "toc_position": {},
   "toc_section_display": "block",
   "toc_window_display": false
  }
 },
 "nbformat": 4,
 "nbformat_minor": 2
}
