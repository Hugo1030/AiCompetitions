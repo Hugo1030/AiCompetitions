{
 "cells": [
  {
   "cell_type": "markdown",
   "metadata": {},
   "source": [
    "* 将 11 月预测销量填入训练集\n",
    "* 直接用来预测 12 月销量走一波\n",
    "* 测试结果是 LGBoost/XGBoost/GBDT, 其中尤以 LGB 最为关键"
   ]
  },
  {
   "cell_type": "code",
   "execution_count": 35,
   "metadata": {
    "collapsed": true
   },
   "outputs": [],
   "source": [
    "import numpy as np\n",
    "import pandas as pd\n",
    "import matplotlib.pyplot as plt\n",
    "import warnings\n",
    "warnings.filterwarnings('ignore')"
   ]
  },
  {
   "cell_type": "code",
   "execution_count": 36,
   "metadata": {
    "collapsed": true
   },
   "outputs": [],
   "source": [
    "train = pd.read_csv('../../raw/LiChuan/trainSaleDate.csv')\n",
    "test_A = pd.read_csv('../../raw/LiChuan/test_feature.csv')\n",
    "test_B = pd.read_csv('../../raw/CarsSaleForecast/yancheng_testB_20180224.csv')\n",
    "trainFeature = pd.read_csv('../../raw/LiChuan/train_feature.csv')\n",
    "pred_Nov = pd.read_csv('../../raw/Submissions/result_180224_baseline*0.42_lightGBM*0.58.csv')"
   ]
  },
  {
   "cell_type": "markdown",
   "metadata": {},
   "source": [
    "# 先拿基础数据"
   ]
  },
  {
   "cell_type": "code",
   "execution_count": 37,
   "metadata": {
    "collapsed": true
   },
   "outputs": [],
   "source": [
    "# 得到 2017-11 之前训练集\n",
    "train = pd.concat([train, test_A]).reset_index(drop=True)\n",
    "train.fillna(0, inplace=True)"
   ]
  },
  {
   "cell_type": "code",
   "execution_count": 39,
   "metadata": {},
   "outputs": [],
   "source": [
    "# 用 RMSE=116 的数值填充 11 月数据\n",
    "pred_Nov = pred_Nov['predict_quantity'].values\n",
    "train['sale_quantity'][-140:] = pred_Nov"
   ]
  },
  {
   "cell_type": "code",
   "execution_count": 41,
   "metadata": {},
   "outputs": [],
   "source": [
    "test_B['year'] = test_B['predict_date'].apply(lambda x: int(str(x)[0:4]))\n",
    "test_B['month'] = test_B['predict_date'].apply(lambda x: int(str(x)[4:6]))"
   ]
  },
  {
   "cell_type": "code",
   "execution_count": 44,
   "metadata": {},
   "outputs": [],
   "source": [
    "sellmonth = train[['class_id', 'how_many_month_has_sell', 'sale_quantity']][(train['year']==2017)&(train['month']==11)]\n",
    "sellmonth.dropna(inplace=True) \n",
    "sellmonth['how_many_month_has_sell'] = sellmonth['how_many_month_has_sell']+1\n",
    "sale_quantity_total_last_month = sellmonth['sale_quantity'].sum()\n",
    "sellmonth.rename(columns={'sale_quantity': 'sale_quantity_this_last_month'}, inplace=True)\n",
    "\n",
    "sellYear = train[['class_id', 'sale_quantity']][((train['year']==2016)&(train['month']>=12))|((train['year']==2017)&(train['month']<12))]\n",
    "sellYear.dropna(inplace=True)\n",
    "sellYear = sellYear.groupby('class_id').agg('sum').reset_index()\n",
    "sale_quantity_total_last_year = sellYear['sale_quantity'].sum()\n",
    "sellYear.rename(columns={'sale_quantity': 'sale_quantity_this_last_year'}, inplace=True)\n",
    "\n",
    "test_B = pd.merge(test_B, trainFeature, on='class_id', how='left')\n",
    "test_B = pd.merge(test_B, sellmonth, on='class_id', how='left')\n",
    "test_B = pd.merge(test_B, sellYear, on='class_id', how='left')\n",
    "\n",
    "test_B.loc[:, 'sale_quantity_total_last_month'] = sale_quantity_total_last_month\n",
    "test_B.loc[:, 'sale_quantity_total_last_year'] = sale_quantity_total_last_year\n",
    "test_B.loc[:, 'this_month_sale_class_count'] = 140\n",
    "\n",
    "test_B.sort_values(['class_id'])\n",
    "test_B.fillna(0.0, inplace=True)\n",
    "\n",
    "test_B = test_B.drop(['predict_quantity'], axis=1)"
   ]
  },
  {
   "cell_type": "code",
   "execution_count": 48,
   "metadata": {},
   "outputs": [],
   "source": [
    "columns = train.drop(['sale_quantity'], axis=1).columns.tolist()\n",
    "test_B['sale_date'] = test_B['predict_date']\n",
    "test_B.drop(['predict_date'], axis=1)\n",
    "test_B = test_B[columns]"
   ]
  },
  {
   "cell_type": "code",
   "execution_count": 51,
   "metadata": {
    "collapsed": true
   },
   "outputs": [],
   "source": [
    "# 得到整体训练集\n",
    "train = pd.concat([train, test_B]).reset_index(drop=True)\n",
    "train.fillna(0, inplace=True)"
   ]
  },
  {
   "cell_type": "code",
   "execution_count": 53,
   "metadata": {
    "collapsed": true
   },
   "outputs": [],
   "source": [
    "# 保存一个过程 csv\n",
    "train.to_csv('../../raw/LiChuan/Dec_Basic_feature.csv', index=False)"
   ]
  },
  {
   "cell_type": "code",
   "execution_count": 59,
   "metadata": {},
   "outputs": [
    {
     "data": {
      "text/plain": [
       "5501.0"
      ]
     },
     "execution_count": 59,
     "metadata": {},
     "output_type": "execute_result"
    }
   ],
   "source": [
    "# 检查一下看看, ok 没什么问题\n",
    "train[(train['year'] == 2017)&(train['month']==11)]['how_many_month_has_sell'].sum()"
   ]
  },
  {
   "cell_type": "code",
   "execution_count": 60,
   "metadata": {},
   "outputs": [
    {
     "data": {
      "text/plain": [
       "5641.0"
      ]
     },
     "execution_count": 60,
     "metadata": {},
     "output_type": "execute_result"
    }
   ],
   "source": [
    "train[(train['year'] == 2017)&(train['month']==12)]['how_many_month_has_sell'].sum()"
   ]
  }
 ],
 "metadata": {
  "kernelspec": {
   "display_name": "Python 3",
   "language": "python",
   "name": "python3"
  },
  "language_info": {
   "codemirror_mode": {
    "name": "ipython",
    "version": 3
   },
   "file_extension": ".py",
   "mimetype": "text/x-python",
   "name": "python",
   "nbconvert_exporter": "python",
   "pygments_lexer": "ipython3",
   "version": "3.6.4"
  },
  "toc": {
   "nav_menu": {},
   "number_sections": true,
   "sideBar": true,
   "skip_h1_title": false,
   "toc_cell": false,
   "toc_position": {},
   "toc_section_display": "block",
   "toc_window_display": false
  }
 },
 "nbformat": 4,
 "nbformat_minor": 2
}
