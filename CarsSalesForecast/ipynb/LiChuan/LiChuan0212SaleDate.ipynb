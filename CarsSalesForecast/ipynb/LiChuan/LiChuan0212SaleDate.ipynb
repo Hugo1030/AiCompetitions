{
 "cells": [
  {
   "cell_type": "code",
   "execution_count": 1,
   "metadata": {
    "collapsed": true
   },
   "outputs": [],
   "source": [
    "import numpy as np\n",
    "import pandas as pd\n",
    "import warnings\n",
    "warnings.filterwarnings('ignore')"
   ]
  },
  {
   "cell_type": "code",
   "execution_count": 2,
   "metadata": {
    "collapsed": true
   },
   "outputs": [],
   "source": [
    "train = pd.read_csv('../../raw/CarsSaleForecast/[new] yancheng_train_20171226.csv')\n",
    "test = pd.read_csv('../../raw/CarsSaleForecast/yancheng_testA_20171225.csv')\n",
    "trainFeature = pd.read_csv('../../raw/LiChuan/train_feature.csv')"
   ]
  },
  {
   "cell_type": "code",
   "execution_count": 3,
   "metadata": {
    "collapsed": true
   },
   "outputs": [],
   "source": [
    "trainDate = train[['sale_date', 'sale_quantity', 'class_id']]\n",
    "trainDate = trainDate.groupby(['sale_date', 'class_id']).agg('sum').reset_index()\n",
    "trainDate['year'] = trainDate['sale_date'].apply(lambda x: int(str(x)[0:4]))\n",
    "trainDate['month'] = trainDate['sale_date'].apply(lambda x: int(str(x)[4:6]))\n",
    "test['year'] = test['predict_date'].apply(lambda x: int(str(x)[0:4]))\n",
    "test['month'] = test['predict_date'].apply(lambda x: int(str(x)[4:6]))"
   ]
  },
  {
   "cell_type": "code",
   "execution_count": 4,
   "metadata": {},
   "outputs": [],
   "source": [
    "# 2012.1 data\n",
    "trainSaleDate = trainFeature\n",
    "trainTmp = trainDate[(trainDate['year']==2012)&(trainDate['month']==1)]\n",
    "trainTmp.loc[:, 'how_many_month_has_sell'] = 1\n",
    "sale_class_count = len(trainTmp)\n",
    "\n",
    "trainSaleDate = pd.merge(trainSaleDate, trainTmp, on='class_id', how='left')\n",
    "trainSaleDate['year'].fillna(2012.0, inplace=True)\n",
    "trainSaleDate['month'].fillna(1.0, inplace=True)\n",
    "trainSaleDate.loc[:, 'sale_quantity_total_last_month'] = 0\n",
    "trainSaleDate.loc[:, 'sale_quantity_this_last_month'] = 0\n",
    "trainSaleDate.loc[:, 'this_month_sale_class_count'] = sale_class_count"
   ]
  },
  {
   "cell_type": "code",
   "execution_count": 5,
   "metadata": {
    "collapsed": true
   },
   "outputs": [],
   "source": [
    "# 2012.2 - 2012.12 data\n",
    "for month in range(2, 13):\n",
    "    trainSaleDateTmp = trainFeature\n",
    "    trainTmp = trainDate[(trainDate['year']==2012)&(trainDate['month']==month)]\n",
    "    \n",
    "    sellmonth = trainSaleDate[['class_id', 'how_many_month_has_sell', 'sale_quantity']][(trainSaleDate['year']==2012)&(trainSaleDate['month']==(month-1))]\n",
    "    sellmonth.dropna(inplace=True)\n",
    "    sellmonth['how_many_month_has_sell'] = sellmonth['how_many_month_has_sell']+1\n",
    "    sale_quantity_total_last_month = sellmonth['sale_quantity'].sum()\n",
    "    sellmonth.rename(columns={'sale_quantity': 'sale_quantity_this_last_month'}, inplace=True)\n",
    "    \n",
    "    trainTmp = pd.merge(trainTmp, sellmonth, on='class_id', how='left')\n",
    "    trainTmp['how_many_month_has_sell'].fillna(1.0, inplace=True)\n",
    "    sale_class_count = len(trainTmp)\n",
    "    \n",
    "    trainSaleDateTmp = pd.merge(trainSaleDateTmp, trainTmp, on='class_id', how='left')\n",
    "    trainSaleDateTmp['year'].fillna(2012.0, inplace=True)\n",
    "    trainSaleDateTmp['month'].fillna(month, inplace=True)\n",
    "    trainSaleDateTmp.loc[:, 'sale_quantity_total_last_month'] = sale_quantity_total_last_month\n",
    "    trainSaleDateTmp.loc[:, 'this_month_sale_class_count'] = sale_class_count\n",
    "    \n",
    "    trainSaleDate = pd.concat([trainSaleDate, trainSaleDateTmp])\n",
    "    \n",
    "trainSaleDate.loc[:, 'sale_quantity_total_last_year'] = 0\n",
    "trainSaleDate.loc[:, 'sale_quantity_this_last_year'] = 0"
   ]
  },
  {
   "cell_type": "code",
   "execution_count": 6,
   "metadata": {},
   "outputs": [],
   "source": [
    "# 2013-2016\n",
    "for year in range(2013, 2018):\n",
    "    for month in range(1, 13):\n",
    "        trainSaleDateTmp = trainFeature\n",
    "        trainTmp = trainDate[(trainDate['year']==year)&(trainDate['month']==month)]\n",
    "        \n",
    "        if month == 1:\n",
    "            sellmonth = trainSaleDate[['class_id', 'how_many_month_has_sell', 'sale_quantity']][(trainSaleDate['year']==(year-1))&(trainSaleDate['month']==12)]\n",
    "        else:\n",
    "            sellmonth = trainSaleDate[['class_id', 'how_many_month_has_sell', 'sale_quantity']][(trainSaleDate['year']==year)&(trainSaleDate['month']==(month-1))]\n",
    "        sellmonth.dropna(inplace=True)\n",
    "        sellmonth['how_many_month_has_sell'] = sellmonth['how_many_month_has_sell']+1\n",
    "        sale_quantity_total_last_month = sellmonth['sale_quantity'].sum()\n",
    "        sellmonth.rename(columns={'sale_quantity': 'sale_quantity_this_last_month'}, inplace=True)\n",
    "        \n",
    "        sellYear = trainSaleDate[['class_id', 'sale_quantity']][((trainSaleDate['year']==(year-1))&(trainSaleDate['month']>=month))|((trainSaleDate['year']==year)&(trainSaleDate['month']<month))]\n",
    "        sellYear.dropna(inplace=True)\n",
    "        sellYear = sellYear.groupby('class_id').agg('sum').reset_index()\n",
    "        sale_quantity_total_last_year = sellYear['sale_quantity'].sum()\n",
    "        sellYear.rename(columns={'sale_quantity': 'sale_quantity_this_last_year'}, inplace=True)\n",
    "        \n",
    "        trainTmp = pd.merge(trainTmp, sellmonth, on='class_id', how='left')\n",
    "        trainTmp['how_many_month_has_sell'].fillna(1.0, inplace=True)\n",
    "        sale_class_count = len(trainTmp)\n",
    "        \n",
    "        trainTmp = pd.merge(trainTmp, sellYear, on='class_id', how='left')\n",
    "        \n",
    "        trainSaleDateTmp = pd.merge(trainSaleDateTmp, trainTmp, on='class_id', how='left')\n",
    "        trainSaleDateTmp['year'].fillna(year, inplace=True)\n",
    "        trainSaleDateTmp['month'].fillna(month, inplace=True)\n",
    "        trainSaleDateTmp.loc[:, 'sale_quantity_total_last_month'] = sale_quantity_total_last_month\n",
    "        trainSaleDateTmp.loc[:, 'sale_quantity_total_last_year'] = sale_quantity_total_last_year\n",
    "        trainSaleDateTmp.loc[:, 'this_month_sale_class_count'] = sale_class_count\n",
    "        \n",
    "        trainSaleDate = pd.concat([trainSaleDate, trainSaleDateTmp])"
   ]
  },
  {
   "cell_type": "code",
   "execution_count": 7,
   "metadata": {
    "collapsed": true
   },
   "outputs": [],
   "source": [
    "trainSaleDate = trainSaleDate[:-280]\n",
    "trainSaleDate.sort_values(['year', 'month', 'class_id'])\n",
    "trainSaleDate.fillna(0.0, inplace=True)"
   ]
  },
  {
   "cell_type": "code",
   "execution_count": 8,
   "metadata": {},
   "outputs": [],
   "source": [
    "sellmonth = trainSaleDate[['class_id', 'how_many_month_has_sell', 'sale_quantity']][(trainSaleDate['year']==2017)&(trainSaleDate['month']==10)]\n",
    "sellmonth.dropna(inplace=True) \n",
    "sellmonth['how_many_month_has_sell'] = sellmonth['how_many_month_has_sell']+1\n",
    "sale_quantity_total_last_month = sellmonth['sale_quantity'].sum()\n",
    "sellmonth.rename(columns={'sale_quantity': 'sale_quantity_this_last_month'}, inplace=True)\n",
    "\n",
    "sellYear = trainSaleDate[['class_id', 'sale_quantity']][((trainSaleDate['year']==2016)&(trainSaleDate['month']>=11))|((trainSaleDate['year']==2017)&(trainSaleDate['month']<11))]\n",
    "sellYear.dropna(inplace=True)\n",
    "sellYear = sellYear.groupby('class_id').agg('sum').reset_index()\n",
    "sale_quantity_total_last_year = sellYear['sale_quantity'].sum()\n",
    "sellYear.rename(columns={'sale_quantity': 'sale_quantity_this_last_year'}, inplace=True)\n",
    "\n",
    "test = pd.merge(test, trainFeature, on='class_id', how='left')\n",
    "test = pd.merge(test, sellmonth, on='class_id', how='left')\n",
    "test = pd.merge(test, sellYear, on='class_id', how='left')\n",
    "\n",
    "test.loc[:, 'sale_quantity_total_last_month'] = sale_quantity_total_last_month\n",
    "test.loc[:, 'sale_quantity_total_last_year'] = sale_quantity_total_last_year\n",
    "test.loc[:, 'this_month_sale_class_count'] = 140\n",
    "\n",
    "test.sort_values(['class_id'])\n",
    "test.fillna(0.0, inplace=True)\n",
    "\n",
    "test = test.drop(['predict_quantity'], axis=1)"
   ]
  },
  {
   "cell_type": "code",
   "execution_count": 9,
   "metadata": {},
   "outputs": [],
   "source": [
    "columns = train.drop(['sale_quantity'], axis=1).columns.tolist()\n",
    "test['sale_date'] = test['predict_date']\n",
    "test = test.drop(['predict_date'], axis=1)"
   ]
  },
  {
   "cell_type": "code",
   "execution_count": 11,
   "metadata": {
    "collapsed": true
   },
   "outputs": [],
   "source": [
    "trainSaleDate.to_csv('../../raw/LiChuan/trainSaleDatetest.csv', index=False)\n",
    "test.to_csv('../../raw/LiChuan/test_featuretest.csv', index=False)"
   ]
  }
 ],
 "metadata": {
  "kernelspec": {
   "display_name": "Python 3",
   "language": "python",
   "name": "python3"
  },
  "language_info": {
   "codemirror_mode": {
    "name": "ipython",
    "version": 3
   },
   "file_extension": ".py",
   "mimetype": "text/x-python",
   "name": "python",
   "nbconvert_exporter": "python",
   "pygments_lexer": "ipython3",
   "version": "3.6.3"
  },
  "toc": {
   "nav_menu": {},
   "number_sections": true,
   "sideBar": true,
   "skip_h1_title": false,
   "toc_cell": false,
   "toc_position": {},
   "toc_section_display": "block",
   "toc_window_display": false
  }
 },
 "nbformat": 4,
 "nbformat_minor": 2
}
