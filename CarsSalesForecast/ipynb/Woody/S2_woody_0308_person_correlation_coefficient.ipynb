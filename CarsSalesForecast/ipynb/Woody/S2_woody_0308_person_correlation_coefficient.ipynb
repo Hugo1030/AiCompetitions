{
 "cells": [
  {
   "cell_type": "code",
   "execution_count": 1,
   "metadata": {},
   "outputs": [],
   "source": [
    "import numpy as np\n",
    "import pandas as pd"
   ]
  },
  {
   "cell_type": "markdown",
   "metadata": {},
   "source": [
    "公式\n",
    "![](https://wikimedia.org/api/rest_v1/media/math/render/svg/86c6b669f6b937c12ba7e0d1afce559904c5a092)"
   ]
  },
  {
   "cell_type": "markdown",
   "metadata": {},
   "source": [
    "- 生成各列的平均数a1，a2,...\n",
    "- 计算(各列-该列平均值)生成新的一列b1,b2...\n",
    "- 计算两列的乘积组成新的一列/两列各值平方和的开方*乘积\n",
    "- 新的数列加和"
   ]
  },
  {
   "cell_type": "code",
   "execution_count": 2,
   "metadata": {},
   "outputs": [
    {
     "name": "stdout",
     "output_type": "stream",
     "text": [
      "LiChuan0131FeatureEngineer_study.ipynb\r\n",
      "LiChuan0201SaleDateEngineer_study.ipynb\r\n",
      "LiChuan0222SplitTrainSet.ipynb\r\n",
      "PAI命令脚本架构.rp\r\n",
      "README.md\r\n",
      "S2_PAI_woody_0307_xgboost_gbdt_script_v1-Copy1.0.ipynb\r\n",
      "S2_PAI_woody_0307_xgboost_gbdt_script_v1.0.ipynb\r\n",
      "S2_woody_0308_col_name_generate.ipynb\r\n",
      "S2_woody_0308_person_correlation_coefficient.ipynb\r\n",
      "Wood_0209_part_optimize__LiChuan0207XGBoost_.ipynb\r\n",
      "Wood_20180224_lstm_predict_only_classid.ipynb\r\n",
      "Woody0204car_sale.ipynb\r\n",
      "Woody0205car_sale_mean_3Months.ipynb\r\n",
      "Woody_20180204_lstm_predict_December.ipynb\r\n",
      "Woody_20180224_keras_practice.ipynb\r\n",
      "Woody_20180224_lstm_predict-all_features.ipynb\r\n",
      "Woody_20180224_lstm_predict_add_displacement.ipynb\r\n",
      "Woody_20180224_lstm_predict_add_price_feature.ipynb\r\n",
      "Woody_20180225_svm_practice_R.ipynb\r\n",
      "Woody_20180226_Observe-Nov-vs-Dec-quantity.ipynb\r\n",
      "Woody_20180304_Observe-Dec-vs-Jan-quantity.ipynb\r\n",
      "XGboost_param_share.ipynb\r\n",
      "[new] yancheng_train_20171226.csv\r\n",
      "caijun0208TimefeatureEngineering-Copy1.ipynb\r\n",
      "caijun0222ResultStack.ipynb\r\n",
      "pandas_groupby.ipynb\r\n",
      "woody-20180226-Observe-classid-quantity-compare.ipynb\r\n",
      "yancheng_testA_20171225.csv\r\n"
     ]
    }
   ],
   "source": [
    "ls"
   ]
  },
  {
   "cell_type": "code",
   "execution_count": 4,
   "metadata": {},
   "outputs": [],
   "source": [
    "list_year=[2012,2013,2014,2015,2016,2017]\n",
    "list_month=[1,2,3,4,5,6,7,8,9,10,11,12]"
   ]
  },
  {
   "cell_type": "code",
   "execution_count": 7,
   "metadata": {},
   "outputs": [
    {
     "name": "stdout",
     "output_type": "stream",
     "text": [
      "201201,201202,201203,201204,201205,201206,201207,201208,201209,201210,201211,201212,201301,201302,201303,201304,201305,201306,201307,201308,201309,201310,201311,201312,201401,201402,201403,201404,201405,201406,201407,201408,201409,201410,201411,201412,201501,201502,201503,201504,201505,201506,201507,201508,201509,201510,201511,201512,201601,201602,201603,201604,201605,201606,201607,201608,201609,201610,201611,201612,201701,201702,201703,201704,201705,201706,201707,201708,201709,201710,201711,201712,\n"
     ]
    }
   ],
   "source": [
    "ss=''\n",
    "for i in list_year:\n",
    "    for j in list_month:\n",
    "        if j<10:\n",
    "            ss=ss+str(i)+str(0)+str(j)+','\n",
    "        else:\n",
    "            ss=ss+str(i)+str(j)+','\n",
    "print(ss)\n",
    "        \n",
    "        "
   ]
  },
  {
   "cell_type": "code",
   "execution_count": null,
   "metadata": {},
   "outputs": [],
   "source": [
    "stuff_woody_0312_mock_B_env"
   ]
  },
  {
   "cell_type": "code",
   "execution_count": null,
   "metadata": {},
   "outputs": [],
   "source": [
    "create table if not exists stuff_woody_0311_include_produce_quantity_1701_1709_train\n",
    "as select * from stuff_woody_0311_include_produce_quantity\n",
    "where (sale_date not in (201801,201712,201711,201710,201601,201602,201603,201604,201605,201606,201607,201608,201609,201610,201611,201612,201501,201502,201503,201504,201505,201506,201507,201508,201509,201510,201511,201512,201401,201402,201403,201404,201405,201406,201407,201408,201409,201410,201411,201412,201301,201302,201303,201304,201305,201306,201307,201308,201309,201310,201311,201312,201201,201202,201203,201204,201205,201206,201207,201208,201209,201210,201211,201212) );\n"
   ]
  }
 ],
 "metadata": {
  "kernelspec": {
   "display_name": "Python 3",
   "language": "python",
   "name": "python3"
  },
  "language_info": {
   "codemirror_mode": {
    "name": "ipython",
    "version": 3
   },
   "file_extension": ".py",
   "mimetype": "text/x-python",
   "name": "python",
   "nbconvert_exporter": "python",
   "pygments_lexer": "ipython3",
   "version": "3.6.4"
  }
 },
 "nbformat": 4,
 "nbformat_minor": 2
}
