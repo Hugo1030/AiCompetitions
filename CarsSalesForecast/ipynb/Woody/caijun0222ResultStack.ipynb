{
 "cells": [
  {
   "cell_type": "code",
   "execution_count": 9,
   "metadata": {},
   "outputs": [],
   "source": [
    "import numpy as np\n",
    "import scipy as sp\n",
    "import pandas as pd\n",
    "import xgboost as xgb\n",
    "from sklearn import cross_validation, metrics\n",
    "import matplotlib.pyplot as plt\n",
    "from xgboost import XGBRegressor\n",
    "from sklearn.model_selection import train_test_split, cross_val_score\n",
    "from sklearn.ensemble import RandomForestRegressor\n",
    "from sklearn.feature_selection import *\n",
    "import random\n",
    "from sklearn.decomposition import PCA\n",
    "import math\n",
    "import warnings\n",
    "warnings.filterwarnings('ignore')\n",
    "%matplotlib inline"
   ]
  },
  {
   "cell_type": "code",
   "execution_count": 19,
   "metadata": {},
   "outputs": [],
   "source": [
    "xgb_d = pd.read_csv('../../raw/Submissions/result_180222_XGBoost_RMSE141.csv')\n",
    "lstm_d = pd.read_csv('../../raw/Submissions/result_180222_lstm_RMSE139.csv')\n",
    "gbm_d = pd.read_csv('../../raw/LiChuan/result_180223_lightGBM.csv')\n",
    "baseline_d = pd.read_csv('../../raw/Submissions/result_180222_baseline_RMSE131.csv')\n",
    "submit = pd.read_csv('../../raw/CarsSaleForecast/yancheng_testA_20171225.csv')"
   ]
  },
  {
   "cell_type": "code",
   "execution_count": 20,
   "metadata": {},
   "outputs": [],
   "source": [
    "lstm = lstm_d['predict_quantity'].values\n",
    "xgb = xgb_d['predict_quantity'].values\n",
    "gbm = gbm_d['predict_quantity'].values\n",
    "baseline = baseline_d['predict_quantity'].values"
   ]
  },
  {
   "cell_type": "code",
   "execution_count": 49,
   "metadata": {},
   "outputs": [
    {
     "data": {
      "text/plain": [
       "88.74238326497176"
      ]
     },
     "execution_count": 49,
     "metadata": {},
     "output_type": "execute_result"
    }
   ],
   "source": [
    "math.sqrt(((lstm - xgb)**2).mean())"
   ]
  },
  {
   "cell_type": "code",
   "execution_count": 50,
   "metadata": {},
   "outputs": [
    {
     "data": {
      "text/plain": [
       "84.7222423055624"
      ]
     },
     "execution_count": 50,
     "metadata": {},
     "output_type": "execute_result"
    }
   ],
   "source": [
    "math.sqrt(((lstm - baseline)**2).mean())"
   ]
  },
  {
   "cell_type": "code",
   "execution_count": 51,
   "metadata": {},
   "outputs": [
    {
     "data": {
      "text/plain": [
       "86.26010495265461"
      ]
     },
     "execution_count": 51,
     "metadata": {},
     "output_type": "execute_result"
    }
   ],
   "source": [
    "math.sqrt(((lstm - gbm)**2).mean())"
   ]
  },
  {
   "cell_type": "code",
   "execution_count": 52,
   "metadata": {},
   "outputs": [
    {
     "data": {
      "text/plain": [
       "81.22593750512468"
      ]
     },
     "execution_count": 52,
     "metadata": {},
     "output_type": "execute_result"
    }
   ],
   "source": [
    "math.sqrt(((xgb - gbm)**2).mean())"
   ]
  },
  {
   "cell_type": "code",
   "execution_count": 53,
   "metadata": {},
   "outputs": [
    {
     "data": {
      "text/plain": [
       "78.18626531577524"
      ]
     },
     "execution_count": 53,
     "metadata": {},
     "output_type": "execute_result"
    }
   ],
   "source": [
    "math.sqrt(((xgb - baseline)**2).mean())"
   ]
  },
  {
   "cell_type": "code",
   "execution_count": 54,
   "metadata": {},
   "outputs": [
    {
     "data": {
      "text/plain": [
       "105.2588036062342"
      ]
     },
     "execution_count": 54,
     "metadata": {},
     "output_type": "execute_result"
    }
   ],
   "source": [
    "math.sqrt(((gbm - baseline)**2).mean())"
   ]
  },
  {
   "cell_type": "code",
   "execution_count": 21,
   "metadata": {},
   "outputs": [
    {
     "data": {
      "text/plain": [
       "0       222.065134\n",
       "1       279.771544\n",
       "2       206.243019\n",
       "3       178.854776\n",
       "4       170.143450\n",
       "5       249.131672\n",
       "6       167.470695\n",
       "7       110.625371\n",
       "8       430.513482\n",
       "9       299.975824\n",
       "10      133.872081\n",
       "11     2168.311144\n",
       "12      159.998782\n",
       "13      160.609342\n",
       "14      394.541585\n",
       "15      138.297320\n",
       "16      297.461414\n",
       "17      165.469131\n",
       "18      204.912321\n",
       "19      238.952664\n",
       "20      691.335315\n",
       "21      424.800820\n",
       "22      470.368131\n",
       "23      427.044920\n",
       "24      291.540595\n",
       "25      237.153483\n",
       "26      365.161090\n",
       "27       66.789975\n",
       "28      175.215058\n",
       "29      444.449887\n",
       "          ...     \n",
       "110     921.513002\n",
       "111     123.129566\n",
       "112      74.046418\n",
       "113     138.904426\n",
       "114      85.445223\n",
       "115     116.547876\n",
       "116     183.392376\n",
       "117     131.735863\n",
       "118     153.613137\n",
       "119     194.568835\n",
       "120     190.281350\n",
       "121     134.759761\n",
       "122     261.247889\n",
       "123     173.577940\n",
       "124     164.174968\n",
       "125     291.637874\n",
       "126    1385.628932\n",
       "127     350.182698\n",
       "128     199.558790\n",
       "129     556.843209\n",
       "130     652.033959\n",
       "131    1195.699376\n",
       "132      82.562213\n",
       "133    1204.957962\n",
       "134    1127.755991\n",
       "135      93.018761\n",
       "136     107.510406\n",
       "137     237.441850\n",
       "138     155.076659\n",
       "139     428.907660\n",
       "Name: predict_quantity, Length: 140, dtype: float64"
      ]
     },
     "execution_count": 21,
     "metadata": {},
     "output_type": "execute_result"
    }
   ],
   "source": [
    "predict_test_X =  baseline_d['predict_quantity']*0.5+gbm_d['predict_quantity']*0.3+lstm_d['predict_quantity']*0.2\n",
    "predict_test_X"
   ]
  },
  {
   "cell_type": "code",
   "execution_count": 23,
   "metadata": {},
   "outputs": [
    {
     "data": {
      "text/plain": [
       "0       205.444480\n",
       "1       277.998582\n",
       "2       206.823071\n",
       "3       179.128111\n",
       "4       178.128286\n",
       "5       252.190753\n",
       "6       174.653760\n",
       "7       112.328181\n",
       "8       451.387656\n",
       "9       286.443544\n",
       "10      129.960916\n",
       "11     2167.162487\n",
       "12      147.830957\n",
       "13      164.839309\n",
       "14      399.984011\n",
       "15      140.757627\n",
       "16      291.601360\n",
       "17      159.257912\n",
       "18      207.229087\n",
       "19      251.749719\n",
       "20      690.102008\n",
       "21      410.035741\n",
       "22      465.121638\n",
       "23      432.788579\n",
       "24      283.748229\n",
       "25      249.250640\n",
       "26      387.453260\n",
       "27       72.024183\n",
       "28      180.694724\n",
       "29      424.105766\n",
       "          ...     \n",
       "110     900.868247\n",
       "111     129.229116\n",
       "112      87.042792\n",
       "113     145.797476\n",
       "114      92.789978\n",
       "115     137.355744\n",
       "116     181.456806\n",
       "117     139.893024\n",
       "118     156.542685\n",
       "119     199.598736\n",
       "120     197.301032\n",
       "121     142.853621\n",
       "122     256.048984\n",
       "123     173.413304\n",
       "124     155.576498\n",
       "125     267.704402\n",
       "126    1439.749087\n",
       "127     351.725043\n",
       "128     190.678780\n",
       "129     567.979458\n",
       "130     640.430430\n",
       "131    1189.972260\n",
       "132      93.313355\n",
       "133    1191.047567\n",
       "134    1134.960977\n",
       "135      92.748550\n",
       "136     113.917014\n",
       "137     236.656318\n",
       "138     143.809734\n",
       "139     427.554881\n",
       "Name: predict_quantity, Length: 140, dtype: float64"
      ]
     },
     "execution_count": 23,
     "metadata": {},
     "output_type": "execute_result"
    }
   ],
   "source": [
    "predict_test_X =  baseline_d['predict_quantity']*0.5+gbm_d['predict_quantity']*0.5\n",
    "predict_test_X"
   ]
  },
  {
   "cell_type": "code",
   "execution_count": 24,
   "metadata": {},
   "outputs": [],
   "source": [
    "submit['predict_quantity'] = predict_test_X\n",
    "submit.to_csv('../../raw/woody/result_180224_baseline*0.5_lightGBM*0.5.csv',index=False, header=True)"
   ]
  },
  {
   "cell_type": "code",
   "execution_count": null,
   "metadata": {},
   "outputs": [],
   "source": []
  }
 ],
 "metadata": {
  "kernelspec": {
   "display_name": "Python 3",
   "language": "python",
   "name": "python3"
  },
  "language_info": {
   "codemirror_mode": {
    "name": "ipython",
    "version": 3
   },
   "file_extension": ".py",
   "mimetype": "text/x-python",
   "name": "python",
   "nbconvert_exporter": "python",
   "pygments_lexer": "ipython3",
   "version": "3.6.4"
  },
  "toc": {
   "nav_menu": {},
   "number_sections": true,
   "sideBar": true,
   "skip_h1_title": false,
   "toc_cell": false,
   "toc_position": {},
   "toc_section_display": "block",
   "toc_window_display": false
  }
 },
 "nbformat": 4,
 "nbformat_minor": 2
}
