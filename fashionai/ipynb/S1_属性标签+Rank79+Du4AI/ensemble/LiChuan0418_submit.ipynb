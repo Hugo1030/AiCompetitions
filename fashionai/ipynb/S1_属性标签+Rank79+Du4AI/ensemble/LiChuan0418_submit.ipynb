{
 "cells": [
  {
   "cell_type": "markdown",
   "metadata": {
    "collapsed": true
   },
   "source": [
    "* 将 8 个 label 最终结果结果合并, 并提交"
   ]
  },
  {
   "cell_type": "code",
   "execution_count": 23,
   "metadata": {
    "collapsed": true
   },
   "outputs": [],
   "source": [
    "import pandas as pd\n",
    "import numpy as np"
   ]
  },
  {
   "cell_type": "code",
   "execution_count": 24,
   "metadata": {
    "collapsed": true
   },
   "outputs": [],
   "source": [
    "df_test = pd.read_csv('../data/z_rank/Tests/answer_mock.csv', header=None)\n",
    "df_question = pd.read_csv('../data/z_rank/Tests/question.csv', header=None)"
   ]
  },
  {
   "cell_type": "code",
   "execution_count": 25,
   "metadata": {
    "collapsed": true
   },
   "outputs": [],
   "source": [
    "classes = ['collar_design_labels', 'neckline_design_labels', 'skirt_length_labels',\n",
    "          'sleeve_length_labels', 'neck_design_labels', 'coat_length_labels', 'lapel_design_labels',\n",
    "          'pant_length_labels']"
   ]
  },
  {
   "cell_type": "code",
   "execution_count": 41,
   "metadata": {
    "collapsed": true
   },
   "outputs": [],
   "source": [
    "df_collar = pd.read_csv('../../raw/result/collar_0420a.csv', header=None)\n",
    "df_neckline = pd.read_csv('../../raw/result/neckline_0420a.csv', header=None)\n",
    "df_skirt = pd.read_csv('../../raw/result/skirt_0420a.csv', header=None)\n",
    "df_sleeve = pd.read_csv('../../raw/result/sleeve_0420a.csv', header=None)\n",
    "df_neck = pd.read_csv('../../raw/result/neck_0419b_2.csv', header=None)\n",
    "df_coat = pd.read_csv('../../raw/result/coat_0419b_2.csv', header=None)\n",
    "df_lapel = pd.read_csv('../../raw/result/lapel_0420a.csv', header=None)\n",
    "df_pant = pd.read_csv('../../raw/result/pant_0420a.csv', header=None)"
   ]
  },
  {
   "cell_type": "code",
   "execution_count": 42,
   "metadata": {
    "collapsed": true
   },
   "outputs": [],
   "source": [
    "# 给结果表增添表头\n",
    "df_test.columns = ['image_id', 'class', 'result']\n",
    "df_question.columns = ['image_id', 'class', 'result']"
   ]
  },
  {
   "cell_type": "code",
   "execution_count": 43,
   "metadata": {
    "collapsed": true
   },
   "outputs": [],
   "source": [
    "# 给分类别增添表头\n",
    "df_collar.columns = ['image_id', 'class', 'result']\n",
    "df_neckline.columns = ['image_id', 'class', 'result']\n",
    "df_skirt.columns = ['image_id', 'class', 'result']\n",
    "df_sleeve.columns = ['image_id', 'class', 'result']\n",
    "df_neck.columns = ['image_id', 'class', 'result']\n",
    "df_coat.columns = ['image_id', 'class', 'result']\n",
    "df_lapel.columns = ['image_id', 'class', 'result']\n",
    "df_pant.columns = ['image_id', 'class', 'result']"
   ]
  },
  {
   "cell_type": "code",
   "execution_count": 44,
   "metadata": {
    "collapsed": true
   },
   "outputs": [],
   "source": [
    "# 将分类别按顺序拼接起来\n",
    "df_temp = pd.concat([df_collar, df_neckline, df_skirt, df_sleeve, df_neck, df_coat, df_lapel, df_pant])"
   ]
  },
  {
   "cell_type": "code",
   "execution_count": 45,
   "metadata": {
    "collapsed": true
   },
   "outputs": [],
   "source": [
    "# 将拼接零时表, 按照结果表顺序, 合并\n",
    "df_submit = pd.merge(df_question[['image_id', 'class']], df_temp, on=['image_id', 'class'], how='left')"
   ]
  },
  {
   "cell_type": "code",
   "execution_count": 46,
   "metadata": {},
   "outputs": [
    {
     "data": {
      "text/plain": [
       "image_id    0\n",
       "class       0\n",
       "result      0\n",
       "dtype: int64"
      ]
     },
     "execution_count": 46,
     "metadata": {},
     "output_type": "execute_result"
    }
   ],
   "source": [
    "# 看下 submit 是否有 Null\n",
    "df_submit.isnull().sum()"
   ]
  },
  {
   "cell_type": "code",
   "execution_count": 48,
   "metadata": {
    "collapsed": true
   },
   "outputs": [],
   "source": [
    "# 将结果输出\n",
    "df_submit.to_csv('./result/submit_0421a.csv', header=None, index=False)"
   ]
  }
 ],
 "metadata": {
  "kernelspec": {
   "display_name": "Python 3",
   "language": "python",
   "name": "python3"
  },
  "language_info": {
   "codemirror_mode": {
    "name": "ipython",
    "version": 3
   },
   "file_extension": ".py",
   "mimetype": "text/x-python",
   "name": "python",
   "nbconvert_exporter": "python",
   "pygments_lexer": "ipython3",
   "version": "3.6.3"
  },
  "toc": {
   "nav_menu": {},
   "number_sections": true,
   "sideBar": true,
   "skip_h1_title": false,
   "toc_cell": false,
   "toc_position": {},
   "toc_section_display": "block",
   "toc_window_display": false
  }
 },
 "nbformat": 4,
 "nbformat_minor": 2
}
