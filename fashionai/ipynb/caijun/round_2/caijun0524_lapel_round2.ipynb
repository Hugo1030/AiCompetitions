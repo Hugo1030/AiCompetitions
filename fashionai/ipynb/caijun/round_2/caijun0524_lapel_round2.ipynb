{
 "cells": [
  {
   "cell_type": "code",
   "execution_count": 1,
   "metadata": {
    "collapsed": true
   },
   "outputs": [],
   "source": [
    "import os\n",
    "import cv2\n",
    "import random\n",
    "import numpy as np\n",
    "import pandas as pd\n",
    "import seaborn as sns\n",
    "import matplotlib.pyplot as plt\n",
    "import warnings\n",
    "import itertools\n",
    "\n",
    "from tqdm import tqdm\n",
    "from sklearn.utils import shuffle\n",
    "from sklearn.model_selection import train_test_split\n",
    "from sklearn.metrics import confusion_matrix\n",
    "\n",
    "\n",
    "warnings.filterwarnings('ignore')\n",
    "%matplotlib inline\n",
    "%config InlineBackend.figure_format = 'retina'"
   ]
  },
  {
   "cell_type": "code",
   "execution_count": 2,
   "metadata": {},
   "outputs": [
    {
     "data": {
      "text/html": [
       "<div>\n",
       "<style>\n",
       "    .dataframe thead tr:only-child th {\n",
       "        text-align: right;\n",
       "    }\n",
       "\n",
       "    .dataframe thead th {\n",
       "        text-align: left;\n",
       "    }\n",
       "\n",
       "    .dataframe tbody tr th {\n",
       "        vertical-align: top;\n",
       "    }\n",
       "</style>\n",
       "<table border=\"1\" class=\"dataframe\">\n",
       "  <thead>\n",
       "    <tr style=\"text-align: right;\">\n",
       "      <th></th>\n",
       "      <th>image_id</th>\n",
       "      <th>class</th>\n",
       "      <th>label</th>\n",
       "    </tr>\n",
       "  </thead>\n",
       "  <tbody>\n",
       "    <tr>\n",
       "      <th>0</th>\n",
       "      <td>Images/collar_design_labels/b23a3fe060d71bed77...</td>\n",
       "      <td>collar_design_labels</td>\n",
       "      <td>ynnnn</td>\n",
       "    </tr>\n",
       "    <tr>\n",
       "      <th>1</th>\n",
       "      <td>Images/collar_design_labels/0ef580b4deabcd9fa4...</td>\n",
       "      <td>collar_design_labels</td>\n",
       "      <td>ynnnn</td>\n",
       "    </tr>\n",
       "    <tr>\n",
       "      <th>2</th>\n",
       "      <td>Images/collar_design_labels/87ccc33937821a97ad...</td>\n",
       "      <td>collar_design_labels</td>\n",
       "      <td>nnynn</td>\n",
       "    </tr>\n",
       "    <tr>\n",
       "      <th>3</th>\n",
       "      <td>Images/collar_design_labels/26caac7d1f1b36fb9d...</td>\n",
       "      <td>collar_design_labels</td>\n",
       "      <td>ynnnn</td>\n",
       "    </tr>\n",
       "    <tr>\n",
       "      <th>4</th>\n",
       "      <td>Images/collar_design_labels/396ab4e7cbc6798100...</td>\n",
       "      <td>collar_design_labels</td>\n",
       "      <td>nynnn</td>\n",
       "    </tr>\n",
       "  </tbody>\n",
       "</table>\n",
       "</div>"
      ],
      "text/plain": [
       "                                            image_id                 class  \\\n",
       "0  Images/collar_design_labels/b23a3fe060d71bed77...  collar_design_labels   \n",
       "1  Images/collar_design_labels/0ef580b4deabcd9fa4...  collar_design_labels   \n",
       "2  Images/collar_design_labels/87ccc33937821a97ad...  collar_design_labels   \n",
       "3  Images/collar_design_labels/26caac7d1f1b36fb9d...  collar_design_labels   \n",
       "4  Images/collar_design_labels/396ab4e7cbc6798100...  collar_design_labels   \n",
       "\n",
       "   label  \n",
       "0  ynnnn  \n",
       "1  ynnnn  \n",
       "2  nnynn  \n",
       "3  ynnnn  \n",
       "4  nynnn  "
      ]
     },
     "execution_count": 2,
     "metadata": {},
     "output_type": "execute_result"
    }
   ],
   "source": [
    "df_train = pd.read_csv('./train_round2/Annotations/label.csv', header=None)\n",
    "df_train.columns = ['image_id', 'class', 'label']\n",
    "df_train.head()"
   ]
  },
  {
   "cell_type": "code",
   "execution_count": 3,
   "metadata": {
    "collapsed": true
   },
   "outputs": [],
   "source": [
    "classes = ['collar_design_labels', 'neckline_design_labels', 'skirt_length_labels',\n",
    "          'sleeve_length_labels', 'neck_design_labels', 'coat_length_labels', 'lapel_design_labels',\n",
    "          'pant_length_labels']"
   ]
  },
  {
   "cell_type": "code",
   "execution_count": 4,
   "metadata": {},
   "outputs": [
    {
     "name": "stdout",
     "output_type": "stream",
     "text": [
      "lapel_design_labels: 8876\n"
     ]
    },
    {
     "data": {
      "text/html": [
       "<div>\n",
       "<style>\n",
       "    .dataframe thead tr:only-child th {\n",
       "        text-align: right;\n",
       "    }\n",
       "\n",
       "    .dataframe thead th {\n",
       "        text-align: left;\n",
       "    }\n",
       "\n",
       "    .dataframe tbody tr th {\n",
       "        vertical-align: top;\n",
       "    }\n",
       "</style>\n",
       "<table border=\"1\" class=\"dataframe\">\n",
       "  <thead>\n",
       "    <tr style=\"text-align: right;\">\n",
       "      <th></th>\n",
       "      <th>image_id</th>\n",
       "      <th>class</th>\n",
       "      <th>label</th>\n",
       "    </tr>\n",
       "  </thead>\n",
       "  <tbody>\n",
       "    <tr>\n",
       "      <th>0</th>\n",
       "      <td>Images/lapel_design_labels/bf1e0ae60afeafeeccf...</td>\n",
       "      <td>lapel_design_labels</td>\n",
       "      <td>nnnny</td>\n",
       "    </tr>\n",
       "    <tr>\n",
       "      <th>1</th>\n",
       "      <td>Images/lapel_design_labels/fa185f8c9d166793acf...</td>\n",
       "      <td>lapel_design_labels</td>\n",
       "      <td>ynnnn</td>\n",
       "    </tr>\n",
       "    <tr>\n",
       "      <th>2</th>\n",
       "      <td>Images/lapel_design_labels/f5d6d847c3ee7d4fc2e...</td>\n",
       "      <td>lapel_design_labels</td>\n",
       "      <td>nnnny</td>\n",
       "    </tr>\n",
       "    <tr>\n",
       "      <th>3</th>\n",
       "      <td>Images/lapel_design_labels/8774f7de05922f0c448...</td>\n",
       "      <td>lapel_design_labels</td>\n",
       "      <td>nnnyn</td>\n",
       "    </tr>\n",
       "    <tr>\n",
       "      <th>4</th>\n",
       "      <td>Images/lapel_design_labels/6612436b2c115e7acbc...</td>\n",
       "      <td>lapel_design_labels</td>\n",
       "      <td>ynnnn</td>\n",
       "    </tr>\n",
       "  </tbody>\n",
       "</table>\n",
       "</div>"
      ],
      "text/plain": [
       "                                            image_id                class  \\\n",
       "0  Images/lapel_design_labels/bf1e0ae60afeafeeccf...  lapel_design_labels   \n",
       "1  Images/lapel_design_labels/fa185f8c9d166793acf...  lapel_design_labels   \n",
       "2  Images/lapel_design_labels/f5d6d847c3ee7d4fc2e...  lapel_design_labels   \n",
       "3  Images/lapel_design_labels/8774f7de05922f0c448...  lapel_design_labels   \n",
       "4  Images/lapel_design_labels/6612436b2c115e7acbc...  lapel_design_labels   \n",
       "\n",
       "   label  \n",
       "0  nnnny  \n",
       "1  ynnnn  \n",
       "2  nnnny  \n",
       "3  nnnyn  \n",
       "4  ynnnn  "
      ]
     },
     "execution_count": 4,
     "metadata": {},
     "output_type": "execute_result"
    }
   ],
   "source": [
    "cur_class = classes[6]\n",
    "df_load = df_train[(df_train['class'] == cur_class)].copy()\n",
    "df_load.reset_index(inplace=True)\n",
    "del df_load['index']\n",
    "\n",
    "print('{0}: {1}'.format(cur_class, len(df_load)))\n",
    "df_load.head()"
   ]
  },
  {
   "cell_type": "markdown",
   "metadata": {},
   "source": [
    "### 根据混淆矩阵手动label smoothing"
   ]
  },
  {
   "cell_type": "code",
   "execution_count": 5,
   "metadata": {
    "collapsed": true
   },
   "outputs": [],
   "source": [
    "lsr = [[0.9,0,0.1,0,0],[0,0.8,0.067,0.067,0.067],[0.1,0,0.9,0,0],[0,0,0,1,0],[0,0.1,0.1,0,0.8]]"
   ]
  },
  {
   "cell_type": "code",
   "execution_count": 6,
   "metadata": {
    "collapsed": true
   },
   "outputs": [],
   "source": [
    "task = cur_class\n",
    "image_path = []\n",
    "for i in range(len(df_load)):\n",
    "    image_path.append(('./train_round2/' + df_load['image_id'][i], df_load['label'][i]))\n",
    "n_class = len(df_load['label'][0])\n",
    "width = 299 # 定义图片大小"
   ]
  },
  {
   "cell_type": "code",
   "execution_count": 7,
   "metadata": {
    "collapsed": true
   },
   "outputs": [],
   "source": [
    "from PIL import Image\n",
    "import os\n",
    "import os.path\n",
    "from skimage import data, img_as_float\n",
    "from skimage import exposure\n",
    "import shutil"
   ]
  },
  {
   "cell_type": "code",
   "execution_count": 8,
   "metadata": {},
   "outputs": [
    {
     "name": "stdout",
     "output_type": "stream",
     "text": [
      "NameError: name 'X_train' is not defined\n",
      "NameError: name 'y_train' is not defined\n",
      "NameError: name 'X_valid' is not defined\n",
      "NameError: name 'y_valid' is not defined\n"
     ]
    },
    {
     "data": {
      "text/plain": [
       "0"
      ]
     },
     "execution_count": 8,
     "metadata": {},
     "output_type": "execute_result"
    }
   ],
   "source": [
    "import gc\n",
    "%xdel X_train\n",
    "%xdel y_train\n",
    "%xdel X_valid\n",
    "%xdel y_valid\n",
    "gc.collect()"
   ]
  },
  {
   "cell_type": "code",
   "execution_count": 9,
   "metadata": {},
   "outputs": [
    {
     "name": "stdout",
     "output_type": "stream",
     "text": [
      "31956\n"
     ]
    }
   ],
   "source": [
    "traindir= os.path.join('./train_round2/train_valid', task, 'trainall')\n",
    "n_train = sum([len(x) for _, _, x in os.walk(traindir)])\n",
    "#n_train = 15977\n",
    "print (n_train)"
   ]
  },
  {
   "cell_type": "code",
   "execution_count": 10,
   "metadata": {},
   "outputs": [
    {
     "name": "stdout",
     "output_type": "stream",
     "text": [
      "887\n"
     ]
    }
   ],
   "source": [
    "valdir= os.path.join('./train_round2/train_valid', task, 'valall')\n",
    "n_val = sum([len(x) for _, _, x in os.walk(valdir)])\n",
    "print (n_val)"
   ]
  },
  {
   "cell_type": "code",
   "execution_count": 11,
   "metadata": {
    "collapsed": true
   },
   "outputs": [],
   "source": [
    "width = 299 # 定义图片大小\n",
    "\n",
    "X_train = np.zeros((n_train, width, width, 3), dtype=np.uint8)\n",
    "y_train = np.zeros((n_train, n_class), dtype=np.float32)\n",
    "X_valid = np.zeros((n_val, width, width, 3), dtype=np.uint8)\n",
    "y_valid = np.zeros((n_val, n_class), dtype=np.float32)"
   ]
  },
  {
   "cell_type": "code",
   "execution_count": 12,
   "metadata": {},
   "outputs": [
    {
     "name": "stdout",
     "output_type": "stream",
     "text": [
      "31956\n"
     ]
    }
   ],
   "source": [
    "count = 0\n",
    "train_image_path = []\n",
    "for parent, dirnames, filenames in os.walk(traindir):\n",
    "    for filename in filenames:\n",
    "        if '._'not in filename and 'jpg' in filename:\n",
    "            currentPath = os.path.join(parent, filename)\n",
    "            train_image_path.append(currentPath)\n",
    "            labelfile = parent.split('/')[-1]\n",
    "            \n",
    "            img = cv2.imread(currentPath)\n",
    "            row, column, channels = img.shape\n",
    "            if row == column:\n",
    "                X_train[count] = cv2.resize(img,(width, width))\n",
    "            else:\n",
    "                max_value = max(row, column)\n",
    "                pad_img= cv2.copyMakeBorder(img,(max_value-row)//2,(max_value-row)//2,(max_value-column)//2,(max_value-column)//2,cv2.BORDER_CONSTANT)\n",
    "                X_train[count] = cv2.resize(pad_img, (width, width), interpolation=cv2.INTER_AREA)\n",
    "        \n",
    "            y_train[count]=lsr[int(labelfile)]  #label smoothing\n",
    "            #y_train[count][int(labelfile)]=1\n",
    "            count += 1\n",
    "print(count)"
   ]
  },
  {
   "cell_type": "code",
   "execution_count": 13,
   "metadata": {
    "collapsed": true
   },
   "outputs": [],
   "source": [
    "#valdir= os.path.join('./train_round2/train_valid', task, 'val4')"
   ]
  },
  {
   "cell_type": "code",
   "execution_count": 14,
   "metadata": {},
   "outputs": [
    {
     "name": "stdout",
     "output_type": "stream",
     "text": [
      "887\n"
     ]
    }
   ],
   "source": [
    "count = 0\n",
    "vaild_image_path= []\n",
    "for parent, dirnames, filenames in os.walk(valdir):\n",
    "    for filename in filenames:\n",
    "        if 'jpg' in filename:\n",
    "            currentPath = os.path.join(parent, filename)\n",
    "            vaild_image_path.append(currentPath)\n",
    "            labelfile = parent.split('/')[-1]\n",
    "            \n",
    "            img = cv2.imread(currentPath)\n",
    "            row, column, channels = img.shape\n",
    "            if row == column:\n",
    "                X_valid[count] = cv2.resize(img,(width, width))\n",
    "            else:\n",
    "                max_value = max(row, column)\n",
    "                pad_img= cv2.copyMakeBorder(img,(max_value-row)//2,(max_value-row)//2,(max_value-column)//2,(max_value-column)//2,cv2.BORDER_CONSTANT)\n",
    "                X_valid[count] = cv2.resize(pad_img, (width, width), interpolation=cv2.INTER_AREA)\n",
    "                \n",
    "            #y_valid[count][int(labelfile)]=1\n",
    "            y_valid[count]=lsr[int(labelfile)]  #label smoothing\n",
    "            count += 1\n",
    "print(count)"
   ]
  },
  {
   "cell_type": "markdown",
   "metadata": {
    "collapsed": true
   },
   "source": [
    "## 搭建模型"
   ]
  },
  {
   "cell_type": "code",
   "execution_count": 17,
   "metadata": {},
   "outputs": [
    {
     "name": "stderr",
     "output_type": "stream",
     "text": [
      "Using TensorFlow backend.\n"
     ]
    }
   ],
   "source": [
    "from keras.layers import *\n",
    "from keras.models import *\n",
    "from keras.callbacks import *\n",
    "from keras.optimizers import *\n",
    "from keras.applications import *\n",
    "from keras.regularizers import *\n",
    "from keras.applications.inception_v3 import preprocess_input\n",
    "from keras.preprocessing.image import ImageDataGenerator\n",
    "from keras.callbacks import ReduceLROnPlateau\n",
    "from keras.optimizers import RMSprop\n",
    "import keras\n",
    "import gc\n",
    "\n",
    "#from keras.applications.resnet50 import preprocess_input,ResNet50"
   ]
  },
  {
   "cell_type": "code",
   "execution_count": 18,
   "metadata": {
    "collapsed": true
   },
   "outputs": [],
   "source": [
    "cnn_model = InceptionResNetV2(include_top=False, input_shape=(width, width, 3), weights='imagenet')"
   ]
  },
  {
   "cell_type": "code",
   "execution_count": 19,
   "metadata": {
    "collapsed": true
   },
   "outputs": [],
   "source": [
    "inputs = Input((width, width, 3))\n",
    "\n",
    "x = inputs\n",
    "x = Lambda(preprocess_input, name='preprocessing')(x)\n",
    "x = cnn_model(x)\n",
    "x = GlobalAveragePooling2D()(x)\n",
    "x = Dropout(0.5)(x)\n",
    "x = Dense(n_class, activation='softmax', name='softmax')(x)\n",
    "\n",
    "model = Model(inputs, x)"
   ]
  },
  {
   "cell_type": "code",
   "execution_count": 20,
   "metadata": {},
   "outputs": [
    {
     "data": {
      "text/plain": [
       "'lapel'"
      ]
     },
     "execution_count": 20,
     "metadata": {},
     "output_type": "execute_result"
    }
   ],
   "source": [
    "prefix_cls = cur_class.split('_')[0]\n",
    "prefix_cls"
   ]
  },
  {
   "cell_type": "markdown",
   "metadata": {},
   "source": [
    "## 配置模型"
   ]
  },
  {
   "cell_type": "code",
   "execution_count": 21,
   "metadata": {
    "collapsed": true
   },
   "outputs": [],
   "source": [
    "# Compile the model\n",
    "adam = Adam(lr=0.001) \n",
    "model.compile(optimizer=adam, loss='categorical_crossentropy', metrics=['accuracy'])\n",
    "epochs = 1\n",
    "batch_size = 64"
   ]
  },
  {
   "cell_type": "code",
   "execution_count": 22,
   "metadata": {
    "collapsed": true
   },
   "outputs": [],
   "source": [
    "model.load_weights('./models/{0}.best0513_InceptionResNetV2_round1.h5'.format(prefix_cls)) #加载初赛训练好的模型，继续测试"
   ]
  },
  {
   "cell_type": "markdown",
   "metadata": {},
   "source": [
    "## 模型训练"
   ]
  },
  {
   "cell_type": "code",
   "execution_count": 23,
   "metadata": {},
   "outputs": [
    {
     "name": "stdout",
     "output_type": "stream",
     "text": [
      "Train on 31956 samples, validate on 887 samples\n",
      "Epoch 1/1\n",
      "31956/31956 [==============================] - 702s 22ms/step - loss: 0.9820 - acc: 0.7227 - val_loss: 1.0544 - val_acc: 0.6731\n",
      "\n",
      "Epoch 00001: val_loss improved from inf to 1.05441, saving model to ./models/lapel.best0524_InceptionResNetV2_round2.h5\n"
     ]
    }
   ],
   "source": [
    "checkpointer = ModelCheckpoint(filepath='./models/{0}.best0524_InceptionResNetV2_round2.h5'.format(prefix_cls), verbose=1, \n",
    "                               save_best_only=True)\n",
    "\n",
    "h = model.fit(X_train, y_train, batch_size=64, epochs=epochs, \n",
    "              callbacks=[EarlyStopping(patience=3), checkpointer], \n",
    "              shuffle=True, \n",
    "              validation_data=(X_valid, y_valid))"
   ]
  },
  {
   "cell_type": "code",
   "execution_count": 24,
   "metadata": {
    "collapsed": true
   },
   "outputs": [],
   "source": [
    "cnn_model = InceptionResNetV2(include_top=False, input_shape=(width, width, 3), weights='imagenet')"
   ]
  },
  {
   "cell_type": "code",
   "execution_count": 25,
   "metadata": {
    "collapsed": true
   },
   "outputs": [],
   "source": [
    "inputs = Input((width, width, 3))\n",
    "\n",
    "x = inputs\n",
    "x = Lambda(preprocess_input, name='preprocessing')(x)\n",
    "x = cnn_model(x)\n",
    "x = GlobalAveragePooling2D()(x)\n",
    "x = Dropout(0.5)(x)\n",
    "x = Dense(n_class, activation='softmax', name='softmax')(x)\n",
    "\n",
    "model = Model(inputs, x)"
   ]
  },
  {
   "cell_type": "code",
   "execution_count": 26,
   "metadata": {
    "collapsed": true
   },
   "outputs": [],
   "source": [
    "# Compile the model\n",
    "adam = Adam(lr=0.00002) \n",
    "\n",
    "model.compile(optimizer=adam, loss='categorical_crossentropy', metrics=['accuracy'])\n",
    "epochs = 1\n",
    "batch_size = 64"
   ]
  },
  {
   "cell_type": "code",
   "execution_count": 27,
   "metadata": {
    "collapsed": true
   },
   "outputs": [],
   "source": [
    "model.load_weights('./models/{}.best0524_InceptionResNetV2_round2.h5'.format(prefix_cls)) #加载以前训练好的模型，继续测试"
   ]
  },
  {
   "cell_type": "code",
   "execution_count": 28,
   "metadata": {},
   "outputs": [
    {
     "name": "stdout",
     "output_type": "stream",
     "text": [
      "Train on 31956 samples, validate on 887 samples\n",
      "Epoch 1/1\n",
      "31956/31956 [==============================] - 711s 22ms/step - loss: 0.6920 - acc: 0.8960 - val_loss: 0.9402 - val_acc: 0.7790\n",
      "\n",
      "Epoch 00001: val_loss improved from inf to 0.94023, saving model to ./models/lapel.best0524_InceptionResNetV2_round2_step2.h5\n"
     ]
    }
   ],
   "source": [
    "checkpointer = ModelCheckpoint(filepath='./models/{0}.best0524_InceptionResNetV2_round2_step2.h5'.format(prefix_cls), verbose=1, \n",
    "                               save_best_only=True)\n",
    "\n",
    "h = model.fit(X_train, y_train, batch_size=64, epochs=epochs, \n",
    "              callbacks=[EarlyStopping(patience=3), checkpointer], \n",
    "              shuffle=True, \n",
    "              validation_data=(X_valid, y_valid))"
   ]
  },
  {
   "cell_type": "code",
   "execution_count": null,
   "metadata": {
    "collapsed": true
   },
   "outputs": [],
   "source": []
  },
  {
   "cell_type": "code",
   "execution_count": null,
   "metadata": {
    "collapsed": true
   },
   "outputs": [],
   "source": []
  },
  {
   "cell_type": "code",
   "execution_count": null,
   "metadata": {
    "collapsed": true
   },
   "outputs": [],
   "source": []
  },
  {
   "cell_type": "code",
   "execution_count": 16,
   "metadata": {
    "collapsed": true
   },
   "outputs": [],
   "source": [
    "model.load_weights('./models/{}.best0524_InceptionResNetV2_round2_step2.h5'.format(prefix_cls)) #加载以前训练好的模型，继续测试"
   ]
  },
  {
   "cell_type": "markdown",
   "metadata": {},
   "source": [
    "## 混淆矩阵"
   ]
  },
  {
   "cell_type": "code",
   "execution_count": 40,
   "metadata": {},
   "outputs": [
    {
     "data": {
      "image/png": "[encoded data removed]",
      "text/plain": [
       "<Figure size 432x288 with 2 Axes>"
      ]
     },
     "metadata": {
      "image/png": {
       "height": 293,
       "width": 331
      }
     },
     "output_type": "display_data"
    }
   ],
   "source": [
    "def plot_confusion_matrix(cm, classes,\n",
    "                          normalize=False,\n",
    "                          title='Confusion matrix',\n",
    "                          cmap=plt.cm.Blues):\n",
    "    \"\"\"\n",
    "    This fuction prints and plots the confusion matrix.\n",
    "    Normalization can be applied by setting 'normalize=True'\n",
    "    \"\"\"\n",
    "    plt.imshow(cm, interpolation='nearest', cmap=cmap)\n",
    "    plt.title(title)\n",
    "    plt.colorbar()\n",
    "    tick_marks = np.arange(len(classes))\n",
    "    plt.xticks(tick_marks, classes, rotation=45)\n",
    "    plt.yticks(tick_marks, classes)\n",
    "    \n",
    "    if normalize:\n",
    "        cm = cm.astype('float') / cm.sum(axis=1)[:, np.newaxis]\n",
    "        \n",
    "    thresh = cm.max() / 2.\n",
    "    for i,j in itertools.product(range(cm.shape[0]), range(cm.shape[1])):\n",
    "        plt.text(j, i, cm[i, j],\n",
    "                 horizontalalignment=\"center\",\n",
    "                 color=\"white\" if cm[i, j] > thresh else \"black\")\n",
    "        \n",
    "    plt.tight_layout()\n",
    "    plt.ylabel('True label')\n",
    "    plt.xlabel('Predicted label')\n",
    "    \n",
    "# Predict the values from the validation dataset\n",
    "#Y_pred = model.predict(X_valid)\n",
    "# Convert predictions classes to one hot vectors\n",
    "Y_pred_classes = np.argmax(Y_pred, axis=1)\n",
    "# Convert validation observations to one hot vectors\n",
    "Y_true = np.argmax(y_valid, axis=1)\n",
    "# Compute the confusion matrix\n",
    "confusion_mtx = confusion_matrix(Y_true, Y_pred_classes)\n",
    "# plt the confusion matrix\n",
    "plot_confusion_matrix(confusion_mtx, classes=range(n_class))"
   ]
  },
  {
   "cell_type": "code",
   "execution_count": 22,
   "metadata": {
    "collapsed": true
   },
   "outputs": [],
   "source": [
    "confusion4to1 = []\n",
    "confusion2to0 = []\n",
    "confusion0to2 = []\n",
    "#confusion2to3 = []\n",
    "#confusion3to2 = []\n",
    "for i in range(len(Y_pred_classes)):\n",
    "    if (Y_true[i] == 4) and (Y_pred_classes[i] == 1):\n",
    "        confusion4to1.append(i)\n",
    "    elif (Y_true[i] == 2) and (Y_pred_classes[i] == 0):\n",
    "        confusion2to0.append(i)\n",
    "    elif (Y_true[i] == 0) and (Y_pred_classes[i] == 2):\n",
    "        confusion0to2.append(i)"
   ]
  },
  {
   "cell_type": "code",
   "execution_count": 38,
   "metadata": {},
   "outputs": [
    {
     "name": "stdout",
     "output_type": "stream",
     "text": [
      "0.7745208568207441\n",
      "200\n",
      "887\n"
     ]
    }
   ],
   "source": [
    "count = 0\n",
    "for i in range(len(Y_pred_classes)):\n",
    "    if (Y_true[i] != Y_pred_classes[i]):\n",
    "        count += 1\n",
    "\n",
    "print((len(Y_pred_classes)-count)/len(Y_pred_classes))\n",
    "print(count)\n",
    "print(len(Y_pred_classes))"
   ]
  },
  {
   "cell_type": "markdown",
   "metadata": {},
   "source": [
    "## TTA "
   ]
  },
  {
   "cell_type": "code",
   "execution_count": 29,
   "metadata": {},
   "outputs": [
    {
     "name": "stdout",
     "output_type": "stream",
     "text": [
      "887\n"
     ]
    }
   ],
   "source": [
    "valdir= os.path.join('./train_round2/train_valid', task, 'val0')  #水平翻转\n",
    "\n",
    "count = 0\n",
    "vaild_image_path= []\n",
    "for parent, dirnames, filenames in os.walk(valdir):\n",
    "    for filename in filenames:\n",
    "        if 'jpg' in filename:\n",
    "            currentPath = os.path.join(parent, filename)\n",
    "            vaild_image_path.append(currentPath)\n",
    "            labelfile = parent.split('/')[-1]\n",
    "            X_valid[count] = cv2.resize(cv2.imread(currentPath),(width, width))\n",
    "            y_valid[count][int(labelfile)]=1\n",
    "            count += 1\n",
    "print(count)"
   ]
  },
  {
   "cell_type": "code",
   "execution_count": 30,
   "metadata": {
    "collapsed": true
   },
   "outputs": [],
   "source": [
    "Y_pred_0 = model.predict(X_valid)"
   ]
  },
  {
   "cell_type": "code",
   "execution_count": 31,
   "metadata": {},
   "outputs": [
    {
     "name": "stdout",
     "output_type": "stream",
     "text": [
      "887\n"
     ]
    }
   ],
   "source": [
    "valdir= os.path.join('./train_round2/train_valid', task, 'valall') # 原图\n",
    "\n",
    "count = 0\n",
    "vaild_image_path= []\n",
    "for parent, dirnames, filenames in os.walk(valdir):\n",
    "    for filename in filenames:\n",
    "        if 'jpg' in filename:\n",
    "            currentPath = os.path.join(parent, filename)\n",
    "            vaild_image_path.append(currentPath)\n",
    "            labelfile = parent.split('/')[-1]\n",
    "            X_valid[count] = cv2.resize(cv2.imread(currentPath),(width, width))\n",
    "            y_valid[count][int(labelfile)]=1\n",
    "            count += 1\n",
    "print(count)"
   ]
  },
  {
   "cell_type": "code",
   "execution_count": 32,
   "metadata": {
    "collapsed": true
   },
   "outputs": [],
   "source": [
    "Y_pred_1 = model.predict(X_valid)"
   ]
  },
  {
   "cell_type": "code",
   "execution_count": 33,
   "metadata": {},
   "outputs": [
    {
     "name": "stdout",
     "output_type": "stream",
     "text": [
      "887\n"
     ]
    }
   ],
   "source": [
    "valdir= os.path.join('./train_round2/train_valid', task, 'val1')  #直方图\n",
    "count = 0\n",
    "vaild_image_path= []\n",
    "for parent, dirnames, filenames in os.walk(valdir):\n",
    "    for filename in filenames:\n",
    "        if 'jpg' in filename:\n",
    "            currentPath = os.path.join(parent, filename)\n",
    "            vaild_image_path.append(currentPath)\n",
    "            labelfile = parent.split('/')[-1]\n",
    "            X_valid[count] = cv2.resize(cv2.imread(currentPath),(width, width))\n",
    "            y_valid[count][int(labelfile)]=1\n",
    "            count += 1\n",
    "print(count)"
   ]
  },
  {
   "cell_type": "code",
   "execution_count": 34,
   "metadata": {
    "collapsed": true
   },
   "outputs": [],
   "source": [
    "Y_pred_2 = model.predict(X_valid)"
   ]
  },
  {
   "cell_type": "code",
   "execution_count": 35,
   "metadata": {},
   "outputs": [
    {
     "name": "stdout",
     "output_type": "stream",
     "text": [
      "887\n"
     ]
    }
   ],
   "source": [
    "valdir= os.path.join('./train_round2/train_valid', task, 'val2') #对比度拉升\n",
    "count = 0\n",
    "vaild_image_path= []\n",
    "for parent, dirnames, filenames in os.walk(valdir):\n",
    "    for filename in filenames:\n",
    "        if 'jpg' in filename:\n",
    "            currentPath = os.path.join(parent, filename)\n",
    "            vaild_image_path.append(currentPath)\n",
    "            labelfile = parent.split('/')[-1]\n",
    "            X_valid[count] = cv2.resize(cv2.imread(currentPath),(width, width))\n",
    "            y_valid[count][int(labelfile)]=1\n",
    "            count += 1\n",
    "print(count)"
   ]
  },
  {
   "cell_type": "code",
   "execution_count": 36,
   "metadata": {
    "collapsed": true
   },
   "outputs": [],
   "source": [
    "Y_pred_3 = model.predict(X_valid)"
   ]
  },
  {
   "cell_type": "code",
   "execution_count": 44,
   "metadata": {},
   "outputs": [
    {
     "name": "stdout",
     "output_type": "stream",
     "text": [
      "0.7666290868094702\n",
      "207\n",
      "887\n"
     ]
    }
   ],
   "source": [
    "Y_pred = (Y_pred_0+Y_pred_1+Y_pred_2+Y_pred_3)/4\n",
    "Y_pred = Y_pred_3\n",
    "# Convert predictions classes to one hot vectors\n",
    "Y_pred_classes = np.argmax(Y_pred, axis=1)\n",
    "count = 0\n",
    "for i in range(len(Y_pred_classes)):\n",
    "    if (Y_true[i] != Y_pred_classes[i]):\n",
    "        count += 1\n",
    "\n",
    "print((len(Y_pred_classes)-count)/len(Y_pred_classes))\n",
    "print(count)\n",
    "print(len(Y_pred_classes))"
   ]
  },
  {
   "cell_type": "code",
   "execution_count": 27,
   "metadata": {
    "collapsed": true
   },
   "outputs": [],
   "source": [
    "#for i in confusion4to1:\n",
    "#    plt.figure(figsize=(12, 7))\n",
    "#    plt.subplot(1, 1, 1)\n",
    "#    plt.imshow(X_valid[i][:,:,::-1])\n",
    "#    ID = 'Images/lapel_design_labels/'+ vaild_image_path[i].split('val2')[-1]\n",
    "#    plt.title(df_train[df_train['image_id'].isin([ID])]['label'])"
   ]
  },
  {
   "cell_type": "markdown",
   "metadata": {},
   "source": [
    "## mAP计算"
   ]
  },
  {
   "cell_type": "code",
   "execution_count": 77,
   "metadata": {
    "collapsed": true
   },
   "outputs": [],
   "source": [
    "label = []\n",
    "for path in vaild_image_path:\n",
    "    ID = 'Images/lapel_design_labels/'+ path.split('val0')[-1]\n",
    "    label.append(df_train[df_train['image_id'].isin([ID])]['label'].values[0])"
   ]
  },
  {
   "cell_type": "code",
   "execution_count": 78,
   "metadata": {},
   "outputs": [
    {
     "data": {
      "text/plain": [
       "['0.0249,0.1711,0.6510,0.0076,0.1454',\n",
       " '0.3340,0.0120,0.5813,0.0271,0.0455',\n",
       " '0.1190,0.0098,0.8386,0.0024,0.0302',\n",
       " '0.1363,0.0389,0.8217,0.0022,0.0008',\n",
       " '0.0739,0.2296,0.6935,0.0007,0.0024',\n",
       " '0.1075,0.0320,0.8158,0.0356,0.0091',\n",
       " '0.1546,0.1129,0.6508,0.0190,0.0627',\n",
       " '0.0007,0.0349,0.9106,0.0075,0.0463',\n",
       " '0.5078,0.1116,0.3266,0.0031,0.0510',\n",
       " '0.2445,0.0470,0.4277,0.2428,0.0380',\n",
       " '0.0050,0.0038,0.9875,0.0016,0.0021',\n",
       " '0.2371,0.0016,0.7324,0.0014,0.0275',\n",
       " '0.0453,0.0840,0.8680,0.0020,0.0007',\n",
       " '0.1105,0.0198,0.8573,0.0062,0.0062',\n",
       " '0.0021,0.0296,0.7322,0.2290,0.0071',\n",
       " '0.0024,0.1239,0.7598,0.0131,0.1008',\n",
       " '0.0046,0.0106,0.8699,0.1010,0.0139',\n",
       " '0.2372,0.0407,0.6857,0.0060,0.0304',\n",
       " '0.1402,0.0179,0.8365,0.0029,0.0025',\n",
       " '0.1778,0.1536,0.6358,0.0208,0.0120',\n",
       " '0.2623,0.0066,0.7262,0.0029,0.0020',\n",
       " '0.0110,0.0137,0.9155,0.0042,0.0557',\n",
       " '0.0587,0.0259,0.9005,0.0089,0.0059',\n",
       " '0.0534,0.0123,0.8382,0.0031,0.0931',\n",
       " '0.0374,0.0038,0.9565,0.0014,0.0009',\n",
       " '0.2473,0.0012,0.6482,0.0073,0.0960',\n",
       " '0.2808,0.0040,0.7034,0.0003,0.0114',\n",
       " '0.1525,0.1624,0.6777,0.0029,0.0046',\n",
       " '0.0581,0.0060,0.6866,0.0119,0.2374',\n",
       " '0.2934,0.0041,0.6995,0.0021,0.0009',\n",
       " '0.0021,0.0050,0.8983,0.0719,0.0227',\n",
       " '0.2141,0.2147,0.5104,0.0527,0.0081',\n",
       " '0.0154,0.1644,0.8098,0.0015,0.0090',\n",
       " '0.0126,0.1993,0.7384,0.0042,0.0455',\n",
       " '0.2965,0.0406,0.6418,0.0094,0.0117',\n",
       " '0.0005,0.0200,0.6729,0.2297,0.0770',\n",
       " '0.0227,0.0388,0.9285,0.0012,0.0088',\n",
       " '0.1814,0.0675,0.6788,0.0377,0.0346',\n",
       " '0.1021,0.1285,0.7328,0.0319,0.0046',\n",
       " '0.0755,0.0225,0.7935,0.0934,0.0151',\n",
       " '0.2518,0.0141,0.7051,0.0115,0.0174',\n",
       " '0.5305,0.0255,0.4158,0.0253,0.0029',\n",
       " '0.2709,0.0231,0.6991,0.0035,0.0034',\n",
       " '0.2865,0.0269,0.2979,0.2069,0.1818',\n",
       " '0.0457,0.0054,0.8892,0.0034,0.0564',\n",
       " '0.3521,0.0034,0.6415,0.0008,0.0021',\n",
       " '0.1119,0.0257,0.8223,0.0151,0.0250',\n",
       " '0.0022,0.1044,0.6635,0.1379,0.0920',\n",
       " '0.1991,0.0327,0.6389,0.0083,0.1210',\n",
       " '0.0350,0.1180,0.5152,0.1270,0.2048',\n",
       " '0.0286,0.0152,0.7340,0.0096,0.2127',\n",
       " '0.0339,0.0982,0.6664,0.0069,0.1947',\n",
       " '0.2549,0.0170,0.5103,0.1662,0.0516',\n",
       " '0.1387,0.0576,0.6067,0.1939,0.0030',\n",
       " '0.2114,0.0059,0.7703,0.0020,0.0105',\n",
       " '0.1600,0.1019,0.7021,0.0291,0.0069',\n",
       " '0.0606,0.1469,0.7713,0.0044,0.0168',\n",
       " '0.2470,0.3057,0.1921,0.1486,0.1065',\n",
       " '0.0057,0.0151,0.8851,0.0406,0.0536',\n",
       " '0.2720,0.0604,0.5676,0.0244,0.0755',\n",
       " '0.1513,0.2374,0.5800,0.0163,0.0151',\n",
       " '0.4657,0.1142,0.1645,0.2076,0.0480',\n",
       " '0.0835,0.0672,0.5381,0.2348,0.0763',\n",
       " '0.2460,0.0019,0.6762,0.0057,0.0702',\n",
       " '0.2501,0.0178,0.6040,0.0196,0.1084',\n",
       " '0.0023,0.0109,0.8026,0.1674,0.0168',\n",
       " '0.0262,0.3263,0.6087,0.0271,0.0117',\n",
       " '0.0011,0.0033,0.9005,0.0031,0.0919',\n",
       " '0.0870,0.0158,0.8588,0.0266,0.0119',\n",
       " '0.1936,0.0051,0.7735,0.0168,0.0109',\n",
       " '0.0563,0.0245,0.8395,0.0228,0.0569',\n",
       " '0.0158,0.2365,0.4199,0.2154,0.1123',\n",
       " '0.1809,0.0251,0.7793,0.0087,0.0060',\n",
       " '0.0109,0.1213,0.5682,0.1971,0.1025',\n",
       " '0.4500,0.0151,0.5260,0.0064,0.0025',\n",
       " '0.0229,0.1242,0.8159,0.0299,0.0071',\n",
       " '0.3381,0.0065,0.5659,0.0794,0.0101',\n",
       " '0.0048,0.2030,0.4378,0.2626,0.0918',\n",
       " '0.1409,0.1544,0.6960,0.0021,0.0066',\n",
       " '0.0363,0.0747,0.8612,0.0059,0.0220',\n",
       " '0.0025,0.1586,0.8261,0.0051,0.0077',\n",
       " '0.1674,0.0847,0.6688,0.0426,0.0364',\n",
       " '0.1513,0.0855,0.6356,0.0395,0.0880',\n",
       " '0.3743,0.0154,0.4894,0.0812,0.0397',\n",
       " '0.1118,0.2084,0.4750,0.1771,0.0278',\n",
       " '0.3051,0.0070,0.6650,0.0011,0.0219',\n",
       " '0.0908,0.2023,0.6800,0.0225,0.0043',\n",
       " '0.4934,0.0031,0.4919,0.0069,0.0046',\n",
       " '0.0213,0.0091,0.9659,0.0020,0.0017',\n",
       " '0.0347,0.1216,0.7104,0.0117,0.1216',\n",
       " '0.0364,0.0150,0.9424,0.0034,0.0028',\n",
       " '0.1866,0.1427,0.6553,0.0115,0.0040',\n",
       " '0.2732,0.0669,0.6352,0.0174,0.0073',\n",
       " '0.2436,0.0091,0.6002,0.0224,0.1246',\n",
       " '0.3461,0.0063,0.6433,0.0004,0.0038',\n",
       " '0.0021,0.1722,0.8086,0.0020,0.0152',\n",
       " '0.2671,0.0318,0.5966,0.0179,0.0867',\n",
       " '0.1679,0.0080,0.8150,0.0076,0.0015',\n",
       " '0.0343,0.2590,0.6826,0.0074,0.0167',\n",
       " '0.1257,0.0819,0.5466,0.0228,0.2230',\n",
       " '0.2144,0.2390,0.5248,0.0030,0.0187',\n",
       " '0.3886,0.0704,0.3782,0.0078,0.1551',\n",
       " '0.2066,0.0213,0.7650,0.0011,0.0059',\n",
       " '0.2025,0.0369,0.7165,0.0327,0.0114',\n",
       " '0.0334,0.0229,0.8173,0.0126,0.1138',\n",
       " '0.0096,0.1404,0.6564,0.0488,0.1448',\n",
       " '0.2376,0.0050,0.6404,0.0155,0.1015',\n",
       " '0.0158,0.0208,0.8785,0.0058,0.0792',\n",
       " '0.2465,0.0052,0.7461,0.0015,0.0007',\n",
       " '0.3585,0.0008,0.6362,0.0004,0.0041',\n",
       " '0.0170,0.1050,0.8402,0.0174,0.0204',\n",
       " '0.1328,0.0056,0.7422,0.0075,0.1118',\n",
       " '0.0350,0.0178,0.9458,0.0005,0.0009',\n",
       " '0.0622,0.0744,0.8334,0.0049,0.0251',\n",
       " '0.0029,0.0095,0.8893,0.0696,0.0288',\n",
       " '0.3529,0.0018,0.6424,0.0003,0.0026',\n",
       " '0.5815,0.0842,0.3251,0.0064,0.0029',\n",
       " '0.1652,0.0013,0.7069,0.0050,0.1215',\n",
       " '0.2594,0.0035,0.7050,0.0228,0.0093',\n",
       " '0.0752,0.0054,0.9156,0.0025,0.0012',\n",
       " '0.2205,0.0288,0.4965,0.2413,0.0129',\n",
       " '0.0391,0.0046,0.9541,0.0019,0.0005',\n",
       " '0.2501,0.0259,0.7188,0.0013,0.0039',\n",
       " '0.2983,0.0320,0.6514,0.0120,0.0064',\n",
       " '0.0043,0.0019,0.9934,0.0001,0.0003',\n",
       " '0.1355,0.0121,0.8329,0.0133,0.0062',\n",
       " '0.2499,0.0014,0.7460,0.0003,0.0025',\n",
       " '0.0195,0.0020,0.9771,0.0008,0.0007',\n",
       " '0.0131,0.0028,0.9107,0.0398,0.0335',\n",
       " '0.0042,0.0194,0.9485,0.0206,0.0073',\n",
       " '0.0197,0.0449,0.9207,0.0017,0.0131',\n",
       " '0.1902,0.0390,0.7604,0.0078,0.0025',\n",
       " '0.2638,0.0193,0.7153,0.0006,0.0010',\n",
       " '0.0067,0.0092,0.7727,0.0253,0.1861',\n",
       " '0.0216,0.0199,0.7264,0.0881,0.1440',\n",
       " '0.0395,0.2176,0.5143,0.0832,0.1454',\n",
       " '0.0036,0.0015,0.9928,0.0007,0.0014',\n",
       " '0.0503,0.1983,0.7426,0.0025,0.0063',\n",
       " '0.1647,0.0024,0.8284,0.0019,0.0025',\n",
       " '0.0117,0.0177,0.9559,0.0059,0.0089',\n",
       " '0.3387,0.0606,0.5746,0.0230,0.0031',\n",
       " '0.0085,0.0449,0.7965,0.0141,0.1360',\n",
       " '0.2702,0.0057,0.7223,0.0007,0.0011',\n",
       " '0.0728,0.0032,0.8952,0.0207,0.0081',\n",
       " '0.2546,0.0215,0.5378,0.1130,0.0731',\n",
       " '0.0990,0.2534,0.5798,0.0084,0.0593',\n",
       " '0.0260,0.0098,0.7359,0.0132,0.2151',\n",
       " '0.1640,0.1682,0.6298,0.0130,0.0251',\n",
       " '0.0075,0.0009,0.9882,0.0015,0.0020',\n",
       " '0.1637,0.0088,0.8230,0.0028,0.0017',\n",
       " '0.2497,0.0099,0.7235,0.0045,0.0123',\n",
       " '0.2665,0.0304,0.6800,0.0040,0.0191',\n",
       " '0.4396,0.0134,0.5300,0.0135,0.0035',\n",
       " '0.0954,0.0223,0.8783,0.0013,0.0027',\n",
       " '0.0581,0.0055,0.8993,0.0246,0.0125',\n",
       " '0.0295,0.1710,0.5965,0.1416,0.0614',\n",
       " '0.1265,0.0123,0.8308,0.0214,0.0091',\n",
       " '0.0312,0.0052,0.7426,0.2117,0.0093',\n",
       " '0.0132,0.0076,0.9666,0.0017,0.0109',\n",
       " '0.0016,0.0003,0.9958,0.0001,0.0022',\n",
       " '0.0316,0.0294,0.9293,0.0053,0.0044',\n",
       " '0.0272,0.2068,0.7508,0.0104,0.0047',\n",
       " '0.0048,0.0735,0.8605,0.0054,0.0557',\n",
       " '0.0346,0.1284,0.7535,0.0078,0.0757',\n",
       " '0.0592,0.0519,0.7627,0.0198,0.1065',\n",
       " '0.0166,0.0111,0.8667,0.0984,0.0072',\n",
       " '0.2539,0.0355,0.7042,0.0048,0.0016',\n",
       " '0.0014,0.0621,0.8343,0.0278,0.0743',\n",
       " '0.4181,0.0118,0.5688,0.0003,0.0010',\n",
       " '0.2312,0.1108,0.6289,0.0147,0.0144',\n",
       " '0.0225,0.0152,0.9602,0.0011,0.0011',\n",
       " '0.0533,0.1297,0.8034,0.0096,0.0041',\n",
       " '0.1663,0.0032,0.8247,0.0009,0.0048',\n",
       " '0.0598,0.0949,0.7400,0.0008,0.1045',\n",
       " '0.1048,0.3640,0.4758,0.0501,0.0054',\n",
       " '0.1101,0.1108,0.6145,0.1594,0.0053',\n",
       " '0.2654,0.0979,0.3905,0.2360,0.0102',\n",
       " '0.4554,0.0043,0.5358,0.0007,0.0037',\n",
       " '0.0933,0.0130,0.8699,0.0122,0.0115',\n",
       " '0.0003,0.0416,0.9360,0.0148,0.0074',\n",
       " '0.2502,0.0041,0.7402,0.0032,0.0023',\n",
       " '0.0088,0.0542,0.9116,0.0041,0.0214',\n",
       " '0.2502,0.0310,0.6924,0.0059,0.0205',\n",
       " '0.3865,0.0702,0.4822,0.0513,0.0098',\n",
       " '0.2408,0.0019,0.7569,0.0001,0.0003',\n",
       " '0.1628,0.0362,0.6985,0.0041,0.0984',\n",
       " '0.0249,0.1969,0.5604,0.2073,0.0105',\n",
       " '0.4124,0.0014,0.5852,0.0004,0.0006',\n",
       " '0.0472,0.0132,0.9245,0.0014,0.0137',\n",
       " '0.1997,0.1625,0.5821,0.0432,0.0126',\n",
       " '0.4793,0.0025,0.5166,0.0002,0.0014',\n",
       " '0.2764,0.0427,0.6552,0.0110,0.0147',\n",
       " '0.0599,0.0079,0.8741,0.0492,0.0090',\n",
       " '0.3861,0.0757,0.5226,0.0025,0.0131',\n",
       " '0.4111,0.0105,0.5736,0.0024,0.0025',\n",
       " '0.2195,0.1184,0.4712,0.1580,0.0329',\n",
       " '0.4758,0.0073,0.5105,0.0015,0.0048',\n",
       " '0.0063,0.0452,0.8938,0.0461,0.0085',\n",
       " '0.2924,0.0186,0.6191,0.0645,0.0054',\n",
       " '0.0489,0.2244,0.6690,0.0472,0.0105',\n",
       " '0.0237,0.0871,0.8556,0.0297,0.0039',\n",
       " '0.0493,0.0105,0.9348,0.0017,0.0036',\n",
       " '0.2201,0.0707,0.5721,0.0048,0.1323',\n",
       " '0.3238,0.0537,0.5875,0.0241,0.0109',\n",
       " '0.4060,0.1660,0.4221,0.0038,0.0021',\n",
       " '0.2319,0.0107,0.7422,0.0108,0.0044',\n",
       " '0.5297,0.0723,0.2996,0.0479,0.0505',\n",
       " '0.0108,0.0169,0.9561,0.0028,0.0133',\n",
       " '0.0323,0.0272,0.9081,0.0267,0.0056',\n",
       " '0.0167,0.0171,0.9264,0.0244,0.0154',\n",
       " '0.3738,0.0349,0.5592,0.0214,0.0106',\n",
       " '0.3025,0.3196,0.3226,0.0259,0.0294',\n",
       " '0.7821,0.0005,0.0007,0.0001,0.2165',\n",
       " '0.9995,0.0001,0.0004,0.0000,0.0001',\n",
       " '0.6592,0.0253,0.2046,0.0019,0.1090',\n",
       " '0.9935,0.0002,0.0061,0.0001,0.0002',\n",
       " '0.9344,0.0116,0.0297,0.0026,0.0218',\n",
       " '0.8655,0.0014,0.1258,0.0013,0.0060',\n",
       " '0.8879,0.0029,0.1087,0.0003,0.0003',\n",
       " '0.9961,0.0001,0.0037,0.0000,0.0000',\n",
       " '0.9297,0.0229,0.0456,0.0002,0.0016',\n",
       " '0.8192,0.0017,0.1788,0.0001,0.0002',\n",
       " '0.8418,0.0003,0.1572,0.0001,0.0006',\n",
       " '0.9762,0.0001,0.0006,0.0001,0.0229',\n",
       " '0.9147,0.0051,0.0665,0.0014,0.0123',\n",
       " '0.8762,0.0565,0.0603,0.0012,0.0057',\n",
       " '0.9992,0.0000,0.0007,0.0000,0.0000',\n",
       " '0.8062,0.0209,0.1596,0.0113,0.0019',\n",
       " '0.9043,0.0472,0.0340,0.0027,0.0118',\n",
       " '0.7420,0.0342,0.1797,0.0030,0.0411',\n",
       " '0.9871,0.0024,0.0097,0.0003,0.0005',\n",
       " '0.6973,0.0800,0.1917,0.0014,0.0295',\n",
       " '0.6556,0.0800,0.1694,0.0273,0.0678',\n",
       " '0.7622,0.0003,0.2369,0.0003,0.0003',\n",
       " '0.8160,0.0096,0.0570,0.0007,0.1168',\n",
       " '0.7831,0.0656,0.0160,0.0023,0.1329',\n",
       " '0.9242,0.0030,0.0719,0.0004,0.0005',\n",
       " '0.6467,0.0018,0.3505,0.0002,0.0009',\n",
       " '0.9748,0.0121,0.0122,0.0004,0.0006',\n",
       " '0.7935,0.0707,0.1334,0.0009,0.0016',\n",
       " '0.5319,0.1748,0.2856,0.0051,0.0028',\n",
       " '0.8436,0.0022,0.1532,0.0003,0.0008',\n",
       " '0.5317,0.0235,0.2446,0.0004,0.1998',\n",
       " '0.6749,0.0025,0.3201,0.0007,0.0018',\n",
       " '0.7147,0.0029,0.2813,0.0003,0.0007',\n",
       " '0.9239,0.0003,0.0048,0.0000,0.0710',\n",
       " '0.8183,0.0234,0.1171,0.0308,0.0104',\n",
       " '0.8822,0.0201,0.0046,0.0901,0.0030',\n",
       " '0.8309,0.1511,0.0123,0.0047,0.0009',\n",
       " '0.8459,0.0257,0.0873,0.0145,0.0266',\n",
       " '0.6873,0.0547,0.2499,0.0018,0.0063',\n",
       " '0.9778,0.0054,0.0112,0.0004,0.0051',\n",
       " '0.9731,0.0040,0.0115,0.0002,0.0112',\n",
       " '0.9891,0.0003,0.0102,0.0002,0.0002',\n",
       " '0.8030,0.0389,0.1536,0.0012,0.0031',\n",
       " '0.8150,0.0262,0.1536,0.0035,0.0016',\n",
       " '0.9346,0.0344,0.0252,0.0006,0.0052',\n",
       " '0.7532,0.0011,0.2443,0.0007,0.0006',\n",
       " '0.5309,0.0446,0.3362,0.0117,0.0766',\n",
       " '0.9237,0.0001,0.0761,0.0000,0.0001',\n",
       " '0.9920,0.0013,0.0049,0.0004,0.0013',\n",
       " '0.4669,0.1931,0.2725,0.0282,0.0393',\n",
       " '0.9984,0.0002,0.0009,0.0000,0.0004',\n",
       " '0.7835,0.0221,0.1626,0.0303,0.0015',\n",
       " '0.6376,0.0016,0.3602,0.0001,0.0004',\n",
       " '0.7267,0.0248,0.2298,0.0111,0.0076',\n",
       " '0.5942,0.1677,0.2037,0.0018,0.0327',\n",
       " '0.9878,0.0001,0.0118,0.0000,0.0002',\n",
       " '0.7576,0.0021,0.2367,0.0014,0.0021',\n",
       " '0.9968,0.0004,0.0025,0.0001,0.0002',\n",
       " '0.6489,0.0052,0.0035,0.0002,0.3422',\n",
       " '0.8969,0.0036,0.0914,0.0007,0.0074',\n",
       " '0.8112,0.0231,0.1031,0.0378,0.0248',\n",
       " '0.7924,0.0532,0.1504,0.0020,0.0021',\n",
       " '0.7770,0.0128,0.1612,0.0013,0.0478',\n",
       " '0.8966,0.0165,0.0164,0.0007,0.0698',\n",
       " '0.9767,0.0048,0.0118,0.0049,0.0019',\n",
       " '0.8681,0.0429,0.0357,0.0469,0.0064',\n",
       " '0.7403,0.0061,0.2479,0.0047,0.0010',\n",
       " '0.8842,0.0089,0.1038,0.0003,0.0028',\n",
       " '0.9604,0.0175,0.0114,0.0027,0.0080',\n",
       " '0.9733,0.0029,0.0219,0.0004,0.0015',\n",
       " '0.7556,0.0319,0.2077,0.0022,0.0026',\n",
       " '0.5275,0.0200,0.4460,0.0006,0.0058',\n",
       " '0.8925,0.0006,0.1064,0.0002,0.0004',\n",
       " '0.7676,0.0354,0.1792,0.0032,0.0146',\n",
       " '0.9599,0.0117,0.0250,0.0003,0.0030',\n",
       " '0.7180,0.0072,0.2731,0.0003,0.0014',\n",
       " '0.9925,0.0001,0.0074,0.0000,0.0001',\n",
       " '0.6702,0.1183,0.1161,0.0923,0.0032',\n",
       " '0.9417,0.0001,0.0580,0.0000,0.0001',\n",
       " '0.9829,0.0004,0.0156,0.0004,0.0007',\n",
       " '0.7186,0.0299,0.2094,0.0009,0.0413',\n",
       " '0.8568,0.0279,0.1098,0.0031,0.0024',\n",
       " '0.9606,0.0151,0.0223,0.0016,0.0004',\n",
       " '0.7203,0.0010,0.2782,0.0002,0.0003',\n",
       " '0.9749,0.0132,0.0048,0.0013,0.0058',\n",
       " '0.8845,0.0277,0.0111,0.0078,0.0688',\n",
       " '0.7624,0.0298,0.0701,0.0056,0.1320',\n",
       " '0.9142,0.0712,0.0136,0.0003,0.0007',\n",
       " '0.7603,0.0096,0.2250,0.0004,0.0047',\n",
       " '0.9760,0.0001,0.0228,0.0008,0.0002',\n",
       " '0.6205,0.0002,0.3792,0.0001,0.0001',\n",
       " '0.7581,0.0007,0.2403,0.0002,0.0008',\n",
       " '0.9836,0.0005,0.0157,0.0001,0.0001',\n",
       " '0.9618,0.0012,0.0363,0.0002,0.0005',\n",
       " '0.9958,0.0001,0.0040,0.0000,0.0001',\n",
       " '0.9160,0.0053,0.0721,0.0015,0.0052',\n",
       " '0.8426,0.0574,0.0481,0.0471,0.0048',\n",
       " '0.8412,0.0043,0.1534,0.0004,0.0007',\n",
       " '0.9776,0.0006,0.0202,0.0013,0.0003',\n",
       " '0.9275,0.0008,0.0715,0.0000,0.0001',\n",
       " '0.9470,0.0005,0.0520,0.0002,0.0003',\n",
       " '0.7014,0.0059,0.2904,0.0008,0.0014',\n",
       " '0.7263,0.1575,0.1025,0.0101,0.0036',\n",
       " '0.8746,0.0002,0.1251,0.0000,0.0001',\n",
       " '0.7526,0.0025,0.1594,0.0180,0.0675',\n",
       " '0.9852,0.0011,0.0128,0.0002,0.0007',\n",
       " '0.9586,0.0110,0.0285,0.0002,0.0017',\n",
       " '0.6486,0.1707,0.0959,0.0038,0.0810',\n",
       " '0.9899,0.0007,0.0090,0.0001,0.0003',\n",
       " '0.8639,0.0037,0.1299,0.0019,0.0007',\n",
       " '0.8873,0.0079,0.1018,0.0007,0.0023',\n",
       " '0.8871,0.0429,0.0393,0.0200,0.0108',\n",
       " '0.8152,0.0107,0.1714,0.0012,0.0016',\n",
       " '0.7672,0.0085,0.2222,0.0006,0.0015',\n",
       " '0.8819,0.0114,0.0887,0.0031,0.0150',\n",
       " '0.7550,0.0272,0.2031,0.0073,0.0074',\n",
       " '0.9816,0.0024,0.0069,0.0004,0.0086',\n",
       " '0.6562,0.0196,0.1965,0.0234,0.1042',\n",
       " '0.9722,0.0061,0.0210,0.0001,0.0007',\n",
       " '0.9357,0.0037,0.0540,0.0014,0.0052',\n",
       " '0.8280,0.1049,0.0435,0.0077,0.0159',\n",
       " '0.7889,0.0020,0.1979,0.0107,0.0005',\n",
       " '0.8143,0.0017,0.1829,0.0007,0.0004',\n",
       " '0.7709,0.0125,0.1573,0.0004,0.0589',\n",
       " '0.8490,0.0030,0.1458,0.0009,0.0013',\n",
       " '0.7040,0.0139,0.2472,0.0082,0.0267',\n",
       " '0.8212,0.0008,0.1775,0.0002,0.0004',\n",
       " '0.9896,0.0004,0.0078,0.0001,0.0021',\n",
       " '0.4749,0.0450,0.2752,0.0020,0.2028',\n",
       " '0.9522,0.0033,0.0299,0.0011,0.0135',\n",
       " '0.9979,0.0005,0.0012,0.0001,0.0002',\n",
       " '0.7443,0.0293,0.2254,0.0006,0.0004',\n",
       " '0.8876,0.0007,0.1114,0.0001,0.0001',\n",
       " '0.7667,0.0131,0.2134,0.0003,0.0065',\n",
       " '0.9178,0.0006,0.0815,0.0000,0.0001',\n",
       " '0.6974,0.1801,0.0953,0.0160,0.0113',\n",
       " '0.7361,0.1625,0.0386,0.0168,0.0461',\n",
       " '0.5808,0.0577,0.3521,0.0015,0.0079',\n",
       " '0.9266,0.0004,0.0716,0.0001,0.0013',\n",
       " '0.6936,0.0113,0.2705,0.0091,0.0155',\n",
       " '0.9069,0.0009,0.0481,0.0003,0.0438',\n",
       " '0.9000,0.0121,0.0464,0.0019,0.0396',\n",
       " '0.9684,0.0021,0.0293,0.0001,0.0001',\n",
       " '0.6620,0.0076,0.1054,0.0009,0.2240',\n",
       " '0.7127,0.0256,0.0817,0.0033,0.1767',\n",
       " '0.6327,0.0264,0.2440,0.0059,0.0910',\n",
       " '0.7250,0.0028,0.1852,0.0233,0.0637',\n",
       " '0.7627,0.0018,0.2350,0.0002,0.0003',\n",
       " '0.7525,0.0061,0.2382,0.0027,0.0005',\n",
       " '0.7578,0.0226,0.2174,0.0009,0.0012',\n",
       " '0.7429,0.0223,0.2261,0.0007,0.0079',\n",
       " '0.9821,0.0022,0.0155,0.0002,0.0001',\n",
       " '0.5405,0.0726,0.1851,0.0101,0.1917',\n",
       " '0.7936,0.0046,0.1999,0.0010,0.0010',\n",
       " '0.7756,0.0159,0.1470,0.0030,0.0585',\n",
       " '0.6272,0.0230,0.2122,0.0062,0.1314',\n",
       " '0.7538,0.2171,0.0221,0.0052,0.0018',\n",
       " '0.7683,0.0016,0.0127,0.0008,0.2166',\n",
       " '0.9058,0.0014,0.0919,0.0005,0.0004',\n",
       " '0.9016,0.0274,0.0323,0.0023,0.0362',\n",
       " '0.8066,0.0009,0.1905,0.0010,0.0009',\n",
       " '0.9912,0.0008,0.0074,0.0005,0.0002',\n",
       " '0.7529,0.0024,0.2432,0.0003,0.0012',\n",
       " '0.6977,0.1030,0.1794,0.0176,0.0022',\n",
       " '0.7841,0.0446,0.1568,0.0028,0.0118',\n",
       " '0.8780,0.0004,0.1209,0.0005,0.0002',\n",
       " '0.9241,0.0015,0.0737,0.0003,0.0004',\n",
       " '0.9971,0.0001,0.0025,0.0001,0.0002',\n",
       " '0.8265,0.0050,0.1680,0.0002,0.0003',\n",
       " '0.8347,0.0020,0.1620,0.0006,0.0007',\n",
       " '0.7046,0.0578,0.2336,0.0004,0.0036',\n",
       " '0.8237,0.0401,0.1276,0.0062,0.0024',\n",
       " '0.9737,0.0018,0.0033,0.0013,0.0199',\n",
       " '0.9781,0.0045,0.0146,0.0008,0.0020',\n",
       " '0.9292,0.0073,0.0576,0.0017,0.0042',\n",
       " '0.9361,0.0001,0.0638,0.0000,0.0001',\n",
       " '0.6819,0.1532,0.1551,0.0051,0.0046',\n",
       " '0.5234,0.0082,0.4581,0.0010,0.0092',\n",
       " '0.5802,0.0562,0.3425,0.0038,0.0173',\n",
       " '0.8530,0.0026,0.1314,0.0088,0.0041',\n",
       " '0.8633,0.0009,0.1352,0.0003,0.0003',\n",
       " '0.0013,0.0369,0.2449,0.6724,0.0445',\n",
       " '0.0010,0.1176,0.0011,0.8768,0.0035',\n",
       " '0.0023,0.0113,0.4957,0.4890,0.0017',\n",
       " '0.0571,0.3932,0.3064,0.2185,0.0248',\n",
       " '0.0068,0.0990,0.0010,0.8888,0.0044',\n",
       " '0.0051,0.1216,0.0022,0.8676,0.0034',\n",
       " '0.0287,0.0778,0.0941,0.6724,0.1270',\n",
       " '0.0007,0.3340,0.1471,0.4642,0.0540',\n",
       " '0.0013,0.0208,0.1931,0.7293,0.0555',\n",
       " '0.0028,0.0111,0.1394,0.8406,0.0060',\n",
       " '0.0005,0.2029,0.2501,0.5246,0.0220',\n",
       " '0.0048,0.1113,0.1547,0.6225,0.1067',\n",
       " '0.0171,0.0432,0.2384,0.6964,0.0049',\n",
       " '0.0010,0.0743,0.0043,0.9184,0.0021',\n",
       " '0.0047,0.1623,0.1025,0.7201,0.0104',\n",
       " '0.0409,0.1660,0.0289,0.7457,0.0185',\n",
       " '0.0189,0.0269,0.0535,0.8668,0.0340',\n",
       " '0.0016,0.0167,0.1973,0.7803,0.0041',\n",
       " '0.0000,0.0030,0.2481,0.7473,0.0015',\n",
       " '0.0022,0.2980,0.0077,0.6861,0.0061',\n",
       " '0.0067,0.1817,0.2693,0.5324,0.0099',\n",
       " '0.1734,0.0014,0.0776,0.7420,0.0056',\n",
       " '0.2193,0.0328,0.1731,0.4797,0.0951',\n",
       " '0.1170,0.0091,0.2898,0.5723,0.0118',\n",
       " '0.0097,0.6149,0.1291,0.1636,0.0827',\n",
       " '0.0011,0.2099,0.2934,0.4759,0.0196',\n",
       " '0.3439,0.2501,0.3006,0.0650,0.0404',\n",
       " '0.2054,0.0669,0.0017,0.6185,0.1074',\n",
       " '0.2397,0.2791,0.1200,0.3447,0.0165',\n",
       " '0.2399,0.0435,0.0095,0.7006,0.0065',\n",
       " '0.0027,0.1301,0.2708,0.5718,0.0246',\n",
       " '0.0367,0.1786,0.2510,0.5091,0.0246',\n",
       " '0.0097,0.2399,0.0005,0.7463,0.0036',\n",
       " '0.0010,0.0421,0.0399,0.7807,0.1363',\n",
       " '0.2318,0.2274,0.2077,0.2716,0.0615',\n",
       " '0.0325,0.2252,0.0899,0.6434,0.0090',\n",
       " '0.0221,0.1669,0.5104,0.2174,0.0832',\n",
       " '0.4620,0.0307,0.1013,0.3960,0.0100',\n",
       " '0.0078,0.3521,0.0221,0.5810,0.0370',\n",
       " '0.4334,0.0250,0.1601,0.3732,0.0084',\n",
       " '0.0002,0.1764,0.0607,0.7496,0.0131',\n",
       " '0.2832,0.0681,0.0531,0.5771,0.0186',\n",
       " '0.0341,0.1323,0.0971,0.6565,0.0800',\n",
       " '0.0034,0.0244,0.2192,0.7372,0.0158',\n",
       " '0.0024,0.2301,0.0014,0.7630,0.0031',\n",
       " '0.1834,0.0230,0.0247,0.7607,0.0081',\n",
       " '0.0045,0.0956,0.0006,0.8784,0.0209',\n",
       " '0.0973,0.0538,0.2417,0.5829,0.0243',\n",
       " '0.0049,0.4004,0.0995,0.4745,0.0206',\n",
       " '0.0295,0.3669,0.0298,0.3799,0.1940',\n",
       " '0.1269,0.3186,0.1094,0.3851,0.0600',\n",
       " '0.1735,0.3075,0.1702,0.3320,0.0168',\n",
       " '0.1710,0.3807,0.0547,0.3743,0.0193',\n",
       " '0.0032,0.2922,0.0046,0.6587,0.0413',\n",
       " '0.0033,0.3583,0.2092,0.4054,0.0237',\n",
       " '0.0520,0.2901,0.0074,0.5454,0.1050',\n",
       " '0.0498,0.1104,0.1932,0.6371,0.0095',\n",
       " '0.0409,0.0349,0.0702,0.8454,0.0086',\n",
       " '0.2634,0.1070,0.1443,0.3585,0.1268',\n",
       " '0.0296,0.0679,0.1743,0.7120,0.0162',\n",
       " '0.0005,0.0032,0.2124,0.7753,0.0086',\n",
       " '0.0070,0.4194,0.0361,0.3054,0.2322',\n",
       " '0.0009,0.0962,0.1745,0.6807,0.0476',\n",
       " '0.0091,0.1009,0.0036,0.8837,0.0027',\n",
       " '0.0033,0.0133,0.2493,0.7166,0.0176',\n",
       " '0.0768,0.1053,0.1534,0.4713,0.1932',\n",
       " '0.2329,0.4327,0.0096,0.3083,0.0165',\n",
       " '0.4540,0.0564,0.0451,0.4388,0.0057',\n",
       " '0.0017,0.0513,0.2557,0.5508,0.1404',\n",
       " '0.0198,0.3702,0.3543,0.1805,0.0752',\n",
       " '0.1097,0.0573,0.0093,0.0846,0.7391',\n",
       " '0.0242,0.0561,0.1656,0.0046,0.7496',\n",
       " '0.1419,0.0099,0.1026,0.0005,0.7451',\n",
       " '0.0195,0.0454,0.0004,0.0006,0.9342',\n",
       " '0.0488,0.0537,0.2857,0.2489,0.3630',\n",
       " '0.0002,0.1700,0.0014,0.0883,0.7401',\n",
       " '0.1668,0.1105,0.1690,0.0038,0.5500',\n",
       " '0.0001,0.0115,0.0252,0.1704,0.7929',\n",
       " '0.0087,0.2072,0.0461,0.2050,0.5330',\n",
       " '0.0001,0.0079,0.0005,0.0002,0.9913',\n",
       " '0.0014,0.1160,0.0046,0.0013,0.8768',\n",
       " '0.0154,0.0097,0.0003,0.0006,0.9740',\n",
       " '0.0004,0.0055,0.0002,0.0007,0.9932',\n",
       " '0.0459,0.2777,0.1506,0.2406,0.2852',\n",
       " '0.0067,0.3081,0.0074,0.0015,0.6764',\n",
       " '0.0008,0.0122,0.0011,0.0015,0.9845',\n",
       " '0.0031,0.3149,0.0306,0.0032,0.6483',\n",
       " '0.0535,0.1918,0.0262,0.0051,0.7234',\n",
       " '0.0045,0.0786,0.0021,0.0008,0.9139',\n",
       " '0.0002,0.0075,0.0001,0.0004,0.9918',\n",
       " '0.0751,0.0448,0.0198,0.0056,0.8547',\n",
       " '0.0039,0.3014,0.1611,0.0445,0.4891',\n",
       " '0.0016,0.2463,0.0060,0.0041,0.7421',\n",
       " '0.0083,0.1044,0.1137,0.0564,0.7172',\n",
       " '0.0061,0.4173,0.0123,0.0267,0.5376',\n",
       " '0.0011,0.0202,0.0407,0.0039,0.9341',\n",
       " '0.1415,0.3630,0.0242,0.0085,0.4628',\n",
       " '0.0113,0.0764,0.0227,0.2443,0.6453',\n",
       " '0.0566,0.0995,0.3680,0.0136,0.4624',\n",
       " '0.1941,0.0508,0.0053,0.0021,0.7477',\n",
       " '0.0412,0.0051,0.1968,0.0014,0.7555',\n",
       " '0.0044,0.0068,0.0013,0.0004,0.9871',\n",
       " '0.0003,0.0357,0.0128,0.2530,0.6983',\n",
       " '0.4297,0.0412,0.0453,0.0074,0.4765',\n",
       " '0.0555,0.0165,0.2082,0.1057,0.6141',\n",
       " '0.2525,0.0570,0.1336,0.0164,0.5405',\n",
       " '0.0001,0.0234,0.0075,0.0714,0.8976',\n",
       " '0.1710,0.0179,0.0570,0.0026,0.7515',\n",
       " '0.0534,0.2918,0.0034,0.0055,0.6459',\n",
       " '0.0313,0.0932,0.2479,0.0003,0.6273',\n",
       " '0.0174,0.0071,0.0825,0.0006,0.8924',\n",
       " '0.0331,0.2337,0.0020,0.0011,0.7301',\n",
       " '0.0011,0.0059,0.0022,0.0013,0.9895',\n",
       " '0.0001,0.0173,0.0067,0.0346,0.9412',\n",
       " '0.2570,0.0404,0.2694,0.1014,0.3318',\n",
       " '0.0081,0.0326,0.2427,0.0036,0.7130',\n",
       " '0.0000,0.2468,0.0009,0.0013,0.7509',\n",
       " '0.0004,0.0016,0.1074,0.0009,0.8896',\n",
       " '0.0007,0.0285,0.1612,0.0150,0.7947',\n",
       " '0.0004,0.3039,0.0019,0.0011,0.6926',\n",
       " '0.0008,0.0239,0.0007,0.2612,0.7134',\n",
       " '0.0160,0.0025,0.0007,0.0005,0.9803',\n",
       " '0.2365,0.0861,0.0144,0.0014,0.6617',\n",
       " '0.0000,0.0006,0.0220,0.0003,0.9771',\n",
       " '0.0009,0.0142,0.0015,0.0009,0.9826',\n",
       " '0.0029,0.0661,0.0002,0.1134,0.8174',\n",
       " '0.0006,0.1522,0.0414,0.1407,0.6651',\n",
       " '0.0116,0.0349,0.0003,0.0009,0.9523',\n",
       " '0.0001,0.0067,0.0004,0.0003,0.9926',\n",
       " '0.0005,0.2436,0.0005,0.0003,0.7551',\n",
       " '0.0013,0.0445,0.0040,0.0938,0.8564',\n",
       " '0.0000,0.0113,0.0001,0.0003,0.9883',\n",
       " '0.0024,0.0188,0.4947,0.1489,0.3351',\n",
       " '0.0126,0.0079,0.0004,0.0002,0.9789',\n",
       " '0.0246,0.1715,0.0585,0.0232,0.7222',\n",
       " '0.2669,0.1784,0.0039,0.0203,0.5305',\n",
       " '0.0029,0.0653,0.0012,0.0189,0.9117',\n",
       " '0.0323,0.0336,0.2503,0.2426,0.4413',\n",
       " '0.0161,0.0110,0.0010,0.0022,0.9697',\n",
       " '0.0001,0.0095,0.0004,0.0019,0.9881',\n",
       " '0.0121,0.2365,0.0062,0.0023,0.7429',\n",
       " '0.0802,0.1045,0.0618,0.0011,0.7524',\n",
       " '0.0007,0.0116,0.0086,0.0005,0.9785',\n",
       " '0.0002,0.0407,0.0005,0.0019,0.9568',\n",
       " '0.0013,0.4399,0.1780,0.0722,0.3087',\n",
       " '0.0025,0.0678,0.0179,0.0050,0.9068',\n",
       " '0.0049,0.2851,0.2454,0.0023,0.4623',\n",
       " '0.0001,0.0042,0.0016,0.2590,0.7350',\n",
       " '0.0003,0.1920,0.0016,0.0002,0.8059',\n",
       " '0.0000,0.0006,0.0000,0.0000,0.9993',\n",
       " '0.2106,0.1746,0.0380,0.0165,0.5603',\n",
       " '0.0001,0.0019,0.0026,0.0003,0.9951',\n",
       " '0.0286,0.2016,0.2528,0.0422,0.4748',\n",
       " '0.1763,0.0561,0.0052,0.0041,0.7581',\n",
       " '0.0021,0.0964,0.0019,0.0186,0.8811',\n",
       " '0.0653,0.3748,0.1149,0.0377,0.4074',\n",
       " '0.1269,0.0290,0.0015,0.1188,0.7238',\n",
       " '0.0022,0.1473,0.2541,0.0023,0.5941',\n",
       " '0.1483,0.0465,0.0878,0.0037,0.7138',\n",
       " '0.0082,0.1031,0.0298,0.0705,0.7884',\n",
       " '0.0401,0.1338,0.1243,0.0666,0.6352',\n",
       " '0.0017,0.0589,0.2468,0.0016,0.6909',\n",
       " '0.0594,0.0706,0.1226,0.0006,0.7467',\n",
       " '0.0002,0.1360,0.0011,0.1490,0.7137',\n",
       " '0.0232,0.0885,0.0047,0.0017,0.8819',\n",
       " '0.0057,0.1810,0.0399,0.1277,0.6457',\n",
       " '0.0001,0.0700,0.0003,0.0003,0.9292',\n",
       " '0.0061,0.0271,0.0028,0.0009,0.9631',\n",
       " '0.0127,0.2311,0.0000,0.0002,0.7560',\n",
       " '0.0925,0.1011,0.0222,0.0383,0.7459',\n",
       " '0.0002,0.0928,0.1852,0.0023,0.7195',\n",
       " '0.0333,0.0386,0.0026,0.0233,0.9022',\n",
       " '0.0001,0.0015,0.0000,0.0001,0.9983',\n",
       " '0.0006,0.0783,0.0001,0.0812,0.8398',\n",
       " '0.0012,0.0717,0.0095,0.1949,0.7227',\n",
       " '0.0027,0.1046,0.1308,0.0072,0.7546',\n",
       " '0.0011,0.0766,0.1377,0.0243,0.7603',\n",
       " '0.0233,0.0040,0.4724,0.0004,0.4999',\n",
       " '0.0001,0.0010,0.0001,0.0007,0.9981',\n",
       " '0.0002,0.0115,0.0281,0.0077,0.9525',\n",
       " '0.0349,0.0409,0.0285,0.0049,0.8908',\n",
       " '0.0426,0.0529,0.1652,0.0047,0.7346',\n",
       " '0.0002,0.0077,0.0008,0.0006,0.9908',\n",
       " '0.0717,0.1607,0.2500,0.0071,0.5106',\n",
       " '0.0019,0.0043,0.0010,0.0137,0.9791',\n",
       " '0.0003,0.0523,0.0027,0.2320,0.7127',\n",
       " '0.0464,0.2010,0.1929,0.0461,0.5136',\n",
       " '0.0068,0.0432,0.4197,0.1856,0.3447',\n",
       " '0.1104,0.1734,0.0190,0.0439,0.6532',\n",
       " '0.0001,0.0004,0.0002,0.0000,0.9992',\n",
       " '0.0002,0.2506,0.0001,0.0022,0.7468',\n",
       " '0.2566,0.1115,0.0083,0.0019,0.6217',\n",
       " '0.0527,0.1172,0.1811,0.0343,0.6148',\n",
       " '0.0246,0.3178,0.0165,0.0052,0.6360',\n",
       " '0.1074,0.0238,0.0037,0.2545,0.6107',\n",
       " '0.0017,0.0029,0.2611,0.0020,0.7323',\n",
       " '0.0744,0.0217,0.2001,0.0113,0.6926',\n",
       " '0.1695,0.0397,0.2035,0.0269,0.5605',\n",
       " '0.2451,0.0528,0.0362,0.0072,0.6587',\n",
       " '0.0006,0.0514,0.1848,0.0066,0.7566',\n",
       " '0.0080,0.2837,0.0180,0.0706,0.6197',\n",
       " '0.0006,0.0113,0.0492,0.0096,0.9293',\n",
       " '0.2626,0.0508,0.3485,0.0727,0.2654',\n",
       " '0.0689,0.0636,0.1869,0.1305,0.5501',\n",
       " '0.0001,0.0151,0.0046,0.0101,0.9701',\n",
       " '0.2470,0.0273,0.2474,0.2312,0.2471',\n",
       " '0.0001,0.3994,0.0014,0.0013,0.5978',\n",
       " '0.0436,0.0626,0.6197,0.2529,0.0212',\n",
       " '0.1808,0.2974,0.0418,0.2137,0.2663',\n",
       " '0.0729,0.0532,0.0078,0.0033,0.8628',\n",
       " '0.2469,0.2916,0.2461,0.0180,0.1974',\n",
       " '0.0250,0.2999,0.2285,0.0800,0.3666',\n",
       " '0.0013,0.0079,0.0029,0.0018,0.9862',\n",
       " '0.0080,0.0057,0.0018,0.0401,0.9444',\n",
       " '0.0011,0.2301,0.0168,0.1660,0.5860',\n",
       " '0.0010,0.0638,0.0010,0.0462,0.8880',\n",
       " '0.0324,0.0954,0.3827,0.1342,0.3553',\n",
       " '0.0372,0.1036,0.0183,0.0031,0.8378',\n",
       " '0.0035,0.0179,0.2423,0.2261,0.5102',\n",
       " '0.0332,0.1557,0.0144,0.0399,0.7568',\n",
       " '0.0149,0.0634,0.3531,0.0493,0.5193',\n",
       " '0.0042,0.1743,0.0161,0.0085,0.7969',\n",
       " '0.0001,0.0758,0.0007,0.0002,0.9233',\n",
       " '0.0227,0.1053,0.0058,0.0010,0.8652',\n",
       " '0.1674,0.2263,0.0999,0.2170,0.2893',\n",
       " '0.0211,0.2010,0.0358,0.0356,0.7065',\n",
       " '0.0007,0.2464,0.0848,0.0069,0.6610',\n",
       " '0.0198,0.1575,0.2422,0.0028,0.5777',\n",
       " '0.0040,0.1420,0.0221,0.0085,0.8234',\n",
       " '0.0006,0.4448,0.0365,0.0499,0.4683',\n",
       " '0.0007,0.0092,0.0034,0.0010,0.9858',\n",
       " '0.0270,0.0983,0.2555,0.0009,0.6182',\n",
       " '0.0030,0.5348,0.0104,0.0344,0.4175',\n",
       " '0.0028,0.0037,0.0009,0.0004,0.9923',\n",
       " '0.0021,0.1223,0.0156,0.0042,0.8557',\n",
       " '0.0535,0.4147,0.0285,0.0049,0.4984',\n",
       " '0.0264,0.2025,0.0110,0.0717,0.6884',\n",
       " '0.0075,0.0020,0.2457,0.0001,0.7446',\n",
       " '0.0274,0.0092,0.0013,0.0013,0.9607',\n",
       " '0.0112,0.1953,0.0182,0.4045,0.3708',\n",
       " '0.0004,0.0149,0.0007,0.0004,0.9837',\n",
       " '0.0058,0.0650,0.2419,0.0025,0.6848',\n",
       " '0.0005,0.0699,0.0012,0.1683,0.7601',\n",
       " '0.0017,0.2453,0.0050,0.0086,0.7393',\n",
       " '0.0011,0.0015,0.0001,0.0001,0.9972',\n",
       " '0.0932,0.1146,0.0403,0.0030,0.7489',\n",
       " '0.0540,0.2129,0.0557,0.1271,0.5503',\n",
       " '0.0129,0.0524,0.3846,0.0118,0.5384',\n",
       " '0.0053,0.2098,0.0367,0.0021,0.7461',\n",
       " '0.0002,0.2073,0.0009,0.0025,0.7891',\n",
       " '0.0017,0.2314,0.2372,0.0109,0.5189',\n",
       " '0.0006,0.0011,0.2762,0.2096,0.5125',\n",
       " '0.0031,0.2887,0.0394,0.2085,0.4604',\n",
       " '0.2283,0.1322,0.0869,0.0074,0.5452',\n",
       " '0.0432,0.0931,0.1014,0.0033,0.7590',\n",
       " '0.0004,0.0395,0.2571,0.0100,0.6929',\n",
       " '0.0143,0.0008,0.0000,0.0001,0.9848',\n",
       " '0.0033,0.1438,0.0859,0.0597,0.7073',\n",
       " '0.0082,0.0562,0.2430,0.0021,0.6904',\n",
       " '0.0223,0.1817,0.0056,0.0448,0.7456',\n",
       " '0.0014,0.1330,0.0924,0.2574,0.5157',\n",
       " '0.0008,0.1167,0.0022,0.0008,0.8795',\n",
       " '0.0019,0.2415,0.0061,0.0175,0.7330',\n",
       " '0.0011,0.7773,0.0035,0.0220,0.1961',\n",
       " '0.0122,0.2890,0.2919,0.4020,0.0049',\n",
       " '0.0004,0.5198,0.0022,0.0037,0.4740',\n",
       " '0.0007,0.8648,0.0009,0.1331,0.0005',\n",
       " '0.0119,0.4628,0.0466,0.0113,0.4675',\n",
       " '0.0007,0.7501,0.0041,0.2257,0.0195',\n",
       " '0.0012,0.9771,0.0015,0.0092,0.0110',\n",
       " '0.0020,0.8032,0.0934,0.0951,0.0063',\n",
       " '0.0003,0.9924,0.0014,0.0015,0.0043',\n",
       " '0.0034,0.3242,0.4159,0.2381,0.0184',\n",
       " '0.0002,0.9446,0.0003,0.0017,0.0532',\n",
       " '0.0014,0.7111,0.0080,0.0326,0.2469',\n",
       " '0.0104,0.6985,0.0298,0.2233,0.0379',\n",
       " '0.0030,0.6202,0.0774,0.0348,0.2645',\n",
       " '0.0776,0.3825,0.0349,0.4741,0.0309',\n",
       " '0.0031,0.7988,0.0008,0.1907,0.0066',\n",
       " '0.0021,0.8918,0.0184,0.0676,0.0201',\n",
       " '0.0091,0.9128,0.0092,0.0663,0.0026',\n",
       " '0.0038,0.6342,0.1133,0.2192,0.0294',\n",
       " '0.0026,0.7120,0.1520,0.1161,0.0172',\n",
       " '0.1075,0.7916,0.0192,0.0011,0.0806',\n",
       " '0.0005,0.9041,0.0664,0.0131,0.0158',\n",
       " '0.0203,0.9172,0.0013,0.0242,0.0371',\n",
       " '0.0011,0.7291,0.2244,0.0046,0.0409',\n",
       " '0.1849,0.6428,0.0191,0.0251,0.1281',\n",
       " '0.1881,0.5534,0.0071,0.2357,0.0157',\n",
       " '0.0023,0.9544,0.0210,0.0052,0.0171',\n",
       " '0.0280,0.7812,0.0255,0.0876,0.0778',\n",
       " '0.0036,0.8845,0.0065,0.1000,0.0054',\n",
       " '0.0009,0.6739,0.2484,0.0400,0.0369',\n",
       " '0.0048,0.5788,0.0095,0.0119,0.3950',\n",
       " '0.0120,0.6281,0.2378,0.1114,0.0108',\n",
       " '0.0039,0.8830,0.0060,0.0991,0.0079',\n",
       " '0.0012,0.6779,0.0047,0.0296,0.2865',\n",
       " '0.0783,0.6718,0.1275,0.0314,0.0910',\n",
       " '0.0000,0.8866,0.0010,0.1057,0.0066',\n",
       " '0.0062,0.8847,0.0054,0.0865,0.0173',\n",
       " '0.0101,0.6252,0.0765,0.2438,0.0443',\n",
       " '0.0199,0.5769,0.0635,0.0984,0.2413',\n",
       " '0.0123,0.8564,0.0191,0.1015,0.0106',\n",
       " '0.0411,0.7755,0.1429,0.0178,0.0228',\n",
       " '0.0004,0.7417,0.0056,0.2498,0.0025',\n",
       " '0.0056,0.7315,0.0893,0.1408,0.0328',\n",
       " '0.0037,0.8087,0.0255,0.1473,0.0148',\n",
       " '0.0852,0.7359,0.0356,0.0837,0.0595',\n",
       " '0.0038,0.9441,0.0228,0.0079,0.0214',\n",
       " '0.0011,0.7861,0.1360,0.0672,0.0095',\n",
       " '0.0012,0.7220,0.0229,0.0601,0.1938',\n",
       " '0.1464,0.6137,0.2115,0.0086,0.0197',\n",
       " '0.0027,0.7651,0.1246,0.0896,0.0181',\n",
       " '0.0096,0.5094,0.1854,0.2779,0.0178',\n",
       " '0.0027,0.9924,0.0004,0.0019,0.0026',\n",
       " '0.0097,0.8697,0.0010,0.1034,0.0161',\n",
       " '0.0021,0.8854,0.0062,0.0781,0.0282',\n",
       " '0.0168,0.9229,0.0488,0.0069,0.0046',\n",
       " '0.0052,0.8567,0.0697,0.0455,0.0228',\n",
       " '0.0220,0.7454,0.0158,0.0249,0.1919',\n",
       " '0.0006,0.7182,0.0056,0.0082,0.2673',\n",
       " '0.0022,0.8394,0.1373,0.0115,0.0097',\n",
       " '0.0011,0.6369,0.0004,0.1241,0.2375',\n",
       " '0.1722,0.7301,0.0215,0.0337,0.0425',\n",
       " '0.0010,0.7285,0.0340,0.2314,0.0051',\n",
       " '0.0003,0.4464,0.0036,0.2605,0.2891',\n",
       " '0.0059,0.9477,0.0113,0.0316,0.0035',\n",
       " '0.0044,0.9524,0.0035,0.0367,0.0030',\n",
       " '0.0088,0.6341,0.0983,0.2315,0.0273',\n",
       " '0.0004,0.9942,0.0036,0.0009,0.0009',\n",
       " '0.0001,0.5743,0.0001,0.1915,0.2341',\n",
       " '0.0467,0.8992,0.0095,0.0394,0.0053',\n",
       " '0.0010,0.9688,0.0192,0.0077,0.0033',\n",
       " '0.0022,0.7391,0.2356,0.0130,0.0101',\n",
       " '0.0025,0.8907,0.0188,0.0353,0.0527',\n",
       " '0.0024,0.9886,0.0020,0.0040,0.0029',\n",
       " '0.0065,0.5012,0.2124,0.0330,0.2469',\n",
       " '0.0057,0.8516,0.1094,0.0211,0.0123',\n",
       " '0.0044,0.7389,0.2518,0.0019,0.0030',\n",
       " '0.0086,0.8001,0.0324,0.0459,0.1130',\n",
       " '0.0029,0.3898,0.0443,0.1024,0.4607',\n",
       " '0.0163,0.8960,0.0048,0.0609,0.0219',\n",
       " '0.0003,0.8506,0.0006,0.1186,0.0300',\n",
       " '0.0017,0.7438,0.0059,0.2443,0.0042',\n",
       " '0.0006,0.9451,0.0323,0.0004,0.0217',\n",
       " '0.0842,0.4691,0.1774,0.0204,0.2488',\n",
       " '0.1763,0.6567,0.1322,0.0277,0.0070',\n",
       " '0.0015,0.7507,0.0021,0.0034,0.2424',\n",
       " '0.1978,0.7552,0.0036,0.0127,0.0307',\n",
       " '0.3776,0.2965,0.0142,0.0039,0.3078',\n",
       " '0.0711,0.7103,0.1020,0.0789,0.0378',\n",
       " '0.0001,0.9040,0.0036,0.0659,0.0264',\n",
       " '0.0137,0.7896,0.0094,0.1723,0.0150',\n",
       " '0.0123,0.6846,0.0197,0.0515,0.2319',\n",
       " '0.0001,0.9925,0.0001,0.0065,0.0008',\n",
       " '0.0263,0.8902,0.0025,0.0152,0.0658',\n",
       " '0.0000,0.9454,0.0477,0.0042,0.0027',\n",
       " '0.0105,0.6158,0.0350,0.3288,0.0100',\n",
       " '0.0203,0.5725,0.2779,0.1074,0.0218',\n",
       " '0.0059,0.9294,0.0122,0.0507,0.0017',\n",
       " '0.0152,0.5742,0.1483,0.2471,0.0152',\n",
       " '0.0001,0.9981,0.0002,0.0005,0.0011',\n",
       " '0.0036,0.7305,0.0070,0.1283,0.1306',\n",
       " '0.0011,0.6906,0.0007,0.0605,0.2471',\n",
       " '0.0016,0.7992,0.0100,0.1756,0.0137',\n",
       " '0.0157,0.5465,0.3016,0.0788,0.0575',\n",
       " '0.0038,0.8579,0.0172,0.0279,0.0932',\n",
       " '0.2073,0.7801,0.0083,0.0007,0.0036',\n",
       " '0.1334,0.7167,0.0172,0.0182,0.1145',\n",
       " '0.0052,0.6706,0.0924,0.2295,0.0023',\n",
       " '0.0011,0.9002,0.0081,0.0617,0.0289',\n",
       " '0.0033,0.6644,0.1140,0.1187,0.0996',\n",
       " '0.0033,0.6996,0.0039,0.0090,0.2842',\n",
       " '0.0110,0.8453,0.0106,0.0538,0.0794',\n",
       " '0.0246,0.8613,0.0023,0.0550,0.0569',\n",
       " '0.0019,0.7275,0.1975,0.0543,0.0188',\n",
       " '0.0004,0.7187,0.0022,0.0039,0.2747',\n",
       " '0.3520,0.5398,0.0073,0.0174,0.0835',\n",
       " '0.0001,0.4374,0.0004,0.5505,0.0115',\n",
       " '0.0001,0.9055,0.0018,0.0669,0.0258',\n",
       " '0.0008,0.7856,0.0982,0.0905,0.0249',\n",
       " '0.0101,0.8175,0.0081,0.1585,0.0058',\n",
       " '0.0433,0.6861,0.2250,0.0198,0.0259',\n",
       " '0.0029,0.7232,0.1903,0.0249,0.0587',\n",
       " '0.0039,0.9662,0.0101,0.0145,0.0053',\n",
       " '0.0010,0.8459,0.1162,0.0306,0.0063',\n",
       " '0.0051,0.7677,0.0142,0.2102,0.0029',\n",
       " '0.0413,0.9372,0.0120,0.0057,0.0039',\n",
       " '0.0021,0.8426,0.0152,0.1304,0.0097',\n",
       " '0.2217,0.4934,0.0081,0.0746,0.2022',\n",
       " '0.0408,0.7914,0.0121,0.0071,0.1486',\n",
       " '0.0006,0.8801,0.0028,0.0330,0.0834',\n",
       " '0.0022,0.5677,0.1613,0.0378,0.2310',\n",
       " '0.0803,0.5540,0.0247,0.0088,0.3322',\n",
       " '0.0054,0.4985,0.1913,0.0044,0.3003',\n",
       " '0.0002,0.6158,0.0041,0.3736,0.0064',\n",
       " '0.0004,0.7469,0.0036,0.0096,0.2395',\n",
       " '0.0017,0.7575,0.2215,0.0108,0.0085',\n",
       " '0.0040,0.9313,0.0062,0.0435,0.0150',\n",
       " '0.0112,0.6004,0.2658,0.0865,0.0361',\n",
       " '0.1114,0.7056,0.0129,0.0042,0.1660',\n",
       " '0.0130,0.9507,0.0250,0.0059,0.0054',\n",
       " '0.0985,0.3864,0.3383,0.1608,0.0160',\n",
       " '0.2558,0.3648,0.0132,0.0658,0.3003',\n",
       " '0.0115,0.4886,0.2478,0.2403,0.0118',\n",
       " '0.0000,0.9599,0.0005,0.0389,0.0006',\n",
       " '0.0014,0.7525,0.2336,0.0089,0.0036',\n",
       " '0.0040,0.5988,0.0496,0.1936,0.1540',\n",
       " '0.0015,0.8252,0.0090,0.0698,0.0945',\n",
       " '0.0003,0.7829,0.0042,0.0011,0.2115',\n",
       " '0.0109,0.8794,0.0114,0.0407,0.0577',\n",
       " '0.0022,0.9721,0.0060,0.0110,0.0086',\n",
       " '0.0015,0.9674,0.0051,0.0089,0.0170',\n",
       " '0.0017,0.8410,0.0054,0.1487,0.0032',\n",
       " '0.0110,0.9431,0.0082,0.0278,0.0098',\n",
       " '0.0073,0.6644,0.0022,0.1127,0.2134',\n",
       " '0.0005,0.8352,0.0008,0.0045,0.1591',\n",
       " '0.0003,0.7601,0.0006,0.2277,0.0113',\n",
       " '0.0012,0.4600,0.1905,0.1416,0.2066',\n",
       " '0.0005,0.6749,0.1025,0.2129,0.0092',\n",
       " '0.0113,0.9052,0.0011,0.0071,0.0754',\n",
       " '0.0454,0.6888,0.2437,0.0042,0.0179',\n",
       " '0.0004,0.8092,0.0083,0.1294,0.0527',\n",
       " '0.0015,0.8080,0.0547,0.1278,0.0080',\n",
       " '0.0302,0.9363,0.0090,0.0059,0.0185',\n",
       " '0.0006,0.9878,0.0051,0.0046,0.0019',\n",
       " '0.0055,0.8417,0.0741,0.0333,0.0454',\n",
       " '0.0088,0.7239,0.0434,0.0142,0.2097',\n",
       " '0.0027,0.5285,0.3307,0.1103,0.0278',\n",
       " '0.0010,0.7197,0.0008,0.1102,0.1683',\n",
       " '0.0000,0.7820,0.0000,0.0002,0.2177',\n",
       " '0.0012,0.3030,0.2035,0.0572,0.4351',\n",
       " '0.0018,0.4727,0.0988,0.3860,0.0407',\n",
       " '0.0030,0.5778,0.0437,0.0867,0.2888',\n",
       " '0.1483,0.8209,0.0066,0.0007,0.0235',\n",
       " '0.0004,0.7647,0.0124,0.1902,0.0323',\n",
       " '0.0016,0.8502,0.0039,0.1425,0.0018',\n",
       " '0.0013,0.7188,0.1761,0.0936,0.0102',\n",
       " '0.1590,0.5153,0.0659,0.0095,0.2503',\n",
       " '0.0005,0.7392,0.0261,0.0086,0.2255',\n",
       " '0.0005,0.9772,0.0021,0.0104,0.0097',\n",
       " '0.0501,0.6659,0.0298,0.2220,0.0321',\n",
       " '0.0164,0.6824,0.0034,0.1883,0.1095',\n",
       " '0.0005,0.5060,0.0140,0.0056,0.4739',\n",
       " '0.0376,0.4452,0.1678,0.2703,0.0791',\n",
       " '0.0002,0.9924,0.0037,0.0025,0.0012',\n",
       " '0.0003,0.6500,0.0331,0.1143,0.2024',\n",
       " '0.2168,0.7014,0.0169,0.0618,0.0031',\n",
       " '0.0117,0.5417,0.0021,0.1790,0.2656',\n",
       " '0.0050,0.6926,0.1594,0.1291,0.0139',\n",
       " '0.0076,0.7747,0.0068,0.1901,0.0208',\n",
       " '0.0043,0.7554,0.0256,0.2101,0.0047',\n",
       " '0.0220,0.9570,0.0021,0.0155,0.0034',\n",
       " '0.0008,0.8585,0.0101,0.1235,0.0072',\n",
       " '0.0001,0.9982,0.0005,0.0009,0.0003',\n",
       " '0.0045,0.8515,0.0720,0.0560,0.0159',\n",
       " '0.0287,0.9220,0.0105,0.0164,0.0224',\n",
       " '0.0032,0.7410,0.2178,0.0117,0.0263',\n",
       " '0.0025,0.7320,0.0243,0.0014,0.2398',\n",
       " '0.0023,0.8351,0.0842,0.0594,0.0191',\n",
       " '0.1081,0.8042,0.0062,0.0004,0.0811',\n",
       " '0.0056,0.8911,0.0827,0.0170,0.0036',\n",
       " '0.0008,0.7287,0.0051,0.0079,0.2575',\n",
       " '0.0001,0.7872,0.0002,0.2105,0.0020',\n",
       " '0.0003,0.9437,0.0206,0.0106,0.0248',\n",
       " '0.0058,0.7360,0.2468,0.0093,0.0022',\n",
       " '0.0027,0.7198,0.2319,0.0362,0.0094',\n",
       " '0.0298,0.7851,0.0095,0.1023,0.0733',\n",
       " '0.0000,0.9897,0.0001,0.0070,0.0033',\n",
       " '0.0028,0.8263,0.0075,0.0951,0.0683',\n",
       " '0.0013,0.7338,0.0026,0.0152,0.2472',\n",
       " '0.0331,0.7010,0.0137,0.0076,0.2446',\n",
       " '0.1377,0.8068,0.0299,0.0062,0.0194',\n",
       " '0.0033,0.8451,0.0339,0.0826,0.0351',\n",
       " '0.0317,0.4872,0.1008,0.0863,0.2940',\n",
       " '0.0007,0.8977,0.0228,0.0729,0.0059',\n",
       " '0.0015,0.9344,0.0006,0.0495,0.0141',\n",
       " '0.0009,0.7303,0.0042,0.2555,0.0090',\n",
       " '0.0007,0.7340,0.1694,0.0888,0.0070',\n",
       " '0.0001,0.9759,0.0004,0.0229,0.0006',\n",
       " '0.0031,0.7858,0.0175,0.1802,0.0135',\n",
       " '0.0203,0.7057,0.0113,0.0034,0.2593',\n",
       " '0.0069,0.3738,0.0007,0.1472,0.4715',\n",
       " '0.0338,0.5636,0.2214,0.1189,0.0624',\n",
       " '0.0043,0.5837,0.0960,0.0468,0.2692',\n",
       " '0.0012,0.3150,0.2414,0.1922,0.2503',\n",
       " '0.0151,0.7662,0.0153,0.1161,0.0873',\n",
       " '0.0064,0.8011,0.0082,0.1745,0.0098',\n",
       " '0.0015,0.9705,0.0083,0.0173,0.0024',\n",
       " '0.0024,0.2702,0.1112,0.4990,0.1173',\n",
       " '0.0005,0.7764,0.2011,0.0056,0.0164',\n",
       " '0.0016,0.6209,0.1593,0.0896,0.1285',\n",
       " '0.1319,0.7716,0.0370,0.0473,0.0122',\n",
       " '0.0070,0.7146,0.2482,0.0099,0.0203']"
      ]
     },
     "execution_count": 78,
     "metadata": {},
     "output_type": "execute_result"
    }
   ],
   "source": [
    "result = []\n",
    "for tmp_list in Y_pred:\n",
    "    tmp_result = ''\n",
    "    for tmp_ret in tmp_list:\n",
    "        tmp_result += '{:.4f},'.format(tmp_ret)    \n",
    "    result.append(tmp_result[:-1])    \n",
    "result   "
   ]
  },
  {
   "cell_type": "code",
   "execution_count": 79,
   "metadata": {
    "collapsed": true
   },
   "outputs": [],
   "source": [
    "df_map = pd.DataFrame()\n",
    "df_map['label'] = label\n",
    "df_map['result'] = result"
   ]
  },
  {
   "cell_type": "code",
   "execution_count": 80,
   "metadata": {},
   "outputs": [
    {
     "name": "stdout",
     "output_type": "stream",
     "text": [
      "0.9792257395912876\n"
     ]
    }
   ],
   "source": [
    "p = 0.0\n",
    "j = 0\n",
    "for ProbThreshold in np.arange(0,1,0.001):   \n",
    "    j = j + 1\n",
    "    PRED_COUNT = 0\n",
    "    BLOCK_COUNT = 0\n",
    "    PRED_CORRECT_COUNT = 0\n",
    "\n",
    "    for df_label,df_result in zip(df_map['label'][:],df_map['result'][:]):\n",
    "        test_array = []\n",
    "        for i in df_result.split(','):\n",
    "            test_array.append(float(i))\n",
    "        y_label = df_label.find('y')\n",
    "        m_label = df_label.find('m')\n",
    "        op_argsort = np.argsort(test_array)[::-1]\n",
    "        #print(max(test_array))\n",
    "        #print(op_argsort)\n",
    "        #print(y_label)\n",
    "        #print(m_label)\n",
    "        if max(test_array) <  ProbThreshold:\n",
    "            BLOCK_COUNT = BLOCK_COUNT + 1\n",
    "            continue\n",
    "        if op_argsort[0] == m_label:\n",
    "            BLOCK_COUNT = BLOCK_COUNT + 1\n",
    "            continue\n",
    "        if op_argsort[0] == y_label:\n",
    "            PRED_COUNT = PRED_COUNT + 1\n",
    "            PRED_CORRECT_COUNT = PRED_CORRECT_COUNT + 1\n",
    "        else:\n",
    "            PRED_COUNT = PRED_COUNT + 1  \n",
    "    p = p + PRED_CORRECT_COUNT/PRED_COUNT\n",
    "    \n",
    "print(p/j)"
   ]
  },
  {
   "cell_type": "markdown",
   "metadata": {},
   "source": [
    "## 测试数据TTA"
   ]
  },
  {
   "cell_type": "code",
   "execution_count": 17,
   "metadata": {},
   "outputs": [
    {
     "data": {
      "text/html": [
       "<div>\n",
       "<style>\n",
       "    .dataframe thead tr:only-child th {\n",
       "        text-align: right;\n",
       "    }\n",
       "\n",
       "    .dataframe thead th {\n",
       "        text-align: left;\n",
       "    }\n",
       "\n",
       "    .dataframe tbody tr th {\n",
       "        vertical-align: top;\n",
       "    }\n",
       "</style>\n",
       "<table border=\"1\" class=\"dataframe\">\n",
       "  <thead>\n",
       "    <tr style=\"text-align: right;\">\n",
       "      <th></th>\n",
       "      <th>image_id</th>\n",
       "      <th>class</th>\n",
       "    </tr>\n",
       "  </thead>\n",
       "  <tbody>\n",
       "    <tr>\n",
       "      <th>0</th>\n",
       "      <td>Images/collar_design_labels/1078bc9a4fa91aef69...</td>\n",
       "      <td>collar_design_labels</td>\n",
       "    </tr>\n",
       "    <tr>\n",
       "      <th>1</th>\n",
       "      <td>Images/collar_design_labels/272c5d069581efc94f...</td>\n",
       "      <td>collar_design_labels</td>\n",
       "    </tr>\n",
       "    <tr>\n",
       "      <th>2</th>\n",
       "      <td>Images/collar_design_labels/2e67922d82216cc756...</td>\n",
       "      <td>collar_design_labels</td>\n",
       "    </tr>\n",
       "    <tr>\n",
       "      <th>3</th>\n",
       "      <td>Images/collar_design_labels/d9726ceee17c7ee811...</td>\n",
       "      <td>collar_design_labels</td>\n",
       "    </tr>\n",
       "    <tr>\n",
       "      <th>4</th>\n",
       "      <td>Images/collar_design_labels/1b7de7f9def99a5aa6...</td>\n",
       "      <td>collar_design_labels</td>\n",
       "    </tr>\n",
       "  </tbody>\n",
       "</table>\n",
       "</div>"
      ],
      "text/plain": [
       "                                            image_id                 class\n",
       "0  Images/collar_design_labels/1078bc9a4fa91aef69...  collar_design_labels\n",
       "1  Images/collar_design_labels/272c5d069581efc94f...  collar_design_labels\n",
       "2  Images/collar_design_labels/2e67922d82216cc756...  collar_design_labels\n",
       "3  Images/collar_design_labels/d9726ceee17c7ee811...  collar_design_labels\n",
       "4  Images/collar_design_labels/1b7de7f9def99a5aa6...  collar_design_labels"
      ]
     },
     "execution_count": 17,
     "metadata": {},
     "output_type": "execute_result"
    }
   ],
   "source": [
    "df_test = pd.read_csv('./week-rank/Tests/question.csv', header=None)\n",
    "df_test.columns = ['image_id', 'class', 'x']\n",
    "del df_test['x']\n",
    "df_test.head()"
   ]
  },
  {
   "cell_type": "code",
   "execution_count": 18,
   "metadata": {},
   "outputs": [
    {
     "name": "stdout",
     "output_type": "stream",
     "text": [
      "lapel_design_labels: 1406\n"
     ]
    },
    {
     "data": {
      "text/html": [
       "<div>\n",
       "<style>\n",
       "    .dataframe thead tr:only-child th {\n",
       "        text-align: right;\n",
       "    }\n",
       "\n",
       "    .dataframe thead th {\n",
       "        text-align: left;\n",
       "    }\n",
       "\n",
       "    .dataframe tbody tr th {\n",
       "        vertical-align: top;\n",
       "    }\n",
       "</style>\n",
       "<table border=\"1\" class=\"dataframe\">\n",
       "  <thead>\n",
       "    <tr style=\"text-align: right;\">\n",
       "      <th></th>\n",
       "      <th>image_id</th>\n",
       "      <th>class</th>\n",
       "    </tr>\n",
       "  </thead>\n",
       "  <tbody>\n",
       "    <tr>\n",
       "      <th>0</th>\n",
       "      <td>Images/lapel_design_labels/4584969997a2d7dea74...</td>\n",
       "      <td>lapel_design_labels</td>\n",
       "    </tr>\n",
       "    <tr>\n",
       "      <th>1</th>\n",
       "      <td>Images/lapel_design_labels/cd6f068e9672d11bf74...</td>\n",
       "      <td>lapel_design_labels</td>\n",
       "    </tr>\n",
       "    <tr>\n",
       "      <th>2</th>\n",
       "      <td>Images/lapel_design_labels/26890cbaf789eb99f3f...</td>\n",
       "      <td>lapel_design_labels</td>\n",
       "    </tr>\n",
       "    <tr>\n",
       "      <th>3</th>\n",
       "      <td>Images/lapel_design_labels/056f95626aad6c39883...</td>\n",
       "      <td>lapel_design_labels</td>\n",
       "    </tr>\n",
       "    <tr>\n",
       "      <th>4</th>\n",
       "      <td>Images/lapel_design_labels/5883dd9d1ba746fbe44...</td>\n",
       "      <td>lapel_design_labels</td>\n",
       "    </tr>\n",
       "  </tbody>\n",
       "</table>\n",
       "</div>"
      ],
      "text/plain": [
       "                                            image_id                class\n",
       "0  Images/lapel_design_labels/4584969997a2d7dea74...  lapel_design_labels\n",
       "1  Images/lapel_design_labels/cd6f068e9672d11bf74...  lapel_design_labels\n",
       "2  Images/lapel_design_labels/26890cbaf789eb99f3f...  lapel_design_labels\n",
       "3  Images/lapel_design_labels/056f95626aad6c39883...  lapel_design_labels\n",
       "4  Images/lapel_design_labels/5883dd9d1ba746fbe44...  lapel_design_labels"
      ]
     },
     "execution_count": 18,
     "metadata": {},
     "output_type": "execute_result"
    }
   ],
   "source": [
    "df_load = df_test[(df_test['class'] == cur_class)].copy()\n",
    "df_load.reset_index(inplace=True)\n",
    "del df_load['index']\n",
    "\n",
    "print('{0}: {1}'.format(cur_class, len(df_load)))\n",
    "df_load.head()"
   ]
  },
  {
   "cell_type": "code",
   "execution_count": 19,
   "metadata": {},
   "outputs": [
    {
     "name": "stderr",
     "output_type": "stream",
     "text": [
      "100%|██████████| 1406/1406 [00:08<00:00, 163.03it/s]\n"
     ]
    }
   ],
   "source": [
    "n = len(df_load)\n",
    "X_test = np.zeros((n, width, width, 3), dtype=np.uint8)\n",
    "\n",
    "for i in tqdm(range(n)):\n",
    "    X_test[i] = cv2.resize(cv2.imread('./week-rank/{0}'.format(df_load['image_id'][i])), (width, width))"
   ]
  },
  {
   "cell_type": "code",
   "execution_count": 31,
   "metadata": {
    "collapsed": true
   },
   "outputs": [],
   "source": [
    "# 原图\n",
    "test_np_0 = model.predict(X_test)"
   ]
  },
  {
   "cell_type": "code",
   "execution_count": 22,
   "metadata": {},
   "outputs": [
    {
     "name": "stderr",
     "output_type": "stream",
     "text": [
      "100%|██████████| 1406/1406 [00:00<00:00, 5336.40it/s]\n"
     ]
    }
   ],
   "source": [
    "#水平翻转\n",
    "X_test_1 = np.zeros((n, width, width, 3), dtype=np.uint8)\n",
    "for i in tqdm(range(n)):\n",
    "    X_test_1[i] = cv2.flip(X_test[i], 1)"
   ]
  },
  {
   "cell_type": "code",
   "execution_count": 32,
   "metadata": {
    "collapsed": true
   },
   "outputs": [],
   "source": [
    "test_np_1 = model.predict(X_test_1)"
   ]
  },
  {
   "cell_type": "code",
   "execution_count": 24,
   "metadata": {},
   "outputs": [
    {
     "name": "stderr",
     "output_type": "stream",
     "text": [
      "100%|██████████| 1406/1406 [00:11<00:00, 119.61it/s]\n"
     ]
    }
   ],
   "source": [
    "# 直方图均衡处理\n",
    "X_test_2 = np.zeros((n, width, width, 3), dtype=np.uint8)\n",
    "for i in tqdm(range(n)):\n",
    "    X_test_2[i] = exposure.equalize_hist(X_test[i])*255"
   ]
  },
  {
   "cell_type": "code",
   "execution_count": 33,
   "metadata": {
    "collapsed": true
   },
   "outputs": [],
   "source": [
    "test_np_2 = model.predict(X_test_2)"
   ]
  },
  {
   "cell_type": "code",
   "execution_count": 26,
   "metadata": {},
   "outputs": [
    {
     "name": "stderr",
     "output_type": "stream",
     "text": [
      "100%|██████████| 1406/1406 [00:04<00:00, 349.76it/s]\n"
     ]
    }
   ],
   "source": [
    "# cs对比度拉长处理\n",
    "X_test_3 = np.zeros((n, width, width, 3), dtype=np.uint8)\n",
    "for i in tqdm(range(n)):\n",
    "    p2, p98 = np.percentile(X_test[i], (2, 98))\n",
    "    X_test_3[i] = exposure.rescale_intensity(X_test[i], in_range=(p2, p98))"
   ]
  },
  {
   "cell_type": "code",
   "execution_count": 34,
   "metadata": {
    "collapsed": true
   },
   "outputs": [],
   "source": [
    "test_np_3 = model.predict(X_test_3)"
   ]
  },
  {
   "cell_type": "code",
   "execution_count": 36,
   "metadata": {},
   "outputs": [
    {
     "data": {
      "text/html": [
       "<div>\n",
       "<style>\n",
       "    .dataframe thead tr:only-child th {\n",
       "        text-align: right;\n",
       "    }\n",
       "\n",
       "    .dataframe thead th {\n",
       "        text-align: left;\n",
       "    }\n",
       "\n",
       "    .dataframe tbody tr th {\n",
       "        vertical-align: top;\n",
       "    }\n",
       "</style>\n",
       "<table border=\"1\" class=\"dataframe\">\n",
       "  <thead>\n",
       "    <tr style=\"text-align: right;\">\n",
       "      <th></th>\n",
       "      <th>image_id</th>\n",
       "      <th>class</th>\n",
       "      <th>result</th>\n",
       "    </tr>\n",
       "  </thead>\n",
       "  <tbody>\n",
       "    <tr>\n",
       "      <th>0</th>\n",
       "      <td>Images/lapel_design_labels/4584969997a2d7dea74...</td>\n",
       "      <td>lapel_design_labels</td>\n",
       "      <td>0.0001;0.9863;0.0090;0.0038;0.0008</td>\n",
       "    </tr>\n",
       "    <tr>\n",
       "      <th>1</th>\n",
       "      <td>Images/lapel_design_labels/cd6f068e9672d11bf74...</td>\n",
       "      <td>lapel_design_labels</td>\n",
       "      <td>0.0001;0.9513;0.0001;0.0385;0.0100</td>\n",
       "    </tr>\n",
       "    <tr>\n",
       "      <th>2</th>\n",
       "      <td>Images/lapel_design_labels/26890cbaf789eb99f3f...</td>\n",
       "      <td>lapel_design_labels</td>\n",
       "      <td>0.0000;0.0000;0.0000;0.0000;1.0000</td>\n",
       "    </tr>\n",
       "    <tr>\n",
       "      <th>3</th>\n",
       "      <td>Images/lapel_design_labels/056f95626aad6c39883...</td>\n",
       "      <td>lapel_design_labels</td>\n",
       "      <td>0.0510;0.0002;0.9487;0.0000;0.0000</td>\n",
       "    </tr>\n",
       "    <tr>\n",
       "      <th>4</th>\n",
       "      <td>Images/lapel_design_labels/5883dd9d1ba746fbe44...</td>\n",
       "      <td>lapel_design_labels</td>\n",
       "      <td>0.0012;0.8986;0.0056;0.0850;0.0097</td>\n",
       "    </tr>\n",
       "  </tbody>\n",
       "</table>\n",
       "</div>"
      ],
      "text/plain": [
       "                                            image_id                class  \\\n",
       "0  Images/lapel_design_labels/4584969997a2d7dea74...  lapel_design_labels   \n",
       "1  Images/lapel_design_labels/cd6f068e9672d11bf74...  lapel_design_labels   \n",
       "2  Images/lapel_design_labels/26890cbaf789eb99f3f...  lapel_design_labels   \n",
       "3  Images/lapel_design_labels/056f95626aad6c39883...  lapel_design_labels   \n",
       "4  Images/lapel_design_labels/5883dd9d1ba746fbe44...  lapel_design_labels   \n",
       "\n",
       "                               result  \n",
       "0  0.0001;0.9863;0.0090;0.0038;0.0008  \n",
       "1  0.0001;0.9513;0.0001;0.0385;0.0100  \n",
       "2  0.0000;0.0000;0.0000;0.0000;1.0000  \n",
       "3  0.0510;0.0002;0.9487;0.0000;0.0000  \n",
       "4  0.0012;0.8986;0.0056;0.0850;0.0097  "
      ]
     },
     "execution_count": 36,
     "metadata": {},
     "output_type": "execute_result"
    }
   ],
   "source": [
    "test_np = (test_np_0+test_np_1+test_np_2+test_np_3)/4\n",
    "#test_np = test_np_1\n",
    "result = []\n",
    "\n",
    "for i, row in df_load.iterrows():\n",
    "    tmp_list = test_np[i]\n",
    "    tmp_result = ''\n",
    "    for tmp_ret in tmp_list:\n",
    "        tmp_result += '{:.4f};'.format(tmp_ret)\n",
    "        \n",
    "    result.append(tmp_result[:-1])\n",
    "\n",
    "df_load['result'] = result\n",
    "df_load.head()"
   ]
  }
 ],
 "metadata": {
  "kernelspec": {
   "display_name": "Python 3",
   "language": "python",
   "name": "python3"
  },
  "language_info": {
   "codemirror_mode": {
    "name": "ipython",
    "version": 3
   },
   "file_extension": ".py",
   "mimetype": "text/x-python",
   "name": "python",
   "nbconvert_exporter": "python",
   "pygments_lexer": "ipython3",
   "version": "3.6.3"
  }
 },
 "nbformat": 4,
 "nbformat_minor": 2
}
