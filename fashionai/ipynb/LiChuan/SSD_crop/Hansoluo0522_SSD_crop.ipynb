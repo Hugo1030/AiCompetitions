{
 "cells": [
  {
   "cell_type": "code",
   "execution_count": 4,
   "metadata": {
    "collapsed": true
   },
   "outputs": [],
   "source": [
    "import os\n",
    "import cv2\n",
    "import numpy as np\n",
    "from utils.ssd_detector import SSDdetector"
   ]
  },
  {
   "cell_type": "code",
   "execution_count": 33,
   "metadata": {
    "collapsed": true
   },
   "outputs": [],
   "source": [
    "def crop(image, boxes):\n",
    "    \"\"\"crop the image.\n",
    "\n",
    "    # Arguments\n",
    "    image: ndarray\n",
    "    boxes: List, four coordinates: x1,y1,x2,y2\n",
    "\n",
    "    # Returns\n",
    "    image: ndarray, region image\n",
    "    \"\"\"\n",
    "    for rect in boxes:\n",
    "        x1, y1, x2, y2 = rect\n",
    "        \n",
    "        top = max(0, x1)\n",
    "        left = max(0, y1)\n",
    "        right = min(image.shape[1], x2)\n",
    "        bottom = min(image.shape[0], y2)\n",
    "        \n",
    "        w = right - top\n",
    "        h = bottom - left\n",
    "        \n",
    "        image = image[left:bottom,top:right]\n",
    "        \n",
    "        if w/h >10.0 or h/w > 10.0:\n",
    "            image = None\n",
    "\n",
    "    return image"
   ]
  },
  {
   "cell_type": "code",
   "execution_count": 37,
   "metadata": {},
   "outputs": [
    {
     "name": "stdout",
     "output_type": "stream",
     "text": [
      "2 images have preprocessed.\n",
      "4 images have preprocessed.\n",
      "6 images have preprocessed.\n",
      "8 images have preprocessed.\n",
      "10 images have preprocessed.\n",
      "12 images have preprocessed.\n",
      "14 images have preprocessed.\n",
      "16 images have preprocessed.\n",
      "18 images have preprocessed.\n",
      "20 images have preprocessed.\n"
     ]
    }
   ],
   "source": [
    "detecor = SSDdetector(0.5)\n",
    "m = 0\n",
    "\n",
    "for (root, dirs, files) in os.walk('images/test'):\n",
    "    if files:\n",
    "        for f in files:\n",
    "            path = os.path.join(root, f)\n",
    "            image = cv2.imread(path)\n",
    "            person = detecor.detect(image)\n",
    "            if person:\n",
    "                try:\n",
    "                    dst = crop(image, person)\n",
    "                    row, column, channels = dst.shape\n",
    "                    max_value = max(row, column)\n",
    "                    pad_img = cv2.copyMakeBorder(dst,(max_value-row)//2,(max_value-row)//2,(max_value-column)//2,(max_value-column)//2,cv2.BORDER_CONSTANT)\n",
    "                    dst0 = cv2.resize(pad_img, (299, 299), interpolation=cv2.INTER_AREA)\n",
    "                    if dst is not None:\n",
    "                        cv2.imwrite('images/crop/' + \"crop_\" + f, dst0) \n",
    "                except Exception as e:\n",
    "                    cv2.imwrite('images/crop/' + \"crop_\" + f, image)\n",
    "            else:\n",
    "                cv2.imwrite('images/crop/' + \"crop_\" + f, image)\n",
    "            m += 1\n",
    "            if m%2 == 0:\n",
    "                print('{} images have preprocessed.'.format(m))"
   ]
  },
  {
   "cell_type": "code",
   "execution_count": null,
   "metadata": {
    "collapsed": true
   },
   "outputs": [],
   "source": []
  }
 ],
 "metadata": {
  "kernelspec": {
   "display_name": "Python 3",
   "language": "python",
   "name": "python3"
  },
  "language_info": {
   "codemirror_mode": {
    "name": "ipython",
    "version": 3
   },
   "file_extension": ".py",
   "mimetype": "text/x-python",
   "name": "python",
   "nbconvert_exporter": "python",
   "pygments_lexer": "ipython3",
   "version": "3.6.3"
  },
  "toc": {
   "nav_menu": {},
   "number_sections": true,
   "sideBar": true,
   "skip_h1_title": false,
   "toc_cell": false,
   "toc_position": {},
   "toc_section_display": "block",
   "toc_window_display": false
  }
 },
 "nbformat": 4,
 "nbformat_minor": 2
}
