{
 "cells": [
  {
   "cell_type": "markdown",
   "metadata": {},
   "source": [
    "* 处理模糊边界的问题\n",
    "    1. 直接去掉有模糊边界问题的图片\n",
    "    2. 给 m 一定的权重\n",
    "        * 如果不存在 m, 则 y=1\n",
    "        * 如果存在1个 m, 则 y=0.6, m=0.4\n",
    "        * 如果存在 2 个 m, 则 y=0.4, m=0.3, m=0.3\n",
    "        * 如果存在 3 个 m, 则 y=0.4, m=0.2, m=0.2"
   ]
  },
  {
   "cell_type": "code",
   "execution_count": 1,
   "metadata": {
    "collapsed": true
   },
   "outputs": [],
   "source": [
    "import os\n",
    "import cv2\n",
    "import random\n",
    "import numpy as np\n",
    "import pandas as pd\n",
    "import seaborn as sns\n",
    "import matplotlib.pyplot as plt\n",
    "import warnings\n",
    "import itertools\n",
    "\n",
    "from tqdm import tqdm\n",
    "from sklearn.utils import shuffle\n",
    "from sklearn.model_selection import train_test_split\n",
    "from sklearn.metrics import confusion_matrix\n",
    "\n",
    "\n",
    "warnings.filterwarnings('ignore')\n",
    "%matplotlib inline\n",
    "%config InlineBackend.figure_format = 'retina'"
   ]
  },
  {
   "cell_type": "markdown",
   "metadata": {},
   "source": [
    "## 导入数据"
   ]
  },
  {
   "cell_type": "code",
   "execution_count": 2,
   "metadata": {},
   "outputs": [
    {
     "data": {
      "text/html": [
       "<div>\n",
       "<style>\n",
       "    .dataframe thead tr:only-child th {\n",
       "        text-align: right;\n",
       "    }\n",
       "\n",
       "    .dataframe thead th {\n",
       "        text-align: left;\n",
       "    }\n",
       "\n",
       "    .dataframe tbody tr th {\n",
       "        vertical-align: top;\n",
       "    }\n",
       "</style>\n",
       "<table border=\"1\" class=\"dataframe\">\n",
       "  <thead>\n",
       "    <tr style=\"text-align: right;\">\n",
       "      <th></th>\n",
       "      <th>image_id</th>\n",
       "      <th>class</th>\n",
       "      <th>label</th>\n",
       "    </tr>\n",
       "  </thead>\n",
       "  <tbody>\n",
       "    <tr>\n",
       "      <th>0</th>\n",
       "      <td>Images/collar_design_labels/0ef580b4deabcd9fa4...</td>\n",
       "      <td>collar_design_labels</td>\n",
       "      <td>ynnnn</td>\n",
       "    </tr>\n",
       "    <tr>\n",
       "      <th>1</th>\n",
       "      <td>Images/collar_design_labels/87ccc33937821a97ad...</td>\n",
       "      <td>collar_design_labels</td>\n",
       "      <td>nnynn</td>\n",
       "    </tr>\n",
       "    <tr>\n",
       "      <th>2</th>\n",
       "      <td>Images/collar_design_labels/26caac7d1f1b36fb9d...</td>\n",
       "      <td>collar_design_labels</td>\n",
       "      <td>ynnnn</td>\n",
       "    </tr>\n",
       "    <tr>\n",
       "      <th>3</th>\n",
       "      <td>Images/collar_design_labels/396ab4e7cbc6798100...</td>\n",
       "      <td>collar_design_labels</td>\n",
       "      <td>nynnn</td>\n",
       "    </tr>\n",
       "    <tr>\n",
       "      <th>4</th>\n",
       "      <td>Images/collar_design_labels/fc4a679c2bf209de13...</td>\n",
       "      <td>collar_design_labels</td>\n",
       "      <td>ynnnn</td>\n",
       "    </tr>\n",
       "  </tbody>\n",
       "</table>\n",
       "</div>"
      ],
      "text/plain": [
       "                                            image_id                 class  \\\n",
       "0  Images/collar_design_labels/0ef580b4deabcd9fa4...  collar_design_labels   \n",
       "1  Images/collar_design_labels/87ccc33937821a97ad...  collar_design_labels   \n",
       "2  Images/collar_design_labels/26caac7d1f1b36fb9d...  collar_design_labels   \n",
       "3  Images/collar_design_labels/396ab4e7cbc6798100...  collar_design_labels   \n",
       "4  Images/collar_design_labels/fc4a679c2bf209de13...  collar_design_labels   \n",
       "\n",
       "   label  \n",
       "0  ynnnn  \n",
       "1  nnynn  \n",
       "2  ynnnn  \n",
       "3  nynnn  \n",
       "4  ynnnn  "
      ]
     },
     "execution_count": 2,
     "metadata": {},
     "output_type": "execute_result"
    }
   ],
   "source": [
    "df_train = pd.read_csv('../../raw/train/Annotations/label.csv')\n",
    "df_train.columns = ['image_id', 'class', 'label']\n",
    "df_train.head()"
   ]
  },
  {
   "cell_type": "code",
   "execution_count": 3,
   "metadata": {
    "collapsed": true
   },
   "outputs": [],
   "source": [
    "classes = ['collar_design_labels', 'neckline_design_labels', 'skirt_length_labels',\n",
    "          'sleeve_length_labels', 'neck_design_labels', 'coat_length_labels', 'lapel_design_labels',\n",
    "          'pant_length_labels']"
   ]
  },
  {
   "cell_type": "markdown",
   "metadata": {},
   "source": [
    "## 加载数据"
   ]
  },
  {
   "cell_type": "code",
   "execution_count": 4,
   "metadata": {},
   "outputs": [
    {
     "name": "stdout",
     "output_type": "stream",
     "text": [
      "sleeve_length_labels: 17285\n"
     ]
    },
    {
     "data": {
      "text/html": [
       "<div>\n",
       "<style>\n",
       "    .dataframe thead tr:only-child th {\n",
       "        text-align: right;\n",
       "    }\n",
       "\n",
       "    .dataframe thead th {\n",
       "        text-align: left;\n",
       "    }\n",
       "\n",
       "    .dataframe tbody tr th {\n",
       "        vertical-align: top;\n",
       "    }\n",
       "</style>\n",
       "<table border=\"1\" class=\"dataframe\">\n",
       "  <thead>\n",
       "    <tr style=\"text-align: right;\">\n",
       "      <th></th>\n",
       "      <th>image_id</th>\n",
       "      <th>class</th>\n",
       "      <th>label</th>\n",
       "    </tr>\n",
       "  </thead>\n",
       "  <tbody>\n",
       "    <tr>\n",
       "      <th>0</th>\n",
       "      <td>Images/sleeve_length_labels/f5c414bda8a9bb97f6...</td>\n",
       "      <td>sleeve_length_labels</td>\n",
       "      <td>nnnnnnmym</td>\n",
       "    </tr>\n",
       "    <tr>\n",
       "      <th>1</th>\n",
       "      <td>Images/sleeve_length_labels/ffeef43a34d68b2a47...</td>\n",
       "      <td>sleeve_length_labels</td>\n",
       "      <td>nnynnnnnn</td>\n",
       "    </tr>\n",
       "    <tr>\n",
       "      <th>2</th>\n",
       "      <td>Images/sleeve_length_labels/4be61ca727ad25645e...</td>\n",
       "      <td>sleeve_length_labels</td>\n",
       "      <td>nnnnnnmmy</td>\n",
       "    </tr>\n",
       "    <tr>\n",
       "      <th>3</th>\n",
       "      <td>Images/sleeve_length_labels/b9d69a26db06295bfa...</td>\n",
       "      <td>sleeve_length_labels</td>\n",
       "      <td>nnnynnnnn</td>\n",
       "    </tr>\n",
       "    <tr>\n",
       "      <th>4</th>\n",
       "      <td>Images/sleeve_length_labels/fb7c3a0181d538b52e...</td>\n",
       "      <td>sleeve_length_labels</td>\n",
       "      <td>nnnnnnynn</td>\n",
       "    </tr>\n",
       "  </tbody>\n",
       "</table>\n",
       "</div>"
      ],
      "text/plain": [
       "                                            image_id                 class  \\\n",
       "0  Images/sleeve_length_labels/f5c414bda8a9bb97f6...  sleeve_length_labels   \n",
       "1  Images/sleeve_length_labels/ffeef43a34d68b2a47...  sleeve_length_labels   \n",
       "2  Images/sleeve_length_labels/4be61ca727ad25645e...  sleeve_length_labels   \n",
       "3  Images/sleeve_length_labels/b9d69a26db06295bfa...  sleeve_length_labels   \n",
       "4  Images/sleeve_length_labels/fb7c3a0181d538b52e...  sleeve_length_labels   \n",
       "\n",
       "       label  \n",
       "0  nnnnnnmym  \n",
       "1  nnynnnnnn  \n",
       "2  nnnnnnmmy  \n",
       "3  nnnynnnnn  \n",
       "4  nnnnnnynn  "
      ]
     },
     "execution_count": 4,
     "metadata": {},
     "output_type": "execute_result"
    }
   ],
   "source": [
    "cur_class = classes[3]\n",
    "df_load = df_train[(df_train['class'] == cur_class)].copy()\n",
    "df_load.reset_index(inplace=True)\n",
    "del df_load['index']\n",
    "\n",
    "print('{0}: {1}'.format(cur_class, len(df_load)))\n",
    "df_load.head()"
   ]
  },
  {
   "cell_type": "markdown",
   "metadata": {},
   "source": [
    "## 给 M 设定权重"
   ]
  },
  {
   "cell_type": "code",
   "execution_count": 6,
   "metadata": {
    "collapsed": true
   },
   "outputs": [],
   "source": [
    "n = len(df_load)\n",
    "n_class = len(df_load['label'][0])\n",
    "width = 299 # 定义图片大小\n",
    "\n",
    "# X = np.zeros((n, width, width, 3), dtype=np.uint8)\n",
    "y = np.zeros((n, n_class), dtype=np.float32)"
   ]
  },
  {
   "cell_type": "code",
   "execution_count": 32,
   "metadata": {},
   "outputs": [
    {
     "name": "stdout",
     "output_type": "stream",
     "text": [
      "3\n"
     ]
    }
   ],
   "source": [
    "# 查看最多有多少个 m\n",
    "max_m = []\n",
    "for i in range(n):\n",
    "    tmp_label = df_load['label'][i]\n",
    "    m_num = tmp_label.count('m')\n",
    "    max_m.append(m_num)\n",
    "print(max(max_m))"
   ]
  },
  {
   "cell_type": "code",
   "execution_count": 41,
   "metadata": {
    "collapsed": true
   },
   "outputs": [],
   "source": [
    "def findStr(string, subStr, findCnt):\n",
    "    listStr = string.split(subStr,findCnt)\n",
    "    if len(listStr) <= findCnt:\n",
    "        return -1\n",
    "    return len(string)-len(listStr[-1])-len(subStr)"
   ]
  },
  {
   "cell_type": "code",
   "execution_count": 65,
   "metadata": {},
   "outputs": [
    {
     "name": "stderr",
     "output_type": "stream",
     "text": [
      "100%|██████████| 17285/17285 [02:14<00:00, 128.73it/s]\n"
     ]
    }
   ],
   "source": [
    "for i in tqdm(range(n)):\n",
    "    tmp_label = df_load['label'][i]\n",
    "    X[i] = cv2.resize(cv2.imread('../../raw/train/{0}'.format(df_load['image_id'][i])), (width, width))\n",
    "    if tmp_label.count('m') == 1:\n",
    "        y[i][tmp_label.find('y')] = 0.6\n",
    "        y[i][tmp_label.find('m')] = 0.4\n",
    "    elif tmp_label.count('m') == 2:\n",
    "        y[i][tmp_label.find('y')] = 0.4\n",
    "        y[i][tmp_label.find('m')] = 0.3    \n",
    "        y[i][tmp_label.rfind('m')] = 0.3\n",
    "    elif tmp_label.count('m') == 2:\n",
    "        y[i][tmp_label.find('y')] = 0.4\n",
    "        y[i][tmp_label.find('m')] = 0.3    \n",
    "        y[i][tmp_label.rfind('m')] = 0.3\n",
    "    elif tmp_label.count('m') == 3:\n",
    "        y[i][tmp_label.find('y')] = 0.4\n",
    "        y[i][tmp_label.find('m')] = 0.2 \n",
    "        y[i][findStr(tmp_label, 'm', 2)] = 0.2\n",
    "        y[i][tmp_label.rfind('m')] = 0.2\n",
    "    else:\n",
    "        y[i][tmp_label.find('y')] = 1"
   ]
  },
  {
   "cell_type": "markdown",
   "metadata": {},
   "source": [
    "## 去掉模糊边界的图片"
   ]
  },
  {
   "cell_type": "code",
   "execution_count": null,
   "metadata": {
    "collapsed": true
   },
   "outputs": [],
   "source": [
    "n = len(df_load)"
   ]
  },
  {
   "cell_type": "code",
   "execution_count": null,
   "metadata": {
    "collapsed": true
   },
   "outputs": [],
   "source": [
    "index = []\n",
    "for i in range(n):\n",
    "    if df_load['label'][i].find('m') != -1:\n",
    "        index.append(i)"
   ]
  },
  {
   "cell_type": "code",
   "execution_count": 167,
   "metadata": {},
   "outputs": [],
   "source": [
    "df_load.drop(df_load.index[index],inplace=True)"
   ]
  },
  {
   "cell_type": "code",
   "execution_count": 172,
   "metadata": {},
   "outputs": [],
   "source": [
    "df_load = df_load.reset_index(drop=True)"
   ]
  },
  {
   "cell_type": "code",
   "execution_count": 176,
   "metadata": {},
   "outputs": [],
   "source": [
    "n = len(df_load)\n",
    "n_class = len(df_load['label'][0])\n",
    "width = 299 # 定义图片大小\n",
    "\n",
    "X = np.zeros((n, width, width, 3), dtype=np.uint8)\n",
    "y = np.zeros((n, n_class), dtype=np.uint8)"
   ]
  },
  {
   "cell_type": "code",
   "execution_count": 177,
   "metadata": {},
   "outputs": [
    {
     "name": "stderr",
     "output_type": "stream",
     "text": [
      "100%|██████████| 14597/14597 [00:00<00:00, 50779.94it/s]\n"
     ]
    }
   ],
   "source": [
    "for i in tqdm(range(n)):\n",
    "    tmp_label = df_load['label'][i]\n",
    "#     if len(tmp_label) > n_class:\n",
    "#         print(df_load['image_id'][i])\n",
    "#     X[i] = cv2.resize(cv2.imread('../../raw/train/{0}'.format(df_load['image_id'][i])), (width, width))\n",
    "    y[i][tmp_label.find('y')] = 1"
   ]
  }
 ],
 "metadata": {
  "kernelspec": {
   "display_name": "Python 3",
   "language": "python",
   "name": "python3"
  },
  "language_info": {
   "codemirror_mode": {
    "name": "ipython",
    "version": 3
   },
   "file_extension": ".py",
   "mimetype": "text/x-python",
   "name": "python",
   "nbconvert_exporter": "python",
   "pygments_lexer": "ipython3",
   "version": "3.6.3"
  },
  "toc": {
   "nav_menu": {},
   "number_sections": true,
   "sideBar": true,
   "skip_h1_title": false,
   "toc_cell": false,
   "toc_position": {},
   "toc_section_display": "block",
   "toc_window_display": false
  }
 },
 "nbformat": 4,
 "nbformat_minor": 2
}
