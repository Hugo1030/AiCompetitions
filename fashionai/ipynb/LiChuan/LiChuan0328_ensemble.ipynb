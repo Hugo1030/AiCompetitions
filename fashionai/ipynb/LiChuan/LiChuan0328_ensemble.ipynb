{
 "cells": [
  {
   "cell_type": "markdown",
   "metadata": {},
   "source": [
    "### 18.3.28\n",
    "* 取出同一个标签下的两个结果\n",
    "* 调用 avg_result 对两个结果进行融合\n",
    "\n",
    "### 18.3.21\n",
    "* 分别读取训练好的 8 个数据集\n",
    "    * => df_collar\n",
    "    * => df_neckline\n",
    "    * => df_skirt\n",
    "    * => df_sleeve\n",
    "* 将他们按照结果的顺序拼起来 => df_temp\n",
    "* 将拼接好的零时表合并到需要提交的表格中 => df_submit\n",
    "* 保存结果并提交 => submit_0321a.csv\n",
    "\n",
    "### 18.4.19\n",
    "* 改变 B 榜数据集, 得到全部结果, 并将新结果和并"
   ]
  },
  {
   "cell_type": "code",
   "execution_count": 137,
   "metadata": {
    "collapsed": true
   },
   "outputs": [],
   "source": [
    "import pandas as pd\n",
    "import numpy as np"
   ]
  },
  {
   "cell_type": "code",
   "execution_count": 138,
   "metadata": {
    "collapsed": true
   },
   "outputs": [],
   "source": [
    "df_test = pd.read_csv('../../raw/final-rank/Tests/answer_mock.csv', header=None)\n",
    "df_question = pd.read_csv('../../raw/final-rank/Tests/question.csv', header=None)"
   ]
  },
  {
   "cell_type": "code",
   "execution_count": 139,
   "metadata": {
    "collapsed": true
   },
   "outputs": [],
   "source": [
    "classes = ['collar_design_labels', 'neckline_design_labels', 'skirt_length_labels',\n",
    "          'sleeve_length_labels', 'neck_design_labels', 'coat_length_labels', 'lapel_design_labels',\n",
    "          'pant_length_labels']"
   ]
  },
  {
   "cell_type": "code",
   "execution_count": 140,
   "metadata": {
    "collapsed": true
   },
   "outputs": [],
   "source": [
    "def avg_result(label1, label2):\n",
    "    lst1 = []\n",
    "    for i in label1['result'].values:\n",
    "        lst = i.split(';')\n",
    "        lst1.append(lst)\n",
    "        \n",
    "    lst2 = []\n",
    "    for i in label2['result'].values:\n",
    "        lst = i.split(';')\n",
    "        lst2.append(lst)\n",
    "        \n",
    "    m = len(lst1)\n",
    "    n = len(lst1[0])\n",
    "    \n",
    "    result = []\n",
    "\n",
    "    for i in range(m):\n",
    "        tmp_result = ''\n",
    "        for j in range(n):\n",
    "            avg = (float(lst1[i][j]) + float(lst2[i][j]))/2\n",
    "            tmp_result += '{:.4f};'.format(avg)\n",
    "        result.append(tmp_result[:-1])\n",
    "    return result"
   ]
  },
  {
   "cell_type": "markdown",
   "metadata": {},
   "source": [
    "## df_collar 结果进行合并"
   ]
  },
  {
   "cell_type": "code",
   "execution_count": 141,
   "metadata": {
    "collapsed": true
   },
   "outputs": [],
   "source": [
    "df_collar1 = pd.read_csv('../../raw/result/collar_0602a_InceptionResNetV2.csv', header=None) # V2 切分训练集\n",
    "df_collar2 = pd.read_csv('../../raw/result/collar_0602a_Xception.csv', header=None) # V2 全训练集"
   ]
  },
  {
   "cell_type": "code",
   "execution_count": 142,
   "metadata": {
    "collapsed": true
   },
   "outputs": [],
   "source": [
    "# 给分类别增添表头\n",
    "df_collar1.columns = ['image_id', 'class', 'result']\n",
    "df_collar2.columns = ['image_id', 'class', 'result']"
   ]
  },
  {
   "cell_type": "code",
   "execution_count": 143,
   "metadata": {
    "collapsed": true
   },
   "outputs": [],
   "source": [
    "collar_avg = avg_result(df_collar1, df_collar2)"
   ]
  },
  {
   "cell_type": "code",
   "execution_count": 144,
   "metadata": {
    "collapsed": true
   },
   "outputs": [],
   "source": [
    "df_collar1['result'] = collar_avg\n",
    "\n",
    "df_collar1.to_csv('../../raw/result/collar_0602a.csv', header=None, index=False)"
   ]
  },
  {
   "cell_type": "markdown",
   "metadata": {},
   "source": [
    "## df_neckline 进行合并"
   ]
  },
  {
   "cell_type": "code",
   "execution_count": 145,
   "metadata": {
    "collapsed": true
   },
   "outputs": [],
   "source": [
    "df_neckline1 = pd.read_csv('../../raw/result/neckline_0602a_InceptionResNetV2.csv', header=None) # V2 切分训练集\n",
    "df_neckline2 = pd.read_csv('../../raw/result/neckline_0602a_Xception.csv', header=None) # V2 全训练集"
   ]
  },
  {
   "cell_type": "code",
   "execution_count": 146,
   "metadata": {
    "collapsed": true
   },
   "outputs": [],
   "source": [
    "# 给分类别增添表头\n",
    "df_neckline1.columns = ['image_id', 'class', 'result']\n",
    "df_neckline2.columns = ['image_id', 'class', 'result']"
   ]
  },
  {
   "cell_type": "code",
   "execution_count": 147,
   "metadata": {
    "collapsed": true
   },
   "outputs": [],
   "source": [
    "neckline_avg = avg_result(df_neckline1, df_neckline2)\n",
    "\n",
    "df_neckline1['result'] = neckline_avg\n",
    "\n",
    "df_neckline1.to_csv('../../raw/result/neckline_0602a.csv', header=None, index=False)"
   ]
  },
  {
   "cell_type": "markdown",
   "metadata": {},
   "source": [
    "## 对 skirt 进行合并"
   ]
  },
  {
   "cell_type": "code",
   "execution_count": 148,
   "metadata": {},
   "outputs": [],
   "source": [
    "df_skirt1 = pd.read_csv('../../raw/result/skirt_0602a_InceptionResNetV2.csv', header=None) # v2 全数据\n",
    "df_skirt2 = pd.read_csv('../../raw/result/skirt_0602a_Xception.csv', header=None) # xception 全数据"
   ]
  },
  {
   "cell_type": "code",
   "execution_count": 149,
   "metadata": {
    "collapsed": true
   },
   "outputs": [],
   "source": [
    "# 给分类别增添表头\n",
    "df_skirt1.columns = ['image_id', 'class', 'result']\n",
    "df_skirt2.columns = ['image_id', 'class', 'result']"
   ]
  },
  {
   "cell_type": "code",
   "execution_count": 150,
   "metadata": {
    "collapsed": true
   },
   "outputs": [],
   "source": [
    "skirt_avg = avg_result(df_skirt1, df_skirt2)\n",
    "\n",
    "df_skirt1['result'] = skirt_avg\n",
    "\n",
    "df_skirt1.to_csv('../../raw/result/skirt_0602a.csv', header=None, index=False)"
   ]
  },
  {
   "cell_type": "markdown",
   "metadata": {},
   "source": [
    "## 对 sleeve 进行合并"
   ]
  },
  {
   "cell_type": "code",
   "execution_count": 151,
   "metadata": {
    "collapsed": true
   },
   "outputs": [],
   "source": [
    "df_sleeve1 = pd.read_csv('../../raw/result/sleeve_0602a_InceptionResNetV2.csv', header=None) # V2 切分训练集\n",
    "df_sleeve2 = pd.read_csv('../../raw/result/sleeve_0602a_Xception.csv', header=None) # V2 全训练集"
   ]
  },
  {
   "cell_type": "code",
   "execution_count": 152,
   "metadata": {
    "collapsed": true
   },
   "outputs": [],
   "source": [
    "# 给分类别增添表头\n",
    "df_sleeve1.columns = ['image_id', 'class', 'result']\n",
    "df_sleeve2.columns = ['image_id', 'class', 'result']"
   ]
  },
  {
   "cell_type": "code",
   "execution_count": 153,
   "metadata": {
    "collapsed": true
   },
   "outputs": [],
   "source": [
    "sleeve_avg = avg_result(df_sleeve1, df_sleeve2)\n",
    "\n",
    "df_sleeve1['result'] = sleeve_avg\n",
    "\n",
    "df_sleeve1.to_csv('../../raw/result/sleeve_0602a.csv', header=None, index=False)"
   ]
  },
  {
   "cell_type": "code",
   "execution_count": null,
   "metadata": {
    "collapsed": true
   },
   "outputs": [],
   "source": []
  },
  {
   "cell_type": "code",
   "execution_count": null,
   "metadata": {
    "collapsed": true
   },
   "outputs": [],
   "source": []
  }
 ],
 "metadata": {
  "kernelspec": {
   "display_name": "Python 3",
   "language": "python",
   "name": "python3"
  },
  "language_info": {
   "codemirror_mode": {
    "name": "ipython",
    "version": 3
   },
   "file_extension": ".py",
   "mimetype": "text/x-python",
   "name": "python",
   "nbconvert_exporter": "python",
   "pygments_lexer": "ipython3",
   "version": "3.6.3"
  },
  "toc": {
   "nav_menu": {},
   "number_sections": true,
   "sideBar": true,
   "skip_h1_title": false,
   "toc_cell": false,
   "toc_position": {},
   "toc_section_display": "block",
   "toc_window_display": false
  }
 },
 "nbformat": 4,
 "nbformat_minor": 2
}
