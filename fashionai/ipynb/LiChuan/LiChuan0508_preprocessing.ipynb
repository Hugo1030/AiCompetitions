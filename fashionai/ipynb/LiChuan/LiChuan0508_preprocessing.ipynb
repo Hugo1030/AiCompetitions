{
 "cells": [
  {
   "cell_type": "markdown",
   "metadata": {},
   "source": [
    "- 思路\n",
    "    - 学习 cv2 预处理方式\n",
    "    - 对单张图片预处理\n",
    "    - 文件夹内存所有图片, 批量预处理\n",
    "    - 显示处理进度"
   ]
  },
  {
   "cell_type": "markdown",
   "metadata": {},
   "source": [
    "- 原则是在尽可能不丢失信息的情况下, 最大不同\n",
    "- 预处理方案\n",
    "    - 原始图片缩放至 299×299\n",
    "    - 左右旋转 20°\n",
    "    - 向下平移 0.2\n",
    "    - 水平翻转\n",
    "    - 在水平翻转基础上左右旋转 20°\n",
    "    - 向下平移 0.2"
   ]
  },
  {
   "cell_type": "markdown",
   "metadata": {},
   "source": [
    "> 18.5.11\n",
    "* 添加高斯噪声"
   ]
  },
  {
   "cell_type": "markdown",
   "metadata": {},
   "source": [
    "# 单体变换"
   ]
  },
  {
   "cell_type": "markdown",
   "metadata": {},
   "source": [
    "## 放射变换"
   ]
  },
  {
   "cell_type": "code",
   "execution_count": 1,
   "metadata": {
    "collapsed": true
   },
   "outputs": [],
   "source": [
    "import cv2\n",
    "import numpy as np"
   ]
  },
  {
   "cell_type": "code",
   "execution_count": 55,
   "metadata": {
    "collapsed": true
   },
   "outputs": [],
   "source": [
    "img = cv2.imread('image.jpg')"
   ]
  },
  {
   "cell_type": "code",
   "execution_count": 56,
   "metadata": {},
   "outputs": [
    {
     "data": {
      "text/plain": [
       "True"
      ]
     },
     "execution_count": 56,
     "metadata": {},
     "output_type": "execute_result"
    }
   ],
   "source": [
    "# 沿着横纵轴放大2倍，然后平移(-20,-20)，最后沿原图大小截取，等效于裁剪并放大\n",
    "M_crop_trans = np.array([\n",
    "    [1, 0, -20],\n",
    "    [0, 1, -20]\n",
    "], dtype=np.float32)\n",
    "\n",
    "img_crop_trans = cv2.warpAffine(img, M_crop_trans, (512, 512))\n",
    "cv2.imwrite('img_crop_trans.jpg', img_crop_trans)"
   ]
  },
  {
   "cell_type": "code",
   "execution_count": 57,
   "metadata": {},
   "outputs": [
    {
     "data": {
      "text/plain": [
       "True"
      ]
     },
     "execution_count": 57,
     "metadata": {},
     "output_type": "execute_result"
    }
   ],
   "source": [
    "# x轴的剪切shear变换，角度45°\n",
    "theta = 45 * np.pi / 180\n",
    "M_shear = np.array([\n",
    "    [1, np.tan(theta), 0],\n",
    "    [0, 1, 0]\n",
    "], dtype=np.float32)\n",
    "\n",
    "img_sheared = cv2.warpAffine(img, M_shear, (512, 512))\n",
    "cv2.imwrite('img_sheared.jpg', img_sheared)"
   ]
  },
  {
   "cell_type": "code",
   "execution_count": 58,
   "metadata": {},
   "outputs": [
    {
     "data": {
      "text/plain": [
       "True"
      ]
     },
     "execution_count": 58,
     "metadata": {},
     "output_type": "execute_result"
    }
   ],
   "source": [
    "# 顺时针旋转，角度45°\n",
    "theta = 45 * np.pi / 180\n",
    "M_rotate = np.array([\n",
    "    [np.cos(theta), -np.sin(theta), 0],\n",
    "    [np.sin(theta), np.cos(theta), 0]\n",
    "], dtype=np.float32)\n",
    "\n",
    "img_rotated = cv2.warpAffine(img, M_rotate, (512, 512))\n",
    "cv2.imwrite('img_rotated.jpg', img_rotated)"
   ]
  },
  {
   "cell_type": "code",
   "execution_count": 59,
   "metadata": {},
   "outputs": [
    {
     "data": {
      "text/plain": [
       "True"
      ]
     },
     "execution_count": 59,
     "metadata": {},
     "output_type": "execute_result"
    }
   ],
   "source": [
    "# 某种变换，具体旋转+缩放+旋转组合可以通过SVD分解理解\n",
    "M = np.array([\n",
    "    [1, 1.5, -400],\n",
    "    [0.5, 2, -100]\n",
    "], dtype=np.float32)\n",
    "\n",
    "img_transformed = cv2.warpAffine(img, M, (512, 512))\n",
    "cv2.imwrite('img_transformed.jpg', img_transformed)"
   ]
  },
  {
   "cell_type": "markdown",
   "metadata": {},
   "source": [
    "## 缩放scale"
   ]
  },
  {
   "cell_type": "code",
   "execution_count": 60,
   "metadata": {},
   "outputs": [
    {
     "data": {
      "text/plain": [
       "True"
      ]
     },
     "execution_count": 60,
     "metadata": {},
     "output_type": "execute_result"
    }
   ],
   "source": [
    "import cv2\n",
    "\n",
    "# 读取一张照片\n",
    "img = cv2.imread('image.jpg')\n",
    "\n",
    "# 缩放成200x200的图像\n",
    "img_512x512 = cv2.resize(img, (512, 512), interpolation=cv2.INTER_CUBIC)\n",
    "img_299x299 = cv2.resize(img, (299, 299), interpolation=cv2.INTER_CUBIC)\n",
    "\n",
    "cv2.imwrite('img_512x512.jpg', img_512x512)\n",
    "cv2.imwrite('img_299x299.jpg', img_299x299)"
   ]
  },
  {
   "cell_type": "markdown",
   "metadata": {},
   "source": [
    "## 旋转rotate"
   ]
  },
  {
   "cell_type": "code",
   "execution_count": 61,
   "metadata": {},
   "outputs": [
    {
     "data": {
      "text/plain": [
       "True"
      ]
     },
     "execution_count": 61,
     "metadata": {},
     "output_type": "execute_result"
    }
   ],
   "source": [
    "img = cv2.imread('image.jpg')\n",
    "rows,cols,channel = img.shape\n",
    "#90度旋转\n",
    "M = cv2.getRotationMatrix2D((cols/2,rows/2),0,1.05)\n",
    "dst = cv2.warpAffine(img,M,(cols,rows))\n",
    "\n",
    "cv2.imwrite('image_rotate_10.jpg', dst)"
   ]
  },
  {
   "cell_type": "markdown",
   "metadata": {},
   "source": [
    "## 裁剪crop"
   ]
  },
  {
   "cell_type": "code",
   "execution_count": 62,
   "metadata": {},
   "outputs": [
    {
     "data": {
      "text/plain": [
       "True"
      ]
     },
     "execution_count": 62,
     "metadata": {},
     "output_type": "execute_result"
    }
   ],
   "source": [
    "img = cv2.imread('image.jpg')\n",
    "\n",
    "#裁剪\n",
    "crop_img = img[0:-10, 0:-10]\n",
    "cv2.imwrite('crop_img.jpg', crop_img)"
   ]
  },
  {
   "cell_type": "markdown",
   "metadata": {},
   "source": [
    "## 填充pad"
   ]
  },
  {
   "cell_type": "code",
   "execution_count": 63,
   "metadata": {},
   "outputs": [
    {
     "data": {
      "text/plain": [
       "True"
      ]
     },
     "execution_count": 63,
     "metadata": {},
     "output_type": "execute_result"
    }
   ],
   "source": [
    "# 在上张图片的基础上，上下各填充50像素，填充值为128，生成新的的图像\n",
    "pad_img = cv2.copyMakeBorder(img, 50, 50, 0, 0, cv2.BORDER_REPLICATE)\n",
    "cv2.imwrite('pad_img.jpg', pad_img)"
   ]
  },
  {
   "cell_type": "code",
   "execution_count": 3,
   "metadata": {
    "collapsed": true
   },
   "outputs": [],
   "source": [
    "## 图像填充\n",
    "img = cv2.imread('image.jpg')\n",
    "row, column, channels = img.shape\n",
    "max_value = max(row, column)\n",
    "pad_img= cv2.copyMakeBorder(img,(max_value-row)//2,(max_value-row)//2,(max_value-column)//2,(max_value-column)//2,cv2.BORDER_CONSTANT)\n",
    "\n",
    "img_299x299 = cv2.resize(pad_img, (299, 299), interpolation=cv2.INTER_AREA)\n",
    "cv2.imwrite('img_299x299.jpg', img_299x299)"
   ]
  },
  {
   "cell_type": "markdown",
   "metadata": {},
   "source": [
    "## 平移translate"
   ]
  },
  {
   "cell_type": "code",
   "execution_count": 66,
   "metadata": {},
   "outputs": [
    {
     "data": {
      "text/plain": [
       "True"
      ]
     },
     "execution_count": 66,
     "metadata": {},
     "output_type": "execute_result"
    }
   ],
   "source": [
    "img = cv2.imread('image.jpg')\n",
    "rows,cols,channel = img.shape\n",
    "# 平移矩阵M：[[1,0,x],[0,1,y]]\n",
    "M = np.float32([[1,0,0],[0,1,int(cols*0.2)]])\n",
    "dst = cv2.warpAffine(img,M,(cols,rows))\n",
    "cv2.imwrite('translate_img.jpg', dst)"
   ]
  },
  {
   "cell_type": "markdown",
   "metadata": {},
   "source": [
    "## 翻转flip"
   ]
  },
  {
   "cell_type": "code",
   "execution_count": 67,
   "metadata": {},
   "outputs": [
    {
     "data": {
      "text/plain": [
       "True"
      ]
     },
     "execution_count": 67,
     "metadata": {},
     "output_type": "execute_result"
    }
   ],
   "source": [
    "# 水平翻转\n",
    "flip_horiz_img = cv2.flip(img, 1)\n",
    "# 垂直翻转\n",
    "flip_verti_img = cv2.flip(img, 0)\n",
    "# 水平垂直翻转\n",
    "flip_horandver_img = cv2.flip(img, -1)\n",
    "cv2.imwrite('flip_horiz_img.jpg', flip_horiz_img)"
   ]
  },
  {
   "cell_type": "markdown",
   "metadata": {},
   "source": [
    "## 高斯噪声"
   ]
  },
  {
   "cell_type": "code",
   "execution_count": 68,
   "metadata": {
    "collapsed": true
   },
   "outputs": [],
   "source": [
    "import cv2\n",
    "import numpy as np\n",
    "peppers = cv2.imread(\"image.jpg\")\n",
    "row, column, channels = peppers.shape"
   ]
  },
  {
   "cell_type": "code",
   "execution_count": 69,
   "metadata": {
    "collapsed": true
   },
   "outputs": [],
   "source": [
    "peppers.astype(\"float\")\n",
    "Gauss_noise = np.random.normal(0, 50, (row, column, channels))\n",
    "Gauss = peppers + Gauss_noise\n",
    "Gauss = np.where(Gauss < 0, 0, np.where(Gauss > 255, 255, Gauss))"
   ]
  },
  {
   "cell_type": "code",
   "execution_count": 70,
   "metadata": {},
   "outputs": [
    {
     "data": {
      "text/plain": [
       "True"
      ]
     },
     "execution_count": 70,
     "metadata": {},
     "output_type": "execute_result"
    }
   ],
   "source": [
    "cv2.imwrite('Gauss.jpg', Gauss.astype(\"uint8\"))"
   ]
  },
  {
   "cell_type": "markdown",
   "metadata": {},
   "source": [
    "## 色彩抖动"
   ]
  },
  {
   "cell_type": "code",
   "execution_count": 6,
   "metadata": {
    "collapsed": true
   },
   "outputs": [],
   "source": [
    "from PIL import Image, ImageEnhance, ImageOps, ImageFile"
   ]
  },
  {
   "cell_type": "code",
   "execution_count": null,
   "metadata": {
    "collapsed": true
   },
   "outputs": [],
   "source": [
    "import cv2\n",
    "import numpy as np\n",
    "iamge = 'image.jpg'\n",
    "Image.open(image, mode=\"r\")"
   ]
  },
  {
   "cell_type": "code",
   "execution_count": 10,
   "metadata": {
    "collapsed": true
   },
   "outputs": [],
   "source": [
    "image = 'image.jpg'\n",
    "img = Image.open(image, mode=\"r\")"
   ]
  },
  {
   "cell_type": "code",
   "execution_count": 15,
   "metadata": {
    "collapsed": true
   },
   "outputs": [],
   "source": [
    "def randomColor(image):\n",
    "    \"\"\"\n",
    "    对图像进行颜色抖动\n",
    "    :param image: PIL的图像image\n",
    "    :return: 有颜色色差的图像image\n",
    "    \"\"\"\n",
    "    random_factor = np.random.randint(0, 31) / 10.  # 随机因子\n",
    "    color_image = ImageEnhance.Color(image).enhance(random_factor)  # 调整图像的饱和度\n",
    "    random_factor = np.random.randint(10, 21) / 10.  # 随机因子\n",
    "    brightness_image = ImageEnhance.Brightness(color_image).enhance(random_factor)  # 调整图像的亮度\n",
    "    random_factor = np.random.randint(10, 21) / 10.  # 随机因1子\n",
    "    contrast_image = ImageEnhance.Contrast(brightness_image).enhance(random_factor)  # 调整图像对比度\n",
    "    random_factor = np.random.randint(0, 31) / 10.  # 随机因子\n",
    "    return ImageEnhance.Sharpness(contrast_image).enhance(random_factor)  # 调整图像锐度"
   ]
  },
  {
   "cell_type": "code",
   "execution_count": 16,
   "metadata": {
    "collapsed": true
   },
   "outputs": [],
   "source": [
    "img_collar = randomColor(img)"
   ]
  },
  {
   "cell_type": "code",
   "execution_count": 18,
   "metadata": {
    "collapsed": true
   },
   "outputs": [],
   "source": [
    "newname = 'img_collar.jpg'\n",
    "img_collar.save(newname)"
   ]
  },
  {
   "cell_type": "markdown",
   "metadata": {},
   "source": [
    "## 直方图"
   ]
  },
  {
   "cell_type": "code",
   "execution_count": 2,
   "metadata": {
    "collapsed": true
   },
   "outputs": [],
   "source": [
    "import cv2\n",
    "import numpy as np\n",
    "from skimage import data, img_as_float\n",
    "from skimage import exposure"
   ]
  },
  {
   "cell_type": "code",
   "execution_count": 8,
   "metadata": {
    "collapsed": true
   },
   "outputs": [],
   "source": [
    "img = cv2.imread(\"image.jpg\")"
   ]
  },
  {
   "cell_type": "code",
   "execution_count": 9,
   "metadata": {},
   "outputs": [
    {
     "name": "stderr",
     "output_type": "stream",
     "text": [
      "/Library/Frameworks/Python.framework/Versions/3.6/lib/python3.6/site-packages/skimage/exposure/exposure.py:63: UserWarning: This might be a color image. The histogram will be computed on the flattened image. You can instead apply this function to each color channel.\n",
      "  warn(\"This might be a color image. The histogram will be \"\n"
     ]
    }
   ],
   "source": [
    "out = exposure.equalize_hist(img)*255"
   ]
  },
  {
   "cell_type": "code",
   "execution_count": 10,
   "metadata": {},
   "outputs": [
    {
     "data": {
      "text/plain": [
       "True"
      ]
     },
     "execution_count": 10,
     "metadata": {},
     "output_type": "execute_result"
    }
   ],
   "source": [
    "cv2.imwrite('img_eqh.jpg', out)"
   ]
  },
  {
   "cell_type": "markdown",
   "metadata": {},
   "source": [
    "## 对比拉伸"
   ]
  },
  {
   "cell_type": "code",
   "execution_count": 11,
   "metadata": {
    "collapsed": true
   },
   "outputs": [],
   "source": [
    "p2, p98 = np.percentile(img, (2, 98))\n",
    "out = exposure.rescale_intensity(img, in_range=(p2, p98))"
   ]
  },
  {
   "cell_type": "code",
   "execution_count": 12,
   "metadata": {},
   "outputs": [
    {
     "data": {
      "text/plain": [
       "True"
      ]
     },
     "execution_count": 12,
     "metadata": {},
     "output_type": "execute_result"
    }
   ],
   "source": [
    "cv2.imwrite('img_cs.jpg', out)"
   ]
  },
  {
   "cell_type": "code",
   "execution_count": null,
   "metadata": {
    "collapsed": true
   },
   "outputs": [],
   "source": []
  },
  {
   "cell_type": "markdown",
   "metadata": {},
   "source": [
    "# 单张图片预处理"
   ]
  },
  {
   "cell_type": "code",
   "execution_count": 71,
   "metadata": {},
   "outputs": [
    {
     "data": {
      "text/plain": [
       "True"
      ]
     },
     "execution_count": 71,
     "metadata": {},
     "output_type": "execute_result"
    }
   ],
   "source": [
    "# 左右旋转 20°\n",
    "img = cv2.imread('image.jpg')\n",
    "\n",
    "img = cv2.imread(currentPath)\n",
    "rows,cols, channels = img.shape\n",
    "max_value = max(rows, cols)\n",
    "pad_img = cv2.copyMakeBorder(img,(max_value-rows)//2,(max_value-rows)//2,(max_value-cols)//2,(max_value-cols)//2,cv2.BORDER_CONSTANT)\n",
    "dst0 = cv2.resize(pad_img, (299, 299), interpolation=cv2.INTER_AREA)\n",
    "\n",
    "M1 = cv2.getRotationMatrix2D((cols/2,rows/2),20,1)\n",
    "M2 = cv2.getRotationMatrix2D((cols/2,rows/2),-20,1)\n",
    "dst1 = cv2.warpAffine(img_resize,M1,(cols,rows))\n",
    "dst2 = cv2.warpAffine(img_resize,M2,(cols,rows))\n",
    "\n",
    "cv2.imwrite('img_resize.jpg', img_resize)\n",
    "cv2.imwrite('./preprocessing/image_rotate_20.jpg', dst1)\n",
    "cv2.imwrite('./preprocessing/image_rotate_-20.jpg', dst2)"
   ]
  },
  {
   "cell_type": "code",
   "execution_count": 72,
   "metadata": {},
   "outputs": [
    {
     "data": {
      "text/plain": [
       "True"
      ]
     },
     "execution_count": 72,
     "metadata": {},
     "output_type": "execute_result"
    }
   ],
   "source": [
    "# 向下平移 0.2\n",
    "M3 = np.float32([[1,0,0],[0,1,int(cols*0.2)]])\n",
    "dst3 = cv2.warpAffine(img_resize,M3,(cols,rows))\n",
    "cv2.imwrite('./preprocessing/translate_img.jpg', dst3)"
   ]
  },
  {
   "cell_type": "code",
   "execution_count": 80,
   "metadata": {},
   "outputs": [
    {
     "data": {
      "text/plain": [
       "True"
      ]
     },
     "execution_count": 80,
     "metadata": {},
     "output_type": "execute_result"
    }
   ],
   "source": [
    "# 水平翻转\n",
    "flip_horiz_img = cv2.flip(img_resize, 1)\n",
    "cv2.imwrite('./preprocessing/flip_horiz_img.jpg', flip_horiz_img)"
   ]
  },
  {
   "cell_type": "code",
   "execution_count": 81,
   "metadata": {},
   "outputs": [
    {
     "data": {
      "text/plain": [
       "True"
      ]
     },
     "execution_count": 81,
     "metadata": {},
     "output_type": "execute_result"
    }
   ],
   "source": [
    "# 对翻转后图片, 左右旋转 20°\n",
    "M4 = cv2.getRotationMatrix2D((cols/2,rows/2),20,1)\n",
    "M5 = cv2.getRotationMatrix2D((cols/2,rows/2),-20,1)\n",
    "dst4 = cv2.warpAffine(flip_horiz_img,M4,(cols,rows))\n",
    "dst5 = cv2.warpAffine(flip_horiz_img,M5,(cols,rows))\n",
    "\n",
    "cv2.imwrite('./preprocessing/image_flip_rotate_20.jpg', dst4)\n",
    "cv2.imwrite('./preprocessing/image_flip_rotate_-20.jpg', dst5)"
   ]
  },
  {
   "cell_type": "code",
   "execution_count": 82,
   "metadata": {},
   "outputs": [
    {
     "data": {
      "text/plain": [
       "True"
      ]
     },
     "execution_count": 82,
     "metadata": {},
     "output_type": "execute_result"
    }
   ],
   "source": [
    "# 向下平移 0.2\n",
    "M6 = np.float32([[1,0,0],[0,1,int(cols*0.2)]])\n",
    "dst6 = cv2.warpAffine(flip_horiz_img,M6,(cols,rows))\n",
    "cv2.imwrite('./preprocessing/translate_flip_img.jpg', dst6)"
   ]
  },
  {
   "cell_type": "markdown",
   "metadata": {},
   "source": [
    "# 批量预处理"
   ]
  },
  {
   "cell_type": "code",
   "execution_count": 4,
   "metadata": {
    "collapsed": true
   },
   "outputs": [],
   "source": [
    "import os\n",
    "import os.path"
   ]
  },
  {
   "cell_type": "code",
   "execution_count": 11,
   "metadata": {},
   "outputs": [
    {
     "name": "stdout",
     "output_type": "stream",
     "text": [
      "2 images have preprocessed.\n",
      "4 images have preprocessed.\n",
      "6 images have preprocessed.\n",
      "8 images have preprocessed.\n",
      "10 images have preprocessed.\n"
     ]
    }
   ],
   "source": [
    "rootdir = './train/collar_design_labels'  # 指明被遍历的文件夹\n",
    "m = 0\n",
    "outdir = '/Users/hugo/Projects/bitbucket/fashionai/ipynb/LiChuan/preprocessing'\n",
    "\n",
    "for parent, dirnames, filenames in os.walk(rootdir):\n",
    "    for filename in filenames:\n",
    "        currentPath = os.path.join(parent, filename)\n",
    "\n",
    "        # 先填充, 再缩放\n",
    "        img = cv2.imread(currentPath)\n",
    "        rows,cols,channels = img.shape\n",
    "        max_value = max(rows, cols)\n",
    "        pad_img = cv2.copyMakeBorder(img,(max_value-rows)//2,(max_value-rows)//2,(max_value-cols)//2,(max_value-cols)//2,cv2.BORDER_CONSTANT)\n",
    "        dst0 = cv2.resize(pad_img, (299, 299), interpolation=cv2.INTER_AREA)\n",
    "\n",
    "        # 顺时针旋转 +-20°\n",
    "        M1 = cv2.getRotationMatrix2D((299/2,299/2),20,1) \n",
    "        M2 = cv2.getRotationMatrix2D((299/2,299/2),-20,1) \n",
    "        dst4 = cv2.warpAffine(dst0,M1,(299,299))\n",
    "        dst5 = cv2.warpAffine(dst0,M2,(299,299))\n",
    "        \n",
    "#         # 向下平移 0.2\n",
    "#         M3 = np.float32([[1,0,0],[0,1,int(cols*0.2)]])\n",
    "#         dst3 = cv2.warpAffine(dst0,M3,(cols,rows))\n",
    "        \n",
    "        # 水平翻转\n",
    "        dst1 = cv2.flip(dst0, 1)\n",
    "        \n",
    "#         # 高斯噪声\n",
    "#         dst0.astype(\"float\")\n",
    "#         Gauss_noise = np.random.normal(0, 20, (rows, cols, channels))\n",
    "#         dst2 = dst0 + Gauss_noise\n",
    "#         dst2 = np.where(dst2 < 0, 0, np.where(dst2 > 255, 255, dst2))\n",
    "        \n",
    "#         # 直方图\n",
    "#         dst2 = exposure.equalize_hist(dst1)*255\n",
    "        \n",
    "#         # 对比拉伸\n",
    "#         p2, p98 = np.percentile(dst0, (2, 98))\n",
    "#         dst3 = exposure.rescale_intensity(dst0, in_range=(p2, p98))\n",
    "        \n",
    "        # 对比拉伸\n",
    "        p2, p98 = np.percentile(dst1, (2, 98))\n",
    "        dst6 = exposure.rescale_intensity(dst1, in_range=(p2, p98))\n",
    "        \n",
    "#         cv2.imwrite(outdir + filename + \"-0.jpg\", dst0)\n",
    "#         cv2.imwrite(outdir + filename + \"-1.jpg\", dst1)\n",
    "#         cv2.imwrite(outdir + filename + \"-2.jpg\", dst2)\n",
    "#         cv2.imwrite(outdir + filename + \"-3.jpg\", dst3)\n",
    "        cv2.imwrite(outdir + filename + \"-4.jpg\", dst0)\n",
    "        cv2.imwrite(outdir + filename + \"-5.jpg\", dst4)\n",
    "        cv2.imwrite(outdir + filename + \"-6.jpg\", dst5)\n",
    "        cv2.imwrite(outdir + filename + \"-7.jpg\", dst6)\n",
    "        m += 1\n",
    "        if m%2 == 0:\n",
    "            print('{} images have preprocessed.'.format(m))"
   ]
  },
  {
   "cell_type": "code",
   "execution_count": null,
   "metadata": {
    "collapsed": true
   },
   "outputs": [],
   "source": []
  },
  {
   "cell_type": "markdown",
   "metadata": {
    "collapsed": true
   },
   "source": [
    "## np.array 的合并"
   ]
  },
  {
   "cell_type": "code",
   "execution_count": 21,
   "metadata": {
    "collapsed": true
   },
   "outputs": [],
   "source": [
    "X_train = np.zeros((8, 299, 299), dtype=np.uint8)\n",
    "y_train = np.zeros((8, 9), dtype=np.uint8)"
   ]
  },
  {
   "cell_type": "code",
   "execution_count": 22,
   "metadata": {
    "collapsed": true
   },
   "outputs": [],
   "source": [
    "X_valid = np.zeros((2, 299, 299), dtype=np.uint8)\n",
    "y_valid = np.zeros((2, 9), dtype=np.uint8)"
   ]
  },
  {
   "cell_type": "code",
   "execution_count": 24,
   "metadata": {},
   "outputs": [
    {
     "data": {
      "text/plain": [
       "((8, 299, 299), (8, 9), (2, 299, 299), (2, 9))"
      ]
     },
     "execution_count": 24,
     "metadata": {},
     "output_type": "execute_result"
    }
   ],
   "source": [
    "X_train.shape, y_train.shape, X_valid.shape, y_valid.shape"
   ]
  },
  {
   "cell_type": "code",
   "execution_count": 29,
   "metadata": {
    "collapsed": true
   },
   "outputs": [],
   "source": [
    "X_comb = np.concatenate((X_train, X_valid), axis=0)\n",
    "y_comb = np.concatenate((y_train, y_valid), axis=0)"
   ]
  },
  {
   "cell_type": "code",
   "execution_count": 28,
   "metadata": {},
   "outputs": [
    {
     "data": {
      "text/plain": [
       "(10, 299, 299)"
      ]
     },
     "execution_count": 28,
     "metadata": {},
     "output_type": "execute_result"
    }
   ],
   "source": [
    "X_comb.shape, y_comb.shape"
   ]
  },
  {
   "cell_type": "code",
   "execution_count": null,
   "metadata": {
    "collapsed": true
   },
   "outputs": [],
   "source": []
  }
 ],
 "metadata": {
  "kernelspec": {
   "display_name": "Python 3",
   "language": "python",
   "name": "python3"
  },
  "language_info": {
   "codemirror_mode": {
    "name": "ipython",
    "version": 3
   },
   "file_extension": ".py",
   "mimetype": "text/x-python",
   "name": "python",
   "nbconvert_exporter": "python",
   "pygments_lexer": "ipython3",
   "version": "3.6.3"
  },
  "toc": {
   "nav_menu": {},
   "number_sections": true,
   "sideBar": true,
   "skip_h1_title": false,
   "toc_cell": false,
   "toc_position": {},
   "toc_section_display": "block",
   "toc_window_display": false
  }
 },
 "nbformat": 4,
 "nbformat_minor": 2
}
