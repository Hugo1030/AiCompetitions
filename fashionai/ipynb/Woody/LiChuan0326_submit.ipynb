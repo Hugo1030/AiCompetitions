{
 "cells": [
  {
   "cell_type": "code",
   "execution_count": 1,
   "metadata": {},
   "outputs": [],
   "source": [
    "import pandas as pd\n",
    "import numpy as np"
   ]
  },
  {
   "cell_type": "code",
   "execution_count": 2,
   "metadata": {},
   "outputs": [],
   "source": [
    "df_test = pd.read_csv('../../raw/week-rank/Tests/answer_mock.csv', header=None)\n",
    "df_question = pd.read_csv('../../raw/week-rank/Tests/question.csv', header=None)"
   ]
  },
  {
   "cell_type": "code",
   "execution_count": 3,
   "metadata": {},
   "outputs": [],
   "source": [
    "classes = ['collar_design_labels', 'neckline_design_labels', 'skirt_length_labels',\n",
    "          'sleeve_length_labels', 'neck_design_labels', 'coat_length_labels', 'lapel_design_labels',\n",
    "          'pant_length_labels']"
   ]
  },
  {
   "cell_type": "code",
   "execution_count": 4,
   "metadata": {},
   "outputs": [],
   "source": [
    "df_collar = pd.read_csv('../../raw/result/collar_0511a_InceptionResNetV2.csv', header=None)\n",
    "df_neckline = pd.read_csv('../../raw/result/neckline_0511a_InceptionResNetV2.csv', header=None)\n",
    "df_skirt = pd.read_csv('../../raw/result/skirt_0511a_InceptionResNetV2.csv', header=None)\n",
    "df_sleeve = pd.read_csv('../../raw/result/sleeve_0511a_InceptionResNetV2.csv', header=None)\n",
    "df_neck = pd.read_csv('../../raw/Woody/result/neck_0515_81_Xception.csv', header=None)\n",
    "df_coat = pd.read_csv('../../raw/Woody/result/coat_0515_08672_InceptionResNetV2.csv', header=None)\n",
    "df_lapel = pd.read_csv('../../raw/result/lapel_0503_InceptionResNetV2.csv', header=None)\n",
    "df_pant = pd.read_csv('../../raw/result/pant_0503_InceptionResNetV2.csv', header=None)"
   ]
  },
  {
   "cell_type": "code",
   "execution_count": 5,
   "metadata": {},
   "outputs": [],
   "source": [
    "# 给结果表增添表头\n",
    "df_test.columns = ['image_id', 'class', 'result']\n",
    "df_question.columns = ['image_id', 'class', 'result']"
   ]
  },
  {
   "cell_type": "code",
   "execution_count": 6,
   "metadata": {},
   "outputs": [],
   "source": [
    "# 给分类别增添表头\n",
    "df_collar.columns = ['image_id', 'class', 'result']\n",
    "df_neckline.columns = ['image_id', 'class', 'result']\n",
    "df_skirt.columns = ['image_id', 'class', 'result']\n",
    "df_sleeve.columns = ['image_id', 'class', 'result']\n",
    "df_neck.columns = ['image_id', 'class', 'result']\n",
    "df_coat.columns = ['image_id', 'class', 'result']\n",
    "df_lapel.columns = ['image_id', 'class', 'result']\n",
    "df_pant.columns = ['image_id', 'class', 'result']"
   ]
  },
  {
   "cell_type": "code",
   "execution_count": 7,
   "metadata": {},
   "outputs": [],
   "source": [
    "# 将分类别按顺序拼接起来\n",
    "df_temp = pd.concat([df_collar, df_neckline, df_skirt, df_sleeve, df_neck, df_coat, df_lapel, df_pant])"
   ]
  },
  {
   "cell_type": "code",
   "execution_count": 8,
   "metadata": {},
   "outputs": [],
   "source": [
    "# 将拼接零时表, 按照结果表顺序, 合并\n",
    "df_submit = pd.merge(df_question[['image_id', 'class']], df_temp, on=['image_id', 'class'], how='left')"
   ]
  },
  {
   "cell_type": "code",
   "execution_count": 9,
   "metadata": {},
   "outputs": [
    {
     "data": {
      "text/plain": [
       "image_id    0\n",
       "class       0\n",
       "result      0\n",
       "dtype: int64"
      ]
     },
     "execution_count": 9,
     "metadata": {},
     "output_type": "execute_result"
    }
   ],
   "source": [
    "# 看下 submit 是否有 Null\n",
    "df_submit.isnull().sum()"
   ]
  },
  {
   "cell_type": "code",
   "execution_count": 14,
   "metadata": {},
   "outputs": [],
   "source": [
    "# 将结果输出\n",
    "df_submit.to_csv('../../raw/Woody/result/submit_0515c.csv', header=None, index=False)"
   ]
  },
  {
   "cell_type": "code",
   "execution_count": null,
   "metadata": {
    "collapsed": true
   },
   "outputs": [],
   "source": []
  }
 ],
 "metadata": {
  "hide_input": false,
  "kernelspec": {
   "display_name": "Python 3",
   "language": "python",
   "name": "python3"
  },
  "language_info": {
   "codemirror_mode": {
    "name": "ipython",
    "version": 3
   },
   "file_extension": ".py",
   "mimetype": "text/x-python",
   "name": "python",
   "nbconvert_exporter": "python",
   "pygments_lexer": "ipython3",
   "version": "3.6.4"
  },
  "toc": {
   "base_numbering": 1,
   "nav_menu": {},
   "number_sections": true,
   "sideBar": true,
   "skip_h1_title": false,
   "title_cell": "Table of Contents",
   "title_sidebar": "Contents",
   "toc_cell": false,
   "toc_position": {},
   "toc_section_display": "block",
   "toc_window_display": false
  },
  "varInspector": {
   "cols": {
    "lenName": 16,
    "lenType": 16,
    "lenVar": 40
   },
   "kernels_config": {
    "python": {
     "delete_cmd_postfix": "",
     "delete_cmd_prefix": "del ",
     "library": "var_list.py",
     "varRefreshCmd": "print(var_dic_list())"
    },
    "r": {
     "delete_cmd_postfix": ") ",
     "delete_cmd_prefix": "rm(",
     "library": "var_list.r",
     "varRefreshCmd": "cat(var_dic_list()) "
    }
   },
   "types_to_exclude": [
    "module",
    "function",
    "builtin_function_or_method",
    "instance",
    "_Feature"
   ],
   "window_display": false
  }
 },
 "nbformat": 4,
 "nbformat_minor": 2
}
