{
 "cells": [
  {
   "cell_type": "code",
   "execution_count": 58,
   "metadata": {},
   "outputs": [],
   "source": [
    "import keras\n",
    "from keras.models import Model\n",
    "from keras.preprocessing import image\n",
    "import numpy as np\n",
    "import tensorflow as tf\n",
    "import os\n",
    "import cv2\n",
    "\n",
    "from ssd import SSD300\n",
    "from ssd_utils import BBoxUtility"
   ]
  },
  {
   "cell_type": "code",
   "execution_count": 2,
   "metadata": {},
   "outputs": [],
   "source": [
    "classes = ['upper', 'lower', 'full']\n",
    "NUM_CLASSES = len(classes) + 1\n",
    "\n",
    "input_shape=(300, 300, 3)\n",
    "model = SSD300(input_shape, num_classes=NUM_CLASSES)\n",
    "model.load_weights('models/ssd_2.28_20180530.h5', by_name=True)\n",
    "bbox_util = BBoxUtility(NUM_CLASSES)"
   ]
  },
  {
   "cell_type": "code",
   "execution_count": 80,
   "metadata": {},
   "outputs": [],
   "source": [
    "def crop(crop_type, image, result):\n",
    "    \"\"\"crop the image.\n",
    "\n",
    "    # Arguments\n",
    "    crop_type: upper/lower/full\n",
    "    image: ndarray\n",
    "    result: array: label,conf,xmin,ymin,xmax,ymax\n",
    "\n",
    "    # Returns\n",
    "    image: ndarray, region image\n",
    "    \"\"\"\n",
    "    img = image.copy()\n",
    "    label,conf,xmin,ymin,xmax,ymax = result\n",
    "    \n",
    "    if conf >= 0.6:\n",
    "        xmin = int(round(xmin * img.shape[1]))\n",
    "        ymin = int(round(ymin * img.shape[0]))\n",
    "        xmax = int(round(xmax * img.shape[1]))\n",
    "        ymax = int(round(ymax * img.shape[0]))\n",
    "    \n",
    "        if crop_type == \"upper\" and result[0] == 1.0:\n",
    "            img = img[ymin:ymax,xmin:xmax]\n",
    "        elif crop_type == \"lower\" and result[0] == 2.0:\n",
    "            img = img[ymin:ymax,xmin:xmax]\n",
    "        elif crop_type == \"full\" and result[0] == 3.0:\n",
    "            img = img[ymin:ymax,xmin:xmax]\n",
    "        else:\n",
    "            img = None\n",
    "    else:\n",
    "        img = None\n",
    "    \n",
    "    return img"
   ]
  },
  {
   "cell_type": "code",
   "execution_count": 81,
   "metadata": {},
   "outputs": [
    {
     "name": "stdout",
     "output_type": "stream",
     "text": [
      "1/1 [==============================] - 3s 3s/step\n",
      "1/1 [==============================] - 3s 3s/step\n",
      "2 images have upper part cropped .\n",
      "1/1 [==============================] - 3s 3s/step\n",
      "1/1 [==============================] - 3s 3s/step\n",
      "1/1 [==============================] - 3s 3s/step\n",
      "4 images have upper part cropped .\n",
      "1/1 [==============================] - 3s 3s/step\n",
      "1/1 [==============================] - 3s 3s/step\n",
      "6 images have upper part cropped .\n",
      "1/1 [==============================] - 3s 3s/step\n",
      "1/1 [==============================] - 3s 3s/step\n",
      "1/1 [==============================] - 3s 3s/step\n",
      "8 images have upper part cropped .\n",
      "1/1 [==============================] - 3s 3s/step\n",
      "1/1 [==============================] - 3s 3s/step\n",
      "1/1 [==============================] - 3s 3s/step\n"
     ]
    }
   ],
   "source": [
    "m = 0\n",
    "crop_type = \"upper\" # upper/lower/full 上半身、下半身、全身 三种剪裁类型\n",
    "\n",
    "for (root, dirs, files) in os.walk('img/test'):\n",
    "    if files:\n",
    "        for f in files:\n",
    "            path = os.path.join(root, f)\n",
    "            image = cv2.resize(cv2.imread(path),(300,300))\n",
    "            inputs = np.expand_dims(image, axis=0)\n",
    "            preds = model.predict(inputs, batch_size=1, verbose=1)\n",
    "            result = bbox_util.detection_out(preds)[0][0] # 只考虑最大可能性，不考虑一张图片多次检测的情况\n",
    "            image = crop(crop_type, image, result)\n",
    "            if image is not None:\n",
    "                cv2.imwrite('img/crop/' + \"crop_\" + f, image)\n",
    "                m += 1\n",
    "                if m%2 == 0:\n",
    "                    print('{0} images have {1} part cropped .'.format(m, crop_type))"
   ]
  }
 ],
 "metadata": {
  "anaconda-cloud": {},
  "kernelspec": {
   "display_name": "Python 3",
   "language": "python",
   "name": "python3"
  },
  "language_info": {
   "codemirror_mode": {
    "name": "ipython",
    "version": 3
   },
   "file_extension": ".py",
   "mimetype": "text/x-python",
   "name": "python",
   "nbconvert_exporter": "python",
   "pygments_lexer": "ipython3",
   "version": "3.5.5"
  }
 },
 "nbformat": 4,
 "nbformat_minor": 1
}
