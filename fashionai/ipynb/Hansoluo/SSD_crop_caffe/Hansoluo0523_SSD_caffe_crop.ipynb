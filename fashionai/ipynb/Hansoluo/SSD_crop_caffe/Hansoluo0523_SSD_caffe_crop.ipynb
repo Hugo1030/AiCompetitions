{
 "cells": [
  {
   "cell_type": "code",
   "execution_count": 9,
   "metadata": {},
   "outputs": [
    {
     "ename": "ImportError",
     "evalue": "No module named 'caffe'",
     "output_type": "error",
     "traceback": [
      "\u001b[1;31m---------------------------------------------------------------------------\u001b[0m",
      "\u001b[1;31mImportError\u001b[0m                               Traceback (most recent call last)",
      "\u001b[1;32m<ipython-input-9-a98094c31d18>\u001b[0m in \u001b[0;36m<module>\u001b[1;34m()\u001b[0m\n\u001b[0;32m      2\u001b[0m \u001b[1;32mimport\u001b[0m \u001b[0mcv2\u001b[0m\u001b[1;33m\u001b[0m\u001b[0m\n\u001b[0;32m      3\u001b[0m \u001b[1;32mimport\u001b[0m \u001b[0mnumpy\u001b[0m \u001b[1;32mas\u001b[0m \u001b[0mnp\u001b[0m\u001b[1;33m\u001b[0m\u001b[0m\n\u001b[1;32m----> 4\u001b[1;33m \u001b[1;32mfrom\u001b[0m \u001b[0mutils\u001b[0m\u001b[1;33m.\u001b[0m\u001b[0mssd_detector\u001b[0m \u001b[1;32mimport\u001b[0m \u001b[0mSSDdetector\u001b[0m\u001b[1;33m\u001b[0m\u001b[0m\n\u001b[0m",
      "\u001b[1;32mH:\\yolo_test\\SSD_crop\\utils\\ssd_detector.py\u001b[0m in \u001b[0;36m<module>\u001b[1;34m()\u001b[0m\n\u001b[0;32m      4\u001b[0m \u001b[1;32mimport\u001b[0m \u001b[0mcv2\u001b[0m\u001b[1;33m\u001b[0m\u001b[0m\n\u001b[0;32m      5\u001b[0m \u001b[1;32mimport\u001b[0m \u001b[0mnumpy\u001b[0m \u001b[1;32mas\u001b[0m \u001b[0mnp\u001b[0m\u001b[1;33m\u001b[0m\u001b[0m\n\u001b[1;32m----> 6\u001b[1;33m \u001b[1;32mimport\u001b[0m \u001b[0mcaffe\u001b[0m\u001b[1;33m\u001b[0m\u001b[0m\n\u001b[0m\u001b[0;32m      7\u001b[0m \u001b[1;33m\u001b[0m\u001b[0m\n\u001b[0;32m      8\u001b[0m labels = [\"background\", \"aeroplane\", \"bicycle\", \"bird\", \"boat\", \n",
      "\u001b[1;31mImportError\u001b[0m: No module named 'caffe'"
     ]
    }
   ],
   "source": [
    "import os\n",
    "import cv2\n",
    "import numpy as np\n",
    "from utils.ssd_detector import SSDdetector"
   ]
  },
  {
   "cell_type": "code",
   "execution_count": 11,
   "metadata": {},
   "outputs": [],
   "source": [
    "def crop(image, boxes):\n",
    "    \"\"\"crop the image.\n",
    "\n",
    "    # Arguments\n",
    "    image: ndarray\n",
    "    boxes: List, four coordinates: x1,y1,x2,y2\n",
    "\n",
    "    # Returns\n",
    "    image: ndarray, region image\n",
    "    \"\"\"\n",
    "    for rect in boxes:\n",
    "        x1, y1, x2, y2 = rect\n",
    "        \n",
    "        top = max(0, x1)\n",
    "        left = max(0, y1)\n",
    "        right = min(image.shape[1], x2)\n",
    "        bottom = min(image.shape[0], y2)\n",
    "        \n",
    "        w = right - top\n",
    "        h = bottom - left\n",
    "        \n",
    "        image = image[left:bottom,top:right]\n",
    "        \n",
    "        if w/h >10.0 or h/w > 10.0:\n",
    "            image = None\n",
    "\n",
    "    return image"
   ]
  },
  {
   "cell_type": "code",
   "execution_count": 9,
   "metadata": {},
   "outputs": [
    {
     "name": "stdout",
     "output_type": "stream",
     "text": [
      "2 images have preprocessed.\n",
      "4 images have preprocessed.\n",
      "6 images have preprocessed.\n",
      "8 images have preprocessed.\n",
      "10 images have preprocessed.\n",
      "12 images have preprocessed.\n"
     ]
    }
   ],
   "source": [
    "detecor = SSDdetector(\"GPU\",0.5)\n",
    "# detecor = SSDdetector(\"CPU\",0.5) # CPU 模式\n",
    "m = 0\n",
    "\n",
    "for (root, dirs, files) in os.walk('images/test'):\n",
    "    if files:\n",
    "        for f in files:\n",
    "            path = os.path.join(root, f)\n",
    "            image = cv2.imread(path)\n",
    "            person = detecor.detect(image)\n",
    "            if person:\n",
    "                image = crop(image, person)\n",
    "                if image is not None:\n",
    "                    cv2.imwrite('images/crop/' + \"crop_\" + f, image)\n",
    "                    m += 1\n",
    "                    if m%2 == 0:\n",
    "                        print('{} images have preprocessed.'.format(m))"
   ]
  }
 ],
 "metadata": {
  "kernelspec": {
   "display_name": "Python 3",
   "language": "python",
   "name": "python3"
  },
  "language_info": {
   "codemirror_mode": {
    "name": "ipython",
    "version": 3
   },
   "file_extension": ".py",
   "mimetype": "text/x-python",
   "name": "python",
   "nbconvert_exporter": "python",
   "pygments_lexer": "ipython3",
   "version": "3.5.5"
  }
 },
 "nbformat": 4,
 "nbformat_minor": 2
}
