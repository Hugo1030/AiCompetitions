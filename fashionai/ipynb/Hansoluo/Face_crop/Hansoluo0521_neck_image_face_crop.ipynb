{
 "cells": [
  {
   "cell_type": "code",
   "execution_count": 1,
   "metadata": {},
   "outputs": [],
   "source": [
    "import os\n",
    "import cv2\n",
    "import numpy as np\n",
    "from utils.face_detector import FaceDetector"
   ]
  },
  {
   "cell_type": "code",
   "execution_count": 23,
   "metadata": {},
   "outputs": [],
   "source": [
    "def crop(image, faces):\n",
    "    \"\"\"crop the neck in the image.\n",
    "\n",
    "    # Arguments\n",
    "    image: ndarray\n",
    "    faces: List, coordinates of face in the frame.\n",
    "\n",
    "    # Returns\n",
    "    f: ndarray, neck region image\n",
    "    \"\"\"\n",
    "    \n",
    "    f = image.copy()\n",
    "    center = [0,0]\n",
    "    \n",
    "    for rect in faces:\n",
    "        (x, y, w, h) = rect\n",
    "        \n",
    "        center = [x + w/2, y + h] # 中心点下移 h/2 的距离 \n",
    "        new_x = np.floor(center[0] - 1.5*w).astype(int)\n",
    "        new_y = np.floor(center[1] - 0.5*h).astype(int)\n",
    "        \n",
    "        f = f[new_y:new_y + h, new_x:new_x + 3*w]\n",
    "\n",
    "        return f"
   ]
  },
  {
   "cell_type": "code",
   "execution_count": 24,
   "metadata": {},
   "outputs": [
    {
     "name": "stdout",
     "output_type": "stream",
     "text": [
      "2 images have preprocessed.\n",
      "4 images have preprocessed.\n",
      "6 images have preprocessed.\n"
     ]
    }
   ],
   "source": [
    "faceDetecor = FaceDetector('ssd', 0.5)\n",
    "m = 0\n",
    "\n",
    "for (root, dirs, files) in os.walk('images/test'):\n",
    "    if files:\n",
    "        for f in files:\n",
    "            path = os.path.join(root, f)\n",
    "            image = cv2.imread(path)\n",
    "            faces = faceDetecor.detect(image)\n",
    "            if faces:\n",
    "                image = crop(image, faces)\n",
    "                cv2.imwrite('images/crop/' + \"crop_\" + f, image)\n",
    "                m += 1\n",
    "                if m%2 == 0:\n",
    "                    print('{} images have preprocessed.'.format(m))"
   ]
  }
 ],
 "metadata": {
  "hide_input": false,
  "kernelspec": {
   "display_name": "Python 3",
   "language": "python",
   "name": "python3"
  },
  "language_info": {
   "codemirror_mode": {
    "name": "ipython",
    "version": 3
   },
   "file_extension": ".py",
   "mimetype": "text/x-python",
   "name": "python",
   "nbconvert_exporter": "python",
   "pygments_lexer": "ipython3",
   "version": "3.6.4"
  },
  "toc": {
   "base_numbering": 1,
   "nav_menu": {},
   "number_sections": true,
   "sideBar": true,
   "skip_h1_title": false,
   "title_cell": "Table of Contents",
   "title_sidebar": "Contents",
   "toc_cell": false,
   "toc_position": {},
   "toc_section_display": true,
   "toc_window_display": false
  },
  "varInspector": {
   "cols": {
    "lenName": 16,
    "lenType": 16,
    "lenVar": 40
   },
   "kernels_config": {
    "python": {
     "delete_cmd_postfix": "",
     "delete_cmd_prefix": "del ",
     "library": "var_list.py",
     "varRefreshCmd": "print(var_dic_list())"
    },
    "r": {
     "delete_cmd_postfix": ") ",
     "delete_cmd_prefix": "rm(",
     "library": "var_list.r",
     "varRefreshCmd": "cat(var_dic_list()) "
    }
   },
   "types_to_exclude": [
    "module",
    "function",
    "builtin_function_or_method",
    "instance",
    "_Feature"
   ],
   "window_display": false
  }
 },
 "nbformat": 4,
 "nbformat_minor": 2
}
